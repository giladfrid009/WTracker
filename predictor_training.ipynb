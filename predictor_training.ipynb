{
 "cells": [
  {
   "cell_type": "code",
   "execution_count": null,
   "metadata": {},
   "outputs": [],
   "source": [
    "import torch\n",
    "import torch.nn as nn\n",
    "from torch.utils.data import DataLoader, random_split\n",
    "\n",
    "import numpy as np\n",
    "import pandas as pd\n",
    "\n",
    "from utils.path_utils import Files\n",
    "from neural.config import *\n",
    "from evaluation.analysis import Plotter\n",
    "\n",
    "from neural.dataset import numpyDataset\n",
    "from neural.mlp import MLP, MlpBlock, RMLP\n",
    "from neural.training import Trainer, MLPTrainer\n",
    "from neural.train_results import FitResult\n",
    "\n",
    "pd.options.display.max_columns = 30\n",
    "\n",
    "torch.set_printoptions(sci_mode=False)"
   ]
  },
  {
   "cell_type": "code",
   "execution_count": null,
   "metadata": {},
   "outputs": [],
   "source": [
    "class_name = \"MLP\"\n",
    "params = {'in_dim': 2,\n",
    " 'dims': [3],\n",
    " 'nonlins': ['none']\n",
    " }\n",
    "MLP.__init__.__annotations__\n",
    "globals()[class_name](**params)"
   ]
  },
  {
   "cell_type": "code",
   "execution_count": null,
   "metadata": {},
   "outputs": [],
   "source": [
    "MlpBlock(2, [3,4,5], ['relu']*3)"
   ]
  },
  {
   "cell_type": "code",
   "execution_count": null,
   "metadata": {},
   "outputs": [],
   "source": [
    "seed = 42\n",
    "# device = torch.device('cuda' if torch.cuda.is_available() else 'cpu')\n",
    "device = torch.device('cpu')"
   ]
  },
  {
   "cell_type": "code",
   "execution_count": null,
   "metadata": {},
   "outputs": [],
   "source": [
    "dataset_config = DatasetConfig(\n",
    "    input_frames = [0,-3,-15,-18,-30], # list\n",
    "    pred_frames = [12], # list\n",
    "    log_path = './data/Exp1_GuyGilad_logs_yolo/bboxes2.csv', # str\n",
    ")"
   ]
  },
  {
   "cell_type": "code",
   "execution_count": null,
   "metadata": {},
   "outputs": [],
   "source": [
    "train_config = TrainConfig(\n",
    "    seed = 42, # int\n",
    "    dataset = None, # Dataset\n",
    "    model = None, # Module\n",
    "    loss_fn = None, # Union\n",
    "    optimizer = None, # Union\n",
    "    device = f\"cuda\", # str\n",
    "    num_epochs = 100, # int\n",
    "    checkpoints = None, # str\n",
    "    early_stopping = (None,), # int\n",
    "    print_every = (5,), # int\n",
    "    learning_rate = 0.001, # float\n",
    "    weight_decay = 1e-05, # float\n",
    "    batch_size = 64, # int\n",
    "    shuffle = True, # bool\n",
    "    num_workers = 0, # int\n",
    "    train_test_split = 0.8, # float\n",
    ")"
   ]
  },
  {
   "cell_type": "code",
   "execution_count": null,
   "metadata": {},
   "outputs": [],
   "source": [
    "dataset = numpyDataset.create_from_config(dataset_config, save_path=None)"
   ]
  },
  {
   "cell_type": "code",
   "execution_count": null,
   "metadata": {},
   "outputs": [],
   "source": [
    "dataset[:10]"
   ]
  },
  {
   "cell_type": "code",
   "execution_count": null,
   "metadata": {},
   "outputs": [],
   "source": [
    "# Split the dataset\n",
    "ds_train, ds_test = random_split(dataset, [0.8, 0.2])"
   ]
  },
  {
   "cell_type": "code",
   "execution_count": null,
   "metadata": {},
   "outputs": [],
   "source": [
    "# Create the dataloaders\n",
    "dl_train = DataLoader(ds_train, batch_size=256, shuffle=True)\n",
    "dl_test = DataLoader(ds_test, batch_size=256, shuffle=True)"
   ]
  },
  {
   "cell_type": "code",
   "execution_count": null,
   "metadata": {},
   "outputs": [],
   "source": [
    "# Current Best Model\n",
    "hidden_dims = [120, 40, 12, 4, 2]\n",
    "activaations = ['relu'] * (len(hidden_dims))# + ['softmax']\n",
    "in_dim = ds_train[0][0].shape[0]\n",
    "model = MLP(in_dim=in_dim, dims=hidden_dims, nonlins=activaations)\n"
   ]
  },
  {
   "cell_type": "code",
   "execution_count": null,
   "metadata": {},
   "outputs": [],
   "source": [
    "block_in_dim = 40\n",
    "# block_dims = [10, 4, 10, 40]\n",
    "block_dims = [10, 40]\n",
    "block_activations = ['relu'] * (len(block_dims))\n",
    "in_dim = 4 * len(dataset_config.input_frames)\n",
    "out_dim = 2*len(dataset_config.pred_frames)\n",
    "\n",
    "model = RMLP(in_dim=in_dim, block_in_dim=block_in_dim, block_dims=block_dims, block_nonlins=block_activations, n_blocks=4, out_dim=out_dim)"
   ]
  },
  {
   "cell_type": "code",
   "execution_count": null,
   "metadata": {},
   "outputs": [],
   "source": [
    "print(model)"
   ]
  },
  {
   "cell_type": "code",
   "execution_count": null,
   "metadata": {},
   "outputs": [],
   "source": [
    "loss_fn = nn.MSELoss()\n",
    "optimizer = torch.optim.Adam(model.parameters(), lr=0.0001, weight_decay=1e-5)"
   ]
  },
  {
   "cell_type": "code",
   "execution_count": null,
   "metadata": {},
   "outputs": [],
   "source": [
    "trainer = MLPTrainer(model, loss_fn, optimizer, device=device)"
   ]
  },
  {
   "cell_type": "code",
   "execution_count": null,
   "metadata": {},
   "outputs": [],
   "source": [
    "trainer.fit(dl_train=dl_train, dl_test=dl_test, num_epochs=1000, checkpoints='logs/RecurrentMLP4.pt', print_every=1, log=True)"
   ]
  },
  {
   "cell_type": "code",
   "execution_count": null,
   "metadata": {},
   "outputs": [],
   "source": [
    "model.save"
   ]
  },
  {
   "cell_type": "markdown",
   "metadata": {},
   "source": [
    "# Dataset Creation"
   ]
  },
  {
   "cell_type": "code",
   "execution_count": null,
   "metadata": {},
   "outputs": [],
   "source": [
    "timing_config = TimingConfig.load_json(\"/Users/guycohen/Desktop/Bio-Project/time_config.json\")\n",
    "\n",
    "log_path = \"/Users/guycohen/Desktop/Bio-Project/eval/bboxes2.csv\"\n",
    "\n",
    "\n",
    "pltr = Plotter(log_path, timing_config)\n",
    "data = pltr._data.copy()"
   ]
  },
  {
   "cell_type": "code",
   "execution_count": null,
   "metadata": {},
   "outputs": [],
   "source": [
    "df = pd.DataFrame(index=range(8), columns=['x', 'y'])\n",
    "df.iloc[0]  = [1, 0]\n",
    "df"
   ]
  },
  {
   "cell_type": "code",
   "execution_count": null,
   "metadata": {},
   "outputs": [],
   "source": [
    "data.iloc[[0,-1]]\n"
   ]
  },
  {
   "cell_type": "code",
   "execution_count": null,
   "metadata": {},
   "outputs": [],
   "source": [
    "# data.ag\n",
    "data.rolling(window=10, method='table').flatten()"
   ]
  },
  {
   "cell_type": "code",
   "execution_count": null,
   "metadata": {},
   "outputs": [],
   "source": [
    "np.arange(40).reshape(8,5)[[2,3]].flatten()"
   ]
  },
  {
   "cell_type": "code",
   "execution_count": null,
   "metadata": {},
   "outputs": [],
   "source": [
    "data2 = data.dropna(inplace=False, ignore_index=False, axis=0)\n",
    "mask = data.isna().any(axis=1)\n",
    "data['']"
   ]
  },
  {
   "cell_type": "code",
   "execution_count": null,
   "metadata": {},
   "outputs": [],
   "source": [
    "# make sure that 0 is first at frames_for_pred\n",
    "def create_dataset(log_path: str, frames_for_pred=[0,-3,-15], pred_frame=7, save_path:str=None) -> Dataset:\n",
    "    data = pd.read_csv(log_path)\n",
    "    start_idx = abs(min(frames_for_pred)) + 1\n",
    "    X_mask = np.asanyarray(frames_for_pred)\n",
    "    y_mask = np.asanyarray([pred_frame])\n",
    "\n",
    "    data = Plotter.concat(data, Plotter.calc_centers(data, \"wrm\"))\n",
    "    \n",
    "    wrm_centers = data[['wrm_center_x', 'wrm_center_y']].to_numpy(dtype=np.float64)\n",
    "    wrm_boxes = data[['wrm_x', 'wrm_y', 'wrm_w', 'wrm_h']].to_numpy(dtype=np.float64)\n",
    "    \n",
    "    # Create columns for X and y\n",
    "    cols = ['wrm_x', 'wrm_y', 'wrm_w', 'wrm_h']\n",
    "    y_cols = ['wrm_center_x', 'wrm_center_y']\n",
    "    X_cols = []\n",
    "    for i in frames_for_pred:\n",
    "        X_cols += [col+str(i) for col in cols]\n",
    "    \n",
    "    # Create X and y\n",
    "    X = pd.DataFrame(index=data.index, columns=X_cols)\n",
    "    y = pd.DataFrame(index=data.index, columns=y_cols)\n",
    "    for i in range(start_idx, len(data)-pred_frame-1):\n",
    "        X.iloc[i] = wrm_boxes[i + X_mask].reshape(1, -1)\n",
    "        y.iloc[i] = wrm_centers[i + y_mask].reshape(1, -1)\n",
    "\n",
    "    # Drop rows with NaN values\n",
    "    na_mask = np.ma.mask_or(X.isna().any(axis=1), y.isna().any(axis=1))\n",
    "    X = X.loc[~na_mask]\n",
    "    y = y.loc[~na_mask]\n",
    "    \n",
    "    X = X.to_numpy(dtype=np.float32, copy=True)\n",
    "    y = y.to_numpy(dtype=np.float32, copy=True)\n",
    "\n",
    "    # make X and y coordinates relative to the prediction frame\n",
    "    x_cord_mask = np.arange(X.shape[1]) % 4 == 0\n",
    "    y_cord_mask = np.arange(X.shape[1]) % 4 == 1\n",
    "    \n",
    "    x_cords = X[:, 0].reshape(-1, 1)\n",
    "    y_cords = X[:, 1].reshape(-1, 1)\n",
    "\n",
    "    y[:, [0]] -= x_cords\n",
    "    y[:, [1]] -= y_cords\n",
    "    X[:, x_cord_mask] -= x_cords#\n",
    "    X[:, y_cord_mask] -= y_cords#.reshape(-1, 1)\n",
    "    \n",
    "    if save_path is not None:\n",
    "        np.save(save_path + \"dataset_X_3.npy\", X, allow_pickle=True)\n",
    "        np.save(save_path + \"dataset_y_3.npy\", y, allow_pickle=True)\n",
    "        # X.to_csv(save_path + \"dataset_X.csv\", index=False)\n",
    "        # y.to_csv(save_path + \"dataset_y.csv\", index=False)\n",
    "\n",
    "    return numpyDataset(X, y)"
   ]
  },
  {
   "cell_type": "code",
   "execution_count": null,
   "metadata": {},
   "outputs": [],
   "source": [
    "# log_path = \"/Users/guycohen/Desktop/Bio-Project/eval/bboxes2.csv\"\n",
    "log_path = f\"D:/Guy_Gilad/Exp1_GuyGilad/logs_yolo/bboxes.csv\"\n",
    "pred_frame=7\n",
    "frames_for_pred=[0,-3,-15,-18,-30]\n",
    "dataset = create_dataset(log_path, save_path=\"D:\\Guy_Gilad\\Bio-Proj\\evaluation\", frames_for_pred=frames_for_pred, pred_frame=pred_frame)"
   ]
  },
  {
   "cell_type": "code",
   "execution_count": null,
   "metadata": {},
   "outputs": [],
   "source": [
    "X, y = ds[:]\n",
    "df = pd.DataFrame({\"dx\": y[:,0], \"dy\": y[:,1]})"
   ]
  },
  {
   "cell_type": "code",
   "execution_count": null,
   "metadata": {},
   "outputs": [],
   "source": [
    "df.hist()"
   ]
  },
  {
   "cell_type": "code",
   "execution_count": null,
   "metadata": {},
   "outputs": [],
   "source": []
  }
 ],
 "metadata": {
  "kernelspec": {
   "display_name": "DL",
   "language": "python",
   "name": "python3"
  },
  "language_info": {
   "codemirror_mode": {
    "name": "ipython",
    "version": 3
   },
   "file_extension": ".py",
   "mimetype": "text/x-python",
   "name": "python",
   "nbconvert_exporter": "python",
   "pygments_lexer": "ipython3",
   "version": "3.12.2"
  }
 },
 "nbformat": 4,
 "nbformat_minor": 2
}
