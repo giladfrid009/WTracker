{
 "cells": [
  {
   "cell_type": "code",
   "execution_count": null,
   "metadata": {},
   "outputs": [],
   "source": [
    "import torch\n",
    "import torch.nn as nn\n",
    "from torch.utils.data import DataLoader, random_split\n",
    "\n",
    "import numpy as np\n",
    "import pandas as pd\n",
    "\n",
    "from utils.path_utils import Files\n",
    "from utils.config_base import print_initialization\n",
    "from neural.config import *\n",
    "from evaluation.analysis import Plotter\n",
    "\n",
    "from neural.dataset import numpyDataset\n",
    "from neural.mlp import MLP, MlpBlock, RMLP\n",
    "from neural.training import Trainer, MLPTrainer\n",
    "from neural.train_results import FitResult\n",
    "\n",
    "\n",
    "\n",
    "pd.options.display.max_columns = 30\n",
    "\n",
    "torch.set_printoptions(sci_mode=False)"
   ]
  },
  {
   "cell_type": "code",
   "execution_count": null,
   "metadata": {},
   "outputs": [],
   "source": [
    "class_name = \"MLP\"\n",
    "params = {'in_dim': 2,\n",
    " 'dims': [3],\n",
    " 'nonlins': ['none'],\n",
    " }\n",
    "MLP.__init__.__annotations__\n",
    "globals()[class_name](**params)"
   ]
  },
  {
   "cell_type": "code",
   "execution_count": null,
   "metadata": {},
   "outputs": [],
   "source": [
    "MlpBlock(2, [3,4,5], ['relu']*3)"
   ]
  },
  {
   "cell_type": "code",
   "execution_count": null,
   "metadata": {},
   "outputs": [],
   "source": [
    "log_path = './data/Exp1_GuyGilad_logs_yolo/bboxes2.csv'\n",
    "\n",
    "io_config = IOConfig(\n",
    "    input_frames = [0,-3,-15,-18,-30], # list\n",
    "    pred_frames = [12], # list\n",
    ")\n",
    "\n",
    "dataset_config = DatasetConfig.from_ioConfig(io_config, log_path)\n"
   ]
  },
  {
   "cell_type": "code",
   "execution_count": null,
   "metadata": {},
   "outputs": [],
   "source": [
    "# Current Best Model\n",
    "hidden_dims = [120, 40, 12, 4, 2]\n",
    "activaations = ['relu'] * (len(hidden_dims))# + ['softmax']\n",
    "in_dim = 4 * len(dataset_config.input_frames)\n",
    "model = MLP(in_dim=in_dim, dims=hidden_dims, nonlins=activaations)\n"
   ]
  },
  {
   "cell_type": "code",
   "execution_count": null,
   "metadata": {},
   "outputs": [],
   "source": [
    "block_in_dim = 40\n",
    "block_dims = [10, 4, 10, 40]\n",
    "block_activations = [\"relu\"] * (len(block_dims))\n",
    "in_dim = 4 * len(dataset_config.input_frames)\n",
    "out_dim = 2 * len(dataset_config.pred_frames)\n",
    "\n",
    "model = RMLP(\n",
    "    in_dim=in_dim,\n",
    "    block_in_dim=block_in_dim,\n",
    "    block_dims=block_dims,\n",
    "    block_nonlins=block_activations,\n",
    "    n_blocks=4,\n",
    "    out_dim=out_dim,\n",
    ")"
   ]
  },
  {
   "cell_type": "code",
   "execution_count": null,
   "metadata": {},
   "outputs": [],
   "source": [
    "print(model)"
   ]
  },
  {
   "cell_type": "code",
   "execution_count": null,
   "metadata": {},
   "outputs": [],
   "source": [
    "train_config = TrainConfig(\n",
    "    seed = 42, # int\n",
    "    dataset = dataset_config, # Dataset\n",
    "    model = model, # Union[nn.Module, str]\n",
    "    loss_fn = nn.MSELoss, # nn.Module\n",
    "    optimizer = 'adam', # Union[Optimizer, str]\n",
    "    device = f\"cpu\", # str\n",
    "    log = True, # bool\n",
    "    num_epochs = 100, # int\n",
    "    checkpoints = \"RMLP4\", # str\n",
    "    early_stopping = 15, # int\n",
    "    print_every = 5, # int\n",
    "    learning_rate = 0.001, # float\n",
    "    weight_decay = 1e-05, # float\n",
    "    batch_size = 256, # int\n",
    "    shuffle = True, # bool\n",
    "    num_workers = 0, # int\n",
    "    train_test_split = 0.8, # float\n",
    ")"
   ]
  },
  {
   "cell_type": "code",
   "execution_count": null,
   "metadata": {},
   "outputs": [],
   "source": [
    "dataset = numpyDataset.create_from_config(dataset_config, save_path=None)"
   ]
  },
  {
   "cell_type": "code",
   "execution_count": null,
   "metadata": {},
   "outputs": [],
   "source": [
    "dataset[:10]"
   ]
  },
  {
   "cell_type": "code",
   "execution_count": null,
   "metadata": {},
   "outputs": [],
   "source": [
    "# Split the dataset\n",
    "ds_train, ds_test = random_split(dataset, [train_config.train_test_split, 1- train_config.train_test_split])"
   ]
  },
  {
   "cell_type": "code",
   "execution_count": null,
   "metadata": {},
   "outputs": [],
   "source": [
    "# Create the dataloaders\n",
    "dl_train = DataLoader(ds_train, batch_size=train_config.batch_size, shuffle=train_config.shuffle)\n",
    "dl_test = DataLoader(ds_test, batch_size=train_config.batch_size, shuffle=train_config.shuffle)"
   ]
  },
  {
   "cell_type": "code",
   "execution_count": null,
   "metadata": {},
   "outputs": [],
   "source": [
    "loss_fn = train_config.loss_fn()\n",
    "lr = train_config.learning_rate\n",
    "weight_decay = train_config.weight_decay\n",
    "optimizer = train_config.optimizer(model.parameters(), lr=lr, weight_decay=weight_decay)"
   ]
  },
  {
   "cell_type": "code",
   "execution_count": null,
   "metadata": {},
   "outputs": [],
   "source": [
    "trainer = MLPTrainer(model, loss_fn, optimizer, device=train_config.device, log=train_config.log)"
   ]
  },
  {
   "cell_type": "code",
   "execution_count": null,
   "metadata": {},
   "outputs": [],
   "source": [
    "epochs = train_config.num_epochs\n",
    "checkpoints = train_config.checkpoints\n",
    "early_stopping = train_config.early_stopping\n",
    "print_every = train_config.print_every\n",
    "\n",
    "trainer.fit(\n",
    "    dl_train=dl_train,\n",
    "    dl_test=dl_test,\n",
    "    num_epochs=epochs,\n",
    "    checkpoints=checkpoints,\n",
    "    print_every=print_every,\n",
    "    early_stopping=early_stopping,\n",
    ")"
   ]
  },
  {
   "cell_type": "code",
   "execution_count": null,
   "metadata": {},
   "outputs": [],
   "source": [
    "train_config.save_pickle(trainer.logger.log_dir + \"/train_config.pkl\")"
   ]
  }
 ],
 "metadata": {
  "kernelspec": {
   "display_name": "DL",
   "language": "python",
   "name": "python3"
  },
  "language_info": {
   "codemirror_mode": {
    "name": "ipython",
    "version": 3
   },
   "file_extension": ".py",
   "mimetype": "text/x-python",
   "name": "python",
   "nbconvert_exporter": "python",
   "pygments_lexer": "ipython3",
   "version": "3.12.2"
  }
 },
 "nbformat": 4,
 "nbformat_minor": 2
}
