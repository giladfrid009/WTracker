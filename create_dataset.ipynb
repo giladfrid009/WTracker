{
 "cells": [
  {
   "cell_type": "code",
   "execution_count": 1,
   "metadata": {},
   "outputs": [],
   "source": [
    "from frame_reader import *\n",
    "from dataset.create.box_calculator import *\n",
    "from dataset.create.sample_extractor import *"
   ]
  },
  {
   "cell_type": "code",
   "execution_count": 2,
   "metadata": {},
   "outputs": [],
   "source": [
    "src_folder = \"D:/Guy_Gilad/Exp2_GuyGilad/New\"\n",
    "src_frames = FrameReader.create_from_directory(src_folder)"
   ]
  },
  {
   "cell_type": "code",
   "execution_count": 3,
   "metadata": {},
   "outputs": [],
   "source": [
    "box_calc = BoxCalculator(frame_reader=src_frames, bg_probes=1000, diff_thresh=10)\n",
    "sample_extractor = SampleExtractor(box_calc)"
   ]
  },
  {
   "cell_type": "code",
   "execution_count": 4,
   "metadata": {},
   "outputs": [
    {
     "data": {
      "application/vnd.jupyter.widget-view+json": {
       "model_id": "4b280164b5124eaa88391000c2f68e53",
       "version_major": 2,
       "version_minor": 0
      },
      "text/plain": [
       "Extracting background frames:   0%|          | 0/1000 [00:00<?, ?fr/s]"
      ]
     },
     "metadata": {},
     "output_type": "display_data"
    },
    {
     "data": {
      "application/vnd.jupyter.widget-view+json": {
       "model_id": "daf64c05f03d45d3b0f5baab69328e03",
       "version_major": 2,
       "version_minor": 0
      },
      "text/plain": [
       "Extracting bboxes:   0%|          | 0/1000 [00:00<?, ?fr/s]"
      ]
     },
     "metadata": {},
     "output_type": "display_data"
    },
    {
     "data": {
      "application/vnd.jupyter.widget-view+json": {
       "model_id": "ba163543438d4c46a357992915a9847a",
       "version_major": 2,
       "version_minor": 0
      },
      "text/plain": [
       "Saving samples:   0%|          | 0/1 [00:00<?, ?fr/s]"
      ]
     },
     "metadata": {},
     "output_type": "display_data"
    }
   ],
   "source": [
    "sample_extractor.create_all_samples(\n",
    "    target_size=(384, 384),\n",
    "    save_folder=\"D:/Guy_Gilad/Exp2_GuyGilad/yolo_images\",\n",
    "    name_format=\"exp2_img_{:09d}.png\",\n",
    "    num_workers=None,\n",
    "    chunk_size=50,\n",
    ")"
   ]
  }
 ],
 "metadata": {
  "kernelspec": {
   "display_name": "bio_proj",
   "language": "python",
   "name": "python3"
  },
  "language_info": {
   "codemirror_mode": {
    "name": "ipython",
    "version": 3
   },
   "file_extension": ".py",
   "mimetype": "text/x-python",
   "name": "python",
   "nbconvert_exporter": "python",
   "pygments_lexer": "ipython3",
   "version": "3.12.2"
  }
 },
 "nbformat": 4,
 "nbformat_minor": 2
}
