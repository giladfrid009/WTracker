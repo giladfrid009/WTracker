{
    "cells": [
        {
            "cell_type": "code",
            "execution_count": null,
            "metadata": {},
            "outputs": [],
            "source": [
                "import cv2 as cv\n",
                "import numpy as np"
            ]
        },
        {
            "cell_type": "code",
            "execution_count": null,
            "metadata": {},
            "outputs": [],
            "source": [
                "from evaluation.config import *\n",
                "\n",
                "time_config = TimingConfig.load_json(\"logs/time_config.json\")"
            ]
        },
        {
            "cell_type": "code",
            "execution_count": null,
            "metadata": {},
            "outputs": [],
            "source": [
                "from evaluation.analysis import Plotter\n",
                "plt = Plotter(\"logs/bboxes.csv\", time_config)\n",
                "plt.plot_speed_hist()\n",
                "plt.plot_area_vs_speed(min_speed=0.)"
            ]
        },
        {
            "cell_type": "code",
            "execution_count": null,
            "metadata": {},
            "outputs": [],
            "source": [
                "cv.destroyAllWindows()\n",
                "raise Exception(\"Finished\")"
            ]
        },
        {
            "cell_type": "code",
            "execution_count": null,
            "metadata": {},
            "outputs": [],
            "source": [
                "from evaluation.simulator import *\n",
                "from evaluation.sim_controllers import *\n",
                "from utils.path_utils import Files\n",
                "from evaluation.config import *\n",
                "\n",
                "experiment_config = ExperimentConfig(\n",
                "    name=\"exp1\",\n",
                "    num_frames=61200,\n",
                "    frames_per_sec=60,\n",
                "    orig_resolution=(1600, 1400),\n",
                "    px_per_mm=90,\n",
                "    init_position=(1300, 1200),\n",
                ")\n",
                "\n",
                "time_config = TimingConfig(\n",
                "    frames_per_sec=60,\n",
                "    imaging_time_ms=200,\n",
                "    pred_time_ms=40,\n",
                "    moving_time_ms=50,\n",
                "    px_per_mm=90,\n",
                "    camera_size_mm=(4, 4),\n",
                "    micro_size_mm=(0.220, 0.210),\n",
                ")\n",
                "\n",
                "log_config = LogConfig(\n",
                "    root_folder=\"logs/\",\n",
                "    save_mic_view=False,\n",
                "    save_cam_view=False,\n",
                "    save_err_view=False,\n",
                ")\n",
                "\n",
                "yolo_config = YoloConfig(\n",
                "    model_path=\"yolov8m-trained.pt\",\n",
                "    verbose=True,\n",
                ")\n",
                "\n",
                "log_config.create_dirs()\n",
                "\n",
                "\n",
                "time_config.save_json(\"logs/time_config.json\")\n",
                "log_config.save_json(\"logs/log_config.json\")\n",
                "yolo_config.save_json(\"logs/yolo_config.json\") \n",
                "experiment_config.save_json(\"logs/experiment_config.json\")\n",
                "\n",
                "\n",
                "frames_path = \"D:/Guy_Gilad/RawData/Exp_20240213_N2_JC01/\"\n",
                "files = Files(frames_path, extension=\"Bmp\", sorting_key=lambda f: int(f.split(\"-\")[-1].split(\".\")[0]))\n",
                "files_list = [file for file in files]\n",
                "reader = FrameReader(frames_path, files_list)"
            ]
        },
        {
            "cell_type": "code",
            "execution_count": null,
            "metadata": {},
            "outputs": [],
            "source": [
                "print(time_config.imaging_frame_num + time_config.moving_frame_num)"
            ]
        },
        {
            "cell_type": "code",
            "execution_count": null,
            "metadata": {},
            "outputs": [],
            "source": [
                "weights = np.asanyarray([0.0411 ,0.    , 0.    , 0.  ,   0.0003, 0.0802 ,0.081 , 0.4759, 0.8711]\n",
                ")\n",
                "sample_times = np.asanyarray(\n",
                "    [\n",
                "        0,\n",
                "        5,\n",
                "        9,\n",
                "        -time_config.cycle_length + 0,\n",
                "        -time_config.cycle_length + 5,\n",
                "        -time_config.cycle_length + 9,\n",
                "        -2 * time_config.cycle_length + 0,\n",
                "        -2 * time_config.cycle_length + 5,\n",
                "        -2 * time_config.cycle_length + 9,\n",
                "    ]\n",
                ")"
            ]
        },
        {
            "cell_type": "code",
            "execution_count": null,
            "metadata": {},
            "outputs": [],
            "source": [
                "from evaluation.sim_controllers.test_controller1 import TestController1\n",
                "from evaluation.sim_controllers.polyfit_controller import PolyfitController\n",
                "\n",
                "sim_controller = YoloController(time_config, yolo_config)\n",
                "#sim_controller = TestController1(time_config, \"bboxes.csv\")\n",
                "#sim_controller = PolyfitController(time_config, \"bboxes.csv\", degree=1, weights=weights, sample_times=sample_times)\n",
                "#sim_controller = OptimalController(time_config, \"bboxes.csv\")\n",
                "#sim_controller = CsvController(time_config, \"bboxes.csv\")\n",
                "log_controller = LoggingController(sim_controller, log_config)\n",
                "sim = Simulator(time_config, experiment_config, log_controller, reader=reader)"
            ]
        },
        {
            "cell_type": "code",
            "execution_count": null,
            "metadata": {},
            "outputs": [],
            "source": [
                "sim.run(visualize=False)"
            ]
        },
        {
            "cell_type": "code",
            "execution_count": null,
            "metadata": {},
            "outputs": [],
            "source": [
                "cv.destroyAllWindows()\n",
                "raise Exception(\"Finished\")"
            ]
        },
        {
            "cell_type": "code",
            "execution_count": null,
            "metadata": {},
            "outputs": [],
            "source": [
                "from frame_reader import FrameReader\n",
                "\n",
                "reader = FrameReader.create_from_directory(\"Archive/\")"
            ]
        },
        {
            "cell_type": "code",
            "execution_count": null,
            "metadata": {},
            "outputs": [],
            "source": [
                "from dataset.create.box_calculator import BoxCalculator\n",
                "from dataset.create.sample_extractor import SampleExtractor\n",
                "\n",
                "bbox_calc = BoxCalculator(reader)\n",
                "extractor = SampleExtractor(bbox_calc)\n",
                "extractor.create_all_samples(target_size=(400, 400), save_folder=\"samples\")"
            ]
        },
        {
            "cell_type": "code",
            "execution_count": null,
            "metadata": {},
            "outputs": [],
            "source": [
                "from evaluation.sim_controllers.polyfit_controller import WeightEvaluator\n",
                "\n",
                "# input_offsets = np.asanyarray([0, 3, 6, 9])\n",
                "\n",
                "input_offsets = np.asanyarray(\n",
                "    [\n",
                "        0,\n",
                "        5,\n",
                "        9,\n",
                "        -time_config.cycle_length + 0,\n",
                "        -time_config.cycle_length + 5,\n",
                "        -time_config.cycle_length + 9,\n",
                "        -2 * time_config.cycle_length + 0,\n",
                "        -2 * time_config.cycle_length + 5,\n",
                "        -2 * time_config.cycle_length + 9,\n",
                "    ]\n",
                ")\n",
                "\n",
                "start_times = np.arange(60000 // time_config.cycle_length) * time_config.cycle_length\n",
                "\n",
                "evaluator = WeightEvaluator(\n",
                "    \"bboxes.csv\",\n",
                "    time_config,\n",
                "    input_offsets=input_offsets,\n",
                "    start_times=start_times,\n",
                "    eval_offset= time_config.cycle_length + time_config.imaging_frame_num // 2,\n",
                "    min_speed=0,\n",
                ")"
            ]
        },
        {
            "cell_type": "code",
            "execution_count": null,
            "metadata": {},
            "outputs": [],
            "source": [
                "def eval_func(weights: np.ndarray) -> float:\n",
                "    return evaluator.eval(weights, deg=1)"
            ]
        },
        {
            "cell_type": "code",
            "execution_count": null,
            "metadata": {},
            "outputs": [],
            "source": [
                "from mealpy.swarm_based.PSO import OriginalPSO\n",
                "from mealpy.utils.problem import Problem\n",
                "from mealpy.utils.termination import Termination\n",
                "from mealpy.utils.agent import Agent\n",
                "import mealpy\n",
                "\n",
                "#optim = mealpy.ICA.OriginalICA()\n",
                "optim = mealpy.PSO.OriginalPSO()\n",
                "\n",
                "termination = Termination(max_epoch=300, max_fe=None, max_time=None, max_early_stop=100)\n",
                "\n",
                "bounds = mealpy.FloatVar(lb=np.zeros(len(input_offsets)), ub=np.ones(len(input_offsets)))\n",
                "\n",
                "problem = Problem(obj_func=eval_func, bounds=bounds, minimax=\"min\")\n",
                "\n",
                "best: Agent = optim.solve(\n",
                "    problem,\n",
                "    mode=\"single\",\n",
                "    n_workers=5,\n",
                "    termination=termination,\n",
                ")"
            ]
        },
        {
            "cell_type": "code",
            "execution_count": null,
            "metadata": {},
            "outputs": [],
            "source": [
                "print(optim.g_best.target.fitness)\n",
                "print(optim.g_best.solution / np.linalg.norm(best.solution))"
            ]
        },
        {
            "cell_type": "code",
            "execution_count": null,
            "metadata": {},
            "outputs": [],
            "source": [
                "import numpy as np\n",
                "\n",
                "arr = np.asanyarray(\n",
                "    [\n",
                "        [\n",
                "            [np.nan, np.nan],\n",
                "            [1, 1],\n",
                "        ],\n",
                "        [\n",
                "            [2, 2],\n",
                "            [1, 1],\n",
                "        ],\n",
                "    ]\n",
                ")\n",
                "\n",
                "print(arr.shape)\n",
                "\n",
                "print(np.all(np.isfinite(arr), axis=1))"
            ]
        }
    ],
    "metadata": {
        "kernelspec": {
            "display_name": "bio-proj",
            "language": "python",
            "name": "python3"
        },
        "language_info": {
            "codemirror_mode": {
                "name": "ipython",
                "version": 3
            },
            "file_extension": ".py",
            "mimetype": "text/x-python",
            "name": "python",
            "nbconvert_exporter": "python",
            "pygments_lexer": "ipython3",
            "version": "3.12.2"
        }
    },
    "nbformat": 4,
    "nbformat_minor": 2
}
