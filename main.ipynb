{
    "cells": [
        {
            "cell_type": "code",
            "execution_count": null,
            "metadata": {},
            "outputs": [],
            "source": [
                "import cv2 as cv\n",
                "import numpy as np"
            ]
        },
        {
            "cell_type": "code",
            "execution_count": null,
            "metadata": {},
            "outputs": [],
            "source": [
                "from evaluation.analysis import Plotter\n",
                "plt = Plotter(\"D:/Guy_Gilad/Evaluation/Eval_v2/bboxes.csv\")\n",
                "plt.plot_v1()"
            ]
        },
        {
            "cell_type": "code",
            "execution_count": null,
            "metadata": {},
            "outputs": [],
            "source": [
                "data = plt._data\n",
                "mask = data['bbox_area_diff'] <= 0.2\n",
                "data[mask].describe()"
            ]
        },
        {
            "cell_type": "code",
            "execution_count": null,
            "metadata": {},
            "outputs": [],
            "source": [
                "plt._data = data[mask]\n",
                "plt.plot_v1()"
            ]
        },
        {
            "cell_type": "code",
            "execution_count": null,
            "metadata": {},
            "outputs": [],
            "source": [
                "import seaborn as sns\n",
                "data = plt._data\n",
                "data['wrm_speed_avg'] = data['wrm_speed'].rolling(window=5, center=True).mean()\n",
                "ax = sns.scatterplot(data=plt._data, x='wrm_speed_avg', y='bbox_area_diff')\n",
                "ax.set_xlim(0,10)"
            ]
        },
        {
            "cell_type": "code",
            "execution_count": null,
            "metadata": {},
            "outputs": [],
            "source": [
                "cv.destroyAllWindows()\n",
                "raise Exception(\"Finished\")"
            ]
        },
        {
            "cell_type": "code",
            "execution_count": null,
            "metadata": {},
            "outputs": [],
            "source": [
                "import cv2 as cv\n",
                "import numpy as np\n",
                "from tqdm.auto import tqdm\n",
                "import math\n",
                "\n",
                "from frame_reader import FrameReader\n",
                "\n",
                "\n",
                "class WormExtractor:\n",
                "    def __init__(\n",
                "        self,\n",
                "        frame_reader: FrameReader,\n",
                "        bg_probes: int = 100,\n",
                "        diff_thresh: int = 10,\n",
                "    ):\n",
                "        assert bg_probes > 0 and diff_thresh > 0\n",
                "\n",
                "        self._frame_reader = frame_reader\n",
                "        self._bg_probes = bg_probes\n",
                "        self._diff_thresh = diff_thresh\n",
                "\n",
                "        self._background = None\n",
                "\n",
                "    def get_background(self) -> np.ndarray:\n",
                "        \"\"\"\n",
                "        Returns the background image extracted from the frame reader frames.\n",
                "\n",
                "        Returns:\n",
                "            np.ndarray: The background array.\n",
                "        \"\"\"\n",
                "\n",
                "        if self._background is None:\n",
                "            self._background = self._calc_background()\n",
                "        return self._background\n",
                "\n",
                "    def _calc_background(self) -> np.ndarray:\n",
                "        length = len(self._frame_reader)\n",
                "        size = min(self._bg_probes, length)\n",
                "\n",
                "        # get frames\n",
                "        frame_ids = np.random.choice(length, size=size, replace=False)\n",
                "        extracted_list = []\n",
                "        for frame_id in tqdm(frame_ids, desc=\"Extracting background frames\", unit=\"fr\"):\n",
                "            frame = self._frame_reader[frame_id]\n",
                "            extracted_list.append(frame)\n",
                "\n",
                "        # calculate the median along the time axis\n",
                "        extracted = np.stack(extracted_list, axis=0)\n",
                "        median = np.median(extracted, axis=0).astype(np.uint8, copy=False)\n",
                "        return median\n",
                "\n",
                "    def find_worm(self, frame_idx: int, bbox: tuple[float]) -> np.ndarray:\n",
                "        \"\"\"\n",
                "        Returns a binary mask of the worm in the frame, within the bounding box.\n",
                "\n",
                "        Args:\n",
                "            frame_idx (int): The frame index.\n",
                "            bbox (tuple[float]): The bounding box (x, y, w, h).\n",
                "\n",
                "        Returns:\n",
                "            np.ndarray: The binary mask of the worm.\n",
                "        \"\"\"\n",
                "\n",
                "        # get mask according to the threshold value\n",
                "        frame = self._frame_reader[frame_idx]\n",
                "        background = self.get_background()\n",
                "\n",
                "        x, y, w, h = math.floor(bbox[0]), math.floor(bbox[1]), math.ceil(bbox[2]), math.ceil(bbox[3])\n",
                "\n",
                "        # extract the region of interest\n",
                "        roi = frame[y : y + h, x : x + w]\n",
                "        bg_roi = background[y : y + h, x : x + w]\n",
                "\n",
                "        # make sure roi and bg are grayscale\n",
                "        if len(roi.shape) == 3:\n",
                "            roi = cv.cvtColor(roi, cv.COLOR_BGR2GRAY)\n",
                "            bg_roi = cv.cvtColor(bg_roi, cv.COLOR_BGR2GRAY)\n",
                "\n",
                "        diff = cv.absdiff(roi, bg_roi)\n",
                "        _, mask = cv.threshold(diff, self._diff_thresh, 255, cv.THRESH_BINARY)\n",
                "\n",
                "        # apply morphological ops to the mask\n",
                "        mask = cv.morphologyEx(mask, cv.MORPH_OPEN, np.ones((5, 5), np.uint8))\n",
                "        mask = cv.dilate(mask, np.ones((11, 11), np.uint8))\n",
                "\n",
                "        # extract contours and bbox\n",
                "        contours, _ = cv.findContours(mask, cv.RETR_EXTERNAL, cv.CHAIN_APPROX_NONE)\n",
                "\n",
                "        worm_binary = np.zeros_like(roi)\n",
                "\n",
                "        if len(contours) > 0:\n",
                "            largest_contour = max(contours, key=cv.contourArea)\n",
                "            cv.drawContours(worm_binary, [largest_contour], 0, 1, cv.FILLED)\n",
                "\n",
                "        return worm_binary"
            ]
        },
        {
            "cell_type": "code",
            "execution_count": null,
            "metadata": {},
            "outputs": [],
            "source": [
                "class ErrorCalculator:\n",
                "    def __init__(self, frame_reader: FrameReader, worm_extractor: WormExtractor):\n",
                "        self._frame_reader = frame_reader\n",
                "        self._worm_extractor = worm_extractor\n",
                "\n",
                "    def calculate_error(self, frame_idx: int, worm_bbox: tuple[float], mic_bbox: tuple[float]) -> float:\n",
                "        worm_bbox = math.floor(worm_bbox[0]), math.floor(worm_bbox[1]), math.ceil(worm_bbox[2]), math.ceil(worm_bbox[3])\n",
                "        mic_bbox = math.floor(mic_bbox[0]), math.floor(mic_bbox[1]), math.ceil(mic_bbox[2]), math.ceil(mic_bbox[3])\n",
                "\n",
                "        worm_mask = self._worm_extractor.find_worm(frame_idx, worm_bbox)\n",
                "\n",
                "        num_pixels = np.sum(worm_mask)\n",
                "\n",
                "        if num_pixels == 0:\n",
                "            return 0\n",
                "\n",
                "        # calculate the intersection between the worm and the mic bounding box\n",
                "        x, y, w, h = (\n",
                "            max(0, mic_bbox[0] - worm_bbox[0]),\n",
                "            max(0, mic_bbox[1] - worm_bbox[1]),\n",
                "            min(worm_bbox[0] + worm_bbox[2], mic_bbox[0] + mic_bbox[2]),\n",
                "            min(worm_bbox[1] + worm_bbox[3], mic_bbox[1] + mic_bbox[3]),\n",
                "        )\n",
                "\n",
                "        worm_intersection = worm_mask[y : y + h, x : w + w]\n",
                "\n",
                "        return np.sum(worm_intersection) / num_pixels"
            ]
        },
        {
            "cell_type": "code",
            "execution_count": null,
            "metadata": {},
            "outputs": [],
            "source": [
                "extractor = WormExtractor(reader)"
            ]
        },
        {
            "cell_type": "code",
            "execution_count": null,
            "metadata": {},
            "outputs": [],
            "source": [
                "bbox = (360 - 360 // 2, 2348 - 360 // 2, 25, 13)\n",
                "mask = extractor.find_worm(15, (0, 0, 10000, 10000))"
            ]
        },
        {
            "cell_type": "code",
            "execution_count": null,
            "metadata": {},
            "outputs": [],
            "source": [
                "np.sum(mask != 0)"
            ]
        },
        {
            "cell_type": "code",
            "execution_count": null,
            "metadata": {},
            "outputs": [],
            "source": [
                "np.sum(mask == 1)"
            ]
        },
        {
            "cell_type": "code",
            "execution_count": null,
            "metadata": {},
            "outputs": [],
            "source": [
                "colored = cv.cvtColor(mask * 255, cv.COLOR_GRAY2BGR)\n",
                "cv.imshow(\"mask\", colored)\n",
                "cv.waitKey(0)"
            ]
        },
        {
            "cell_type": "code",
            "execution_count": 1,
            "metadata": {},
            "outputs": [
                {
                    "data": {
                        "text/plain": [
                            "' time_config = TimingConfig.load_json(\"logs/time_config.json\")\\nlog_config = LogConfig.load_json(\"logs/log_config.json\")\\nyolo_config = YoloConfig.load_json(\"logs/yolo_config.json\") '"
                        ]
                    },
                    "execution_count": 1,
                    "metadata": {},
                    "output_type": "execute_result"
                }
            ],
            "source": [
                "from evaluation.simulator import *\n",
                "from evaluation.sim_controllers import *\n",
                "from utils.path_utils import Files\n",
                "\n",
                "time_config = TimingConfig(\n",
                "    frames_per_sec=60,\n",
                "    imaging_time_ms=200,\n",
                "    pred_time_ms=40,\n",
                "    moving_time_ms=50,\n",
                "    px_per_mm=90,\n",
                "    camera_size_mm=(4, 4),\n",
                "    micro_size_mm=(0.225, 0.225),\n",
                "    init_position=(1300, 1200),\n",
                "    frame_padding_value=(255, 255, 255),\n",
                ")\n",
                "\n",
                "log_config = LogConfig(\n",
                "    root_folder=\"logs_v2/\",\n",
                "    save_mic_view=True,\n",
                "    save_cam_view=True,\n",
                ")\n",
                "\n",
                "log_config.create_dirs()\n",
                "\n",
                "\"\"\"\n",
                "time_config.save_json(\"logs/time_config.json\")\n",
                "log_config.save_json(\"logs/log_config.json\")\n",
                "yolo_config.save_json(\"logs/yolo_config.json\")\n",
                "\"\"\"\n",
                "\n",
                "time_config.save_json(log_config.root_folder+\"/time_config.json\")\n",
                "log_config.save_json(log_config.root_folder+\"/log_config.json\")\n",
                "yolo_config.save_json(log_config.root_folder+\"/yolo_config.json\")\n",
                "\n",
                "\"\"\" time_config = TimingConfig.load_json(\"logs/time_config.json\")\n",
                "log_config = LogConfig.load_json(\"logs/log_config.json\")\n",
                "yolo_config = YoloConfig.load_json(\"logs/yolo_config.json\") \"\"\"\n"
            ]
        },
        {
            "cell_type": "code",
            "execution_count": null,
            "metadata": {},
            "outputs": [],
            "source": [
                "print(time_config.imaging_frame_num + time_config.moving_frame_num)"
            ]
        },
        {
            "cell_type": "code",
            "execution_count": 2,
            "metadata": {},
            "outputs": [],
            "source": [
                "sim_controller = YoloController(time_config, yolo_config)\n",
                "sim_controller = CsvController(time_config, \"logs/bboxes.csv\")\n",
                "log_controller = LoggingController(sim_controller, log_config)\n",
                "sim = Simulator(time_config, reader, log_controller)"
            ]
        },
        {
            "cell_type": "code",
            "execution_count": 3,
            "metadata": {},
            "outputs": [
                {
                    "data": {
                        "application/vnd.jupyter.widget-view+json": {
                            "model_id": "5027122e24e543bf84829285948fcbae",
                            "version_major": 2,
                            "version_minor": 0
                        },
                        "text/plain": [
                            "Simulation Progress:   0%|          | 0/14 [00:00<?, ?cycle/s]"
                        ]
                    },
                    "metadata": {},
                    "output_type": "display_data"
                }
            ],
            "source": [
                "sim.run(visualize=True)"
            ]
        },
        {
            "cell_type": "code",
            "execution_count": null,
            "metadata": {},
            "outputs": [],
            "source": [
                "cv.destroyAllWindows()\n",
                "raise Exception(\"Finished\")"
            ]
        },
        {
            "cell_type": "code",
            "execution_count": null,
            "metadata": {},
            "outputs": [],
            "source": [
                "from frame_reader import FrameReader\n",
                "\n",
                "reader = FrameReader.create_from_directory(\"Archive/\")"
            ]
        },
        {
            "cell_type": "code",
            "execution_count": null,
            "metadata": {},
            "outputs": [],
            "source": [
                "from dataset.create.box_calculator import BoxCalculator\n",
                "from dataset.create.sample_extractor import SampleExtractor\n",
                "\n",
                "bbox_calc = BoxCalculator(reader)\n",
                "extractor = SampleExtractor(bbox_calc)\n",
                "extractor.create_all_samples(target_size=(400, 400), save_folder=\"samples\")"
            ]
        }
    ],
    "metadata": {
        "kernelspec": {
            "display_name": "bio-proj",
            "language": "python",
            "name": "python3"
        },
        "language_info": {
            "codemirror_mode": {
                "name": "ipython",
                "version": 3
            },
            "file_extension": ".py",
            "mimetype": "text/x-python",
            "name": "python",
            "nbconvert_exporter": "python",
            "pygments_lexer": "ipython3",
            "version": "3.12.2"
        }
    },
    "nbformat": 4,
    "nbformat_minor": 2
}
