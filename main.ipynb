{
    "cells": [
        {
            "cell_type": "code",
            "execution_count": null,
            "metadata": {},
            "outputs": [],
            "source": [
                "import cv2 as cv\n",
                "import numpy as np"
            ]
        },
        {
            "cell_type": "code",
            "execution_count": null,
            "metadata": {},
            "outputs": [],
            "source": [
                "base_path = f\"D:/Guy_Gilad/Exp0_GuyGilad/logs_yolo\"\n",
                "input_bboxes_path = f\"{base_path}/bboxes.csv\""
            ]
        },
        {
            "cell_type": "code",
            "execution_count": null,
            "metadata": {},
            "outputs": [],
            "source": [
                "from evaluation.simulator import *\n",
                "from evaluation.sim_controllers import *\n",
                "from utils.path_utils import Files\n",
                "from evaluation.config import *\n",
                "\n",
                "experiment_config = ExperimentConfig.load_json(f\"{base_path}/experiment_config.json\")\n",
                "# yolo_config = YoloConfig.load_json(f\"{base_path}/yolo_config.json\")\n",
                "\n",
                "time_config = TimingConfig(\n",
                "    frames_per_sec=60,\n",
                "    imaging_time_ms=200,\n",
                "    pred_time_ms=40,\n",
                "    moving_time_ms=50,\n",
                "    camera_size_mm=(4, 4),\n",
                "    micro_size_mm=(0.22, 0.21),\n",
                "    experiment_config=experiment_config\n",
                ")\n",
                "\n",
                "log_config = LogConfig(\n",
                "    root_folder=\"logs\",\n",
                "    save_mic_view=False,\n",
                "    save_cam_view=False,\n",
                "    save_err_view=False,\n",
                ")"
            ]
        },
        {
            "cell_type": "code",
            "execution_count": null,
            "metadata": {},
            "outputs": [],
            "source": [
                "time = TimingConfig.load_json(\"C:\\\\Users\\\\slevylab\\\\Desktop\\\\time.json\")"
            ]
        },
        {
            "cell_type": "code",
            "execution_count": null,
            "metadata": {},
            "outputs": [],
            "source": [
                "print(time)"
            ]
        },
        {
            "cell_type": "code",
            "execution_count": null,
            "metadata": {},
            "outputs": [],
            "source": [
                "weights = np.asanyarray([   0.043858 , 7.4848e-06 , 2.4353e-07 , 0.00026733 , 2.7041e-05 ,   0.085828 ,   0.097627  ,   0.70979  ,   0.69093]\n",
                ")\n",
                "sample_times = np.asanyarray(\n",
                "    [\n",
                "        0,\n",
                "        5,\n",
                "        9,\n",
                "        -time_config.cycle_length + 0,\n",
                "        -time_config.cycle_length + 5,\n",
                "        -time_config.cycle_length + 9,\n",
                "        -2 * time_config.cycle_length + 0,\n",
                "        -2 * time_config.cycle_length + 5,\n",
                "        -2 * time_config.cycle_length + 9,\n",
                "    ]\n",
                ")"
            ]
        },
        {
            "cell_type": "code",
            "execution_count": null,
            "metadata": {},
            "outputs": [],
            "source": [
                "from evaluation.sim_controllers.test_controller1 import TestController1\n",
                "from evaluation.sim_controllers.polyfit_controller import PolyfitController\n",
                "\n",
                "#sim_controller = YoloController(time_config, yolo_config)\n",
                "sim_controller = TestController1(time_config, input_bboxes_path)\n",
                "#sim_controller = PolyfitController(time_config, input_bboxes_path, degree=1, weights=weights, sample_times=sample_times)\n",
                "#sim_controller = OptimalController(time_config, input_bboxes_path)\n",
                "#sim_controller = CsvController(time_config, input_bboxes_path)\n",
                "log_controller = LoggingController(sim_controller, log_config)\n",
                "sim = Simulator(time_config, experiment_config, log_controller, reader=None)"
            ]
        },
        {
            "cell_type": "code",
            "execution_count": null,
            "metadata": {},
            "outputs": [],
            "source": [
                "sim.run(visualize=False, wait_key=False)"
            ]
        },
        {
            "cell_type": "code",
            "execution_count": null,
            "metadata": {},
            "outputs": [],
            "source": [
                "from evaluation.analysis import Plotter\n",
                "from evaluation.config import *\n",
                "\n",
                "plt = Plotter(f\"logs/bboxes.csv\", time_config)\n",
                "plt.plot_speed_hist()\n",
                "plt.plot_area_vs_speed(min_speed=0.)"
            ]
        },
        {
            "cell_type": "code",
            "execution_count": null,
            "metadata": {},
            "outputs": [],
            "source": [
                "plt.plot_speed_hist()"
            ]
        },
        {
            "cell_type": "code",
            "execution_count": null,
            "metadata": {},
            "outputs": [],
            "source": [
                "cv.destroyAllWindows()\n",
                "raise Exception(\"Finished\")"
            ]
        },
        {
            "cell_type": "code",
            "execution_count": null,
            "metadata": {},
            "outputs": [],
            "source": [
                "from evaluation.sim_controllers.polyfit_controller import WeightEvaluator\n",
                "\n",
                "# input_offsets = np.asanyarray([0, 3, 6, 9])\n",
                "\n",
                "input_offsets = np.asanyarray(\n",
                "    [\n",
                "        0,\n",
                "        5,\n",
                "        9,\n",
                "        -time_config.cycle_length + 0,\n",
                "        -time_config.cycle_length + 5,\n",
                "        -time_config.cycle_length + 9,\n",
                "        -2 * time_config.cycle_length + 0,\n",
                "        -2 * time_config.cycle_length + 5,\n",
                "        -2 * time_config.cycle_length + 9,\n",
                "    ]\n",
                ")\n",
                "\n",
                "\n",
                "start_times = np.arange(experiment_config.num_frames // time_config.cycle_length) * time_config.cycle_length\n",
                "\n",
                "evaluator = WeightEvaluator(\n",
                "    input_bboxes_path,\n",
                "    time_config,\n",
                "    input_offsets=input_offsets,\n",
                "    start_times=start_times,\n",
                "    eval_offset= time_config.cycle_length + time_config.imaging_frame_num // 2,\n",
                "    min_speed=0,\n",
                ")"
            ]
        },
        {
            "cell_type": "code",
            "execution_count": null,
            "metadata": {},
            "outputs": [],
            "source": [
                "def eval_func(weights: np.ndarray) -> float:\n",
                "    return evaluator.eval(weights, deg=1)"
            ]
        },
        {
            "cell_type": "code",
            "execution_count": null,
            "metadata": {},
            "outputs": [],
            "source": [
                "from mealpy.swarm_based.PSO import OriginalPSO\n",
                "from mealpy.utils.problem import Problem\n",
                "from mealpy.utils.termination import Termination\n",
                "from mealpy.utils.agent import Agent\n",
                "import mealpy\n",
                "\n",
                "#optim = mealpy.ICA.OriginalICA()\n",
                "optim = mealpy.PSO.OriginalPSO()\n",
                "\n",
                "termination = Termination(max_epoch=300, max_fe=None, max_time=None, max_early_stop=100)\n",
                "\n",
                "bounds = mealpy.FloatVar(lb=np.zeros(len(input_offsets)), ub=np.ones(len(input_offsets)))\n",
                "\n",
                "problem = Problem(obj_func=eval_func, bounds=bounds, minimax=\"min\")\n",
                "\n",
                "best: Agent = optim.solve(\n",
                "    problem,\n",
                "    mode=\"single\",\n",
                "    n_workers=5,\n",
                "    termination=termination,\n",
                ")"
            ]
        },
        {
            "cell_type": "code",
            "execution_count": null,
            "metadata": {},
            "outputs": [],
            "source": [
                "print(optim.g_best.target.fitness)\n",
                "print(optim.g_best.solution / np.linalg.norm(best.solution))"
            ]
        }
    ],
    "metadata": {
        "kernelspec": {
            "display_name": "bio-proj",
            "language": "python",
            "name": "python3"
        },
        "language_info": {
            "codemirror_mode": {
                "name": "ipython",
                "version": 3
            },
            "file_extension": ".py",
            "mimetype": "text/x-python",
            "name": "python",
            "nbconvert_exporter": "python",
            "pygments_lexer": "ipython3",
            "version": "3.12.2"
        }
    },
    "nbformat": 4,
    "nbformat_minor": 2
}
