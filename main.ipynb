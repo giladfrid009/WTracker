{
    "cells": [
        {
            "cell_type": "code",
            "execution_count": null,
            "metadata": {},
            "outputs": [],
            "source": [
                "import cv2 as cv\n",
                "import numpy as np"
            ]
        },
        {
            "cell_type": "code",
            "execution_count": null,
            "metadata": {},
            "outputs": [],
            "source": [
                "from evaluation.config import *\n",
                "\n",
                "time_config = TimingConfig(\n",
                "    frames_per_sec=60,\n",
                "    imaging_time_ms=200,\n",
                "    pred_time_ms=40,\n",
                "    moving_time_ms=50,\n",
                "    px_per_mm=90,\n",
                "    camera_size_mm=(4, 4),\n",
                "    micro_size_mm=(0.225, 0.225),\n",
                ")"
            ]
        },
        {
            "cell_type": "code",
            "execution_count": null,
            "metadata": {},
            "outputs": [],
            "source": [
                "from evaluation.analysis import Plotter\n",
                "plt = Plotter(\"logs2/bboxes.csv\", time_config)\n",
                "plt.calc_mse()"
            ]
        },
        {
            "cell_type": "code",
            "execution_count": null,
            "metadata": {},
            "outputs": [],
            "source": [
                "cv.destroyAllWindows()\n",
                "raise Exception(\"Finished\")"
            ]
        },
        {
            "cell_type": "code",
            "execution_count": 34,
            "metadata": {},
            "outputs": [
                {
                    "data": {
                        "text/plain": [
                            "' time_config = TimingConfig.load_json(\"logs/time_config.json\")\\nlog_config = LogConfig.load_json(\"logs/log_config.json\")\\nyolo_config = YoloConfig.load_json(\"logs/yolo_config.json\") '"
                        ]
                    },
                    "execution_count": 34,
                    "metadata": {},
                    "output_type": "execute_result"
                }
            ],
            "source": [
                "from evaluation.simulator import *\n",
                "from evaluation.sim_controllers import *\n",
                "from utils.path_utils import Files\n",
                "from evaluation.config import *\n",
                "\n",
                "experiment_config = ExperimentConfig(\n",
                "    name=\"exp1\",\n",
                "    num_frames=61200,\n",
                "    frames_per_sec=60,\n",
                "    orig_resolution=(1920, 1080),\n",
                "    px_per_mm=90,\n",
                "    init_position=(1300, 1200),\n",
                ")\n",
                "\n",
                "\"\"\" experiment_config = ExperimentConfig(\n",
                "    name=\"exp1\",\n",
                "    num_frames=1200,\n",
                "    frames_per_sec=60,\n",
                "    orig_resolution=(1920, 1080),\n",
                "    px_per_mm=90,\n",
                "    init_position=(1300, 1200),\n",
                ") \"\"\"\n",
                "\n",
                "time_config = TimingConfig(\n",
                "    frames_per_sec=60,\n",
                "    imaging_time_ms=200,\n",
                "    pred_time_ms=40,\n",
                "    moving_time_ms=50,\n",
                "    px_per_mm=90,\n",
                "    camera_size_mm=(4, 4),\n",
                "    micro_size_mm=(0.225, 0.225),\n",
                ")\n",
                "\n",
                "log_config = LogConfig(\n",
                "    root_folder=\"logs2/\",\n",
                "    save_mic_view=False,\n",
                "    save_cam_view=False,\n",
                "    save_err_view=False,\n",
                ")\n",
                "\n",
                "yolo_config = YoloConfig(\n",
                "    model_path=\"yolov8m-trained.pt\",\n",
                "    verbose=True,\n",
                ")\n",
                "\n",
                "log_config.create_dirs()\n",
                "\n",
                "\n",
                "time_config.save_json(\"logs/time_config.json\")\n",
                "log_config.save_json(\"logs/log_config.json\")\n",
                "yolo_config.save_json(\"logs/yolo_config.json\") \n",
                "experiment_config.save_json(\"logs/experiment_config.json\")\n",
                "\n",
                "\"\"\"\n",
                "frames_path = \"Archive/\"\n",
                "files = Files(frames_path, extension=\"Bmp\", sorting_key=lambda f: int(f.split(\"-\")[-1].split(\".\")[0]))\n",
                "files_list = [file for file in files]\n",
                "reader = FrameReader(frames_path, files_list) \"\"\"\n",
                "\n",
                "# reader = FrameReader.create_from_directory(\"/mnt/c/Users/freid/Desktop/eval/micro\")\n",
                "\n",
                "\n",
                "\"\"\" time_config = TimingConfig.load_json(\"logs/time_config.json\")\n",
                "log_config = LogConfig.load_json(\"logs/log_config.json\")\n",
                "yolo_config = YoloConfig.load_json(\"logs/yolo_config.json\") \"\"\""
            ]
        },
        {
            "cell_type": "code",
            "execution_count": null,
            "metadata": {},
            "outputs": [],
            "source": [
                "print(time_config.imaging_frame_num + time_config.moving_frame_num)"
            ]
        },
        {
            "cell_type": "code",
            "execution_count": 37,
            "metadata": {},
            "outputs": [],
            "source": [
                "from evaluation.sim_controllers.test_controller1 import TestController1\n",
                "from evaluation.sim_controllers.polyfit_controller import PolyfitController\n",
                "\n",
                "# sim_controller = YoloController(time_config, yolo_config)\n",
                "#sim_controller = TestController1(time_config, \"bboxes.csv\")\n",
                "\n",
                "weights = np.ones(4)\n",
                "weights[-1] = 1000\n",
                "\n",
                "sim_controller = PolyfitController(time_config, \"bboxes.csv\", degree=2)\n",
                "#sim_controller = OptimalController(time_config, \"bboxes.csv\")\n",
                "sim_controller = CsvController(time_config, \"bboxes.csv\")\n",
                "log_controller = LoggingController(sim_controller, log_config)\n",
                "sim = Simulator(time_config, experiment_config, log_controller)"
            ]
        },
        {
            "cell_type": "code",
            "execution_count": 38,
            "metadata": {},
            "outputs": [
                {
                    "data": {
                        "application/vnd.jupyter.widget-view+json": {
                            "model_id": "eecef94ddac24192a9bbe6f37ad033b0",
                            "version_major": 2,
                            "version_minor": 0
                        },
                        "text/plain": [
                            "Simulation Progress:   0%|          | 0/4080 [00:00<?, ?cycle/s]"
                        ]
                    },
                    "metadata": {},
                    "output_type": "display_data"
                }
            ],
            "source": [
                "sim.run(visualize=False)"
            ]
        },
        {
            "cell_type": "code",
            "execution_count": null,
            "metadata": {},
            "outputs": [],
            "source": [
                "from cProfile import Profile\n",
                "from pstats import Stats, SortKey\n",
                "\n",
                "with Profile() as pr:\n",
                "    sim.run(visualize=False)\n",
                "    Stats(pr).sort_stats(SortKey.CUMULATIVE).print_stats()"
            ]
        },
        {
            "cell_type": "code",
            "execution_count": null,
            "metadata": {},
            "outputs": [],
            "source": [
                "cv.destroyAllWindows()\n",
                "raise Exception(\"Finished\")"
            ]
        },
        {
            "cell_type": "code",
            "execution_count": null,
            "metadata": {},
            "outputs": [],
            "source": [
                "from frame_reader import FrameReader\n",
                "\n",
                "reader = FrameReader.create_from_directory(\"Archive/\")"
            ]
        },
        {
            "cell_type": "code",
            "execution_count": null,
            "metadata": {},
            "outputs": [],
            "source": [
                "from dataset.create.box_calculator import BoxCalculator\n",
                "from dataset.create.sample_extractor import SampleExtractor\n",
                "\n",
                "bbox_calc = BoxCalculator(reader)\n",
                "extractor = SampleExtractor(bbox_calc)\n",
                "extractor.create_all_samples(target_size=(400, 400), save_folder=\"samples\")"
            ]
        },
        {
            "cell_type": "code",
            "execution_count": 28,
            "metadata": {},
            "outputs": [],
            "source": [
                "import pandas as pd\n",
                "import numpy as np\n",
                "\n",
                "from evaluation.simulator import *\n",
                "from dataset.bbox_utils import *\n",
                "\n",
                "\n",
                "np.set_printoptions(precision=2)\n",
                "\n",
                "class PolyEvaluator:\n",
                "    def __init__(\n",
                "        self,\n",
                "        csv_path: str,\n",
                "        timing_config: TimingConfig,\n",
                "        input_offsets: np.ndarray,\n",
                "        start_times: np.ndarray,\n",
                "        eval_offset: int,\n",
                "    ):\n",
                "        self.timing_config = timing_config\n",
                "        self.eval_offset = eval_offset\n",
                "\n",
                "        bboxes = pd.read_csv(csv_path, usecols=[\"wrm_x\", \"wrm_y\", \"wrm_w\", \"wrm_h\"]).to_numpy(dtype=float)\n",
                "\n",
                "        self.positions = np.empty((len(bboxes), 2), dtype=float)\n",
                "        self.positions[:, 0] = bboxes[:, 0] + bboxes[:, 2] / 2\n",
                "        self.positions[:, 1] = bboxes[:, 1] + bboxes[:, 3] / 2\n",
                "\n",
                "        self.input_offsets = np.sort(input_offsets)\n",
                "        self.start_times = start_times\n",
                "\n",
                "        self._initialize()\n",
                "\n",
                "    def _initialize(self):\n",
                "        N = self.input_offsets.shape[0]\n",
                "\n",
                "        # create data arrays\n",
                "        input_times = np.repeat(self.start_times, repeats=N) + np.tile(self.input_offsets, reps=self.start_times.shape[0]) \n",
                "        input_pos = self.positions[input_times, :]  \n",
                "        dst_times = self.start_times + self.eval_offset\n",
                "        dst_pos = self.positions[dst_times, :]\n",
                "\n",
                "        # remove invalid positions according to dst\n",
                "        dst_mask = np.all(np.isfinite(dst_pos), axis=-1)\n",
                "        mask = np.repeat(dst_mask, repeats=N, axis=0)\n",
                "        input_pos = input_pos[mask, :]\n",
                "        dst_pos = dst_pos[dst_mask, :]\n",
                "\n",
                "        # remove invalid positions according to input\n",
                "        input_mask = np.isfinite(input_pos).reshape(-1, N, 2)\n",
                "        input_mask = np.all(np.all(input_mask, axis=-1), axis=-1)\n",
                "\n",
                "        input_pos = input_pos.reshape(-1, N, 2)\n",
                "        input_pos = input_pos[input_mask, :, :]\n",
                "        dst_pos = dst_pos[input_mask, :]\n",
                "\n",
                "        self.x_input = self.input_offsets.reshape(N)\n",
                "        self.y_input = input_pos.swapaxes(0, 1).reshape(N, -1)\n",
                "        self.x_target = np.asanyarray([self.eval_offset])\n",
                "        self.y_target = dst_pos.reshape(-1)\n",
                "\n",
                "    def polyval(self, coeffs: np.ndarray, x: np.ndarray) -> np.ndarray:\n",
                "        \"\"\"\n",
                "        Evaluate a polynomial at given values.\n",
                "\n",
                "        Args:\n",
                "            coeffs (np.ndarray): Coefficients of the polynomial. Coefficients at decreasing order. Should have shape [deg+1, N].\n",
                "            x (np.ndarray): Values at which to evaluate the polynomial. Should have shape [N].\n",
                "\n",
                "        Returns:\n",
                "            np.ndarray: The result of evaluating the polynomial at the given values. Shape is [N].\n",
                "\n",
                "        \"\"\"\n",
                "        coeffs = coeffs.swapaxes(0, 1)\n",
                "        van = np.vander(x, N=coeffs.shape[1], increasing=False)\n",
                "        return np.sum(van * coeffs, axis=-1)\n",
                "\n",
                "    def eval(self, weights: np.ndarray, deg: int = 2) -> float:\n",
                "        \"\"\"\n",
                "        Evaluate the mean absolute error (MAE) of the polynomial fit.\n",
                "\n",
                "        Args:\n",
                "            weights (np.ndarray): The weights used for the polynomial fit. Should have shape [N].\n",
                "            deg (int, optional): The degree of the polynomial fit. Defaults to 2.\n",
                "\n",
                "        Returns:\n",
                "            float: The mean squared error (MSE) of the polynomial fit.\n",
                "        \"\"\"\n",
                "        coeffs = np.polyfit(self.x_input, self.y_input, deg=deg, w=weights)\n",
                "        x_target = np.broadcast_to(self.x_target, shape=(coeffs.shape[1],))\n",
                "        y_hat = self.polyval(coeffs, x_target)\n",
                "        mae = np.mean(np.abs(self.y_target - y_hat))\n",
                "        return mae"
            ]
        },
        {
            "cell_type": "code",
            "execution_count": 29,
            "metadata": {},
            "outputs": [],
            "source": [
                "# input_offsets = np.asanyarray([0, 3, 6, 9])\n",
                "\n",
                "input_offsets = np.asanyarray(\n",
                "    [\n",
                "        0,\n",
                "        5,\n",
                "        9,\n",
                "        time_config.cycle_length + 0,\n",
                "        time_config.cycle_length + 5,\n",
                "        time_config.cycle_length + 9,\n",
                "        2 * time_config.cycle_length + 0,\n",
                "        2 * time_config.cycle_length + 5,\n",
                "        2 * time_config.cycle_length + 9,\n",
                "    ]\n",
                ")\n",
                "\n",
                "start_times = np.arange(60000 // time_config.cycle_length) * time_config.cycle_length\n",
                "# start_times = np.concatenate((start_times, np.array([21997 - 18])))\n",
                "\n",
                "evaluator = PolyEvaluator(\n",
                "    \"bboxes.csv\",\n",
                "    time_config,\n",
                "    input_offsets=input_offsets,\n",
                "    start_times=start_times,\n",
                "    eval_offset=3 * time_config.cycle_length + time_config.imaging_frame_num // 2,\n",
                ")"
            ]
        },
        {
            "cell_type": "code",
            "execution_count": 32,
            "metadata": {},
            "outputs": [],
            "source": [
                "def eval_func(weights: np.ndarray) -> float:\n",
                "    return evaluator.eval(weights, deg=3)"
            ]
        },
        {
            "cell_type": "code",
            "execution_count": 33,
            "metadata": {},
            "outputs": [
                {
                    "name": "stderr",
                    "output_type": "stream",
                    "text": [
                        "2024/05/12 08:33:57 PM, INFO, mealpy.swarm_based.PSO.OriginalPSO: Solving single objective optimization problem.\n"
                    ]
                },
                {
                    "name": "stderr",
                    "output_type": "stream",
                    "text": [
                        "2024/05/12 08:33:59 PM, INFO, mealpy.swarm_based.PSO.OriginalPSO: >>>Problem: P, Epoch: 1, Current best: 2.4025360488450325, Global best: 2.4025360488450325, Runtime: 0.59585 seconds\n",
                        "2024/05/12 08:34:00 PM, INFO, mealpy.swarm_based.PSO.OriginalPSO: >>>Problem: P, Epoch: 2, Current best: 2.363332333175423, Global best: 2.363332333175423, Runtime: 0.71223 seconds\n",
                        "2024/05/12 08:34:01 PM, INFO, mealpy.swarm_based.PSO.OriginalPSO: >>>Problem: P, Epoch: 3, Current best: 2.3550025309384086, Global best: 2.3550025309384086, Runtime: 0.63023 seconds\n",
                        "2024/05/12 08:34:01 PM, INFO, mealpy.swarm_based.PSO.OriginalPSO: >>>Problem: P, Epoch: 4, Current best: 2.350792611481344, Global best: 2.350792611481344, Runtime: 0.73781 seconds\n",
                        "2024/05/12 08:34:02 PM, INFO, mealpy.swarm_based.PSO.OriginalPSO: >>>Problem: P, Epoch: 5, Current best: 2.350792611481344, Global best: 2.350792611481344, Runtime: 0.82702 seconds\n",
                        "2024/05/12 08:34:03 PM, INFO, mealpy.swarm_based.PSO.OriginalPSO: >>>Problem: P, Epoch: 6, Current best: 2.3502568150944008, Global best: 2.3502568150944008, Runtime: 0.61171 seconds\n",
                        "2024/05/12 08:34:03 PM, INFO, mealpy.swarm_based.PSO.OriginalPSO: >>>Problem: P, Epoch: 7, Current best: 2.350169406112048, Global best: 2.350169406112048, Runtime: 0.59492 seconds\n",
                        "2024/05/12 08:34:04 PM, INFO, mealpy.swarm_based.PSO.OriginalPSO: >>>Problem: P, Epoch: 8, Current best: 2.34805355041278, Global best: 2.34805355041278, Runtime: 0.60007 seconds\n",
                        "2024/05/12 08:34:05 PM, INFO, mealpy.swarm_based.PSO.OriginalPSO: >>>Problem: P, Epoch: 9, Current best: 2.34805355041278, Global best: 2.34805355041278, Runtime: 0.57208 seconds\n",
                        "2024/05/12 08:34:05 PM, INFO, mealpy.swarm_based.PSO.OriginalPSO: >>>Problem: P, Epoch: 10, Current best: 2.34805355041278, Global best: 2.34805355041278, Runtime: 0.61322 seconds\n",
                        "2024/05/12 08:34:06 PM, INFO, mealpy.swarm_based.PSO.OriginalPSO: >>>Problem: P, Epoch: 11, Current best: 2.3479650979261053, Global best: 2.3479650979261053, Runtime: 0.60990 seconds\n",
                        "2024/05/12 08:34:06 PM, INFO, mealpy.swarm_based.PSO.OriginalPSO: >>>Problem: P, Epoch: 12, Current best: 2.3479650979261053, Global best: 2.3479650979261053, Runtime: 0.62872 seconds\n",
                        "2024/05/12 08:34:07 PM, INFO, mealpy.swarm_based.PSO.OriginalPSO: >>>Problem: P, Epoch: 13, Current best: 2.3467353457601536, Global best: 2.3467353457601536, Runtime: 0.64557 seconds\n",
                        "2024/05/12 08:34:08 PM, INFO, mealpy.swarm_based.PSO.OriginalPSO: >>>Problem: P, Epoch: 14, Current best: 2.3467353457601536, Global best: 2.3467353457601536, Runtime: 0.60495 seconds\n",
                        "2024/05/12 08:34:08 PM, INFO, mealpy.swarm_based.PSO.OriginalPSO: >>>Problem: P, Epoch: 15, Current best: 2.3467353457601536, Global best: 2.3467353457601536, Runtime: 0.59075 seconds\n",
                        "2024/05/12 08:34:09 PM, INFO, mealpy.swarm_based.PSO.OriginalPSO: >>>Problem: P, Epoch: 16, Current best: 2.3467353457601536, Global best: 2.3467353457601536, Runtime: 0.61446 seconds\n",
                        "2024/05/12 08:34:10 PM, INFO, mealpy.swarm_based.PSO.OriginalPSO: >>>Problem: P, Epoch: 17, Current best: 2.3467353457601536, Global best: 2.3467353457601536, Runtime: 0.61814 seconds\n",
                        "2024/05/12 08:34:10 PM, INFO, mealpy.swarm_based.PSO.OriginalPSO: >>>Problem: P, Epoch: 18, Current best: 2.34671790916782, Global best: 2.34671790916782, Runtime: 0.66190 seconds\n",
                        "2024/05/12 08:34:11 PM, INFO, mealpy.swarm_based.PSO.OriginalPSO: >>>Problem: P, Epoch: 19, Current best: 2.346196190431163, Global best: 2.346196190431163, Runtime: 0.82681 seconds\n"
                    ]
                },
                {
                    "ename": "KeyboardInterrupt",
                    "evalue": "",
                    "output_type": "error",
                    "traceback": [
                        "\u001b[0;31m---------------------------------------------------------------------------\u001b[0m",
                        "\u001b[0;31mKeyboardInterrupt\u001b[0m                         Traceback (most recent call last)",
                        "Cell \u001b[0;32mIn[33], line 16\u001b[0m\n\u001b[1;32m     12\u001b[0m bounds \u001b[38;5;241m=\u001b[39m mealpy\u001b[38;5;241m.\u001b[39mFloatVar(lb\u001b[38;5;241m=\u001b[39mnp\u001b[38;5;241m.\u001b[39mzeros(\u001b[38;5;28mlen\u001b[39m(input_offsets)), ub\u001b[38;5;241m=\u001b[39mnp\u001b[38;5;241m.\u001b[39mones(\u001b[38;5;28mlen\u001b[39m(input_offsets)))\n\u001b[1;32m     14\u001b[0m problem \u001b[38;5;241m=\u001b[39m Problem(obj_func\u001b[38;5;241m=\u001b[39meval_func, bounds\u001b[38;5;241m=\u001b[39mbounds, minimax\u001b[38;5;241m=\u001b[39m\u001b[38;5;124m\"\u001b[39m\u001b[38;5;124mmin\u001b[39m\u001b[38;5;124m\"\u001b[39m)\n\u001b[0;32m---> 16\u001b[0m best: Agent \u001b[38;5;241m=\u001b[39m \u001b[43moptim\u001b[49m\u001b[38;5;241;43m.\u001b[39;49m\u001b[43msolve\u001b[49m\u001b[43m(\u001b[49m\n\u001b[1;32m     17\u001b[0m \u001b[43m    \u001b[49m\u001b[43mproblem\u001b[49m\u001b[43m,\u001b[49m\n\u001b[1;32m     18\u001b[0m \u001b[43m    \u001b[49m\u001b[43mmode\u001b[49m\u001b[38;5;241;43m=\u001b[39;49m\u001b[38;5;124;43m\"\u001b[39;49m\u001b[38;5;124;43mswarm\u001b[39;49m\u001b[38;5;124;43m\"\u001b[39;49m\u001b[43m,\u001b[49m\n\u001b[1;32m     19\u001b[0m \u001b[43m    \u001b[49m\u001b[43mn_workers\u001b[49m\u001b[38;5;241;43m=\u001b[39;49m\u001b[38;5;241;43m5\u001b[39;49m\u001b[43m,\u001b[49m\n\u001b[1;32m     20\u001b[0m \u001b[43m    \u001b[49m\u001b[43mtermination\u001b[49m\u001b[38;5;241;43m=\u001b[39;49m\u001b[43mtermination\u001b[49m\u001b[43m,\u001b[49m\n\u001b[1;32m     21\u001b[0m \u001b[43m)\u001b[49m\n",
                        "File \u001b[0;32m~/miniforge3/envs/bio-proj/lib/python3.10/site-packages/mealpy/optimizer.py:237\u001b[0m, in \u001b[0;36mOptimizer.solve\u001b[0;34m(self, problem, mode, n_workers, termination, starting_solutions, seed)\u001b[0m\n\u001b[1;32m    234\u001b[0m time_epoch \u001b[38;5;241m=\u001b[39m time\u001b[38;5;241m.\u001b[39mperf_counter()\n\u001b[1;32m    236\u001b[0m \u001b[38;5;66;03m## Evolve method will be called in child class\u001b[39;00m\n\u001b[0;32m--> 237\u001b[0m \u001b[38;5;28;43mself\u001b[39;49m\u001b[38;5;241;43m.\u001b[39;49m\u001b[43mevolve\u001b[49m\u001b[43m(\u001b[49m\u001b[43mepoch\u001b[49m\u001b[43m)\u001b[49m\n\u001b[1;32m    239\u001b[0m \u001b[38;5;66;03m# Update global best solution, the population is sorted or not depended on algorithm's strategy\u001b[39;00m\n\u001b[1;32m    240\u001b[0m pop_temp, \u001b[38;5;28mself\u001b[39m\u001b[38;5;241m.\u001b[39mg_best \u001b[38;5;241m=\u001b[39m \u001b[38;5;28mself\u001b[39m\u001b[38;5;241m.\u001b[39mupdate_global_best_agent(\u001b[38;5;28mself\u001b[39m\u001b[38;5;241m.\u001b[39mpop)\n",
                        "File \u001b[0;32m~/miniforge3/envs/bio-proj/lib/python3.10/site-packages/mealpy/swarm_based/PSO.py:101\u001b[0m, in \u001b[0;36mOriginalPSO.evolve\u001b[0;34m(self, epoch)\u001b[0m\n\u001b[1;32m     99\u001b[0m pos_new \u001b[38;5;241m=\u001b[39m \u001b[38;5;28mself\u001b[39m\u001b[38;5;241m.\u001b[39mpop[idx]\u001b[38;5;241m.\u001b[39msolution \u001b[38;5;241m+\u001b[39m \u001b[38;5;28mself\u001b[39m\u001b[38;5;241m.\u001b[39mpop[idx]\u001b[38;5;241m.\u001b[39mvelocity\n\u001b[1;32m    100\u001b[0m pos_new \u001b[38;5;241m=\u001b[39m \u001b[38;5;28mself\u001b[39m\u001b[38;5;241m.\u001b[39mcorrect_solution(pos_new)\n\u001b[0;32m--> 101\u001b[0m target \u001b[38;5;241m=\u001b[39m \u001b[38;5;28;43mself\u001b[39;49m\u001b[38;5;241;43m.\u001b[39;49m\u001b[43mget_target\u001b[49m\u001b[43m(\u001b[49m\u001b[43mpos_new\u001b[49m\u001b[43m)\u001b[49m\n\u001b[1;32m    102\u001b[0m \u001b[38;5;28;01mif\u001b[39;00m \u001b[38;5;28mself\u001b[39m\u001b[38;5;241m.\u001b[39mcompare_target(target, \u001b[38;5;28mself\u001b[39m\u001b[38;5;241m.\u001b[39mpop[idx]\u001b[38;5;241m.\u001b[39mtarget, \u001b[38;5;28mself\u001b[39m\u001b[38;5;241m.\u001b[39mproblem\u001b[38;5;241m.\u001b[39mminmax):\n\u001b[1;32m    103\u001b[0m     \u001b[38;5;28mself\u001b[39m\u001b[38;5;241m.\u001b[39mpop[idx]\u001b[38;5;241m.\u001b[39mupdate(solution\u001b[38;5;241m=\u001b[39mpos_new\u001b[38;5;241m.\u001b[39mcopy(), target\u001b[38;5;241m=\u001b[39mtarget\u001b[38;5;241m.\u001b[39mcopy())\n",
                        "File \u001b[0;32m~/miniforge3/envs/bio-proj/lib/python3.10/site-packages/mealpy/optimizer.py:406\u001b[0m, in \u001b[0;36mOptimizer.get_target\u001b[0;34m(self, solution, counted)\u001b[0m\n\u001b[1;32m    404\u001b[0m \u001b[38;5;28;01mif\u001b[39;00m counted:\n\u001b[1;32m    405\u001b[0m     \u001b[38;5;28mself\u001b[39m\u001b[38;5;241m.\u001b[39mnfe_counter \u001b[38;5;241m+\u001b[39m\u001b[38;5;241m=\u001b[39m \u001b[38;5;241m1\u001b[39m\n\u001b[0;32m--> 406\u001b[0m \u001b[38;5;28;01mreturn\u001b[39;00m \u001b[38;5;28;43mself\u001b[39;49m\u001b[38;5;241;43m.\u001b[39;49m\u001b[43mproblem\u001b[49m\u001b[38;5;241;43m.\u001b[39;49m\u001b[43mget_target\u001b[49m\u001b[43m(\u001b[49m\u001b[43msolution\u001b[49m\u001b[43m)\u001b[49m\n",
                        "File \u001b[0;32m~/miniforge3/envs/bio-proj/lib/python3.10/site-packages/mealpy/utils/problem.py:200\u001b[0m, in \u001b[0;36mProblem.get_target\u001b[0;34m(self, solution)\u001b[0m\n\u001b[1;32m    192\u001b[0m \u001b[38;5;28;01mdef\u001b[39;00m \u001b[38;5;21mget_target\u001b[39m(\u001b[38;5;28mself\u001b[39m, solution: np\u001b[38;5;241m.\u001b[39mndarray) \u001b[38;5;241m-\u001b[39m\u001b[38;5;241m>\u001b[39m Target:\n\u001b[1;32m    193\u001b[0m \u001b[38;5;250m    \u001b[39m\u001b[38;5;124;03m\"\"\"\u001b[39;00m\n\u001b[1;32m    194\u001b[0m \u001b[38;5;124;03m    Args:\u001b[39;00m\n\u001b[1;32m    195\u001b[0m \u001b[38;5;124;03m        solution: The real-value solution\u001b[39;00m\n\u001b[0;32m   (...)\u001b[0m\n\u001b[1;32m    198\u001b[0m \u001b[38;5;124;03m        The target object\u001b[39;00m\n\u001b[1;32m    199\u001b[0m \u001b[38;5;124;03m    \"\"\"\u001b[39;00m\n\u001b[0;32m--> 200\u001b[0m     objs \u001b[38;5;241m=\u001b[39m \u001b[38;5;28;43mself\u001b[39;49m\u001b[38;5;241;43m.\u001b[39;49m\u001b[43mobj_func\u001b[49m\u001b[43m(\u001b[49m\u001b[43msolution\u001b[49m\u001b[43m)\u001b[49m\n\u001b[1;32m    201\u001b[0m     \u001b[38;5;28;01mreturn\u001b[39;00m Target(objectives\u001b[38;5;241m=\u001b[39mobjs, weights\u001b[38;5;241m=\u001b[39m\u001b[38;5;28mself\u001b[39m\u001b[38;5;241m.\u001b[39mobj_weights)\n",
                        "Cell \u001b[0;32mIn[32], line 2\u001b[0m, in \u001b[0;36meval_func\u001b[0;34m(weights)\u001b[0m\n\u001b[1;32m      1\u001b[0m \u001b[38;5;28;01mdef\u001b[39;00m \u001b[38;5;21meval_func\u001b[39m(weights: np\u001b[38;5;241m.\u001b[39mndarray) \u001b[38;5;241m-\u001b[39m\u001b[38;5;241m>\u001b[39m \u001b[38;5;28mfloat\u001b[39m:\n\u001b[0;32m----> 2\u001b[0m     \u001b[38;5;28;01mreturn\u001b[39;00m \u001b[43mevaluator\u001b[49m\u001b[38;5;241;43m.\u001b[39;49m\u001b[43meval\u001b[49m\u001b[43m(\u001b[49m\u001b[43mweights\u001b[49m\u001b[43m,\u001b[49m\u001b[43m \u001b[49m\u001b[43mdeg\u001b[49m\u001b[38;5;241;43m=\u001b[39;49m\u001b[38;5;241;43m3\u001b[39;49m\u001b[43m)\u001b[49m\n",
                        "Cell \u001b[0;32mIn[28], line 88\u001b[0m, in \u001b[0;36mPolyEvaluator.eval\u001b[0;34m(self, weights, deg)\u001b[0m\n\u001b[1;32m     77\u001b[0m \u001b[38;5;28;01mdef\u001b[39;00m \u001b[38;5;21meval\u001b[39m(\u001b[38;5;28mself\u001b[39m, weights: np\u001b[38;5;241m.\u001b[39mndarray, deg: \u001b[38;5;28mint\u001b[39m \u001b[38;5;241m=\u001b[39m \u001b[38;5;241m2\u001b[39m) \u001b[38;5;241m-\u001b[39m\u001b[38;5;241m>\u001b[39m \u001b[38;5;28mfloat\u001b[39m:\n\u001b[1;32m     78\u001b[0m \u001b[38;5;250m    \u001b[39m\u001b[38;5;124;03m\"\"\"\u001b[39;00m\n\u001b[1;32m     79\u001b[0m \u001b[38;5;124;03m    Evaluate the mean absolute error (MAE) of the polynomial fit.\u001b[39;00m\n\u001b[1;32m     80\u001b[0m \n\u001b[0;32m   (...)\u001b[0m\n\u001b[1;32m     86\u001b[0m \u001b[38;5;124;03m        float: The mean squared error (MSE) of the polynomial fit.\u001b[39;00m\n\u001b[1;32m     87\u001b[0m \u001b[38;5;124;03m    \"\"\"\u001b[39;00m\n\u001b[0;32m---> 88\u001b[0m     coeffs \u001b[38;5;241m=\u001b[39m \u001b[43mnp\u001b[49m\u001b[38;5;241;43m.\u001b[39;49m\u001b[43mpolyfit\u001b[49m\u001b[43m(\u001b[49m\u001b[38;5;28;43mself\u001b[39;49m\u001b[38;5;241;43m.\u001b[39;49m\u001b[43mx_input\u001b[49m\u001b[43m,\u001b[49m\u001b[43m \u001b[49m\u001b[38;5;28;43mself\u001b[39;49m\u001b[38;5;241;43m.\u001b[39;49m\u001b[43my_input\u001b[49m\u001b[43m,\u001b[49m\u001b[43m \u001b[49m\u001b[43mdeg\u001b[49m\u001b[38;5;241;43m=\u001b[39;49m\u001b[43mdeg\u001b[49m\u001b[43m,\u001b[49m\u001b[43m \u001b[49m\u001b[43mw\u001b[49m\u001b[38;5;241;43m=\u001b[39;49m\u001b[43mweights\u001b[49m\u001b[43m)\u001b[49m\n\u001b[1;32m     89\u001b[0m     x_target \u001b[38;5;241m=\u001b[39m np\u001b[38;5;241m.\u001b[39mbroadcast_to(\u001b[38;5;28mself\u001b[39m\u001b[38;5;241m.\u001b[39mx_target, shape\u001b[38;5;241m=\u001b[39m(coeffs\u001b[38;5;241m.\u001b[39mshape[\u001b[38;5;241m1\u001b[39m],))\n\u001b[1;32m     90\u001b[0m     y_hat \u001b[38;5;241m=\u001b[39m \u001b[38;5;28mself\u001b[39m\u001b[38;5;241m.\u001b[39mpolyval(coeffs, x_target)\n",
                        "File \u001b[0;32m~/miniforge3/envs/bio-proj/lib/python3.10/site-packages/numpy/lib/polynomial.py:669\u001b[0m, in \u001b[0;36mpolyfit\u001b[0;34m(x, y, deg, rcond, full, w, cov)\u001b[0m\n\u001b[1;32m    667\u001b[0m scale \u001b[38;5;241m=\u001b[39m NX\u001b[38;5;241m.\u001b[39msqrt((lhs\u001b[38;5;241m*\u001b[39mlhs)\u001b[38;5;241m.\u001b[39msum(axis\u001b[38;5;241m=\u001b[39m\u001b[38;5;241m0\u001b[39m))\n\u001b[1;32m    668\u001b[0m lhs \u001b[38;5;241m/\u001b[39m\u001b[38;5;241m=\u001b[39m scale\n\u001b[0;32m--> 669\u001b[0m c, resids, rank, s \u001b[38;5;241m=\u001b[39m \u001b[43mlstsq\u001b[49m\u001b[43m(\u001b[49m\u001b[43mlhs\u001b[49m\u001b[43m,\u001b[49m\u001b[43m \u001b[49m\u001b[43mrhs\u001b[49m\u001b[43m,\u001b[49m\u001b[43m \u001b[49m\u001b[43mrcond\u001b[49m\u001b[43m)\u001b[49m\n\u001b[1;32m    670\u001b[0m c \u001b[38;5;241m=\u001b[39m (c\u001b[38;5;241m.\u001b[39mT\u001b[38;5;241m/\u001b[39mscale)\u001b[38;5;241m.\u001b[39mT  \u001b[38;5;66;03m# broadcast scale coefficients\u001b[39;00m\n\u001b[1;32m    672\u001b[0m \u001b[38;5;66;03m# warn on rank reduction, which indicates an ill conditioned matrix\u001b[39;00m\n",
                        "File \u001b[0;32m~/miniforge3/envs/bio-proj/lib/python3.10/site-packages/numpy/linalg/linalg.py:2326\u001b[0m, in \u001b[0;36mlstsq\u001b[0;34m(a, b, rcond)\u001b[0m\n\u001b[1;32m   2323\u001b[0m \u001b[38;5;28;01mif\u001b[39;00m n_rhs \u001b[38;5;241m==\u001b[39m \u001b[38;5;241m0\u001b[39m:\n\u001b[1;32m   2324\u001b[0m     \u001b[38;5;66;03m# lapack can't handle n_rhs = 0 - so allocate the array one larger in that axis\u001b[39;00m\n\u001b[1;32m   2325\u001b[0m     b \u001b[38;5;241m=\u001b[39m zeros(b\u001b[38;5;241m.\u001b[39mshape[:\u001b[38;5;241m-\u001b[39m\u001b[38;5;241m2\u001b[39m] \u001b[38;5;241m+\u001b[39m (m, n_rhs \u001b[38;5;241m+\u001b[39m \u001b[38;5;241m1\u001b[39m), dtype\u001b[38;5;241m=\u001b[39mb\u001b[38;5;241m.\u001b[39mdtype)\n\u001b[0;32m-> 2326\u001b[0m x, resids, rank, s \u001b[38;5;241m=\u001b[39m \u001b[43mgufunc\u001b[49m\u001b[43m(\u001b[49m\u001b[43ma\u001b[49m\u001b[43m,\u001b[49m\u001b[43m \u001b[49m\u001b[43mb\u001b[49m\u001b[43m,\u001b[49m\u001b[43m \u001b[49m\u001b[43mrcond\u001b[49m\u001b[43m,\u001b[49m\u001b[43m \u001b[49m\u001b[43msignature\u001b[49m\u001b[38;5;241;43m=\u001b[39;49m\u001b[43msignature\u001b[49m\u001b[43m,\u001b[49m\u001b[43m \u001b[49m\u001b[43mextobj\u001b[49m\u001b[38;5;241;43m=\u001b[39;49m\u001b[43mextobj\u001b[49m\u001b[43m)\u001b[49m\n\u001b[1;32m   2327\u001b[0m \u001b[38;5;28;01mif\u001b[39;00m m \u001b[38;5;241m==\u001b[39m \u001b[38;5;241m0\u001b[39m:\n\u001b[1;32m   2328\u001b[0m     x[\u001b[38;5;241m.\u001b[39m\u001b[38;5;241m.\u001b[39m\u001b[38;5;241m.\u001b[39m] \u001b[38;5;241m=\u001b[39m \u001b[38;5;241m0\u001b[39m\n",
                        "\u001b[0;31mKeyboardInterrupt\u001b[0m: "
                    ]
                }
            ],
            "source": [
                "from mealpy.swarm_based.PSO import OriginalPSO\n",
                "from mealpy.utils.problem import Problem\n",
                "from mealpy.utils.termination import Termination\n",
                "from mealpy.utils.agent import Agent\n",
                "import mealpy\n",
                "\n",
                "#optim = mealpy.ICA.OriginalICA()\n",
                "optim = mealpy.PSO.OriginalPSO()\n",
                "\n",
                "termination = Termination(max_epoch=300, max_fe=None, max_time=None, max_early_stop=100)\n",
                "\n",
                "bounds = mealpy.FloatVar(lb=np.zeros(len(input_offsets)), ub=np.ones(len(input_offsets)))\n",
                "\n",
                "problem = Problem(obj_func=eval_func, bounds=bounds, minimax=\"min\")\n",
                "\n",
                "best: Agent = optim.solve(\n",
                "    problem,\n",
                "    mode=\"swarm\",\n",
                "    n_workers=5,\n",
                "    termination=termination,\n",
                ")"
            ]
        },
        {
            "cell_type": "code",
            "execution_count": null,
            "metadata": {},
            "outputs": [],
            "source": [
                "np.set_printoptions(precision=4, suppress=True)\n",
                "\n",
                "print(optim.g_best.target.fitness)\n",
                "print(optim.g_best.solution / np.linalg.norm(best.solution))"
            ]
        },
        {
            "cell_type": "code",
            "execution_count": null,
            "metadata": {},
            "outputs": [],
            "source": [
                "#2: 1.48\n",
                "#1: 1.48"
            ]
        },
        {
            "cell_type": "code",
            "execution_count": null,
            "metadata": {},
            "outputs": [],
            "source": [
                "import numpy as np\n",
                "\n",
                "arr = np.asanyarray(\n",
                "    [\n",
                "        [\n",
                "            [np.nan, np.nan],\n",
                "            [1, 1],\n",
                "        ],\n",
                "        [\n",
                "            [2, 2],\n",
                "            [1, 1],\n",
                "        ],\n",
                "    ]\n",
                ")\n",
                "\n",
                "print(arr.shape)\n",
                "\n",
                "print(np.all(np.isfinite(arr), axis=1))"
            ]
        }
    ],
    "metadata": {
        "kernelspec": {
            "display_name": "bio-proj",
            "language": "python",
            "name": "python3"
        },
        "language_info": {
            "codemirror_mode": {
                "name": "ipython",
                "version": 3
            },
            "file_extension": ".py",
            "mimetype": "text/x-python",
            "name": "python",
            "nbconvert_exporter": "python",
            "pygments_lexer": "ipython3",
            "version": "3.10.13"
        }
    },
    "nbformat": 4,
    "nbformat_minor": 2
}
