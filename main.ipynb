{
    "cells": [
        {
            "cell_type": "code",
            "execution_count": 1,
            "metadata": {},
            "outputs": [],
            "source": [
                "import cv2 as cv\n",
                "import numpy as np"
            ]
        },
        {
            "cell_type": "code",
            "execution_count": null,
            "metadata": {},
            "outputs": [],
            "source": [
                "base_path = f\"data/Exp2_GuyGilad_logs_yolo\"\n",
                "input_bboxes_path = f\"{base_path}/bboxes2.csv\""
            ]
        },
        {
            "cell_type": "code",
            "execution_count": null,
            "metadata": {},
            "outputs": [],
            "source": [
                "from sim.simulator import *\n",
                "from sim.sim_controllers import *\n",
                "from sim.config import *\n",
                "\n",
                "experiment_config = ExperimentConfig.load_json(f\"{base_path}/experiment_config.json\")\n",
                "# yolo_config = YoloConfig.load_json(f\"{base_path}/yolo_config.json\")\n",
                "\n",
                "time_config = TimingConfig(\n",
                "    imaging_time_ms=100,\n",
                "    pred_time_ms=15,\n",
                "    moving_time_ms=50,\n",
                "    camera_size_mm=(4, 4),\n",
                "    micro_size_mm=(0.22, 0.22),\n",
                "    experiment_config=experiment_config,\n",
                ")\n",
                "\n",
                "log_config = LogConfig(\n",
                "    root_folder=\"logs\",\n",
                "    save_mic_view=False,\n",
                "    save_cam_view=False,\n",
                "    save_err_view=False,\n",
                ")"
            ]
        },
        {
            "cell_type": "code",
            "execution_count": null,
            "metadata": {},
            "outputs": [],
            "source": [
                "time_config.save_json(\"logs/time_config.json\")"
            ]
        },
        {
            "cell_type": "code",
            "execution_count": null,
            "metadata": {},
            "outputs": [],
            "source": [
                "from pprint import pprint\n",
                "\n",
                "pprint(time_config)"
            ]
        },
        {
            "cell_type": "code",
            "execution_count": null,
            "metadata": {},
            "outputs": [],
            "source": [
                "poly_config = PolyfitConfig(\n",
                "    degree=1,\n",
                "    sample_times=[\n",
                "        0,\n",
                "        5,\n",
                "        9,\n",
                "        -time_config.cycle_frame_num + 0,\n",
                "        -time_config.cycle_frame_num + 5,\n",
                "        -time_config.cycle_frame_num + 9,\n",
                "        -2 * time_config.cycle_frame_num + 0,\n",
                "        -2 * time_config.cycle_frame_num + 5,\n",
                "        -2 * time_config.cycle_frame_num + 9,\n",
                "    ],\n",
                "    weights=[0.064, 0.0, 0.0, 0.001, 0.0, 0.001, 0.698, 0.0, 0.713],\n",
                ")"
            ]
        },
        {
            "cell_type": "code",
            "execution_count": null,
            "metadata": {},
            "outputs": [],
            "source": [
                "from sim.motor_controllers import *\n",
                "from sim.sim_controllers import *\n",
                "import torch\n",
                "\n",
                "# sim_controller = YoloController(time_config, yolo_config)\n",
                "# sim_controller = SpeedController(time_config, input_bboxes_path)\n",
                "sim_controller = PolyfitController(time_config, poly_config, input_bboxes_path)\n",
                "# sim_controller = OptimalController(time_config, input_bboxes_path)\n",
                "# sim_controller = CsvController(time_config, input_bboxes_path)\n",
                "model = torch.load(\"data/mlpRELU\")\n",
                "sim_controller = MLPController(time_config, input_bboxes_path, model)\n",
                "log_controller = LoggingController(sim_controller, log_config)\n",
                "\n",
                "motor = SineMotorController(time_config)\n",
                "sim = Simulator(\n",
                "    time_config,\n",
                "    experiment_config,\n",
                "    log_controller,\n",
                "    reader=None,\n",
                "    motor_controller=motor,\n",
                ")"
            ]
        },
        {
            "cell_type": "code",
            "execution_count": null,
            "metadata": {},
            "outputs": [],
            "source": [
                "sim.run(visualize=False, wait_key=False)"
            ]
        },
        {
            "cell_type": "code",
            "execution_count": null,
            "metadata": {},
            "outputs": [],
            "source": [
                "from eval.analysis import Plotter\n",
                "from sim.config import *\n",
                "\n",
                "pltr = Plotter(f\"logs/bboxes.csv\", time_config)\n",
                "pltr.plot_area_vs_speed(min_speed=0.0)"
            ]
        },
        {
            "cell_type": "code",
            "execution_count": null,
            "metadata": {},
            "outputs": [],
            "source": [
                "plot = pltr.plot_deviation(n=12)"
            ]
        },
        {
            "cell_type": "code",
            "execution_count": null,
            "metadata": {},
            "outputs": [],
            "source": [
                "pltr.plot_jointplot(x_col=\"wrm_w\", y_col=\"wrm_h\", kind=\"hist\")"
            ]
        },
        {
            "cell_type": "code",
            "execution_count": null,
            "metadata": {},
            "outputs": [],
            "source": [
                "pltr.plot_histogram(\"wrm_speed\", 10)"
            ]
        },
        {
            "cell_type": "code",
            "execution_count": null,
            "metadata": {},
            "outputs": [],
            "source": [
                "cv.destroyAllWindows()\n",
                "raise Exception(\"Finished\")"
            ]
        }
    ],
    "metadata": {
        "kernelspec": {
            "display_name": "bio-proj",
            "language": "python",
            "name": "python3"
        },
        "language_info": {
            "codemirror_mode": {
                "name": "ipython",
                "version": 3
            },
            "file_extension": ".py",
            "mimetype": "text/x-python",
            "name": "python",
            "nbconvert_exporter": "python",
            "pygments_lexer": "ipython3",
            "version": "3.10.13"
        }
    },
    "nbformat": 4,
    "nbformat_minor": 2
}
