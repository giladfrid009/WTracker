{
    "cells": [
        {
            "cell_type": "code",
            "execution_count": 9,
            "metadata": {},
            "outputs": [],
            "source": [
                "import cv2 as cv\n",
                "import numpy as np"
            ]
        },
        {
            "cell_type": "code",
            "execution_count": 10,
            "metadata": {},
            "outputs": [],
            "source": [
                "from evaluation.config import *\n",
                "\n",
                "time_config = TimingConfig(\n",
                "    frames_per_sec=60,\n",
                "    imaging_time_ms=200,\n",
                "    pred_time_ms=40,\n",
                "    moving_time_ms=50,\n",
                "    px_per_mm=90,\n",
                "    camera_size_mm=(4, 4),\n",
                "    micro_size_mm=(0.225, 0.225),\n",
                ")"
            ]
        },
        {
            "cell_type": "code",
            "execution_count": 11,
            "metadata": {},
            "outputs": [
                {
                    "name": "stdout",
                    "output_type": "stream",
                    "text": [
                        "Correlation Coefficient: 0.67\n",
                        "Correlation Slope: 0.50\n"
                    ]
                },
                {
                    "data": {
                        "text/html": [
                            "<div>\n",
                            "<style scoped>\n",
                            "    .dataframe tbody tr th:only-of-type {\n",
                            "        vertical-align: middle;\n",
                            "    }\n",
                            "\n",
                            "    .dataframe tbody tr th {\n",
                            "        vertical-align: top;\n",
                            "    }\n",
                            "\n",
                            "    .dataframe thead th {\n",
                            "        text-align: right;\n",
                            "    }\n",
                            "</style>\n",
                            "<table border=\"1\" class=\"dataframe\">\n",
                            "  <thead>\n",
                            "    <tr style=\"text-align: right;\">\n",
                            "      <th></th>\n",
                            "      <th>wrm_speed</th>\n",
                            "      <th>bbox_area_diff</th>\n",
                            "    </tr>\n",
                            "  </thead>\n",
                            "  <tbody>\n",
                            "    <tr>\n",
                            "      <th>count</th>\n",
                            "      <td>4078.000000</td>\n",
                            "      <td>4078.000000</td>\n",
                            "    </tr>\n",
                            "    <tr>\n",
                            "      <th>mean</th>\n",
                            "      <td>0.292169</td>\n",
                            "      <td>0.050093</td>\n",
                            "    </tr>\n",
                            "    <tr>\n",
                            "      <th>std</th>\n",
                            "      <td>0.147318</td>\n",
                            "      <td>0.108790</td>\n",
                            "    </tr>\n",
                            "    <tr>\n",
                            "      <th>min</th>\n",
                            "      <td>0.072320</td>\n",
                            "      <td>0.000000</td>\n",
                            "    </tr>\n",
                            "    <tr>\n",
                            "      <th>10%</th>\n",
                            "      <td>0.142816</td>\n",
                            "      <td>0.000000</td>\n",
                            "    </tr>\n",
                            "    <tr>\n",
                            "      <th>20%</th>\n",
                            "      <td>0.170476</td>\n",
                            "      <td>0.000000</td>\n",
                            "    </tr>\n",
                            "    <tr>\n",
                            "      <th>30%</th>\n",
                            "      <td>0.199372</td>\n",
                            "      <td>0.000000</td>\n",
                            "    </tr>\n",
                            "    <tr>\n",
                            "      <th>40%</th>\n",
                            "      <td>0.231870</td>\n",
                            "      <td>0.000000</td>\n",
                            "    </tr>\n",
                            "    <tr>\n",
                            "      <th>50%</th>\n",
                            "      <td>0.263175</td>\n",
                            "      <td>0.000000</td>\n",
                            "    </tr>\n",
                            "    <tr>\n",
                            "      <th>60%</th>\n",
                            "      <td>0.298188</td>\n",
                            "      <td>0.003542</td>\n",
                            "    </tr>\n",
                            "    <tr>\n",
                            "      <th>70%</th>\n",
                            "      <td>0.335159</td>\n",
                            "      <td>0.036526</td>\n",
                            "    </tr>\n",
                            "    <tr>\n",
                            "      <th>80%</th>\n",
                            "      <td>0.385578</td>\n",
                            "      <td>0.080276</td>\n",
                            "    </tr>\n",
                            "    <tr>\n",
                            "      <th>90%</th>\n",
                            "      <td>0.472344</td>\n",
                            "      <td>0.156189</td>\n",
                            "    </tr>\n",
                            "    <tr>\n",
                            "      <th>max</th>\n",
                            "      <td>1.460370</td>\n",
                            "      <td>1.000000</td>\n",
                            "    </tr>\n",
                            "  </tbody>\n",
                            "</table>\n",
                            "</div>"
                        ],
                        "text/plain": [
                            "         wrm_speed  bbox_area_diff\n",
                            "count  4078.000000     4078.000000\n",
                            "mean      0.292169        0.050093\n",
                            "std       0.147318        0.108790\n",
                            "min       0.072320        0.000000\n",
                            "10%       0.142816        0.000000\n",
                            "20%       0.170476        0.000000\n",
                            "30%       0.199372        0.000000\n",
                            "40%       0.231870        0.000000\n",
                            "50%       0.263175        0.000000\n",
                            "60%       0.298188        0.003542\n",
                            "70%       0.335159        0.036526\n",
                            "80%       0.385578        0.080276\n",
                            "90%       0.472344        0.156189\n",
                            "max       1.460370        1.000000"
                        ]
                    },
                    "metadata": {},
                    "output_type": "display_data"
                },
                {
                    "data": {
                        "image/png": "[encoded data removed]",
                        "text/plain": [
                            "<Figure size 800x600 with 1 Axes>"
                        ]
                    },
                    "metadata": {},
                    "output_type": "display_data"
                }
            ],
            "source": [
                "from evaluation.analysis import Plotter\n",
                "plt = Plotter(\"logs2/bboxes.csv\", time_config)\n",
                "plt.plot_area_vs_speed()"
            ]
        },
        {
            "cell_type": "code",
            "execution_count": null,
            "metadata": {},
            "outputs": [],
            "source": [
                "cv.destroyAllWindows()\n",
                "raise Exception(\"Finished\")"
            ]
        },
        {
            "cell_type": "code",
            "execution_count": 1,
            "metadata": {},
            "outputs": [
                {
                    "data": {
                        "text/plain": [
                            "' time_config = TimingConfig.load_json(\"logs/time_config.json\")\\nlog_config = LogConfig.load_json(\"logs/log_config.json\")\\nyolo_config = YoloConfig.load_json(\"logs/yolo_config.json\") '"
                        ]
                    },
                    "execution_count": 1,
                    "metadata": {},
                    "output_type": "execute_result"
                }
            ],
            "source": [
                "from evaluation.simulator import *\n",
                "from evaluation.sim_controllers import *\n",
                "from utils.path_utils import Files\n",
                "from evaluation.config import *\n",
                "\n",
                "experiment_config = ExperimentConfig(\n",
                "    name=\"exp1\",\n",
                "    num_frames=61200,\n",
                "    frames_per_sec=60,\n",
                "    orig_resolution=(1920, 1080),\n",
                "    px_per_mm=90,\n",
                "    init_position=(1300, 1200),\n",
                ")\n",
                "\n",
                "\"\"\" experiment_config = ExperimentConfig(\n",
                "    name=\"exp1\",\n",
                "    num_frames=1200,\n",
                "    frames_per_sec=60,\n",
                "    orig_resolution=(1920, 1080),\n",
                "    px_per_mm=90,\n",
                "    init_position=(1300, 1200),\n",
                ") \"\"\"\n",
                "\n",
                "time_config = TimingConfig(\n",
                "    frames_per_sec=60,\n",
                "    imaging_time_ms=200,\n",
                "    pred_time_ms=40,\n",
                "    moving_time_ms=50,\n",
                "    px_per_mm=90,\n",
                "    camera_size_mm=(4, 4),\n",
                "    micro_size_mm=(0.225, 0.225),\n",
                ")\n",
                "\n",
                "log_config = LogConfig(\n",
                "    root_folder=\"logs2/\",\n",
                "    save_mic_view=False,\n",
                "    save_cam_view=False,\n",
                "    save_err_view=False,\n",
                ")\n",
                "\n",
                "yolo_config = YoloConfig(\n",
                "    model_path=\"yolov8m-trained.pt\",\n",
                "    verbose=True,\n",
                ")\n",
                "\n",
                "log_config.create_dirs()\n",
                "\n",
                "\n",
                "\"\"\" time_config.save_json(\"logs/time_config.json\")\n",
                "log_config.save_json(\"logs/log_config.json\")\n",
                "yolo_config.save_json(\"logs/yolo_config.json\") \n",
                "experiment_config.save_json(\"logs/experiment_config.json\") \"\"\"\n",
                "\n",
                "\"\"\"\n",
                "frames_path = \"Archive/\"\n",
                "files = Files(frames_path, extension=\"Bmp\", sorting_key=lambda f: int(f.split(\"-\")[-1].split(\".\")[0]))\n",
                "files_list = [file for file in files]\n",
                "reader = FrameReader(frames_path, files_list) \"\"\"\n",
                "\n",
                "# reader = FrameReader.create_from_directory(\"/mnt/c/Users/freid/Desktop/eval/micro\")\n",
                "\n",
                "\n",
                "\"\"\" time_config = TimingConfig.load_json(\"logs/time_config.json\")\n",
                "log_config = LogConfig.load_json(\"logs/log_config.json\")\n",
                "yolo_config = YoloConfig.load_json(\"logs/yolo_config.json\") \"\"\""
            ]
        },
        {
            "cell_type": "code",
            "execution_count": null,
            "metadata": {},
            "outputs": [],
            "source": [
                "print(time_config.imaging_frame_num + time_config.moving_frame_num)"
            ]
        },
        {
            "cell_type": "code",
            "execution_count": 7,
            "metadata": {},
            "outputs": [],
            "source": [
                "from evaluation.sim_controllers.test_controller1 import TestController1\n",
                "from evaluation.sim_controllers.polyfit_controller import PolyfitController\n",
                "\n",
                "# sim_controller = YoloController(time_config, yolo_config)\n",
                "sim_controller = TestController1(time_config, \"bboxes.csv\")\n",
                "\n",
                "#sim_controller = PolyfitController(time_config, \"bboxes.csv\", degree=1)\n",
                "#sim_controller = OptimalController(time_config, \"bboxes.csv\")\n",
                "#sim_controller = CsvController(time_config, \"bboxes.csv\")\n",
                "log_controller = LoggingController(sim_controller, log_config)\n",
                "sim = Simulator(time_config, experiment_config, log_controller)"
            ]
        },
        {
            "cell_type": "code",
            "execution_count": 8,
            "metadata": {},
            "outputs": [
                {
                    "data": {
                        "application/vnd.jupyter.widget-view+json": {
                            "model_id": "91784933687c498a9b1c73a7611d9d19",
                            "version_major": 2,
                            "version_minor": 0
                        },
                        "text/plain": [
                            "Simulation Progress:   0%|          | 0/4080 [00:00<?, ?cycle/s]"
                        ]
                    },
                    "metadata": {},
                    "output_type": "display_data"
                }
            ],
            "source": [
                "sim.run(visualize=False)"
            ]
        },
        {
            "cell_type": "code",
            "execution_count": null,
            "metadata": {},
            "outputs": [],
            "source": [
                "from cProfile import Profile\n",
                "from pstats import Stats, SortKey\n",
                "\n",
                "with Profile() as pr:\n",
                "    sim.run(visualize=False)\n",
                "    Stats(pr).sort_stats(SortKey.CUMULATIVE).print_stats()"
            ]
        },
        {
            "cell_type": "code",
            "execution_count": null,
            "metadata": {},
            "outputs": [],
            "source": [
                "cv.destroyAllWindows()\n",
                "raise Exception(\"Finished\")"
            ]
        },
        {
            "cell_type": "code",
            "execution_count": null,
            "metadata": {},
            "outputs": [],
            "source": [
                "from frame_reader import FrameReader\n",
                "\n",
                "reader = FrameReader.create_from_directory(\"Archive/\")"
            ]
        },
        {
            "cell_type": "code",
            "execution_count": null,
            "metadata": {},
            "outputs": [],
            "source": [
                "from dataset.create.box_calculator import BoxCalculator\n",
                "from dataset.create.sample_extractor import SampleExtractor\n",
                "\n",
                "bbox_calc = BoxCalculator(reader)\n",
                "extractor = SampleExtractor(bbox_calc)\n",
                "extractor.create_all_samples(target_size=(400, 400), save_folder=\"samples\")"
            ]
        },
        {
            "cell_type": "code",
            "execution_count": null,
            "metadata": {},
            "outputs": [],
            "source": [
                "import pandas as pd\n",
                "import numpy as np\n",
                "\n",
                "from evaluation.simulator import *\n",
                "from dataset.bbox_utils import *\n",
                "\n",
                "\n",
                "np.set_printoptions(precision=2)\n",
                "\n",
                "class PolyEvaluator:\n",
                "    def __init__(\n",
                "        self,\n",
                "        csv_path: str,\n",
                "        timing_config: TimingConfig,\n",
                "        input_offsets: np.ndarray,\n",
                "        start_times: np.ndarray,\n",
                "        eval_offset: int,\n",
                "    ):\n",
                "        self.timing_config = timing_config\n",
                "        self.eval_offset = eval_offset\n",
                "\n",
                "        bboxes = pd.read_csv(csv_path, usecols=[\"wrm_x\", \"wrm_y\", \"wrm_w\", \"wrm_h\"]).to_numpy(dtype=float)\n",
                "\n",
                "        self.positions = np.empty((len(bboxes), 2), dtype=float)\n",
                "        self.positions[:, 0] = bboxes[:, 0] + bboxes[:, 2] / 2\n",
                "        self.positions[:, 1] = bboxes[:, 1] + bboxes[:, 3] / 2\n",
                "\n",
                "        self.input_offsets = np.sort(input_offsets)\n",
                "        self.start_times = start_times\n",
                "\n",
                "        self._initialize()\n",
                "\n",
                "    def _initialize(self):\n",
                "        N = self.input_offsets.shape[0]\n",
                "\n",
                "        # create data arrays\n",
                "        input_times = np.repeat(self.start_times, repeats=N) + np.tile(self.input_offsets, reps=self.start_times.shape[0]) \n",
                "        input_pos = self.positions[input_times, :]  \n",
                "        dst_times = self.start_times + self.eval_offset\n",
                "        dst_pos = self.positions[dst_times, :]\n",
                "\n",
                "        # remove invalid positions according to dst\n",
                "        dst_mask = np.all(np.isfinite(dst_pos), axis=-1)\n",
                "        mask = np.repeat(dst_mask, repeats=N, axis=0)\n",
                "        input_pos = input_pos[mask, :]\n",
                "        dst_pos = dst_pos[dst_mask, :]\n",
                "\n",
                "        # remove invalid positions according to input\n",
                "        input_mask = np.isfinite(input_pos).reshape(-1, N, 2)\n",
                "        input_mask = np.all(np.all(input_mask, axis=-1), axis=-1)\n",
                "\n",
                "        input_pos = input_pos.reshape(-1, N, 2)\n",
                "        input_pos = input_pos[input_mask, :, :]\n",
                "        dst_pos = dst_pos[input_mask, :]\n",
                "\n",
                "        self.x_input = self.input_offsets.reshape(N)\n",
                "        self.y_input = input_pos.swapaxes(0, 1).reshape(N, -1)\n",
                "        self.x_target = np.asanyarray([self.eval_offset])\n",
                "        self.y_target = dst_pos.reshape(-1)\n",
                "\n",
                "    def polyval(self, coeffs: np.ndarray, x: np.ndarray) -> np.ndarray:\n",
                "        \"\"\"\n",
                "        Evaluate a polynomial at given values.\n",
                "\n",
                "        Args:\n",
                "            coeffs (np.ndarray): Coefficients of the polynomial. Coefficients at decreasing order. Should have shape [deg+1, N].\n",
                "            x (np.ndarray): Values at which to evaluate the polynomial. Should have shape [N].\n",
                "\n",
                "        Returns:\n",
                "            np.ndarray: The result of evaluating the polynomial at the given values. Shape is [N].\n",
                "\n",
                "        \"\"\"\n",
                "        coeffs = coeffs.swapaxes(0, 1)\n",
                "        van = np.vander(x, N=coeffs.shape[1], increasing=False)\n",
                "        return np.sum(van * coeffs, axis=-1)\n",
                "\n",
                "    def eval(self, weights: np.ndarray, deg: int = 2) -> float:\n",
                "        \"\"\"\n",
                "        Evaluate the mean absolute error (MAE) of the polynomial fit.\n",
                "\n",
                "        Args:\n",
                "            weights (np.ndarray): The weights used for the polynomial fit. Should have shape [N].\n",
                "            deg (int, optional): The degree of the polynomial fit. Defaults to 2.\n",
                "\n",
                "        Returns:\n",
                "            float: The mean squared error (MSE) of the polynomial fit.\n",
                "        \"\"\"\n",
                "        coeffs = np.polyfit(self.x_input, self.y_input, deg=deg, w=weights)\n",
                "        x_target = np.broadcast_to(self.x_target, shape=(coeffs.shape[1],))\n",
                "        y_hat = self.polyval(coeffs, x_target)\n",
                "        mae = np.mean(np.abs(self.y_target - y_hat))\n",
                "        return mae"
            ]
        },
        {
            "cell_type": "code",
            "execution_count": null,
            "metadata": {},
            "outputs": [],
            "source": [
                "# input_offsets = np.asanyarray([0, 3, 6, 9])\n",
                "\n",
                "input_offsets = np.asanyarray(\n",
                "    [\n",
                "        0,\n",
                "        5,\n",
                "        9,\n",
                "        time_config.cycle_length + 0,\n",
                "        time_config.cycle_length + 5,\n",
                "        time_config.cycle_length + 9,\n",
                "        2 * time_config.cycle_length + 0,\n",
                "        2 * time_config.cycle_length + 5,\n",
                "        2 * time_config.cycle_length + 9,\n",
                "    ]\n",
                ")\n",
                "\n",
                "start_times = np.arange(60000 // time_config.cycle_length) * time_config.cycle_length\n",
                "# start_times = np.concatenate((start_times, np.array([21997 - 18])))\n",
                "\n",
                "evaluator = PolyEvaluator(\n",
                "    \"bboxes.csv\",\n",
                "    time_config,\n",
                "    input_offsets=input_offsets,\n",
                "    start_times=start_times,\n",
                "    eval_offset=3 * time_config.cycle_length + time_config.imaging_frame_num // 2,\n",
                ")"
            ]
        },
        {
            "cell_type": "code",
            "execution_count": null,
            "metadata": {},
            "outputs": [],
            "source": [
                "def eval_func(weights: np.ndarray) -> float:\n",
                "    return evaluator.eval(weights, deg=3)"
            ]
        },
        {
            "cell_type": "code",
            "execution_count": null,
            "metadata": {},
            "outputs": [],
            "source": [
                "from mealpy.swarm_based.PSO import OriginalPSO\n",
                "from mealpy.utils.problem import Problem\n",
                "from mealpy.utils.termination import Termination\n",
                "from mealpy.utils.agent import Agent\n",
                "import mealpy\n",
                "\n",
                "#optim = mealpy.ICA.OriginalICA()\n",
                "optim = mealpy.PSO.OriginalPSO()\n",
                "\n",
                "termination = Termination(max_epoch=300, max_fe=None, max_time=None, max_early_stop=100)\n",
                "\n",
                "bounds = mealpy.FloatVar(lb=np.zeros(len(input_offsets)), ub=np.ones(len(input_offsets)))\n",
                "\n",
                "problem = Problem(obj_func=eval_func, bounds=bounds, minimax=\"min\")\n",
                "\n",
                "best: Agent = optim.solve(\n",
                "    problem,\n",
                "    mode=\"swarm\",\n",
                "    n_workers=5,\n",
                "    termination=termination,\n",
                ")"
            ]
        },
        {
            "cell_type": "code",
            "execution_count": null,
            "metadata": {},
            "outputs": [],
            "source": [
                "np.set_printoptions(precision=4, suppress=True)\n",
                "\n",
                "print(optim.g_best.target.fitness)\n",
                "print(optim.g_best.solution / np.linalg.norm(best.solution))"
            ]
        },
        {
            "cell_type": "code",
            "execution_count": null,
            "metadata": {},
            "outputs": [],
            "source": [
                "#2: 1.48\n",
                "#1: 1.48"
            ]
        },
        {
            "cell_type": "code",
            "execution_count": null,
            "metadata": {},
            "outputs": [],
            "source": [
                "import numpy as np\n",
                "\n",
                "arr = np.asanyarray(\n",
                "    [\n",
                "        [\n",
                "            [np.nan, np.nan],\n",
                "            [1, 1],\n",
                "        ],\n",
                "        [\n",
                "            [2, 2],\n",
                "            [1, 1],\n",
                "        ],\n",
                "    ]\n",
                ")\n",
                "\n",
                "print(arr.shape)\n",
                "\n",
                "print(np.all(np.isfinite(arr), axis=1))"
            ]
        }
    ],
    "metadata": {
        "kernelspec": {
            "display_name": "bio-proj",
            "language": "python",
            "name": "python3"
        },
        "language_info": {
            "codemirror_mode": {
                "name": "ipython",
                "version": 3
            },
            "file_extension": ".py",
            "mimetype": "text/x-python",
            "name": "python",
            "nbconvert_exporter": "python",
            "pygments_lexer": "ipython3",
            "version": "3.10.13"
        }
    },
    "nbformat": 4,
    "nbformat_minor": 2
}
