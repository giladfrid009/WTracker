{
    "cells": [
        {
            "cell_type": "code",
            "execution_count": null,
            "metadata": {},
            "outputs": [],
            "source": [
                "import cv2 as cv\n",
                "import numpy as np"
            ]
        },
        {
            "cell_type": "code",
            "execution_count": null,
            "metadata": {},
            "outputs": [],
            "source": [
                "from evaluation.analysis import Plotter\n",
                "\n",
                "plt = Plotter(\"logs/bboxes.csv\")"
            ]
        },
        {
            "cell_type": "code",
            "execution_count": null,
            "metadata": {},
            "outputs": [],
            "source": [
                "plt._data.dtypes"
            ]
        },
        {
            "cell_type": "code",
            "execution_count": null,
            "metadata": {},
            "outputs": [],
            "source": [
                "import pandas as pd\n",
                "import numpy as np\n",
                "import matplotlib.pyplot as plt\n",
                "\n",
                "\n",
                "def calc_bbox_edge_diff(worm_boxes: np.ndarray, mic_boxes: np.ndarray) -> np.ndarray:\n",
                "    \"\"\"\n",
                "    Calculate the length difference between the edges of the worm's bounding boxes and the microscope's bounding boxes.\n",
                "\n",
                "    Args:\n",
                "        worm_boxes (numpy.ndarray): Array of (x, y, width, height) tuples for the worm's bounding boxes\n",
                "        mic_boxes (numpy.ndarray): Array of (x, y, width, height) tuples for the microscope's bounding boxes\n",
                "\n",
                "    Returns:\n",
                "        numpy.ndarray: Array of length differences between the edges of the bounding boxes\n",
                "    \"\"\"\n",
                "    worm_left, worm_right = worm_boxes[:, 0], worm_boxes[:, 0] + worm_boxes[:, 2]\n",
                "    worm_top, worm_bottom = worm_boxes[:, 1], worm_boxes[:, 1] + worm_boxes[:, 3]\n",
                "    mic_left, mic_right = mic_boxes[:, 0], mic_boxes[:, 0] + mic_boxes[:, 2]\n",
                "    mic_top, mic_bottom = mic_boxes[:, 1], mic_boxes[:, 1] + mic_boxes[:, 3]\n",
                "\n",
                "    # Calculate the length difference between the edges of the bounding boxes\n",
                "    x_diff = np.maximum(0, np.maximum(worm_right - mic_right, mic_left - worm_left))\n",
                "    y_diff = np.maximum(0, np.maximum(worm_bottom - mic_bottom, mic_top - worm_top))\n",
                "\n",
                "    return np.maximum(x_diff, y_diff)\n",
                "\n",
                "\n",
                "def remove_invalid_data(data: pd.DataFrame) -> pd.DataFrame:\n",
                "    \"\"\"\n",
                "    Remove rows with negative bounding box coordinates or dimensions.\n",
                "    \"\"\"\n",
                "\n",
                "    # Filter the dataframe to keep only rows during micro imaging\n",
                "    data = data[data[\"phase\"] == \"imaging\"]\n",
                "\n",
                "    # Check if any row within each cycle has negative values in 'worm' columns\n",
                "    has_negative = data.groupby(\"cycle\")[[\"wrm_x\", \"wrm_y\", \"wrm_w\", \"wrm_h\"]].transform(\"min\").lt(0).any(axis=1)\n",
                "\n",
                "    # Filter the dataframe to keep only cycles without negative values\n",
                "    filtered_df = data[~has_negative].copy()\n",
                "\n",
                "    return filtered_df\n",
                "\n",
                "\n",
                "def add_speed_and_diff(data: pd.DataFrame):\n",
                "    \"\"\"\n",
                "    Add the bounding box edge difference and worm speed to the data.\n",
                "    \"\"\"\n",
                "    # Convert bounding box coordinates and dimensions to NumPy arrays\n",
                "    worm_boxes = data[[\"wrm_x\", \"wrm_y\", \"wrm_w\", \"wrm_h\"]].values\n",
                "    mic_boxes = data[[\"mic_x\", \"mic_y\", \"mic_w\", \"mic_h\"]].values\n",
                "\n",
                "    # Calculate bbox edge difference\n",
                "    data[\"bbox_edge_diff\"] = calc_bbox_edge_diff(worm_boxes, mic_boxes)\n",
                "\n",
                "    # Calculate worm speed and set it to 0 if frame values are not consecutive\n",
                "    data[\"wrm_speed\"] = np.sqrt(\n",
                "        (data[\"wrm_x\"].shift(-1) - data[\"wrm_x\"]) ** 2 + (data[\"wrm_y\"].shift(-1) - data[\"wrm_y\"]) ** 2\n",
                "    )\n",
                "    data.loc[data[\"frame\"].diff().shift(-1) != 1, \"wrm_speed\"] = 0\n",
                "\n",
                "    return data\n",
                "\n",
                "\n",
                "def get_cycle_stats(data: pd.DataFrame) -> pd.DataFrame:\n",
                "    \"\"\"\n",
                "    Group the data by cycle and calculate maximum bbox edge difference and average worm speed.\n",
                "    \"\"\"\n",
                "    return (\n",
                "        data.groupby(\"cycle\")[[\"bbox_edge_diff\", \"wrm_speed\"]]\n",
                "        .agg({\"bbox_edge_diff\": \"max\", \"wrm_speed\": \"mean\"})\n",
                "        .reset_index()\n",
                "    )\n",
                "\n",
                "\n",
                "def plot_error_vs_speed(cycle_stats: pd.DataFrame):\n",
                "    \"\"\"\n",
                "    Plot the maximum bounding box edge difference versus the average worm speed for each cycle.\n",
                "    \"\"\"\n",
                "    plt.figure(figsize=(8, 6))\n",
                "    plt.scatter(cycle_stats[\"wrm_speed\"], cycle_stats[\"bbox_edge_diff\"], s=20, alpha=0.5)\n",
                "    plt.xlabel(\"Average Worm Speed\", fontsize=14)\n",
                "    plt.ylabel(\"Maximum Bounding Box Edge Difference\", fontsize=14)\n",
                "    plt.title(\"Maximum Bounding Box Edge Difference vs. Average Worm Speed\", fontsize=16)\n",
                "    plt.tight_layout()\n",
                "    plt.show()"
            ]
        },
        {
            "cell_type": "code",
            "execution_count": null,
            "metadata": {},
            "outputs": [],
            "source": [
                "\n",
                "# Main execution\n",
                "data = pd.read_csv('logs/bboxes.csv')\n",
                "data = remove_invalid_data(data)\n",
                "data = add_speed_and_diff(data)\n",
                "cycle_stats = get_cycle_stats(data)\n",
                "plot_error_vs_speed(cycle_stats)\n",
                "\n",
                "display(cycle_stats)"
            ]
        },
        {
            "cell_type": "code",
            "execution_count": null,
            "metadata": {},
            "outputs": [],
            "source": [
                "cv.destroyAllWindows()\n",
                "raise Exception(\"Finished\")"
            ]
        },
        {
            "cell_type": "code",
            "execution_count": null,
            "metadata": {},
            "outputs": [],
            "source": [
                "from evaluation.simulator import *\n",
                "from evaluation.sim_controllers import *\n",
                "\n",
                "\"\"\" time_config = TimingConfig(\n",
                "    frames_per_sec=60,\n",
                "    imaging_time_ms=200,\n",
                "    pred_time_ms=40,\n",
                "    moving_time_ms=50,\n",
                "    px_per_mm=90,\n",
                "    camera_size_mm=(4, 4),\n",
                "    micro_size_mm=(0.225, 0.225),\n",
                "    init_position=(0, 2400),\n",
                "    frame_padding_value=(255, 255, 255),\n",
                ")\n",
                "\n",
                "log_config = LogConfig(\n",
                "    root_folder=\"logs/\",\n",
                "    save_mic_view=True,\n",
                "    save_cam_view=True,\n",
                ")\n",
                "\n",
                "yolo_config = YoloConfig(model_path=\"yolov8m-trained.pt\") \n",
                "\n",
                "time_config.save_json(\"logs/time_config.json\")\n",
                "log_config.save_json(\"logs/log_config.json\")\n",
                "yolo_config.save_json(\"logs/yolo_config.json\")\n",
                "\"\"\"\n",
                "\n",
                "frames_path = \"Archive/\"\n",
                "reader = FrameReader.create_from_directory(frames_path)\n",
                "\n",
                "time_config = TimingConfig.load_json(\"logs/time_config.json\")\n",
                "log_config = LogConfig.load_json(\"logs/log_config.json\")\n",
                "yolo_config = YoloConfig.load_json(\"logs/yolo_config.json\")\n"
            ]
        },
        {
            "cell_type": "code",
            "execution_count": null,
            "metadata": {},
            "outputs": [],
            "source": [
                "print(time_config.imaging_frame_num + time_config.moving_frame_num)"
            ]
        },
        {
            "cell_type": "code",
            "execution_count": null,
            "metadata": {},
            "outputs": [],
            "source": [
                "\n",
                "controller = LoggingController(time_config, yolo_config, log_config)\n",
                "#controller = YoloController(time_config, yolo_config)\n",
                "sim = Simulator(time_config, reader, controller)"
            ]
        },
        {
            "cell_type": "code",
            "execution_count": null,
            "metadata": {},
            "outputs": [],
            "source": [
                "sim.run()"
            ]
        },
        {
            "cell_type": "code",
            "execution_count": null,
            "metadata": {},
            "outputs": [],
            "source": [
                "cv.destroyAllWindows()\n",
                "raise Exception(\"Finished\")"
            ]
        },
        {
            "cell_type": "code",
            "execution_count": null,
            "metadata": {},
            "outputs": [],
            "source": [
                "from frame_reader import FrameReader\n",
                "\n",
                "reader = FrameReader.create_from_directory(\"Archive/\")"
            ]
        },
        {
            "cell_type": "code",
            "execution_count": null,
            "metadata": {},
            "outputs": [],
            "source": [
                "from dataset.create.box_calculator import BoxCalculator\n",
                "from dataset.create.sample_extractor import SampleExtractor\n",
                "\n",
                "bbox_calc = BoxCalculator(reader)\n",
                "extractor = SampleExtractor(bbox_calc)\n",
                "extractor.create_all_samples(target_size=(400, 400), save_folder=\"samples\")"
            ]
        },
        {
            "cell_type": "code",
            "execution_count": null,
            "metadata": {},
            "outputs": [],
            "source": [
                "# TODO: IMPROVE\n",
                "def find_boxes(image: np.ndarray) -> np.ndarray:\n",
                "    # increase contrast of original image\n",
                "    image = cv.cvtColor(image, cv.COLOR_BGR2GRAY)\n",
                "\n",
                "    # remove gaussian noise\n",
                "    smoothed = cv.GaussianBlur(image, (3, 3), 0)\n",
                "\n",
                "    # apply threshold to image to convert it into black & white\n",
                "    _, mask = cv.threshold(smoothed, 160, 255, cv.THRESH_BINARY_INV)\n",
                "\n",
                "    # do some morphological magic to clean up noise from the mask\n",
                "    kernel = np.ones((5, 5), np.uint8)\n",
                "    mask = cv.morphologyEx(mask, cv.MORPH_OPEN, kernel)\n",
                "\n",
                "    # dilate to increase all object sizes in the mask\n",
                "    kernel = np.ones((3, 3), np.uint8)\n",
                "    mask = cv.dilate(mask, kernel, iterations=5)\n",
                "\n",
                "    image[mask == 0] = 255\n",
                "    cv.imshow(\"masked\", image)\n",
                "\n",
                "    # find contours\n",
                "    contours, _ = cv.findContours(mask, cv.RETR_EXTERNAL, cv.CHAIN_APPROX_SIMPLE)\n",
                "\n",
                "    # Populate bounding boxes\n",
                "    bbox_list = []\n",
                "    for c in contours:\n",
                "        area = cv.contourArea(c)\n",
                "\n",
                "        if area < 500 or area > 4000:\n",
                "            continue\n",
                "\n",
                "        box = cv.boundingRect(c)\n",
                "        bbox_list.append(box)\n",
                "\n",
                "    # Turn our bboxes into 2d ndarray\n",
                "    bboxes = np.asanyarray(bbox_list)\n",
                "    return bboxes"
            ]
        }
    ],
    "metadata": {
        "kernelspec": {
            "display_name": "bio-proj",
            "language": "python",
            "name": "python3"
        },
        "language_info": {
            "codemirror_mode": {
                "name": "ipython",
                "version": 3
            },
            "file_extension": ".py",
            "mimetype": "text/x-python",
            "name": "python",
            "nbconvert_exporter": "python",
            "pygments_lexer": "ipython3",
            "version": "3.10.13"
        }
    },
    "nbformat": 4,
    "nbformat_minor": 2
}
