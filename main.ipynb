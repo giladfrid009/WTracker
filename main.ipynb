{
    "cells": [
        {
            "cell_type": "code",
            "execution_count": 1,
            "metadata": {},
            "outputs": [],
            "source": [
                "import cv2 as cv\n",
                "import numpy as np"
            ]
        },
        {
            "cell_type": "code",
            "execution_count": 3,
            "metadata": {},
            "outputs": [],
            "source": [
                "from evaluation.config import *\n",
                "\n",
                "time_config = TimingConfig(\n",
                "    frames_per_sec=60,\n",
                "    imaging_time_ms=200,\n",
                "    pred_time_ms=40,\n",
                "    moving_time_ms=50,\n",
                "    px_per_mm=90,\n",
                "    camera_size_mm=(4, 4),\n",
                "    micro_size_mm=(0.225, 0.225),\n",
                ")"
            ]
        },
        {
            "cell_type": "code",
            "execution_count": null,
            "metadata": {},
            "outputs": [],
            "source": [
                "from evaluation.analysis import Plotter\n",
                "plt = Plotter(\"logs2/bboxes.csv\", time_config)\n",
                "plt.plot_area_vs_speed_guy()"
            ]
        },
        {
            "cell_type": "code",
            "execution_count": null,
            "metadata": {},
            "outputs": [],
            "source": [
                "cv.destroyAllWindows()\n",
                "raise Exception(\"Finished\")"
            ]
        },
        {
            "cell_type": "code",
            "execution_count": 5,
            "metadata": {},
            "outputs": [
                {
                    "data": {
                        "text/plain": [
                            "' time_config = TimingConfig.load_json(\"logs/time_config.json\")\\nlog_config = LogConfig.load_json(\"logs/log_config.json\")\\nyolo_config = YoloConfig.load_json(\"logs/yolo_config.json\") '"
                        ]
                    },
                    "execution_count": 5,
                    "metadata": {},
                    "output_type": "execute_result"
                }
            ],
            "source": [
                "from evaluation.simulator import *\n",
                "from evaluation.sim_controllers import *\n",
                "from utils.path_utils import Files\n",
                "from evaluation.config import *\n",
                "\n",
                "experiment_config = ExperimentConfig(\n",
                "    name=\"exp1\",\n",
                "    num_frames=61200,\n",
                "    frames_per_sec=60,\n",
                "    orig_resolution=(1920, 1080),\n",
                "    px_per_mm=90,\n",
                "    init_position=(1300, 1200),\n",
                ")\n",
                "\n",
                "time_config = TimingConfig(\n",
                "    frames_per_sec=60,\n",
                "    imaging_time_ms=200,\n",
                "    pred_time_ms=40,\n",
                "    moving_time_ms=50,\n",
                "    px_per_mm=90,\n",
                "    camera_size_mm=(4, 4),\n",
                "    micro_size_mm=(0.225, 0.225),\n",
                ")\n",
                "\n",
                "log_config = LogConfig(\n",
                "    root_folder=\"logs2/\",\n",
                "    save_mic_view=False,\n",
                "    save_cam_view=False,\n",
                "    save_err_view=False,\n",
                ")\n",
                "\n",
                "yolo_config = YoloConfig(\n",
                "    model_path=\"yolov8m-trained.pt\",\n",
                "    verbose=True,\n",
                ")\n",
                "\n",
                "log_config.create_dirs()\n",
                "\n",
                "\n",
                "\"\"\" time_config.save_json(\"logs/time_config.json\")\n",
                "log_config.save_json(\"logs/log_config.json\")\n",
                "yolo_config.save_json(\"logs/yolo_config.json\") \n",
                "experiment_config.save_json(\"logs/experiment_config.json\") \"\"\"\n",
                "\n",
                "\n",
                "\"\"\" frames_path = \"Archive/\"\n",
                "files = Files(frames_path, extension=\"Bmp\", sorting_key=lambda f: int(f.split(\"-\")[-1].split(\".\")[0]))\n",
                "files_list = [file for file in files]\n",
                "reader = FrameReader(frames_path, files_list) \"\"\"\n",
                "\n",
                "# reader = FrameReader.create_from_directory(\"/mnt/c/Users/freid/Desktop/eval/micro\")\n",
                "\n",
                "\n",
                "\"\"\" time_config = TimingConfig.load_json(\"logs/time_config.json\")\n",
                "log_config = LogConfig.load_json(\"logs/log_config.json\")\n",
                "yolo_config = YoloConfig.load_json(\"logs/yolo_config.json\") \"\"\""
            ]
        },
        {
            "cell_type": "code",
            "execution_count": null,
            "metadata": {},
            "outputs": [],
            "source": [
                "print(time_config.imaging_frame_num + time_config.moving_frame_num)"
            ]
        },
        {
            "cell_type": "code",
            "execution_count": 6,
            "metadata": {},
            "outputs": [],
            "source": [
                "#sim_controller = YoloController(time_config, yolo_config)\n",
                "sim_controller = OptimalController(time_config, \"logs/bboxes.csv\")\n",
                "#sim_controller = CsvController(time_config, \"logs/bboxes.csv\")\n",
                "log_controller = LoggingController(sim_controller, log_config)\n",
                "sim = Simulator(time_config, experiment_config, log_controller)"
            ]
        },
        {
            "cell_type": "code",
            "execution_count": 7,
            "metadata": {},
            "outputs": [
                {
                    "data": {
                        "application/vnd.jupyter.widget-view+json": {
                            "model_id": "1e936fcef9ce4856bfbda9ec61326050",
                            "version_major": 2,
                            "version_minor": 0
                        },
                        "text/plain": [
                            "Simulation Progress:   0%|          | 0/4080 [00:00<?, ?cycle/s]"
                        ]
                    },
                    "metadata": {},
                    "output_type": "display_data"
                }
            ],
            "source": [
                "sim.run(visualize=False)"
            ]
        },
        {
            "cell_type": "code",
            "execution_count": null,
            "metadata": {},
            "outputs": [],
            "source": [
                "cv.destroyAllWindows()\n",
                "raise Exception(\"Finished\")"
            ]
        },
        {
            "cell_type": "code",
            "execution_count": null,
            "metadata": {},
            "outputs": [],
            "source": [
                "from frame_reader import FrameReader\n",
                "\n",
                "reader = FrameReader.create_from_directory(\"Archive/\")"
            ]
        },
        {
            "cell_type": "code",
            "execution_count": null,
            "metadata": {},
            "outputs": [],
            "source": [
                "from dataset.create.box_calculator import BoxCalculator\n",
                "from dataset.create.sample_extractor import SampleExtractor\n",
                "\n",
                "bbox_calc = BoxCalculator(reader)\n",
                "extractor = SampleExtractor(bbox_calc)\n",
                "extractor.create_all_samples(target_size=(400, 400), save_folder=\"samples\")"
            ]
        }
    ],
    "metadata": {
        "kernelspec": {
            "display_name": "bio-proj",
            "language": "python",
            "name": "python3"
        },
        "language_info": {
            "codemirror_mode": {
                "name": "ipython",
                "version": 3
            },
            "file_extension": ".py",
            "mimetype": "text/x-python",
            "name": "python",
            "nbconvert_exporter": "python",
            "pygments_lexer": "ipython3",
            "version": "3.10.13"
        }
    },
    "nbformat": 4,
    "nbformat_minor": 2
}
