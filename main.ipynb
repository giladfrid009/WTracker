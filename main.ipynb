{
    "cells": [
        {
            "cell_type": "code",
            "execution_count": 17,
            "metadata": {},
            "outputs": [],
            "source": [
                "import cv2 as cv\n",
                "import numpy as np"
            ]
        },
        {
            "cell_type": "code",
            "execution_count": 26,
            "metadata": {},
            "outputs": [
                {
                    "name": "stdout",
                    "output_type": "stream",
                    "text": [
                        "(2, 80, 70)\n"
                    ]
                }
            ],
            "source": [
                "import numpy as np\n",
                "from utils.bbox_utils import *\n",
                "\n",
                "def create_bounding_box_mask(boxes: np.ndarray) -> np.ndarray:\n",
                "    \"\"\"\n",
                "    Create a binary mask for the given bounding boxes.\n",
                "\n",
                "    Args:\n",
                "        boxes (np.ndarray): Array of bounding boxes with shape (N, 4), where\n",
                "                             each row is in the format [x1, y1, x2, y2].\n",
                "\n",
                "    Returns:\n",
                "        np.ndarray: Binary mask with shape (N, height, width).\n",
                "    \"\"\"\n",
                "\n",
                "    width = np.max(boxes[..., 2])\n",
                "    height = np.max(boxes[..., 3])\n",
                "\n",
                "    boxes = BoxConverter.to_xyxy(boxes, src_format=BoxFormat.XYWH)\n",
                "\n",
                "    N = boxes.shape[0]\n",
                "\n",
                "    # Create a grid of coordinates\n",
                "    x, y = np.meshgrid(np.arange(width), np.arange(height))\n",
                "\n",
                "    # Reshape boxes to (N, 1, 1, 4) and replicate it over height and width\n",
                "    boxes = boxes.reshape(N, 1, 1, 4)\n",
                "\n",
                "    # Create a binary mask for each bounding box\n",
                "    mask = (x >= boxes[..., 0]) & (x <= boxes[..., 2]) & \\\n",
                "           (y >= boxes[..., 1]) & (y <= boxes[..., 3])\n",
                "\n",
                "    return mask\n",
                "\n",
                "# Example usage\n",
                "boxes = np.array([[10, 20, 30, 40], [50, 60, 70, 80]])\n",
                "mask = create_bounding_box_mask(boxes)\n",
                "print(mask.shape)  # (2, 100, 200)"
            ]
        },
        {
            "cell_type": "code",
            "execution_count": 29,
            "metadata": {},
            "outputs": [
                {
                    "name": "stdout",
                    "output_type": "stream",
                    "text": [
                        "1271\n"
                    ]
                }
            ],
            "source": [
                "print(mask[0, :].sum())"
            ]
        },
        {
            "cell_type": "code",
            "execution_count": 18,
            "metadata": {},
            "outputs": [
                {
                    "data": {
                        "text/plain": [
                            "1.0"
                        ]
                    },
                    "execution_count": 18,
                    "metadata": {},
                    "output_type": "execute_result"
                }
            ],
            "source": [
                "from evaluation.error_calculator import ErrorCalculator\n",
                "\n",
                "eval = ErrorCalculator(np.random.randint(0, 255, (100, 100, 3), dtype=np.uint8), 10)\n",
                "eval.calculate_precise_single(np.zeros((30, 30, 3), dtype=np.uint8), worm_bbox=(15, 15, 30, 30), micro_bbox=(160, 000, 377, 211))"
            ]
        },
        {
            "cell_type": "code",
            "execution_count": 19,
            "metadata": {},
            "outputs": [
                {
                    "name": "stderr",
                    "output_type": "stream",
                    "text": [
                        "/tmp/ipykernel_96280/1401483766.py:4: RuntimeWarning: divide by zero encountered in divide\n",
                        "  res = n / m\n"
                    ]
                }
            ],
            "source": [
                "m = np.zeros((30, 30, 3), dtype=np.uint8)\n",
                "n = np.ones((30, 30, 3), dtype=np.uint8)\n",
                "\n",
                "res = n / m"
            ]
        },
        {
            "cell_type": "code",
            "execution_count": null,
            "metadata": {},
            "outputs": [],
            "source": [
                "base_path = f\"data/Exp2_GuyGilad_logs_yolo\"\n",
                "input_bboxes_path = f\"{base_path}/bboxes2.csv\""
            ]
        },
        {
            "cell_type": "code",
            "execution_count": null,
            "metadata": {},
            "outputs": [],
            "source": [
                "from evaluation.simulator import *\n",
                "from evaluation.sim_controllers import *\n",
                "from utils.path_utils import Files\n",
                "from evaluation.config import *\n",
                "\n",
                "experiment_config = ExperimentConfig.load_json(f\"{base_path}/experiment_config.json\")\n",
                "# yolo_config = YoloConfig.load_json(f\"{base_path}/yolo_config.json\")\n",
                "\n",
                "time_config = TimingConfig(\n",
                "    imaging_time_ms=100,\n",
                "    pred_time_ms=15,\n",
                "    moving_time_ms=50,\n",
                "    camera_size_mm=(4, 4),\n",
                "    micro_size_mm=(0.22, 0.22),\n",
                "    experiment_config=experiment_config,\n",
                ")\n",
                "\n",
                "log_config = LogConfig(\n",
                "    root_folder=\"logs\",\n",
                "    save_mic_view=False,\n",
                "    save_cam_view=False,\n",
                "    save_err_view=False,\n",
                ")"
            ]
        },
        {
            "cell_type": "code",
            "execution_count": null,
            "metadata": {},
            "outputs": [],
            "source": [
                "time_config.save_json(\"logs/time_config.json\")"
            ]
        },
        {
            "cell_type": "code",
            "execution_count": null,
            "metadata": {},
            "outputs": [],
            "source": [
                "from pprint import pprint\n",
                "\n",
                "pprint(time_config)"
            ]
        },
        {
            "cell_type": "code",
            "execution_count": null,
            "metadata": {},
            "outputs": [],
            "source": [
                "weights = np.asanyarray([0.064, 0.0, 0.0, 0.001, 0.0, 0.001, 0.698, 0.0, 0.713])\n",
                "               \n",
                "sample_times = np.asanyarray(\n",
                "    [\n",
                "        0,\n",
                "        5,\n",
                "        9,\n",
                "        -time_config.cycle_length + 0,\n",
                "        -time_config.cycle_length + 5,\n",
                "        -time_config.cycle_length + 9,\n",
                "        -2 * time_config.cycle_length + 0,\n",
                "        -2 * time_config.cycle_length + 5,\n",
                "        -2 * time_config.cycle_length + 9,\n",
                "    ]\n",
                ")"
            ]
        },
        {
            "cell_type": "code",
            "execution_count": null,
            "metadata": {},
            "outputs": [],
            "source": [
                "from evaluation.sim_controllers.polyfit_controller import PolyfitController\n",
                "from evaluation.motor_controllers import *\n",
                "from evaluation.sim_controllers.guys_controllers import MLPController\n",
                "import torch\n",
                "\n",
                "# sim_controller = YoloController(time_config, yolo_config)\n",
                "# sim_controller = SpeedController(time_config, input_bboxes_path)\n",
                "sim_controller = PolyfitController(time_config, input_bboxes_path, degree=1, weights=weights, sample_times=sample_times)\n",
                "# sim_controller = OptimalController(time_config, input_bboxes_path)\n",
                "# sim_controller = CsvController(time_config, input_bboxes_path)\n",
                "model = torch.load(\"data/mlpRELU\")\n",
                "print(model)\n",
                "# sim_controller = MLPController(time_config, input_bboxes_path, model)\n",
                "log_controller = LoggingController(sim_controller, log_config)\n",
                "\n",
                "motor = SineMotorController(time_config)\n",
                "sim = Simulator(\n",
                "    time_config,\n",
                "    experiment_config,\n",
                "    log_controller,\n",
                "    reader=None,\n",
                "    motor_controller=motor,\n",
                ")"
            ]
        },
        {
            "cell_type": "code",
            "execution_count": null,
            "metadata": {},
            "outputs": [],
            "source": [
                "sim.run(visualize=False, wait_key=False)"
            ]
        },
        {
            "cell_type": "code",
            "execution_count": null,
            "metadata": {},
            "outputs": [],
            "source": [
                "from evaluation.analysis import Plotter\n",
                "from evaluation.config import *\n",
                "\n",
                "pltr = Plotter(f\"logs/bboxes.csv\", time_config)\n",
                "pltr.plot_area_vs_speed(min_speed=0.)"
            ]
        },
        {
            "cell_type": "code",
            "execution_count": null,
            "metadata": {},
            "outputs": [],
            "source": [
                "#data = pltr.print_statistics(n=10)"
            ]
        },
        {
            "cell_type": "code",
            "execution_count": null,
            "metadata": {},
            "outputs": [],
            "source": [
                "import seaborn as sns\n",
                "import matplotlib.pyplot as plt\n",
                "\n",
                "def plot_histogram(pltr, x_col:str, n:int=1, hue=None, condition=None, transform=None, **kwargs):\n",
                "    data = pltr.data_prep_frames(n=n)\n",
                "    \n",
                "    if transform is not None:\n",
                "        data = transform(data)\n",
                "    if condition is not None:\n",
                "            data = data[condition(data)]\n",
                "    fig, ax = plt.subplots()\n",
                "    sns.histplot(data=data, x=x_col, hue=hue,stat='density', **kwargs)\n",
                "\n",
                "def plot_jointplot(pltr, x_col:str, y_col:str, n:int=1, kind:str='scatter', hue=None, condition=None, transform=None, **kwargs):\n",
                "    data = pltr.data_prep_frames(n=n)\n",
                "    \n",
                "    if transform is not None:\n",
                "        data = transform(data)\n",
                "        \n",
                "    if condition is not None:\n",
                "            data = data[condition(data)]\n",
                "    \n",
                "    sns.jointplot(data=data, x=x_col, y=y_col, hue=hue, kind=kind, **kwargs)"
            ]
        },
        {
            "cell_type": "code",
            "execution_count": null,
            "metadata": {},
            "outputs": [],
            "source": [
                "from functools import partial\n",
                "\n",
                "def calc_speed(data: pd.DataFrame, n: int = 1) -> pd.DataFrame:\n",
                "        \"\"\"\n",
                "        Calculate the worm speed and add it to the data.\n",
                "        \"\"\"\n",
                "        frame_diff = data[\"frame\"].diff(n).to_numpy()\n",
                "        wrm_delta_x = data[\"wrm_center_x\"].diff(n)\n",
                "        wrm_delta_y = data[\"wrm_center_y\"].diff(n)\n",
                "        wrm_delta = np.sqrt(data[\"wrm_center_x\"].diff(n) ** 2 + data[\"wrm_center_y\"].diff(n) ** 2)\n",
                "        data[\"wrm_delta\"] = wrm_delta\n",
                "        data[\"wrm_delta_x\"] = wrm_delta_x\n",
                "        data[\"wrm_delta_y\"] = wrm_delta_y\n",
                "        return data\n",
                "\n",
                "plot_histogram(pltr, \"wrm_delta\", n=time_config.imaging_frame_num, transform=partial(calc_speed, n=time_config.imaging_frame_num))"
            ]
        },
        {
            "cell_type": "code",
            "execution_count": null,
            "metadata": {},
            "outputs": [],
            "source": [
                "plot = pltr.plot_deviation(n=12)"
            ]
        },
        {
            "cell_type": "code",
            "execution_count": null,
            "metadata": {},
            "outputs": [],
            "source": [
                "plot_jointplot(pltr, x_col=\"wrm_w\", y_col=\"wrm_h\", kind='hist')"
            ]
        },
        {
            "cell_type": "code",
            "execution_count": null,
            "metadata": {},
            "outputs": [],
            "source": [
                "plot_histogram(pltr, \"wrm_speed\", 10)"
            ]
        },
        {
            "cell_type": "code",
            "execution_count": null,
            "metadata": {},
            "outputs": [],
            "source": [
                "def to_micro_meter(data):\n",
                "    data[[\"wrm_speed2\"]] = data[[\"wrm_speed\"]] * time_config.mm_per_px * 1000 * time_config.frames_per_sec\n",
                "    return data"
            ]
        },
        {
            "cell_type": "code",
            "execution_count": null,
            "metadata": {},
            "outputs": [],
            "source": [
                "0.87*600\n"
            ]
        },
        {
            "cell_type": "code",
            "execution_count": null,
            "metadata": {},
            "outputs": [],
            "source": [
                "plot_histogram(pltr, \"wrm_speed2\", 10, transform=to_micro_meter)"
            ]
        },
        {
            "cell_type": "code",
            "execution_count": null,
            "metadata": {},
            "outputs": [],
            "source": [
                "cv.destroyAllWindows()\n",
                "raise Exception(\"Finished\")"
            ]
        },
        {
            "cell_type": "code",
            "execution_count": null,
            "metadata": {},
            "outputs": [],
            "source": [
                "from evaluation.sim_controllers.polyfit_controller import WeightEvaluator\n",
                "\n",
                "# input_offsets = np.asanyarray([0, 3, 6, 9])\n",
                "\n",
                "input_offsets = np.asanyarray(\n",
                "    [\n",
                "        0,\n",
                "        5,\n",
                "        9,\n",
                "        -time_config.cycle_length + 0,\n",
                "        -time_config.cycle_length + 5,\n",
                "        -time_config.cycle_length + 9,\n",
                "        -2 * time_config.cycle_length + 0,\n",
                "        -2 * time_config.cycle_length + 5,\n",
                "        -2 * time_config.cycle_length + 9,\n",
                "    ]\n",
                ")\n",
                "\n",
                "\n",
                "start_times = np.arange(experiment_config.num_frames // time_config.cycle_length) * time_config.cycle_length\n",
                "\n",
                "evaluator = WeightEvaluator(\n",
                "    input_bboxes_path,\n",
                "    time_config,\n",
                "    input_offsets=input_offsets,\n",
                "    start_times=start_times,\n",
                "    eval_offset= time_config.cycle_length + time_config.imaging_frame_num // 2,\n",
                "    min_speed=0,\n",
                ")"
            ]
        },
        {
            "cell_type": "code",
            "execution_count": null,
            "metadata": {},
            "outputs": [],
            "source": [
                "def eval_func(weights: np.ndarray) -> float:\n",
                "    return evaluator.eval(weights, deg=1)"
            ]
        },
        {
            "cell_type": "code",
            "execution_count": null,
            "metadata": {},
            "outputs": [],
            "source": [
                "from mealpy.swarm_based.PSO import OriginalPSO\n",
                "from mealpy.utils.problem import Problem\n",
                "from mealpy.utils.termination import Termination\n",
                "from mealpy.utils.agent import Agent\n",
                "import mealpy\n",
                "\n",
                "#optim = mealpy.ICA.OriginalICA()\n",
                "optim = mealpy.PSO.OriginalPSO()\n",
                "\n",
                "termination = Termination(max_epoch=300, max_fe=None, max_time=None, max_early_stop=100)\n",
                "\n",
                "bounds = mealpy.FloatVar(lb=np.zeros(len(input_offsets)), ub=np.ones(len(input_offsets)))\n",
                "\n",
                "problem = Problem(obj_func=eval_func, bounds=bounds, minimax=\"min\")\n",
                "\n",
                "best: Agent = optim.solve(\n",
                "    problem,\n",
                "    mode=\"swarm\",\n",
                "    n_workers=5,\n",
                "    termination=termination,\n",
                ")"
            ]
        },
        {
            "cell_type": "code",
            "execution_count": null,
            "metadata": {},
            "outputs": [],
            "source": [
                "print(optim.g_best.target.fitness)\n",
                "print((optim.g_best.solution / np.linalg.norm(best.solution)).round(3).tolist())"
            ]
        }
    ],
    "metadata": {
        "kernelspec": {
            "display_name": "bio-proj",
            "language": "python",
            "name": "python3"
        },
        "language_info": {
            "codemirror_mode": {
                "name": "ipython",
                "version": 3
            },
            "file_extension": ".py",
            "mimetype": "text/x-python",
            "name": "python",
            "nbconvert_exporter": "python",
            "pygments_lexer": "ipython3",
            "version": "3.10.13"
        }
    },
    "nbformat": 4,
    "nbformat_minor": 2
}
