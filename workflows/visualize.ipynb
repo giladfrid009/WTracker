{
 "cells": [
  {
   "cell_type": "markdown",
   "metadata": {},
   "source": [
    "# Visualize a Simulation"
   ]
  },
  {
   "cell_type": "code",
   "execution_count": null,
   "metadata": {},
   "outputs": [],
   "source": [
    "# fix imports\n",
    "import os\n",
    "import sys\n",
    "module_path = os.path.abspath(os.path.join('..'))\n",
    "if module_path not in sys.path:\n",
    "    sys.path.append(module_path)"
   ]
  },
  {
   "cell_type": "code",
   "execution_count": null,
   "metadata": {},
   "outputs": [],
   "source": [
    "from wtracker.eval.vlc import VLC\n",
    "from wtracker.utils.frame_reader import FrameReader\n",
    "from wtracker.utils.path_utils import Files, join_paths\n",
    "from wtracker.utils.gui_utils import UserPrompt\n",
    "from wtracker.sim.config import TimingConfig"
   ]
  },
  {
   "cell_type": "code",
   "execution_count": null,
   "metadata": {},
   "outputs": [],
   "source": [
    "################################ User Input ################################\n",
    "\n",
    "# the type of the camera to visualize, this should match the prefix of the respective column name in the bboxes.csv file (e.g. \"wrm\", \"cam\", \"mic\", \"plt\")\n",
    "camera_type = \"plt\"\n",
    "\n",
    "# The folder in which the experiment log is located.\n",
    "# This folder is expected to contain the bboxes.csv file, the experiment_config.json file and the time_config.json file\n",
    "# If None, the user will be prompted to select the directory\n",
    "experiment_folder_path = None\n",
    "\n",
    "# True if you want to load and visualize the photos from the experiment, of False it will overlay the bounding boxes of the experiment log on a white background\n",
    "load_photos = False\n",
    "\n",
    "# the input folder containing the photos of the experiment, i.e. the original bboxes.csv file and the experiment_config.json file\n",
    "# if None, the user will be prompted to select the directory\n",
    "photos_path = None\n",
    "\n",
    "############################################################################\n",
    "\n",
    "if experiment_folder_path is None:\n",
    "    experiment_folder_path = UserPrompt.open_directory(\"Select the experiment directory to visualize\")\n",
    "\n",
    "if load_photos and photos_path is None:\n",
    "    photos_path = UserPrompt.open_directory(\"Select the photos directory to visualize\")\n",
    "\n",
    "experiment_config_path = join_paths(experiment_folder_path, \"exp_config.json\")\n",
    "time_config_path = join_paths(experiment_folder_path, \"time_config.json\")\n",
    "log_path = join_paths(experiment_folder_path, \"bboxes.csv\")\n",
    "\n",
    "\n",
    "print(f\"Photos folder: {photos_path}\")\n",
    "print(f\"Experiment folder: {experiment_folder_path}\")\n",
    "print(\"Experiment configuration path:\", experiment_config_path)\n",
    "print(\"Time config path:\", time_config_path)\n",
    "print(\"Experiment log path:\", log_path)"
   ]
  },
  {
   "cell_type": "code",
   "execution_count": null,
   "metadata": {},
   "outputs": [],
   "source": [
    "files = None\n",
    "if load_photos:\n",
    "    sorting = lambda f: int(f.split(\"-\")[-1].split(\".\")[0]) # Sorting function for the photos filenames, sometimes the photos are not sorted in the correct order. \n",
    "    files = Files(photos_path, extension=\"\", sorting_key=sorting) # Set the extention to sort for photos with a specific extension only (e.g. \"jpg\", \"BMP\")\n",
    "\n",
    "timing_config = TimingConfig.load_json(time_config_path)"
   ]
  },
  {
   "cell_type": "code",
   "execution_count": null,
   "metadata": {},
   "outputs": [],
   "source": [
    "# initialize the VLC player\n",
    "with VLC(\n",
    "    files=files,\n",
    "    config=timing_config,\n",
    "    log_path=log_path,\n",
    "    cam_type=camera_type,\n",
    "    show_pred=True,\n",
    "    show_micro=True,\n",
    "    show_cam=False,\n",
    ") as vlc:\n",
    "\n",
    "    vlc.initialize()\n",
    "    vlc.mainloop()"
   ]
  }
 ],
 "metadata": {
  "kernelspec": {
   "display_name": "bio-projML",
   "language": "python",
   "name": "python3"
  },
  "language_info": {
   "codemirror_mode": {
    "name": "ipython",
    "version": 3
   },
   "file_extension": ".py",
   "mimetype": "text/x-python",
   "name": "python",
   "nbconvert_exporter": "python",
   "pygments_lexer": "ipython3",
   "version": "3.10.13"
  }
 },
 "nbformat": 4,
 "nbformat_minor": 2
}
