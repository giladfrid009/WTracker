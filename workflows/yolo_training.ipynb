{
 "cells": [
  {
   "cell_type": "markdown",
   "metadata": {},
   "source": [
    "# YOLO Model Training"
   ]
  },
  {
   "cell_type": "markdown",
   "metadata": {},
   "source": [
    "The YOLO model is the model that is used to predict a bounding box around worm's head.\n",
    "In order for the model to make successful detections, the model must be trained on example images, with corresponding annotations (labels). \n",
    "The set of example images with their corresponding annotations is called a dataset.\n",
    "In this notebook, the YOLO model is trained on a dataset obtained from RoboFlow.\n",
    "\n",
    "RoboFlow is a website specifically designed for creating datasets for neural-network models, and YOLO among them.\n",
    "We decided to use Reboflow because of the ease-of-use it provides in the creation of new datasets, and in the process of data annotation."
   ]
  },
  {
   "cell_type": "code",
   "execution_count": null,
   "metadata": {},
   "outputs": [],
   "source": [
    "# fix imports\n",
    "import os\n",
    "import sys\n",
    "\n",
    "module_path = os.path.abspath(os.path.join(\"..\"))\n",
    "if module_path not in sys.path:\n",
    "    sys.path.append(module_path)"
   ]
  },
  {
   "cell_type": "code",
   "execution_count": null,
   "metadata": {},
   "outputs": [],
   "source": [
    "import ultralytics\n",
    "from ultralytics import YOLO\n",
    "import numpy as np\n",
    "\n",
    "from wtracker.utils.gui_utils import UserPrompt\n",
    "from wtracker.utils.path_utils import join_paths"
   ]
  },
  {
   "cell_type": "code",
   "execution_count": null,
   "metadata": {},
   "outputs": [],
   "source": [
    "################################ User Input ################################\n",
    "\n",
    "# the folder which contains the dataset, or into which the dataset will be downloaded\n",
    "# if None, the user will be prompted to select a folder\n",
    "dataset_folder = None\n",
    "\n",
    "# path to the YOLO training configuration file.\n",
    "\n",
    "# on the dataset page you can click on ’export dataset’ and then\n",
    "# ’show download code’. You can copy the code snippet to the appropriate place in the notebook of step 6 to download the dataset to the\n",
    "# computer and use it for training.\n",
    "train_config_file = None\n",
    "\n",
    "############################################################################\n",
    "\n",
    "if dataset_folder is None:\n",
    "    dataset_folder = UserPrompt.open_directory(\"Select Dataset Folder\")\n",
    "\n",
    "if train_config_file is None:\n",
    "    train_config_file = UserPrompt.open_file(\n",
    "        \"Select YOLO Training Configuration File\", file_types=[(\"YAML files\", \"*.yaml\")]\n",
    "    )\n",
    "\n",
    "dataset_file = join_paths(dataset_folder, \"data.yaml\")\n",
    "\n",
    "print(f\"Dataset Folder: {dataset_folder}\")\n",
    "print(f\"Training Config: {train_config_file}\")"
   ]
  },
  {
   "cell_type": "markdown",
   "metadata": {},
   "source": [
    "### Download the Dataset [Optional]\n",
    "\n",
    "If the dataset is already on the system there is no need to do this step.\n",
    "\n",
    "Otherwose, to download the dataset, copy the code produced by Roboflow to the cell below and run it to download the dataset.\n",
    "Make sure to follow the instructions in the below cell."
   ]
  },
  {
   "cell_type": "code",
   "execution_count": null,
   "metadata": {},
   "outputs": [],
   "source": [
    "################################ User Input ################################\n",
    "\n",
    "# Paste the code snippet you got from RoboFlow here\n",
    "# To get the code snippet, go to the dataset page, click on 'Export Dataset' and select YOLOv8\n",
    "# Then click on 'Show Download Code',  copy the code snippet and paste it here\n",
    "# Make sure you use the latest version of the dataset.\n",
    "\n",
    "# IMPORTANT: \n",
    "# Change the line: \n",
    "# `dataset = version.download(\"yolov8\")`\n",
    "# to the line:\n",
    "# dataset = version.download(\"yolov8\", location=dataset_folder, overwrite=True)`\n",
    "\n",
    "!pip install roboflow\n",
    "\n",
    "from roboflow import Roboflow\n",
    "rf = Roboflow(api_key=\"YOUR_API_KEY_HERE\")\n",
    "project = rf.workspace(\"technion-institute-of-technology\").project(\"celegan-head\")\n",
    "version = project.version(5)\n",
    "dataset = version.download(\"yolov8\", location=dataset_folder, overwrite=True)\n",
    "\n",
    "############################################################################"
   ]
  },
  {
   "cell_type": "markdown",
   "metadata": {},
   "source": [
    "### Load the model\n",
    "\n",
    "The loaded model can be completely untrained YOLO weights, or can be a pre-trained model, which was previously trained.  \n",
    "It is recommended to use pre-trained models if possible, since their training process is usually faster."
   ]
  },
  {
   "cell_type": "code",
   "execution_count": null,
   "metadata": {},
   "outputs": [],
   "source": [
    "################################ User Input ################################\n",
    "\n",
    "# path to a trained model on the disk or a model configuration file\n",
    "# more info is here: https://docs.ultralytics.com/modes/train/\n",
    "# link to download non-trained model weights: https://docs.ultralytics.com/tasks/detect/#models\n",
    "# if None, the user will be prompted to select a file\n",
    "model_path = None\n",
    "\n",
    "############################################################################\n",
    "\n",
    "if model_path is None:\n",
    "    model_path = UserPrompt.open_file(\"Select YOLO model\", [(\"weights file\", \"*.pt\"), (\"model config file\", \"*.yaml\")])\n",
    "\n",
    "model = YOLO(model=model_path, task=\"detect\")"
   ]
  },
  {
   "cell_type": "markdown",
   "metadata": {},
   "source": [
    "**Train The Model**"
   ]
  },
  {
   "cell_type": "code",
   "execution_count": null,
   "metadata": {},
   "outputs": [],
   "source": [
    "################################ User Input ################################\n",
    "\n",
    "# GPU index for training. If No GPU is available, set device to None or \"cpu\"\n",
    "device = None \n",
    "\n",
    "# If needed, make changes to the YOLO training config file.\n",
    "\n",
    "############################################################################\n",
    "\n",
    "results = model.train(data=dataset_file, cfg=train_config_file, device=device)"
   ]
  },
  {
   "cell_type": "markdown",
   "metadata": {},
   "source": [
    "**Export to faster format**\n",
    "\n",
    "Export potentially improves the performance of the trained model.\n",
    "The exported model is platform specific, and is optimized for a specific architecture based on the export parameters.s"
   ]
  },
  {
   "cell_type": "code",
   "execution_count": null,
   "metadata": {},
   "outputs": [],
   "source": [
    "model = YOLO(model=model_path)\n",
    "\n",
    "out = model.export(\n",
    "    format=\"onnx\",  # Use 'engine' for TensorRT (GPU), 'onnx' for ONNX (CPU/GPU).\n",
    "    imgsz=384,\n",
    "    half=False,  # Enables FP16 (half-precision) quantization, reducing model size and potentially speeding up inference on supported hardware.\n",
    "    dynamic=True,  # Allows dynamic input sizes for ONNX and TensorRT exports, enhancing flexibility in handling varying image dimensions\n",
    "    simplify=True,  # Simplifies the model graph for ONNX exports, potentially improving performance and compatibility\n",
    "    verbose=False,\n",
    "    batch=32,  # max supported batch size of the exported model\n",
    "    workspace=8,  # max memory usage during the export process in GB\n",
    ")"
   ]
  },
  {
   "cell_type": "markdown",
   "metadata": {},
   "source": [
    "**Deploy Model to Roboflow**"
   ]
  },
  {
   "cell_type": "code",
   "execution_count": null,
   "metadata": {},
   "outputs": [],
   "source": [
    "project.version(dataset.version).deploy(model_type=\"yolov8\", model_path=model_path)"
   ]
  }
 ],
 "metadata": {
  "kernelspec": {
   "display_name": "Python 3 (ipykernel)",
   "language": "python",
   "name": "python3"
  },
  "language_info": {
   "codemirror_mode": {
    "name": "ipython",
    "version": 3
   },
   "file_extension": ".py",
   "mimetype": "text/x-python",
   "name": "python",
   "nbconvert_exporter": "python",
   "pygments_lexer": "ipython3",
   "version": "3.10.13"
  }
 },
 "nbformat": 4,
 "nbformat_minor": 2
}
