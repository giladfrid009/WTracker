{
 "cells": [
  {
   "cell_type": "markdown",
   "metadata": {},
   "source": [
    "# PolyfitController Weights Optimization"
   ]
  },
  {
   "cell_type": "markdown",
   "metadata": {},
   "source": [
    "The `PolyfitController` is an algorithm that controls the platform in the simulation. This algorithm works by sampling worm positions in previous time stamps (previous observations), fitting a polynomial for the worm positions as function of time. A polynomial of a specified degree is fitted, such that the errors between the polynomial value and the observed positions is minimal. Afterwards, the fitted polynomial is sampled in a future time to predict worm's future position. That process is repeated every cycle. \n",
    "\n",
    "There are two main parameters for that algorithm:\n",
    "1.  The degree of the polynomial that is being fitted.\n",
    "2.  The weight of each observation for the fitting process. The error of an observation is multiplied by it's corresponding weight during the fitting process. \n",
    "    Therefore, samples with lower weight contribute less to the fitting process.\n",
    "\n",
    "In this notebook we seek to find the optimal degree and weight parameters for the algorithm. To this end, we run an optimization algorithm over the search space of weights, and return the best weight found w.r.t the evaluation error. In addition, there is an option to choose the degree of the fitted polynomial, and assess the performance of the best weights for each polynomial degree.\n",
    "The evaluation error is calculated over an experiment log file (bboxes.csv)."
   ]
  },
  {
   "cell_type": "code",
   "execution_count": null,
   "metadata": {},
   "outputs": [],
   "source": [
    "# fix imports\n",
    "import os\n",
    "import sys\n",
    "module_path = os.path.abspath(os.path.join('..'))\n",
    "if module_path not in sys.path:\n",
    "    sys.path.append(module_path)"
   ]
  },
  {
   "cell_type": "code",
   "execution_count": null,
   "metadata": {},
   "outputs": [],
   "source": [
    "import mealpy\n",
    "import numpy as np\n",
    "\n",
    "from wtracker.sim.sim_controllers.polyfit_controller import WeightEvaluator, PolyfitConfig\n",
    "from wtracker.sim.config import TimingConfig, ExperimentConfig\n",
    "from wtracker.utils.gui_utils import UserPrompt\n",
    "from wtracker.utils.path_utils import join_paths"
   ]
  },
  {
   "cell_type": "markdown",
   "metadata": {},
   "source": [
    "### Experiment configuration and Polyfit algorithm parameters"
   ]
  },
  {
   "cell_type": "code",
   "execution_count": null,
   "metadata": {},
   "outputs": [],
   "source": [
    "from pprint import pprint\n",
    "\n",
    "################################ User Input ################################\n",
    "\n",
    "# The path to the experiment folder on which the evaluation is to be performed.\n",
    "# If None, a file dialog will be shown to select the folder.\n",
    "experiment_folder = None\n",
    "\n",
    "############################################################################\n",
    "\n",
    "if experiment_folder is None:\n",
    "    experiment_folder = UserPrompt.open_directory(title=\"Select the experiment folder\")\n",
    "\n",
    "time_config_file = join_paths(experiment_folder, \"time_config.json\")\n",
    "exp_config_file = join_paths(experiment_folder, \"exp_config.json\")\n",
    "bboxes_file = join_paths(experiment_folder, \"bboxes.csv\")\n",
    "\n",
    "print(\"Time config path: \", time_config_file)\n",
    "print(\"Experiment config path: \", exp_config_file)\n",
    "print(\"Experiment log file path: \", bboxes_file)"
   ]
  },
  {
   "cell_type": "code",
   "execution_count": null,
   "metadata": {},
   "outputs": [],
   "source": [
    "# load the time and the experiment config\n",
    "\n",
    "time_config = TimingConfig.load_json(time_config_file)\n",
    "exp_config = ExperimentConfig.load_json(exp_config_file)\n",
    "\n",
    "pprint(time_config)\n",
    "pprint(exp_config)"
   ]
  },
  {
   "cell_type": "code",
   "execution_count": null,
   "metadata": {},
   "outputs": [],
   "source": [
    "################################ User Input ################################\n",
    "\n",
    "# the degree of the polynomial to be fitted over the data\n",
    "poly_degree = 1\n",
    "\n",
    "# The time stamps of the data points to be used for the polynomial fit.\n",
    "# 0 is the begging of the current cycle, while negative values correspond to previous cycles.\n",
    "input_offsets = np.asanyarray(\n",
    "    [\n",
    "        -3 * time_config.cycle_frame_num + 0,\n",
    "        -3 * time_config.cycle_frame_num + 6,\n",
    "        -2 * time_config.cycle_frame_num + 0,\n",
    "        -2 * time_config.cycle_frame_num + 6,\n",
    "        -time_config.cycle_frame_num + 0,\n",
    "        -time_config.cycle_frame_num + 6,\n",
    "        0,\n",
    "        3,\n",
    "    ]\n",
    ")\n",
    "\n",
    "############################################################################"
   ]
  },
  {
   "cell_type": "markdown",
   "metadata": {},
   "source": [
    "### Define the optimization problem"
   ]
  },
  {
   "cell_type": "code",
   "execution_count": null,
   "metadata": {},
   "outputs": [],
   "source": [
    "start_times = np.arange(exp_config.num_frames // time_config.cycle_frame_num) * time_config.cycle_frame_num\n",
    "\n",
    "\n",
    "# create the evaluator which calculates the evaluation loss for a given set of weights\n",
    "evaluator = WeightEvaluator(\n",
    "    csv_path=bboxes_file,\n",
    "    timing_config=time_config,\n",
    "    input_offsets=input_offsets,\n",
    "    start_times=start_times,\n",
    "    eval_offset=time_config.cycle_frame_num + time_config.imaging_frame_num // 2,\n",
    ")\n",
    "\n",
    "\n",
    "# define the evaluation function that receives the weights as input and returns the evaluation loss.\n",
    "# the optimization process is performed over this function, such that the returned value is minimized.\n",
    "def eval_func(weights: np.ndarray) -> float:\n",
    "    return evaluator.eval(weights, deg=poly_degree)"
   ]
  },
  {
   "cell_type": "code",
   "execution_count": null,
   "metadata": {},
   "outputs": [],
   "source": [
    "from mealpy.utils.problem import Problem\n",
    "from mealpy.utils.termination import Termination\n",
    "from mealpy.utils.agent import Agent\n",
    "import mealpy\n",
    "\n",
    "\n",
    "################################ User Input ################################\n",
    "\n",
    "# create the optimizer which minimizes the evaluation loss\n",
    "# feel free to choose any optimizer from the mealpy package\n",
    "optim = mealpy.PSO.OriginalPSO()\n",
    "\n",
    "# the termination parameters for the optimization process\n",
    "termination = Termination(\n",
    "    max_epoch=300,  # maximum number of iterations\n",
    "    max_fe=None,  # maximum number of function evaluations\n",
    "    max_early_stop=100,  # maximum number of iterations without improvement before stopping\n",
    ")\n",
    "\n",
    "############################################################################\n",
    "\n",
    "# define the bounds for the weights, and create the optimization problem\n",
    "bounds = mealpy.FloatVar(lb=np.zeros(len(input_offsets)), ub=np.ones(len(input_offsets)))\n",
    "problem = Problem(obj_func=eval_func, bounds=bounds, minimax=\"min\")"
   ]
  },
  {
   "cell_type": "markdown",
   "metadata": {},
   "source": [
    "### Run the weights optimizer\n",
    "\n",
    "Note, that running the optimizer and finding the optimal weights might take a while, up to 15 minutes."
   ]
  },
  {
   "cell_type": "code",
   "execution_count": null,
   "metadata": {},
   "outputs": [],
   "source": [
    "# Run the optimizer on the optimization problem\n",
    "# Feel free to manually stop the execution of this cell and continue to the next cell, if you are satisfied with the results.\n",
    "best: Agent = None\n",
    "best = optim.solve(problem, termination=termination)"
   ]
  },
  {
   "cell_type": "code",
   "execution_count": null,
   "metadata": {},
   "outputs": [],
   "source": [
    "np.set_printoptions(precision=4, suppress=True)\n",
    "\n",
    "if best is None:\n",
    "    # If the optimization process is stopped manually, the best solution is the global best solution found so far.\n",
    "    best = optim.g_best\n",
    "\n",
    "print(\"Lowest evaluation loss: \", best.target.fitness)\n",
    "print(\"Optimal Weights: \", best.solution / np.linalg.norm(best.solution))\n",
    "\n",
    "# create the polynomial config object with the best solution found\n",
    "poly_config = PolyfitConfig(\n",
    "    degree=poly_degree,\n",
    "    sample_times=evaluator.input_offsets.tolist(),\n",
    "    weights=best.solution.tolist(),\n",
    ")"
   ]
  },
  {
   "cell_type": "code",
   "execution_count": null,
   "metadata": {},
   "outputs": [],
   "source": [
    "################################ User Input ################################\n",
    "\n",
    "# path to the file where the polynomial config is to be saved\n",
    "# If None, a file dialog will be shown to select the save path.\n",
    "polyfit_config_save_path = None\n",
    "\n",
    "############################################################################\n",
    "\n",
    "# save the polynomial config\n",
    "poly_config.save_json(polyfit_config_save_path)"
   ]
  }
 ],
 "metadata": {
  "kernelspec": {
   "display_name": "bio-proj",
   "language": "python",
   "name": "python3"
  },
  "language_info": {
   "codemirror_mode": {
    "name": "ipython",
    "version": 3
   },
   "file_extension": ".py",
   "mimetype": "text/x-python",
   "name": "python",
   "nbconvert_exporter": "python",
   "pygments_lexer": "ipython3",
   "version": "3.1.-1"
  }
 },
 "nbformat": 4,
 "nbformat_minor": 2
}
