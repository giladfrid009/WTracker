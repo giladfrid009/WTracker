{
    "cells": [
        {
            "cell_type": "markdown",
            "metadata": {},
            "source": [
                "# Plotting and Analysis"
            ]
        },
        {
            "cell_type": "markdown",
            "metadata": {},
            "source": [
                "The role of this notebook is to plot and analyze logs results of a run (or runs) of a simulator, given some fixed timing configuration.\n",
                "These logs (bboxes.csv) are obtained by running a simulator on some experiments. The goal of these plots is to analyze worm's behavior,\n",
                "and to analyze the systems error and how it's affected by different behaviors the worm exhibits.\n",
                "\n",
                "It's important to note that for proper analysis, all the experiments that are analyzed by this notebook *at once* must have the same timing configuration (TimingConfig) parameters."
            ]
        },
        {
            "cell_type": "code",
            "execution_count": 1,
            "metadata": {},
            "outputs": [],
            "source": [
                "# fix imports\n",
                "import os\n",
                "import sys\n",
                "module_path = os.path.abspath(os.path.join('..'))\n",
                "if module_path not in sys.path:\n",
                "    sys.path.append(module_path)"
            ]
        },
        {
            "cell_type": "code",
            "execution_count": 2,
            "metadata": {},
            "outputs": [],
            "source": [
                "import matplotlib.pyplot as plt\n",
                "from wtracker.eval import *\n",
                "from wtracker.sim.config import TimingConfig\n",
                "from wtracker.utils.gui_utils import UserPrompt"
            ]
        },
        {
            "cell_type": "markdown",
            "metadata": {},
            "source": [
                "### Timing configuration and log files selection"
            ]
        },
        {
            "cell_type": "code",
            "execution_count": 4,
            "metadata": {},
            "outputs": [
                {
                    "name": "stdout",
                    "output_type": "stream",
                    "text": [
                        "TimingConfig(px_per_mm=90,\n",
                        "             mm_per_px=0.011111111111111112,\n",
                        "             frames_per_sec=60,\n",
                        "             ms_per_frame=16.666666666666668,\n",
                        "             imaging_time_ms=200,\n",
                        "             imaging_frame_num=12,\n",
                        "             pred_time_ms=40,\n",
                        "             pred_frame_num=3,\n",
                        "             moving_time_ms=50,\n",
                        "             moving_frame_num=3,\n",
                        "             camera_size_mm=[4, 4],\n",
                        "             camera_size_px=[360, 360],\n",
                        "             micro_size_mm=[0.22, 0.22],\n",
                        "             micro_size_px=[20, 20])\n",
                        "['D:\\\\Guy_Gilad\\\\FinalEvaluations\\\\Exp0_config4_CSV\\\\bboxes.csv']\n"
                    ]
                }
            ],
            "source": [
                "from pprint import pprint\n",
                "\n",
                "base_path = \"D:\\\\Guy_Gilad\\\\FinalEvaluations\\\\Exp0_config4_CSV\\\\\"\n",
                "\n",
                "################################ User Input ################################\n",
                "\n",
                "# path to the timing config file. \n",
                "# If None, a file dialog will open to select a file\n",
                "time_config_path = base_path + \"time_config.json\"\n",
                "\n",
                "# list containing paths to simulation log files.\n",
                "# All of these simulations must have been run with the above timing config.\n",
                "# If empty, a file dialog will open to select files.\n",
                "log_files = [base_path + \"bboxes.csv\"]\n",
                "\n",
                "data_save_path = base_path + \"data.pkl\"\n",
                "\n",
                "############################################################################\n",
                "\n",
                "timing_config = TimingConfig.load_json(time_config_path)\n",
                "\n",
                "if len(log_files) == 0:\n",
                "    log_files = UserPrompt.open_file(title=\"Select log files\", filetypes=[(\"Log files\", \"*.csv\")], multiple=True)\n",
                "\n",
                "\n",
                "pprint(timing_config)\n",
                "pprint(log_files)"
            ]
        },
        {
            "cell_type": "code",
            "execution_count": 6,
            "metadata": {},
            "outputs": [
                {
                    "data": {
                        "text/html": [
                            "<div>\n",
                            "<style scoped>\n",
                            "    .dataframe tbody tr th:only-of-type {\n",
                            "        vertical-align: middle;\n",
                            "    }\n",
                            "\n",
                            "    .dataframe tbody tr th {\n",
                            "        vertical-align: top;\n",
                            "    }\n",
                            "\n",
                            "    .dataframe thead th {\n",
                            "        text-align: right;\n",
                            "    }\n",
                            "</style>\n",
                            "<table border=\"1\" class=\"dataframe\">\n",
                            "  <thead>\n",
                            "    <tr style=\"text-align: right;\">\n",
                            "      <th></th>\n",
                            "      <th>time</th>\n",
                            "      <th>wrm_x</th>\n",
                            "      <th>wrm_speed_x</th>\n",
                            "      <th>wrm_speed</th>\n",
                            "    </tr>\n",
                            "  </thead>\n",
                            "  <tbody>\n",
                            "    <tr>\n",
                            "      <th>count</th>\n",
                            "      <td>53972.000000</td>\n",
                            "      <td>53972.000000</td>\n",
                            "      <td>53959.000000</td>\n",
                            "      <td>53959.000000</td>\n",
                            "    </tr>\n",
                            "    <tr>\n",
                            "      <th>mean</th>\n",
                            "      <td>497.369415</td>\n",
                            "      <td>14017.014860</td>\n",
                            "      <td>2.596402</td>\n",
                            "      <td>130.055597</td>\n",
                            "    </tr>\n",
                            "    <tr>\n",
                            "      <th>std</th>\n",
                            "      <td>308.975199</td>\n",
                            "      <td>2149.834057</td>\n",
                            "      <td>112.312627</td>\n",
                            "      <td>106.339422</td>\n",
                            "    </tr>\n",
                            "    <tr>\n",
                            "      <th>min</th>\n",
                            "      <td>0.250000</td>\n",
                            "      <td>9719.231500</td>\n",
                            "      <td>-582.062780</td>\n",
                            "      <td>0.284700</td>\n",
                            "    </tr>\n",
                            "    <tr>\n",
                            "      <th>25%</th>\n",
                            "      <td>225.129165</td>\n",
                            "      <td>12730.693267</td>\n",
                            "      <td>-53.602860</td>\n",
                            "      <td>43.249235</td>\n",
                            "    </tr>\n",
                            "    <tr>\n",
                            "      <th>50%</th>\n",
                            "      <td>464.408335</td>\n",
                            "      <td>12889.717610</td>\n",
                            "      <td>0.177520</td>\n",
                            "      <td>110.744740</td>\n",
                            "    </tr>\n",
                            "    <tr>\n",
                            "      <th>75%</th>\n",
                            "      <td>788.520835</td>\n",
                            "      <td>16566.453635</td>\n",
                            "      <td>53.558105</td>\n",
                            "      <td>191.056530</td>\n",
                            "    </tr>\n",
                            "    <tr>\n",
                            "      <th>max</th>\n",
                            "      <td>1019.233330</td>\n",
                            "      <td>17153.187900</td>\n",
                            "      <td>609.427410</td>\n",
                            "      <td>860.662980</td>\n",
                            "    </tr>\n",
                            "  </tbody>\n",
                            "</table>\n",
                            "</div>"
                        ],
                        "text/plain": [
                            "               time         wrm_x   wrm_speed_x     wrm_speed\n",
                            "count  53972.000000  53972.000000  53959.000000  53959.000000\n",
                            "mean     497.369415  14017.014860      2.596402    130.055597\n",
                            "std      308.975199   2149.834057    112.312627    106.339422\n",
                            "min        0.250000   9719.231500   -582.062780      0.284700\n",
                            "25%      225.129165  12730.693267    -53.602860     43.249235\n",
                            "50%      464.408335  12889.717610      0.177520    110.744740\n",
                            "75%      788.520835  16566.453635     53.558105    191.056530\n",
                            "max     1019.233330  17153.187900    609.427410    860.662980"
                        ]
                    },
                    "metadata": {},
                    "output_type": "display_data"
                },
                {
                    "data": {
                        "text/html": [
                            "<div>\n",
                            "<style scoped>\n",
                            "    .dataframe tbody tr th:only-of-type {\n",
                            "        vertical-align: middle;\n",
                            "    }\n",
                            "\n",
                            "    .dataframe tbody tr th {\n",
                            "        vertical-align: top;\n",
                            "    }\n",
                            "\n",
                            "    .dataframe thead th {\n",
                            "        text-align: right;\n",
                            "    }\n",
                            "</style>\n",
                            "<table border=\"1\" class=\"dataframe\">\n",
                            "  <thead>\n",
                            "    <tr style=\"text-align: right;\">\n",
                            "      <th></th>\n",
                            "      <th>time</th>\n",
                            "      <th>wrm_x</th>\n",
                            "      <th>wrm_speed_x</th>\n",
                            "      <th>wrm_speed</th>\n",
                            "    </tr>\n",
                            "  </thead>\n",
                            "  <tbody>\n",
                            "    <tr>\n",
                            "      <th>count</th>\n",
                            "      <td>53987.000000</td>\n",
                            "      <td>53987.000000</td>\n",
                            "      <td>53974.000000</td>\n",
                            "      <td>53974.000000</td>\n",
                            "    </tr>\n",
                            "    <tr>\n",
                            "      <th>mean</th>\n",
                            "      <td>497.514449</td>\n",
                            "      <td>14017.871312</td>\n",
                            "      <td>2.611503</td>\n",
                            "      <td>130.043656</td>\n",
                            "    </tr>\n",
                            "    <tr>\n",
                            "      <th>std</th>\n",
                            "      <td>309.054746</td>\n",
                            "      <td>2150.149213</td>\n",
                            "      <td>112.303388</td>\n",
                            "      <td>106.329085</td>\n",
                            "    </tr>\n",
                            "    <tr>\n",
                            "      <th>min</th>\n",
                            "      <td>0.250000</td>\n",
                            "      <td>9719.231444</td>\n",
                            "      <td>-582.060000</td>\n",
                            "      <td>0.286667</td>\n",
                            "    </tr>\n",
                            "    <tr>\n",
                            "      <th>25%</th>\n",
                            "      <td>225.191667</td>\n",
                            "      <td>12730.781111</td>\n",
                            "      <td>-53.586667</td>\n",
                            "      <td>43.260000</td>\n",
                            "    </tr>\n",
                            "    <tr>\n",
                            "      <th>50%</th>\n",
                            "      <td>464.533333</td>\n",
                            "      <td>12890.839667</td>\n",
                            "      <td>0.186667</td>\n",
                            "      <td>110.736667</td>\n",
                            "    </tr>\n",
                            "    <tr>\n",
                            "      <th>75%</th>\n",
                            "      <td>788.708333</td>\n",
                            "      <td>16566.903944</td>\n",
                            "      <td>53.586667</td>\n",
                            "      <td>191.018333</td>\n",
                            "    </tr>\n",
                            "    <tr>\n",
                            "      <th>max</th>\n",
                            "      <td>1019.483333</td>\n",
                            "      <td>17153.187889</td>\n",
                            "      <td>609.426667</td>\n",
                            "      <td>860.660000</td>\n",
                            "    </tr>\n",
                            "  </tbody>\n",
                            "</table>\n",
                            "</div>"
                        ],
                        "text/plain": [
                            "               time         wrm_x   wrm_speed_x     wrm_speed\n",
                            "count  53987.000000  53987.000000  53974.000000  53974.000000\n",
                            "mean     497.514449  14017.871312      2.611503    130.043656\n",
                            "std      309.054746   2150.149213    112.303388    106.329085\n",
                            "min        0.250000   9719.231444   -582.060000      0.286667\n",
                            "25%      225.191667  12730.781111    -53.586667     43.260000\n",
                            "50%      464.533333  12890.839667      0.186667    110.736667\n",
                            "75%      788.708333  16566.903944     53.586667    191.018333\n",
                            "max     1019.483333  17153.187889    609.426667    860.660000"
                        ]
                    },
                    "metadata": {},
                    "output_type": "display_data"
                }
            ],
            "source": [
                "from wtracker.eval.plotter import Plotter\n",
                "from wtracker.eval.data_analyzer import DataAnalyzer\n",
                "\n",
                "log1 = \"D:\\\\Guy_Gilad\\\\FinalEvaluations\\\\Exp0_config4_CSV\\\\bboxes.csv\"\n",
                "log2 = \"D:\\\\Guy_Gilad\\\\FinalEvaluations\\\\Exp0_config1_Optimal\\\\analysis.csv\"\n",
                "\n",
                "analyzer = DataAnalyzer.load(timing_config, log2)\n",
                "analyzer._unit=\"sec\"\n",
                "analyzer.change_unit(\"frame\")\n",
                "analyzer.clean(imaging_only=False, bounds=(73, 38, 1551, 1359), trim_cycles=True)\n",
                "analyzer.change_unit(\"sec\")\n",
                "display(analyzer.describe([\"time\", \"wrm_x\", \"wrm_speed_x\", \"wrm_speed\"]))\n",
                "\n",
                "analyzer = DataAnalyzer.load(timing_config, log1)\n",
                "analyzer.initialize(period=10)\n",
                "analyzer.clean(imaging_only=False, bounds=(73, 38, 1551, 1359), trim_cycles=True)\n",
                "analyzer.change_unit(\"sec\")\n",
                "display(analyzer.describe([\"time\", \"wrm_x\", \"wrm_speed_x\", \"wrm_speed\"]))\n"
            ]
        },
        {
            "cell_type": "markdown",
            "metadata": {},
            "source": [
                "### Plotting configuration\n",
                "\n",
                "Notice that all of below plots accept `condition` as a parameter.\n",
                "`condition` is expected to be a function of the following signature:\n",
                "\n",
                "```python\n",
                "def cond_func1(input_df: pd.DataFrame) -> pd.DataFrame:\n",
                "    return (input_df[\"wrm_speed\"] > 5) &  (input_df[\"wrm_speed\"] <= 30)\n",
                "```\n",
                "\n",
                "In python, such functions can be also declared without an explicit name and declaration, using the following syntax:\n",
                "(for more information read about lambda functions)\n",
                "\n",
                "```python\n",
                "cond_func1 = lambda input_df: (input_df[\"wrm_speed\"] > 5) & (input_df[\"wrm_speed\"] <= 30)\n",
                "cond_func2 = lambda input_df: input_df[\"phase\"] == \"imaging\"\n",
                "```"
            ]
        },
        {
            "cell_type": "markdown",
            "metadata": {},
            "source": [
                "##### Optionally, Calculate precise error\n",
                "\n",
                "To calculate precise error of the system, run the following cell, otherwise skip it.\n",
                "Note, that running this cell might take a while.\n",
                "\n",
                "For each frame, the exact pixels in which worm's head is located are calculated. To this end, there is a need to access worm images which were extracted during the experiment initialization process.\n",
                "Afterwards, the error is calculated as the proportion of worm pixels that are outside of the microscope view. \n",
                "Since to calculate this error there is a need to load images from the disk, the calculation is relatively slow."
            ]
        },
        {
            "cell_type": "code",
            "execution_count": null,
            "metadata": {},
            "outputs": [],
            "source": [
                "import numpy as np\n",
                "from wtracker.utils.frame_reader import FrameReader\n",
                "\n",
                "# TODO: TEST\n",
                "# TODO: ADD DOCS FOR THIS SECTION\n",
                "\n",
                "################################ User Input ################################\n",
                "\n",
                "background_path = \"data\\\\Exp2_GuyGilad_logs_yolo\\\\background.npy\"\n",
                "\n",
                "worm_folder_path = \"D:\\\\Guy_Gilad\\\\Exp2_GuyGilad\\\\logs_yolo\\\\worms\"\n",
                "\n",
                "diff_thresh = 20\n",
                "\n",
                "############################################################################\n",
                "\n",
                "if background_path is None:\n",
                "    background_path = UserPrompt.open_file(title=\"Select background images\", file_types=[(\"Numpy files\", \"*.npy\")])\n",
                "\n",
                "if worm_folder_path is None:\n",
                "    worm_folder_path = UserPrompt.open_directory(title=\"Select worm image folders\")\n",
                "\n",
                "print(\"Background Files: \", background_path)\n",
                "print(\"Worm Image Folders: \", worm_folder_path)\n",
                "\n",
                "background = np.load(background_path, allow_pickle=True)\n",
                "\n",
                "worm_reader = FrameReader.create_from_directory(worm_folder_path)"
            ]
        },
        {
            "cell_type": "markdown",
            "metadata": {},
            "source": [
                "##### Calibrate Threshold [Optional]"
            ]
        },
        {
            "cell_type": "code",
            "execution_count": null,
            "metadata": {},
            "outputs": [],
            "source": [
                "from wtracker.eval.vlc import StreamViewer\n",
                "from wtracker.eval.error_calculator import ErrorCalculator\n",
                "from wtracker.utils.frame_reader import FrameReader\n",
                "import pandas as pd\n",
                "import numpy as np\n",
                "\n",
                "viewer = StreamViewer(window_name=\"Threshold Calibration\")"
            ]
        },
        {
            "cell_type": "code",
            "execution_count": null,
            "metadata": {},
            "outputs": [],
            "source": [
                "\n",
                "################################ User Input ################################\n",
                "threshold = 20\n",
                "exp_number = 0 # the number of the experiment in the list\n",
                "delay = 0\n",
                "############################################################################\n",
                "def show_sementation(wrm_view:np.ndarray, wrm_mask:np.ndarray) -> None:\n",
                "    wrm_view[~wrm_mask] = 0\n",
                "    viewer.imshow(wrm_view)\n",
                "    viewer.waitKey(delay)\n",
                "\n",
                "\n",
                "ErrorCalculator.probe_hook = show_sementation\n",
                "\n",
                "reader = FrameReader.create_from_directory(worm_folder_path)\n",
                "log = pd.read_csv(log_files[exp_number])\n",
                "\n",
                "viewer.open()\n",
                "shape = [*reader.frame_shape]\n",
                "shape[:2] = background.shape[:2]\n",
                "background.reshape(shape)\n",
                "\n",
                "ErrorCalculator.calculate_precise(\n",
                "    background=background,\n",
                "    worm_bboxes=log[[\"wrm_x\", \"wrm_y\", \"wrm_w\", \"wrm_h\"]].to_numpy(),\n",
                "    mic_bboxes=log[[\"mic_x\", \"mic_y\", \"mic_w\", \"mic_h\"]].to_numpy(),\n",
                "    frame_nums=log['frame'].astype(int).to_list(),\n",
                "    worm_reader=reader,\n",
                "    diff_thresh=threshold\n",
                ")"
            ]
        },
        {
            "cell_type": "markdown",
            "metadata": {},
            "source": [
                "##### Calculate Precise error"
            ]
        },
        {
            "cell_type": "code",
            "execution_count": null,
            "metadata": {},
            "outputs": [],
            "source": [
                "analyzer.calc_precise_error(\n",
                "    worm_reader=worm_reader,\n",
                "    background=background,\n",
                "    diff_thresh=diff_thresh,\n",
                ")"
            ]
        },
        {
            "cell_type": "code",
            "execution_count": null,
            "metadata": {},
            "outputs": [],
            "source": [
                "analyzer.describe([\"precise_error\"], percentiles=[0.25, 0.5, 0.75, 0.9, 0.95, 0.99])"
            ]
        },
        {
            "cell_type": "markdown",
            "metadata": {},
            "source": [
                "##### Save Data"
            ]
        },
        {
            "cell_type": "code",
            "execution_count": null,
            "metadata": {},
            "outputs": [],
            "source": [
                "data_save_path = base_path + \"data.pkl\"\n",
                "\n",
                "if data_save_path is None:\n",
                "    data_save_path = UserPrompt.save_file(title=\"Save data\", filetypes=[(\"Pickle files\", \"*.pkl\")])\n",
                "\n",
                "analyzer.save(data_save_path)"
            ]
        },
        {
            "cell_type": "code",
            "execution_count": null,
            "metadata": {},
            "outputs": [],
            "source": [
                "raise KeyError()"
            ]
        },
        {
            "cell_type": "markdown",
            "metadata": {},
            "source": [
                "### Plotting and analysis"
            ]
        },
        {
            "cell_type": "code",
            "execution_count": null,
            "metadata": {},
            "outputs": [],
            "source": [
                "# TODO: FIX\n",
                "# MAKE SURE THAT WE LOAD DATAANALYZERS AND MANUALLY CHANGE THE UNIT TO \"sec\" INSTEAD OF \"frame\" since the current logs were saved in the \"sec\" unit\n",
                "\n",
                "data_list = [\n",
                "    \"/mnt/c/Users/freid/Desktop/FinalEvaluations/Exp0_config1_Optimal/data.pkl\",\n",
                "    \"/mnt/c/Users/freid/Desktop/FinalEvaluations/Exp1_config1_Optimal/data.pkl\",\n",
                "    \"/mnt/c/Users/freid/Desktop/FinalEvaluations/Exp2_config1_Optimal/data.pkl\",\n",
                "    \"/mnt/c/Users/freid/Desktop/FinalEvaluations/Exp3_config1_Optimal/data.pkl\",\n",
                "    \"/mnt/c/Users/freid/Desktop/FinalEvaluations/Exp4_config1_Optimal/data.pkl\",\n",
                "]\n",
                "\n",
                "data_list = [DataAnalyzer.load(path) for path in data_list]\n",
                "\n",
                "if len(data_list) == 0:\n",
                "    file_paths = UserPrompt.open_file(title=\"Select data files\", filetypes=[(\"Pickle files\", \"*.pkl\")], multiple=True)\n",
                "    data_list = [DataAnalyzer.load(path) for path in file_paths]"
            ]
        },
        {
            "cell_type": "code",
            "execution_count": null,
            "metadata": {},
            "outputs": [],
            "source": [
                "# create the plotter\n",
                "pltr = Plotter(data_list, plot_height=7, palette=\"bright\")"
            ]
        },
        {
            "cell_type": "code",
            "execution_count": null,
            "metadata": {},
            "outputs": [],
            "source": [
                "# print column names of the data\n",
                "pprint([f\"{i}: {col}\" for i, col in enumerate(analyzer.column_names())])"
            ]
        },
        {
            "cell_type": "code",
            "execution_count": null,
            "metadata": {},
            "outputs": [],
            "source": [
                "analyzer.print_stats()"
            ]
        },
        {
            "cell_type": "code",
            "execution_count": null,
            "metadata": {},
            "outputs": [],
            "source": [
                "pltr.plot_trajectory(hue_col=\"log_num\", condition=lambda x: x[\"wrm_y\"] >= 0)\n",
                "plt.show()"
            ]
        },
        {
            "cell_type": "code",
            "execution_count": null,
            "metadata": {},
            "outputs": [],
            "source": [
                "pltr.plot_speed(log_wise=True, condition=lambda x: x[\"wrm_speed\"] <= 800, hue_col=\"log_num\")\n",
                "plt.show()"
            ]
        },
        {
            "cell_type": "code",
            "execution_count": null,
            "metadata": {},
            "outputs": [],
            "source": [
                "pltr.plot_error(log_wise=True, error_kind=\"bbox\", hue_col=\"log_num\")\n",
                "plt.show()"
            ]
        },
        {
            "cell_type": "code",
            "execution_count": null,
            "metadata": {},
            "outputs": [],
            "source": [
                "pltr.plot_speed_vs_error(error_kind=\"bbox\", condition=lambda x: (x[\"wrm_speed\"] < 2000) & (x[\"bbox_error\"] > 1e-5))\n",
                "plt.show()"
            ]
        },
        {
            "cell_type": "code",
            "execution_count": null,
            "metadata": {},
            "outputs": [],
            "source": [
                "pltr.plot_deviation(percentile=0.99, log_wise=False)\n",
                "plt.show()"
            ]
        },
        {
            "cell_type": "code",
            "execution_count": null,
            "metadata": {},
            "outputs": [],
            "source": [
                "pltr.plot_head_size(hue_col=\"log_num\", alpha=0.5)\n",
                "plt.show()"
            ]
        },
        {
            "cell_type": "code",
            "execution_count": null,
            "metadata": {},
            "outputs": [],
            "source": [
                "for analyzer in data_list:\n",
                "    display(analyzer.describe(columns=[\"wrm_speed\", \"bbox_error\", \"worm_deviation\"], num=19))"
            ]
        },
        {
            "cell_type": "code",
            "execution_count": null,
            "metadata": {},
            "outputs": [],
            "source": [
                "import numpy as np\n",
                "\n",
                "# find anomalies in the data\n",
                "analyzer.calc_anomalies(\n",
                "    no_preds=True,\n",
                "    min_bbox_error=1.0,\n",
                "    min_dist_error=np.inf,\n",
                "    min_speed=np.inf,\n",
                "    min_size=300,\n",
                ")"
            ]
        }
    ],
    "metadata": {
        "kernelspec": {
            "display_name": "bio-proj",
            "language": "python",
            "name": "python3"
        },
        "language_info": {
            "codemirror_mode": {
                "name": "ipython",
                "version": 3
            },
            "file_extension": ".py",
            "mimetype": "text/x-python",
            "name": "python",
            "nbconvert_exporter": "python",
            "pygments_lexer": "ipython3",
            "version": "3.12.3"
        }
    },
    "nbformat": 4,
    "nbformat_minor": 2
}
