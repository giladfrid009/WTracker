{
    "cells": [
        {
            "cell_type": "markdown",
            "metadata": {},
            "source": [
                "# Plotting and Analysis"
            ]
        },
        {
            "cell_type": "markdown",
            "metadata": {},
            "source": [
                "The role of this notebook is to plot and analyze logs results of a run (or runs) of a simulator, given some fixed timing configuration.\n",
                "These logs (bboxes.csv) are obtained by running a simulator on some experiments. The goal of these plots is to analyze worm's behavior,\n",
                "and to analyze the systems error and how it's affected by different behaviors the worm exhibits.\n",
                "\n",
                "It's important to note that for proper analysis, all the experiments that are analyzed by this notebook *at once* must have the same timing configuration (TimingConfig) parameters."
            ]
        },
        {
            "cell_type": "code",
            "execution_count": null,
            "metadata": {},
            "outputs": [],
            "source": [
                "# fix imports\n",
                "import os\n",
                "import sys\n",
                "\n",
                "module_path = os.path.abspath(os.path.join(\"..\"))\n",
                "if module_path not in sys.path:\n",
                "    sys.path.append(module_path)"
            ]
        },
        {
            "cell_type": "code",
            "execution_count": null,
            "metadata": {},
            "outputs": [],
            "source": [
                "import matplotlib.pyplot as plt\n",
                "import numpy as np\n",
                "from wtracker.eval import *\n",
                "from wtracker.sim.config import TimingConfig\n",
                "from wtracker.utils.gui_utils import UserPrompt\n",
                "from wtracker.utils.path_utils import join_paths"
            ]
        },
        {
            "cell_type": "markdown",
            "metadata": {},
            "source": [
                "### Timing configuration and log files selection"
            ]
        },
        {
            "cell_type": "code",
            "execution_count": null,
            "metadata": {},
            "outputs": [],
            "source": [
                "################################ User Input ################################\n",
                "\n",
                "log_folder_path = None\n",
                "\n",
                "############################################################################\n",
                "\n",
                "\n",
                "if log_folder_path is None:\n",
                "    log_folder_path = UserPrompt.open_directory(title=\"Select log directory to analyze\")\n",
                "\n",
                "log_file = join_paths(log_folder_path, \"bboxes.csv\")\n",
                "time_config_path = join_paths(log_folder_path, \"time_config.json\")\n",
                "analysis_save_path = join_paths(log_folder_path, \"analyzed.csv\")\n",
                "\n",
                "print(\"Base directory: \", log_folder_path)\n",
                "print(\"Log file: \", log_file)\n",
                "print(\"Time config file: \", time_config_path)\n",
                "print(\"Analysis save file: \", analysis_save_path)"
            ]
        },
        {
            "cell_type": "code",
            "execution_count": null,
            "metadata": {},
            "outputs": [],
            "source": [
                "from pprint import pprint\n",
                "\n",
                "timing_config = TimingConfig.load_json(time_config_path)\n",
                "analyzer = DataAnalyzer.load(timing_config, log_file)\n",
                "\n",
                "pprint(timing_config)"
            ]
        },
        {
            "cell_type": "markdown",
            "metadata": {},
            "source": [
                "### Analyze log data"
            ]
        },
        {
            "cell_type": "code",
            "execution_count": null,
            "metadata": {},
            "outputs": [],
            "source": [
                "analyzer.initialize(period=10)\n",
                "\n",
                "analyzer.clean(\n",
                "    trim_cycles=True,\n",
                "    imaging_only=True,\n",
                "    bounds=None,\n",
                ")\n",
                "\n",
                "analyzer.change_unit(\"sec\")"
            ]
        },
        {
            "cell_type": "code",
            "execution_count": null,
            "metadata": {},
            "outputs": [],
            "source": [
                "analyzer.calc_anomalies(\n",
                "    no_preds=True,\n",
                "    min_bbox_error=np.inf,\n",
                "    min_dist_error=np.inf,\n",
                "    min_speed=np.inf,\n",
                "    min_size=np.inf,\n",
                "    remove_anomalies=True,\n",
                ")"
            ]
        },
        {
            "cell_type": "code",
            "execution_count": null,
            "metadata": {},
            "outputs": [],
            "source": [
                "analyzer.print_stats()"
            ]
        },
        {
            "cell_type": "code",
            "execution_count": null,
            "metadata": {},
            "outputs": [],
            "source": [
                "analyzer.describe(\n",
                "    columns=[\"wrm_speed\", \"bbox_error\", \"worm_deviation\"],\n",
                "    percentiles=[0.25, 0.5, 0.75, 0.8, 0.9, 0.95, 0.97, 0.98, 0.99],\n",
                ")"
            ]
        },
        {
            "cell_type": "code",
            "execution_count": null,
            "metadata": {},
            "outputs": [],
            "source": [
                "analyzer.save(analysis_save_path)"
            ]
        },
        {
            "cell_type": "markdown",
            "metadata": {},
            "source": [
                "### Plotting\n",
                "\n",
                "Notice that all of below plots accept `condition` as a parameter.\n",
                "`condition` is expected to be a function of the following signature:\n",
                "\n",
                "```python\n",
                "def cond_func1(input_df: pd.DataFrame) -> pd.DataFrame:\n",
                "    return (input_df[\"wrm_speed\"] > 5) &  (input_df[\"wrm_speed\"] <= 30)\n",
                "```\n",
                "\n",
                "In python, such functions can be also declared without an explicit name and declaration, using the following syntax:\n",
                "(for more information read about lambda functions)\n",
                "\n",
                "```python\n",
                "cond_func1 = lambda input_df: (input_df[\"wrm_speed\"] > 5) & (input_df[\"wrm_speed\"] <= 30)\n",
                "cond_func2 = lambda input_df: input_df[\"phase\"] == \"imaging\"\n",
                "```"
            ]
        },
        {
            "cell_type": "code",
            "execution_count": null,
            "metadata": {},
            "outputs": [],
            "source": [
                "# print column names of the data\n",
                "pprint([f\"{i}: {col}\" for i, col in enumerate(analyzer.column_names())])"
            ]
        },
        {
            "cell_type": "code",
            "execution_count": null,
            "metadata": {},
            "outputs": [],
            "source": [
                "# create the plotter\n",
                "pltr = Plotter([analyzer.data], plot_height=7, palette=\"bright\")"
            ]
        },
        {
            "cell_type": "code",
            "execution_count": null,
            "metadata": {},
            "outputs": [],
            "source": [
                "pltr.plot_trajectory()\n",
                "plt.show()"
            ]
        },
        {
            "cell_type": "code",
            "execution_count": null,
            "metadata": {},
            "outputs": [],
            "source": [
                "pltr.plot_head_size()\n",
                "plt.show()"
            ]
        },
        {
            "cell_type": "code",
            "execution_count": null,
            "metadata": {},
            "outputs": [],
            "source": [
                "pltr.plot_speed(\n",
                "    log_wise=True,\n",
                "    condition=lambda x: x[\"wrm_speed\"] <= 800,\n",
                "    aspect=0.5,\n",
                ")\n",
                "plt.show()"
            ]
        },
        {
            "cell_type": "code",
            "execution_count": null,
            "metadata": {},
            "outputs": [],
            "source": [
                "pltr.plot_speed_vs_error(\n",
                "    error_kind=\"bbox\",\n",
                "    cycle_wise=True,\n",
                "    condition=lambda df: (df[\"wrm_speed\"] < 1000) & (df[\"bbox_error\"] > 1e-5),\n",
                ")\n",
                "plt.show()"
            ]
        },
        {
            "cell_type": "code",
            "execution_count": null,
            "metadata": {},
            "outputs": [],
            "source": [
                "pltr.plot_speed_vs_error(\n",
                "    error_kind=\"dist\",\n",
                "    cycle_wise=True,\n",
                "    condition=lambda df: (df[\"wrm_speed\"] < 1000) & (df[\"worm_deviation\"] < 300),\n",
                ")\n",
                "plt.show()"
            ]
        },
        {
            "cell_type": "code",
            "execution_count": null,
            "metadata": {},
            "outputs": [],
            "source": [
                "pltr.plot_deviation(\n",
                "    percentile=0.995,\n",
                "    kind=\"boxen\",\n",
                "    k_depth=\"proportion\",\n",
                "    outlier_prop=0.02,\n",
                "    saturation=0.5,\n",
                ")\n",
                "plt.show()"
            ]
        }
    ],
    "metadata": {
        "kernelspec": {
            "display_name": "bio-proj",
            "language": "python",
            "name": "python3"
        },
        "language_info": {
            "codemirror_mode": {
                "name": "ipython",
                "version": 3
            },
            "file_extension": ".py",
            "mimetype": "text/x-python",
            "name": "python",
            "nbconvert_exporter": "python",
            "pygments_lexer": "ipython3",
            "version": "3.10.13"
        }
    },
    "nbformat": 4,
    "nbformat_minor": 2
}
