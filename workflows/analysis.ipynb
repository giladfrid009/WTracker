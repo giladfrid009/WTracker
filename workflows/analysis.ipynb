{
    "cells": [
        {
            "cell_type": "markdown",
            "metadata": {},
            "source": [
                "# Plotting and Analysis"
            ]
        },
        {
            "cell_type": "markdown",
            "metadata": {},
            "source": [
                "The role of this notebook is to plot and analyze logs results of a run (or runs) of a simulator, given some fixed timing configuration.\n",
                "These logs (bboxes.csv) are obtained by running a simulator on some experiments. The goal of these plots is to analyze worm's behavior,\n",
                "and to analyze the systems error and how it's affected by different behaviors the worm exhibits.\n",
                "\n",
                "It's important to note that for proper analysis, all the experiments that are analyzed by this notebook *at once* must have the same timing configuration (TimingConfig) parameters."
            ]
        },
        {
            "cell_type": "code",
            "execution_count": 1,
            "metadata": {},
            "outputs": [],
            "source": [
                "# fix imports\n",
                "import os\n",
                "import sys\n",
                "module_path = os.path.abspath(os.path.join('..'))\n",
                "if module_path not in sys.path:\n",
                "    sys.path.append(module_path)"
            ]
        },
        {
            "cell_type": "code",
            "execution_count": 2,
            "metadata": {},
            "outputs": [],
            "source": [
                "import matplotlib.pyplot as plt\n",
                "from wtracker.eval import *\n",
                "from wtracker.sim.config import TimingConfig\n",
                "from wtracker.utils.gui_utils import UserPrompt"
            ]
        },
        {
            "cell_type": "markdown",
            "metadata": {},
            "source": [
                "### Timing configuration and log files selection"
            ]
        },
        {
            "cell_type": "code",
            "execution_count": null,
            "metadata": {},
            "outputs": [],
            "source": [
                "from pprint import pprint\n",
                "\n",
                "base_path = \"D:\\\\Guy_Gilad\\\\FinalEvaluations\\\\Exp0_config1_Optimal\\\\\"\n",
                "\n",
                "################################ User Input ################################\n",
                "\n",
                "# path to the timing config file. \n",
                "# If None, a file dialog will open to select a file\n",
                "time_config_path = base_path + \"time_config.json\"\n",
                "\n",
                "# list containing paths to simulation log files.\n",
                "# All of these simulations must have been run with the above timing config.\n",
                "# If empty, a file dialog will open to select files.\n",
                "log_files = base_path + \"bboxes.csv\"\n",
                "\n",
                "data_save_path = base_path + \"data.pkl\"\n",
                "\n",
                "############################################################################\n",
                "\n",
                "timing_config = TimingConfig.load_json(time_config_path)\n",
                "\n",
                "if len(log_files) == 0:\n",
                "    log_files = UserPrompt.open_file(title=\"Select log files\", filetypes=[(\"Log files\", \"*.csv\")], multiple=True)\n",
                "\n",
                "\n",
                "pprint(timing_config)\n",
                "pprint(log_files)"
            ]
        },
        {
            "cell_type": "markdown",
            "metadata": {},
            "source": [
                "### Plotting configuration\n",
                "\n",
                "Notice that all of below plots accept `condition` as a parameter.\n",
                "`condition` is expected to be a function of the following signature:\n",
                "\n",
                "```python\n",
                "def cond_func1(input_df: pd.DataFrame) -> pd.DataFrame:\n",
                "    return (input_df[\"wrm_speed\"] > 5) &  (input_df[\"wrm_speed\"] <= 30)\n",
                "```\n",
                "\n",
                "In python, such functions can be also declared without an explicit name and declaration, using the following syntax:\n",
                "(for more information read about lambda functions)\n",
                "\n",
                "```python\n",
                "cond_func1 = lambda input_df: (input_df[\"wrm_speed\"] > 5) & (input_df[\"wrm_speed\"] <= 30)\n",
                "cond_func2 = lambda input_df: input_df[\"phase\"] == \"imaging\"\n",
                "```"
            ]
        },
        {
            "cell_type": "markdown",
            "metadata": {},
            "source": [
                "##### Optionally, Calculate precise error\n",
                "\n",
                "To calculate precise error of the system, run the following cell, otherwise skip it.\n",
                "Note, that running this cell might take a while.\n",
                "\n",
                "For each frame, the exact pixels in which worm's head is located are calculated. To this end, there is a need to access worm images which were extracted during the experiment initialization process.\n",
                "Afterwards, the error is calculated as the proportion of worm pixels that are outside of the microscope view. \n",
                "Since to calculate this error there is a need to load images from the disk, the calculation is relatively slow."
            ]
        },
        {
            "cell_type": "code",
            "execution_count": null,
            "metadata": {},
            "outputs": [],
            "source": [
                "import numpy as np\n",
                "from wtracker.utils.frame_reader import FrameReader\n",
                "\n",
                "# TODO: ADD DOCS FOR THIS SECTION\n",
                "\n",
                "################################ User Input ################################\n",
                "\n",
                "background_path = \"data\\\\Exp2_GuyGilad_logs_yolo\\\\background.npy\"\n",
                "\n",
                "worm_folder_path = \"D:\\\\Guy_Gilad\\\\Exp2_GuyGilad\\\\logs_yolo\\\\worms\"\n",
                "\n",
                "diff_thresh = 20\n",
                "\n",
                "############################################################################\n",
                "\n",
                "if background_path is None:\n",
                "    background_path = UserPrompt.open_file(title=\"Select background images\", file_types=[(\"Numpy files\", \"*.npy\")])\n",
                "\n",
                "if worm_folder_path is None:\n",
                "    worm_folder_path = UserPrompt.open_directory(title=\"Select worm image folders\")\n",
                "\n",
                "print(\"Background Files: \", background_path)\n",
                "print(\"Worm Image Folders: \", worm_folder_path)\n",
                "\n",
                "background = np.load(background_path, allow_pickle=True)\n",
                "\n",
                "worm_reader = FrameReader.create_from_directory(worm_folder_path)"
            ]
        },
        {
            "cell_type": "markdown",
            "metadata": {},
            "source": [
                "##### Calibrate Threshold [Optional]"
            ]
        },
        {
            "cell_type": "code",
            "execution_count": null,
            "metadata": {},
            "outputs": [],
            "source": [
                "from wtracker.eval.vlc import StreamViewer\n",
                "from wtracker.eval.error_calculator import ErrorCalculator\n",
                "from wtracker.utils.frame_reader import FrameReader\n",
                "import pandas as pd\n",
                "import numpy as np\n",
                "\n",
                "viewer = StreamViewer(window_name=\"Threshold Calibration\")"
            ]
        },
        {
            "cell_type": "code",
            "execution_count": null,
            "metadata": {},
            "outputs": [],
            "source": [
                "\n",
                "################################ User Input ################################\n",
                "threshold = 20\n",
                "exp_number = 0 # the number of the experiment in the list\n",
                "delay = 0\n",
                "############################################################################\n",
                "def show_sementation(wrm_view:np.ndarray, wrm_mask:np.ndarray) -> None:\n",
                "    wrm_view[~wrm_mask] = 0\n",
                "    viewer.imshow(wrm_view)\n",
                "    viewer.waitKey(delay)\n",
                "\n",
                "\n",
                "ErrorCalculator.probe_hook = show_sementation\n",
                "\n",
                "reader = FrameReader.create_from_directory(worm_folder_path)\n",
                "log = pd.read_csv(log_files[exp_number])\n",
                "\n",
                "viewer.open()\n",
                "shape = [*reader.frame_shape]\n",
                "shape[:2] = background.shape[:2]\n",
                "background.reshape(shape)\n",
                "\n",
                "ErrorCalculator.calculate_precise(\n",
                "    background=background,\n",
                "    worm_bboxes=log[[\"wrm_x\", \"wrm_y\", \"wrm_w\", \"wrm_h\"]].to_numpy(),\n",
                "    mic_bboxes=log[[\"mic_x\", \"mic_y\", \"mic_w\", \"mic_h\"]].to_numpy(),\n",
                "    frame_nums=log['frame'].astype(int).to_list(),\n",
                "    worm_reader=reader,\n",
                "    diff_thresh=threshold\n",
                ")"
            ]
        },
        {
            "cell_type": "markdown",
            "metadata": {},
            "source": [
                "##### Calculate Precise error"
            ]
        },
        {
            "cell_type": "code",
            "execution_count": null,
            "metadata": {},
            "outputs": [],
            "source": [
                "analyzer.calc_precise_error(\n",
                "    worm_reader=worm_reader,\n",
                "    background=background,\n",
                "    diff_thresh=diff_thresh,\n",
                ")"
            ]
        },
        {
            "cell_type": "code",
            "execution_count": null,
            "metadata": {},
            "outputs": [],
            "source": [
                "analyzer.describe([\"precise_error\"], percentiles=[0.25, 0.5, 0.75, 0.9, 0.95, 0.99])"
            ]
        },
        {
            "cell_type": "markdown",
            "metadata": {},
            "source": [
                "##### Save Data"
            ]
        },
        {
            "cell_type": "code",
            "execution_count": null,
            "metadata": {},
            "outputs": [],
            "source": [
                "data_save_path = base_path + \"analysis.csv\"\n",
                "\n",
                "if data_save_path is None:\n",
                "    data_save_path = UserPrompt.save_file(title=\"Save data\", filetypes=[(\"Log file\", \"*.csv\")])\n",
                "\n",
                "analyzer.save(data_save_path)"
            ]
        },
        {
            "cell_type": "code",
            "execution_count": null,
            "metadata": {},
            "outputs": [],
            "source": [
                "raise KeyError()"
            ]
        },
        {
            "cell_type": "markdown",
            "metadata": {},
            "source": [
                "### Plotting and analysis"
            ]
        },
        {
            "cell_type": "code",
            "execution_count": 6,
            "metadata": {},
            "outputs": [
                {
                    "name": "stdout",
                    "output_type": "stream",
                    "text": [
                        "CSV\n",
                        "Optimal\n",
                        "PolyFit(2)\n",
                        "ResMLP(1)\n",
                        "CSV\n",
                        "Optimal\n",
                        "PolyFit(2)\n",
                        "ResMLP(1)\n",
                        "CSV\n",
                        "Optimal\n",
                        "PolyFit(2)\n",
                        "ResMLP(1)\n",
                        "CSV\n",
                        "Optimal\n",
                        "PolyFit(2)\n",
                        "ResMLP(1)\n",
                        "CSV\n",
                        "Optimal\n",
                        "PolyFit(2)\n",
                        "ResMLP(1)\n",
                        "20\n"
                    ]
                }
            ],
            "source": [
                "from wtracker.utils.path_utils import Files\n",
                "import pandas as pd\n",
                "\n",
                "exp_type = \"Exp0\"\n",
                "config_type = \"config3\"\n",
                "exp_list = [\"Exp0\",'Exp2', \"Exp1\", 'Exp3', 'Exp4']\n",
                "def filter(dir:str, t_list:list[str]):\n",
                "    for type in t_list:\n",
                "        if type in dir:\n",
                "            return True\n",
                "    return False\n",
                "    \n",
                "\n",
                "all_dirs = Files(\"D:\\\\Guy_Gilad\\\\FinalEvaluations\", scan_dirs=True)\n",
                "\n",
                "experiment_dirs = [dir for dir in all_dirs if (config_type in dir) and filter(dir, exp_list)]\n",
                "\n",
                "time_configs = [TimingConfig.load_json(dir + \"//time_config.json\") for dir in experiment_dirs]\n",
                "\n",
                "analyzer_list = [DataAnalyzer.load(conf, dir + \"//bboxes.csv\") for conf, dir in zip(time_configs, experiment_dirs)]\n",
                "\n",
                "exp_bounds = {\n",
                "    \"Exp0\": (73,38,1551,1359),\n",
                "    \"Exp1\": (39,32,1467,1301),\n",
                "    \"Exp2\": (6,57,1495,1336),\n",
                "    \"Exp3\": (10,60,1498,1322),\n",
                "    \"Exp4\": (24,71,1496,1335),\n",
                "}\n",
                "\n",
                "for i, an in enumerate(analyzer_list):\n",
                "    exp_dir = experiment_dirs[i]\n",
                "    model = exp_dir.split('_')[-1]\n",
                "    model = \"ResMLP(1)\" if model == \"1)\" else model\n",
                "    model = \"ResMLP(1)\" if model == \"2)\" else model\n",
                "\n",
                "    print(model)\n",
                "    an._orig_data[\"model\"] = model\n",
                "    an.initialize(period=10)\n",
                "\n",
                "print(len(analyzer_list))"
            ]
        },
        {
            "cell_type": "code",
            "execution_count": 7,
            "metadata": {},
            "outputs": [
                {
                    "name": "stdout",
                    "output_type": "stream",
                    "text": [
                        "Exp0\n",
                        "Total Count Removed Frames: 7151 (11.688%)\n",
                        "Total Count of No Pred Frames: 20 (0.037%)\n",
                        "Total Num of Cycles: 6038\n",
                        "Non Perfect Predictions: 29.293%\n",
                        "Exp0\n",
                        "Total Count Removed Frames: 7151 (11.688%)\n",
                        "Total Count of No Pred Frames: 20 (0.037%)\n",
                        "Total Num of Cycles: 6038\n",
                        "Non Perfect Predictions: 1.747%\n",
                        "Exp0\n",
                        "Total Count Removed Frames: 7151 (11.688%)\n",
                        "Total Count of No Pred Frames: 20 (0.037%)\n",
                        "Total Num of Cycles: 6038\n",
                        "Non Perfect Predictions: 10.939%\n",
                        "Exp0\n",
                        "Total Count Removed Frames: 7151 (11.688%)\n",
                        "Total Count of No Pred Frames: 20 (0.037%)\n",
                        "Total Num of Cycles: 6038\n",
                        "Non Perfect Predictions: 12.698%\n",
                        "Exp1\n",
                        "Total Count Removed Frames: 17874 (27.501%)\n",
                        "Total Count of No Pred Frames: 3 (0.006%)\n",
                        "Total Num of Cycles: 5290\n",
                        "Non Perfect Predictions: 86.685%\n",
                        "Exp1\n",
                        "Total Count Removed Frames: 17874 (27.501%)\n",
                        "Total Count of No Pred Frames: 3 (0.006%)\n",
                        "Total Num of Cycles: 5290\n",
                        "Non Perfect Predictions: 21.814%\n",
                        "Exp1\n",
                        "Total Count Removed Frames: 17578 (27.045%)\n",
                        "Total Count of No Pred Frames: 299 (0.631%)\n",
                        "Total Num of Cycles: 5327\n",
                        "Non Perfect Predictions: 45.431%\n",
                        "Exp1\n",
                        "Total Count Removed Frames: 17874 (27.501%)\n",
                        "Total Count of No Pred Frames: 3 (0.006%)\n",
                        "Total Num of Cycles: 5290\n",
                        "Non Perfect Predictions: 41.234%\n",
                        "Exp2\n",
                        "Total Count Removed Frames: 1561 (2.402%)\n",
                        "Total Count of No Pred Frames: 78 (0.123%)\n",
                        "Total Num of Cycles: 7050\n",
                        "Non Perfect Predictions: 65.036%\n",
                        "Exp2\n",
                        "Total Count Removed Frames: 1561 (2.402%)\n",
                        "Total Count of No Pred Frames: 78 (0.123%)\n",
                        "Total Num of Cycles: 7050\n",
                        "Non Perfect Predictions: 13.803%\n",
                        "Exp2\n",
                        "Total Count Removed Frames: 1561 (2.402%)\n",
                        "Total Count of No Pred Frames: 78 (0.123%)\n",
                        "Total Num of Cycles: 7050\n",
                        "Non Perfect Predictions: 33.569%\n",
                        "Exp2\n",
                        "Total Count Removed Frames: 1561 (2.402%)\n",
                        "Total Count of No Pred Frames: 78 (0.123%)\n",
                        "Total Num of Cycles: 7050\n",
                        "Non Perfect Predictions: 33.332%\n",
                        "Exp3\n",
                        "Total Count Removed Frames: 499 (0.768%)\n",
                        "Total Count of No Pred Frames: 970 (1.504%)\n",
                        "Total Num of Cycles: 7168\n",
                        "Non Perfect Predictions: 66.621%\n",
                        "Exp3\n",
                        "Total Count Removed Frames: 499 (0.768%)\n",
                        "Total Count of No Pred Frames: 970 (1.504%)\n",
                        "Total Num of Cycles: 7168\n",
                        "Non Perfect Predictions: 33.599%\n",
                        "Exp3\n",
                        "Total Count Removed Frames: 642 (0.988%)\n",
                        "Total Count of No Pred Frames: 827 (1.285%)\n",
                        "Total Num of Cycles: 7160\n",
                        "Non Perfect Predictions: 42.654%\n",
                        "Exp3\n",
                        "Total Count Removed Frames: 499 (0.768%)\n",
                        "Total Count of No Pred Frames: 970 (1.504%)\n",
                        "Total Num of Cycles: 7168\n",
                        "Non Perfect Predictions: 46.876%\n",
                        "Exp4\n",
                        "Total Count Removed Frames: 384 (0.591%)\n",
                        "Total Count of No Pred Frames: 830 (1.285%)\n",
                        "Total Num of Cycles: 7183\n",
                        "Non Perfect Predictions: 68.296%\n",
                        "Exp4\n",
                        "Total Count Removed Frames: 368 (0.566%)\n",
                        "Total Count of No Pred Frames: 846 (1.309%)\n",
                        "Total Num of Cycles: 7185\n",
                        "Non Perfect Predictions: 48.554%\n",
                        "Exp4\n",
                        "Total Count Removed Frames: 378 (0.582%)\n",
                        "Total Count of No Pred Frames: 836 (1.294%)\n",
                        "Total Num of Cycles: 7185\n",
                        "Non Perfect Predictions: 54.755%\n",
                        "Exp4\n",
                        "Total Count Removed Frames: 384 (0.591%)\n",
                        "Total Count of No Pred Frames: 830 (1.285%)\n",
                        "Total Num of Cycles: 7183\n",
                        "Non Perfect Predictions: 58.653%\n"
                    ]
                }
            ],
            "source": [
                "import numpy as np\n",
                "\n",
                "BAD_frames = {\n",
                "    \"Exp0\": [(41109, 41113)],\n",
                "    \"Exp1\": [(21930, 21942),\n",
                "             (18741,18763)],\n",
                "    \"Exp2\": [(22474, 22745), (32859,32860)],\n",
                "    \"Exp3\": [(6843,6853), (6872,6915), (37750,37751), (37807, 37808), (47485, 47506), (53117,53122)],\n",
                "    \"Exp4\": [(5700,5798),(14963,14986),(27816, 27817),(35785,35804),(38839,38864),(39250,39300),(43543, 43544),(43661,43674),(46848,46859),(64874,64905)],\n",
                "}\n",
                "\n",
                "def remove_cycles(analyzer:DataAnalyzer, frames:tuple[int,int]):\n",
                "    frame_range = np.asanyarray(list(range(frames[0], frames[1])), dtype=int)\n",
                "    mask = analyzer.data['frame'].isin(frame_range)\n",
                "    cycles = analyzer.data[mask][\"cycle\"].unique()\n",
                "    analyzer.remove_cycle(cycles)\n",
                "    return analyzer\n",
                "\n",
                "\n",
                "for i, an in enumerate(analyzer_list):\n",
                "    exp_dir = experiment_dirs[i]\n",
                "    exp_name = [k for k in BAD_frames.keys() if k in exp_dir][0]\n",
                "    frames_toremove = BAD_frames[exp_name]\n",
                "\n",
                "    for fr in frames_toremove:\n",
                "        #remove_cycles(an, fr)\n",
                "        pass\n",
                "\n",
                "    an.clean(bounds=exp_bounds[exp_name])\n",
                "    #an.calc_anomalies(no_preds=True, remove_anomalies=False)\n",
                "\n",
                "    print(exp_name)\n",
                "    an.print_stats()\n",
                "\n",
                "    an.change_unit(\"sec\")\n",
                "\n",
                "pltr = Plotter([an.data for an in analyzer_list], plot_height=7, palette=\"bright\")"
            ]
        },
        {
            "cell_type": "code",
            "execution_count": null,
            "metadata": {},
            "outputs": [],
            "source": [
                "# create the plotter\n",
                "pltr = Plotter([analyzer_list[0]], plot_height=7, palette=\"bright\")"
            ]
        },
        {
            "cell_type": "code",
            "execution_count": null,
            "metadata": {},
            "outputs": [],
            "source": [
                "# print column names of the data\n",
                "pprint([f\"{i}: {col}\" for i, col in enumerate(analyzer.column_names())])"
            ]
        },
        {
            "cell_type": "code",
            "execution_count": null,
            "metadata": {},
            "outputs": [],
            "source": [
                "analyzer.print_stats()"
            ]
        },
        {
            "cell_type": "code",
            "execution_count": null,
            "metadata": {},
            "outputs": [],
            "source": [
                "pltr.plot_trajectory()\n",
                "plt.show()"
            ]
        },
        {
            "cell_type": "code",
            "execution_count": null,
            "metadata": {},
            "outputs": [],
            "source": [
                "pltr.plot_speed(log_wise=True, hue_col=\"log_num\", condition=lambda x: x[\"wrm_speed\"] <= 800, aspect=1.5)\n",
                "plt.show()"
            ]
        },
        {
            "cell_type": "code",
            "execution_count": null,
            "metadata": {},
            "outputs": [],
            "source": [
                "pltr.plot_error(log_wise=True, error_kind=\"dist\", hue_col=\"log_num\", condition=lambda df: (df[\"worm_deviation\"] > 1e-5) & (df[\"worm_deviation\"] <300), cycle_wise=True)\n",
                "plt.show()"
            ]
        },
        {
            "cell_type": "code",
            "execution_count": null,
            "metadata": {},
            "outputs": [],
            "source": [
                "pltr.plot_speed_vs_error(error_kind=\"dist\", condition=lambda x: (x[\"wrm_speed\"] < 1000) & (x[\"worm_deviation\"] < 300), cycle_wise=True)\n",
                "plt.show()"
            ]
        },
        {
            "cell_type": "code",
            "execution_count": null,
            "metadata": {},
            "outputs": [],
            "source": [
                "def save_fig(fig:plt.Figure, path:str, dpi:int=100):\n",
                "    fig.set_dpi(dpi)\n",
                "    # fig.tight_layout()\n",
                "    fig.savefig(path + \".png\", format=\"png\")"
            ]
        },
        {
            "cell_type": "code",
            "execution_count": null,
            "metadata": {},
            "outputs": [],
            "source": [
                "pltr.palette = None\n",
                "plot = pltr.plot_deviation(\n",
                "    # percentile=0.99,\n",
                "    log_wise=False,\n",
                "    kind=\"boxen\",\n",
                "    # k_depth=\"proportion\",\n",
                "    # outlier_prop=0.02,\n",
                "    # saturation=0.5,\n",
                "    hue_col='model',\n",
                "    aspect=2\n",
                ")\n",
                "# save_fig(plot.figure, f\"C:\\\\Users\\\\slevylab\\\\Desktop\\\\plots\\\\Exp[0,1,2]_{config_type}\")\n",
                "\n",
                "plt.show()"
            ]
        },
        {
            "cell_type": "code",
            "execution_count": null,
            "metadata": {},
            "outputs": [],
            "source": [
                "q = pltr.data[\"worm_deviation\"].quantile(1)\n",
                "cond = lambda d: d[\"worm_deviation\"] < q\n",
                "plot = pltr.create_distplot(\n",
                "    x_col=\"cycle_step\",\n",
                "    y_col=\"worm_deviation\",\n",
                "    x_label=\"cycle step\",\n",
                "    y_label=\"distance\",\n",
                "    title=\"Distance between worm and microscope centers as function of cycle step\",\n",
                "    kind=\"hist\",\n",
                "    common_bins=True,\n",
                "    common_norm=True,\n",
                "    stat='proportion',\n",
                "    hue_col='model'\n",
                "    # condition=cond\n",
                ")\n",
                "\n",
                "plt.show()"
            ]
        },
        {
            "cell_type": "code",
            "execution_count": null,
            "metadata": {},
            "outputs": [],
            "source": [
                "pltr.plot_head_size(hue_col=\"log_num\", alpha=0.5)\n",
                "plt.show()"
            ]
        },
        {
            "cell_type": "code",
            "execution_count": null,
            "metadata": {},
            "outputs": [],
            "source": [
                "# TODO: FIX, WE NEED TO CREATE AN ANALYZER FOR EACH DATA ITEM\n",
                "for data in analyzer_list:\n",
                "    display(analyzer.describe(columns=[\"wrm_speed\", \"bbox_error\", \"worm_deviation\"], num=19))"
            ]
        },
        {
            "cell_type": "code",
            "execution_count": null,
            "metadata": {},
            "outputs": [],
            "source": [
                "import numpy as np\n",
                "\n",
                "# find anomalies in the data\n",
                "analyzer.calc_anomalies(\n",
                "    no_preds=True,\n",
                "    min_bbox_error=1.0,\n",
                "    min_dist_error=np.inf,\n",
                "    min_speed=np.inf,\n",
                "    min_size=300,\n",
                ")"
            ]
        },
        {
            "cell_type": "code",
            "execution_count": null,
            "metadata": {},
            "outputs": [],
            "source": [
                "table = pltr.data[[\"wrm_speed\", \"bbox_error\", \"worm_deviation\"]].describe(np.linspace(0.05, 1, 19, endpoint=False))\n",
                "display(table)"
            ]
        },
        {
            "cell_type": "code",
            "execution_count": null,
            "metadata": {},
            "outputs": [],
            "source": [
                "table = pltr.data[[\"wrm_speed\", \"bbox_error\", \"worm_deviation\"]].describe(np.linspace(0.05, 1, 19, endpoint=False))\n",
                "display(table)"
            ]
        }
    ],
    "metadata": {
        "kernelspec": {
            "display_name": "bio-proj",
            "language": "python",
            "name": "python3"
        },
        "language_info": {
            "codemirror_mode": {
                "name": "ipython",
                "version": 3
            },
            "file_extension": ".py",
            "mimetype": "text/x-python",
            "name": "python",
            "nbconvert_exporter": "python",
            "pygments_lexer": "ipython3",
            "version": "3.12.3"
        }
    },
    "nbformat": 4,
    "nbformat_minor": 2
}
