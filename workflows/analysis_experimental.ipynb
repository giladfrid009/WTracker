{
    "cells": [
        {
            "cell_type": "markdown",
            "metadata": {},
            "source": [
                "# EXPERIMENTAL NOTEBOOK, DO NOT USE!"
            ]
        },
        {
            "cell_type": "code",
            "execution_count": null,
            "metadata": {},
            "outputs": [],
            "source": [
                "# fix imports\n",
                "import os\n",
                "import sys\n",
                "\n",
                "module_path = os.path.abspath(os.path.join(\"..\"))\n",
                "if module_path not in sys.path:\n",
                "    sys.path.append(module_path)"
            ]
        },
        {
            "cell_type": "code",
            "execution_count": null,
            "metadata": {},
            "outputs": [],
            "source": [
                "import matplotlib.pyplot as plt\n",
                "import numpy as np\n",
                "from wtracker.eval import *\n",
                "from wtracker.sim.config import TimingConfig\n",
                "from wtracker.utils.gui_utils import UserPrompt\n",
                "from wtracker.utils.path_utils import join_paths"
            ]
        },
        {
            "cell_type": "markdown",
            "metadata": {},
            "source": [
                "### Timing configuration and log files selection"
            ]
        },
        {
            "cell_type": "code",
            "execution_count": null,
            "metadata": {},
            "outputs": [],
            "source": [
                "################################ User Input ################################\n",
                "\n",
                "# The folder path to the experiment to analyze.\n",
                "# This folder should contain the log file and time config file.\n",
                "# If None, the user will be prompted to select a folder.\n",
                "experiment_folder = \"/mnt/c/Users/freid/Desktop/FinalEvaluations/Exp1_config1_CSV\"\n",
                "\n",
                "############################################################################\n",
                "\n",
                "\n",
                "if experiment_folder is None:\n",
                "    experiment_folder = UserPrompt.open_directory(title=\"Select log directory to analyze\")\n",
                "\n",
                "log_file = join_paths(experiment_folder, \"bboxes.csv\")\n",
                "time_config_path = join_paths(experiment_folder, \"time_config.json\")\n",
                "analysis_save_path = join_paths(experiment_folder, \"analyzed.csv\")\n",
                "\n",
                "print(\"Base directory: \", experiment_folder)\n",
                "print(\"Log file: \", log_file)\n",
                "print(\"Time config file: \", time_config_path)\n",
                "print(\"Analysis save file: \", analysis_save_path)"
            ]
        },
        {
            "cell_type": "code",
            "execution_count": null,
            "metadata": {},
            "outputs": [],
            "source": [
                "from pprint import pprint\n",
                "\n",
                "# load the data from the directory\n",
                "timing_config = TimingConfig.load_json(time_config_path)\n",
                "analyzer = DataAnalyzer.load(timing_config, log_file)\n",
                "\n",
                "pprint(timing_config)"
            ]
        },
        {
            "cell_type": "markdown",
            "metadata": {},
            "source": [
                "### Analyze log data\n",
                "\n",
                "The analyzer cleans up the data to our needs, and able to display useful statistics.  \n",
                "Afterwards, the analyzed data will be passed to a `Plotter` class which draws graphs of the resulting analyzed data."
            ]
        },
        {
            "cell_type": "code",
            "execution_count": null,
            "metadata": {},
            "outputs": [],
            "source": [
                "################################ User Input ################################\n",
                "\n",
                "# initialize the analyzer on the log data.\n",
                "analyzer.initialize(period=10)\n",
                "\n",
                "# remove unwanted frames from the data\n",
                "analyzer.clean(\n",
                "    trim_cycles=True,\n",
                "    imaging_only=True,\n",
                "    bounds=None,\n",
                ")\n",
                "\n",
                "# find anomalies in the resulting data, and remove them if needed\n",
                "analyzer.calc_anomalies(\n",
                "    no_preds=True,\n",
                "    min_bbox_error=np.inf,\n",
                "    min_dist_error=np.inf,\n",
                "    min_speed=np.inf,\n",
                "    min_size=np.inf,\n",
                "    remove_anomalies=True,  # whether to remove the anomalies from the data, on only detect them\n",
                ")\n",
                "\n",
                "# change the units of the time and distance of the resulting analyzed data\n",
                "#analyzer.change_unit(\"sec\")\n",
                "\n",
                "############################################################################"
            ]
        },
        {
            "cell_type": "code",
            "execution_count": null,
            "metadata": {},
            "outputs": [],
            "source": [
                "from wtracker.sim.config import ExperimentConfig\n",
                "from wtracker.utils.bbox_utils import *\n",
                "from tqdm.auto import tqdm\n",
                "import cv2 as cv\n",
                "import matplotlib.pyplot as plt\n",
                "\n",
                "exp_config = ExperimentConfig.load_json(join_paths(experiment_folder, \"exp_config.json\"))\n",
                "\n",
                "H, W = exp_config.orig_resolution\n",
                "\n",
                "class ImageCreator:\n",
                "    def __init__(self, analyzer: DataAnalyzer, h: int, w: int) -> None:\n",
                "        self.image = np.ones((h, w, 3), dtype=np.uint8) * 255\n",
                "\n",
                "        bboxes = analyzer._orig_data[[\"wrm_x\", \"wrm_y\", \"wrm_w\", \"wrm_h\"]].to_numpy()\n",
                "\n",
                "        bboxes, is_valid = BoxUtils.discretize(bboxes, (h, w), BoxFormat.XYWH)\n",
                "\n",
                "        self.is_valid = is_valid\n",
                "        self.bboxes = bboxes\n",
                "\n",
                "    def __getitem__(self, idx: int):\n",
                "        if self.is_valid[idx]:\n",
                "            bbox = self.bboxes[idx]\n",
                "            assert bbox[2] > 0 and bbox[3] > 0, f\"{idx}\"\n",
                "            img = self.image[bbox[1] : bbox[1] + bbox[3], bbox[0] : bbox[0] + bbox[2]]\n",
                "            assert img.shape[0] > 0 and img.shape[1] > 0, f\"{idx}\"\n",
                "            return img\n",
                "        else:\n",
                "            return None\n",
                "        \n",
                "\n",
                "def save_images(analyzer: DataAnalyzer, save_folder: str, h: int, w: int):\n",
                "    image_creator = ImageCreator(analyzer, h, w)\n",
                "    for i in tqdm(range(len(analyzer._orig_data))):\n",
                "        image = image_creator[i]\n",
                "        if image is None:\n",
                "            continue\n",
                "\n",
                "        try:\n",
                "            cv.imwrite(join_paths(save_folder, f\"{i:09d}.png\"), image)\n",
                "        except Exception as e:\n",
                "            print(f\"Failed to save image {i:09d}: {e}\")"
            ]
        },
        {
            "cell_type": "code",
            "execution_count": null,
            "metadata": {},
            "outputs": [],
            "source": [
                "#save_images(analyzer, \"images\", H, W)"
            ]
        },
        {
            "cell_type": "code",
            "execution_count": null,
            "metadata": {},
            "outputs": [],
            "source": [
                "class ImageLoader:\n",
                "    def __init__(self, folder: str, name_format: str, imread_flags) -> None:\n",
                "        self.folder = folder\n",
                "        self.name_format = name_format\n",
                "        self.imread_flags = imread_flags\n",
                "\n",
                "    def __getitem__(self, idx: int) -> np.ndarray:\n",
                "        path = join_paths(self.folder, self.name_format.format(idx))\n",
                "        return cv.imread(path, flags=self.imread_flags)"
            ]
        },
        {
            "cell_type": "code",
            "execution_count": null,
            "metadata": {},
            "outputs": [],
            "source": [
                "\"\"\" loader = ImageLoader(\"images\", \"{:09d}.png\", cv.IMREAD_COLOR)\n",
                "\n",
                "bg = np.zeros((H, W, 3), dtype=np.uint8)\n",
                "\n",
                "analyzer.calc_precise_error(loader, background=bg, diff_thresh=10)\n",
                "\n",
                "print(analyzer.data[\"precise_error\"].mean()) \"\"\""
            ]
        },
        {
            "cell_type": "code",
            "execution_count": null,
            "metadata": {},
            "outputs": [],
            "source": [
                "print(analyzer.data[\"bbox_error\"].mean())"
            ]
        },
        {
            "cell_type": "code",
            "execution_count": null,
            "metadata": {},
            "outputs": [],
            "source": [
                "# get index of the first true element \n",
                "\n",
                "first_true = np.argmax((np.abs(analyzer.data[\"bbox_error\"] - analyzer.data[\"precise_error\"]) > 1e-2))\n",
                "print(first_true)\n",
                "\n",
                "print(analyzer.data[\"bbox_error\"].iloc[first_true])\n",
                "print(analyzer.data[\"precise_error\"].iloc[first_true])\n",
                "\n",
                "print(\"frame:\", analyzer.data[\"frame\"].iloc[first_true])\n",
                "print(analyzer.data[[\"wrm_x\", \"wrm_y\", \"wrm_w\", \"wrm_h\"]].iloc[first_true])\n",
                "print(analyzer.data[[\"mic_x\", \"mic_y\", \"mic_w\", \"mic_h\"]].iloc[first_true])"
            ]
        },
        {
            "cell_type": "code",
            "execution_count": null,
            "metadata": {},
            "outputs": [],
            "source": [
                "analyzer.print_stats()"
            ]
        },
        {
            "cell_type": "code",
            "execution_count": null,
            "metadata": {},
            "outputs": [],
            "source": [
                "analyzer.describe(\n",
                "    columns=[\"wrm_speed\", \"bbox_error\", \"precise_error\", \"worm_deviation\"],\n",
                "    percentiles=[0.25, 0.5, 0.75, 0.8, 0.9, 0.95, 0.97, 0.98, 0.99],\n",
                ")"
            ]
        },
        {
            "cell_type": "code",
            "execution_count": null,
            "metadata": {},
            "outputs": [],
            "source": [
                "# save tge analyzed data back to the experiment directory\n",
                "analyzer.save(analysis_save_path)"
            ]
        },
        {
            "cell_type": "markdown",
            "metadata": {},
            "source": [
                "### Plotting\n",
                "\n",
                "Notice that all of below plots accept `condition` as a parameter.\n",
                "`condition` is expected to be a function of the following signature:\n",
                "\n",
                "```python\n",
                "def cond_func1(input_df: pd.DataFrame) -> pd.DataFrame:\n",
                "    return (input_df[\"wrm_speed\"] > 5) &  (input_df[\"wrm_speed\"] <= 30)\n",
                "```\n",
                "\n",
                "In python, such functions can be also declared without an explicit name and declaration, using the following syntax:\n",
                "(for more information read about lambda functions)\n",
                "\n",
                "```python\n",
                "cond_func1 = lambda input_df: (input_df[\"wrm_speed\"] > 5) & (input_df[\"wrm_speed\"] <= 30)\n",
                "cond_func2 = lambda input_df: input_df[\"phase\"] == \"imaging\"\n",
                "```"
            ]
        },
        {
            "cell_type": "code",
            "execution_count": null,
            "metadata": {},
            "outputs": [],
            "source": [
                "# print column names of the data\n",
                "pprint([f\"{i}: {col}\" for i, col in enumerate(analyzer.column_names())])"
            ]
        },
        {
            "cell_type": "code",
            "execution_count": null,
            "metadata": {},
            "outputs": [],
            "source": [
                "# create the plotter from the analyzed data we created previously\n",
                "pltr = Plotter([analyzer.data], plot_height=7, palette=\"bright\")"
            ]
        },
        {
            "cell_type": "code",
            "execution_count": null,
            "metadata": {},
            "outputs": [],
            "source": [
                "pltr.plot_trajectory()\n",
                "plt.show()"
            ]
        },
        {
            "cell_type": "code",
            "execution_count": null,
            "metadata": {},
            "outputs": [],
            "source": [
                "pltr.plot_head_size()\n",
                "plt.show()"
            ]
        },
        {
            "cell_type": "code",
            "execution_count": null,
            "metadata": {},
            "outputs": [],
            "source": [
                "pltr.plot_speed(\n",
                "    condition=lambda x: x[\"wrm_speed\"] <= 800,\n",
                "    aspect=0.5,\n",
                ")\n",
                "plt.show()"
            ]
        },
        {
            "cell_type": "code",
            "execution_count": null,
            "metadata": {},
            "outputs": [],
            "source": [
                "pltr.plot_cycle_error(\n",
                "    error_kind=\"bbox\",\n",
                "    log_wise=True,\n",
                "    k_depth=\"proportion\",\n",
                "    outlier_prop=0.01,\n",
                ")\n",
                "plt.show()"
            ]
        },
        {
            "cell_type": "code",
            "execution_count": null,
            "metadata": {},
            "outputs": [],
            "source": [
                "pltr.plot_cycle_error(\n",
                "    error_kind=\"dist\",\n",
                "    log_wise=True,\n",
                "    k_depth=\"proportion\",\n",
                "    outlier_prop=0.02,\n",
                ")\n",
                "plt.show()"
            ]
        },
        {
            "cell_type": "code",
            "execution_count": null,
            "metadata": {},
            "outputs": [],
            "source": [
                "pltr.plot_speed_vs_error(\n",
                "    error_kind=\"bbox\",\n",
                "    cycle_wise=True,\n",
                "    condition=lambda df: (df[\"wrm_speed\"] < 1000) & (df[\"bbox_error\"] > 1e-5),\n",
                ")\n",
                "plt.show()"
            ]
        },
        {
            "cell_type": "code",
            "execution_count": null,
            "metadata": {},
            "outputs": [],
            "source": [
                "pltr.plot_speed_vs_error(\n",
                "    error_kind=\"dist\",\n",
                "    cycle_wise=True,\n",
                "    condition=lambda df: (df[\"wrm_speed\"] < 1000) & (df[\"worm_deviation\"] < 300),\n",
                ")\n",
                "plt.show()"
            ]
        }
    ],
    "metadata": {
        "kernelspec": {
            "display_name": "bio-proj",
            "language": "python",
            "name": "python3"
        },
        "language_info": {
            "codemirror_mode": {
                "name": "ipython",
                "version": 3
            },
            "file_extension": ".py",
            "mimetype": "text/x-python",
            "name": "python",
            "nbconvert_exporter": "python",
            "pygments_lexer": "ipython3",
            "version": "3.10.14"
        }
    },
    "nbformat": 4,
    "nbformat_minor": 2
}
