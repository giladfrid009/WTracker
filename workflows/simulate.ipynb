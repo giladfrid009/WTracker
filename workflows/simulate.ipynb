{
 "cells": [
  {
   "cell_type": "markdown",
   "metadata": {},
   "source": [
    "# Simulate the System on Initialized Experiment"
   ]
  },
  {
   "cell_type": "markdown",
   "metadata": {},
   "source": [
    "In this notebook, we run a system simulation on some experiment which was *previously initialized* by the initialize_experiment notebook.\n",
    "The simulation does not require any frame files, nor it requires to detect worm's head position at each frame. Instead, the algorithms below gather the relevant information (i.e. worm's head bbox at each frame) from a log file which was created when the experiment was initialized. As result, running a simulation of a whole experiments with tens of thousands of frames becomes a process of mere seconds.\n",
    "\n"
   ]
  },
  {
   "cell_type": "code",
   "execution_count": 1,
   "metadata": {},
   "outputs": [],
   "source": [
    "# fix imports\n",
    "import os\n",
    "import sys\n",
    "module_path = os.path.abspath(os.path.join('..'))\n",
    "if module_path not in sys.path:\n",
    "    sys.path.append(module_path)"
   ]
  },
  {
   "cell_type": "code",
   "execution_count": 2,
   "metadata": {},
   "outputs": [],
   "source": [
    "from wtracker.sim import *\n",
    "from wtracker.sim.sim_controllers import *\n",
    "from wtracker.sim.config import ExperimentConfig\n",
    "from wtracker.utils.path_utils import join_paths\n",
    "from wtracker.utils.gui_utils import UserPrompt\n",
    "from wtracker.utils.frame_reader import FrameReader"
   ]
  },
  {
   "cell_type": "markdown",
   "metadata": {},
   "source": [
    "### Configure the Simulation Parameters"
   ]
  },
  {
   "cell_type": "code",
   "execution_count": 3,
   "metadata": {},
   "outputs": [
    {
     "name": "stdout",
     "output_type": "stream",
     "text": [
      "input folder: D:\\Guy_Gilad\\Exp1_GuyGilad\\logs_yolo\n",
      "output folder: D:\\Guy_Gilad\\FinalEvaluations\\Exp1_config4_PolyFit(2)\n"
     ]
    }
   ],
   "source": [
    "################################ User Input ################################\n",
    "exp_num = 1\n",
    "config = 4\n",
    "# The input folder containing the logs produced durning the initialization of the experiment (init_bboxes.csv) and the exp_config.json file\n",
    "# if None, the user will be prompted to select the directory\n",
    "input_folder = f\"D:\\\\Guy_Gilad\\\\Exp{exp_num}_GuyGilad\\\\logs_yolo\"\n",
    "\n",
    "# the path to save the output logs of the selected controller\n",
    "# if None, the user will be prompted to select the directory\n",
    "output_folder = f\"D:\\\\Guy_Gilad\\\\FinalEvaluations\\\\Exp{exp_num}_config{config}_PolyFit(2)\"\n",
    "\n",
    "############################################################################\n",
    "\n",
    "if input_folder is None:\n",
    "    input_folder = UserPrompt.open_directory(\"Select input directory containing the original logs of the experiment\")\n",
    "\n",
    "if output_folder is None:\n",
    "    output_folder = UserPrompt.open_directory(\"Select output directory to save the logs of the selected controller\")\n",
    "\n",
    "# The path pointing to the original log file (init_bboxes.csv)\n",
    "input_log_path = join_paths(input_folder, \"init_bboxes.csv\")\n",
    "\n",
    "print(f\"input folder: {input_folder}\")\n",
    "print(f\"output folder: {output_folder}\")"
   ]
  },
  {
   "cell_type": "code",
   "execution_count": 4,
   "metadata": {},
   "outputs": [],
   "source": [
    "experiment_config = ExperimentConfig.load_json(f\"{input_folder}/exp_config.json\")\n",
    "\n",
    "\n",
    "if config == 1:\n",
    "    time_config1 = TimingConfig(\n",
    "        imaging_time_ms=200,\n",
    "        pred_time_ms=40,\n",
    "        moving_time_ms=50,\n",
    "        camera_size_mm=(4, 4),\n",
    "        micro_size_mm=(0.32, 0.32),\n",
    "        experiment_config=experiment_config,\n",
    "    )\n",
    "    time_config = time_config1\n",
    "\n",
    "if config == 2:\n",
    "    time_config2 = TimingConfig(\n",
    "        imaging_time_ms=100,\n",
    "        pred_time_ms=40,\n",
    "        moving_time_ms=50,\n",
    "        camera_size_mm=(4, 4),\n",
    "        micro_size_mm=(0.32, 0.32),\n",
    "        experiment_config=experiment_config,\n",
    "    )\n",
    "    time_config = time_config2\n",
    "\n",
    "if config == 3:\n",
    "    time_config3 = TimingConfig(\n",
    "        imaging_time_ms=100,\n",
    "        pred_time_ms=40,\n",
    "        moving_time_ms=50,\n",
    "        camera_size_mm=(4, 4),\n",
    "        micro_size_mm=(0.22, 0.22),\n",
    "        experiment_config=experiment_config,\n",
    "    )\n",
    "    time_config = time_config3\n",
    "\n",
    "if config == 4:\n",
    "    time_config4 = TimingConfig(\n",
    "        imaging_time_ms=200,\n",
    "        pred_time_ms=40,\n",
    "        moving_time_ms=50,\n",
    "        camera_size_mm=(4, 4),\n",
    "        micro_size_mm=(0.22, 0.22),\n",
    "        experiment_config=experiment_config,\n",
    "    )\n",
    "    time_config = time_config4\n"
   ]
  },
  {
   "cell_type": "code",
   "execution_count": 5,
   "metadata": {},
   "outputs": [],
   "source": [
    "# Load the experiment config\n",
    "# experiment_config = ExperimentConfig.load_json(f\"{input_folder}/exp_config.json\")\n",
    "\n",
    "################################ User Input ################################\n",
    "\n",
    "# initialize the timing configuration\n",
    "# changing this config changes the simulation settings, should remain the same\n",
    "# between different experiments\n",
    "# time_config = TimingConfig(\n",
    "#     imaging_time_ms=200,\n",
    "#     pred_time_ms=40,\n",
    "#     moving_time_ms=50,\n",
    "#     camera_size_mm=(4, 4),\n",
    "#     micro_size_mm=(0.32, 0.32),\n",
    "#     experiment_config=experiment_config,\n",
    "# )\n",
    "\n",
    "############################################################################\n",
    "\n",
    "log_config = LogConfig(\n",
    "    root_folder=output_folder,\n",
    "    save_mic_view=False,\n",
    "    save_cam_view=False,\n",
    "    save_err_view=False,\n",
    "    save_wrm_view=False,\n",
    ")"
   ]
  },
  {
   "cell_type": "markdown",
   "metadata": {},
   "source": [
    "### Choose a Controller\n",
    "Run the cell of the controller you need"
   ]
  },
  {
   "cell_type": "markdown",
   "metadata": {},
   "source": [
    "**MLP Controller** - Neural Network based location predictor."
   ]
  },
  {
   "cell_type": "code",
   "execution_count": 6,
   "metadata": {},
   "outputs": [
    {
     "name": "stdout",
     "output_type": "stream",
     "text": [
      "WormPredictor(\n",
      "  (model): RMLP(\n",
      "    (input): MLPLayer(\n",
      "      (mlp_layer): Sequential(\n",
      "        (0): Linear(in_features=28, out_features=80, bias=True)\n",
      "        (1): BatchNorm1d(80, eps=1e-05, momentum=0.1, affine=True, track_running_stats=True)\n",
      "        (2): ReLU()\n",
      "      )\n",
      "    )\n",
      "    (blocks): ModuleList(\n",
      "      (0-3): 4 x MlpBlock(\n",
      "        (sequence): Sequential(\n",
      "          (0): MLPLayer(\n",
      "            (mlp_layer): Sequential(\n",
      "              (0): Linear(in_features=80, out_features=40, bias=True)\n",
      "              (1): BatchNorm1d(40, eps=1e-05, momentum=0.1, affine=True, track_running_stats=True)\n",
      "              (2): ReLU()\n",
      "            )\n",
      "          )\n",
      "          (1): MLPLayer(\n",
      "            (mlp_layer): Sequential(\n",
      "              (0): Linear(in_features=40, out_features=10, bias=True)\n",
      "              (1): BatchNorm1d(10, eps=1e-05, momentum=0.1, affine=True, track_running_stats=True)\n",
      "              (2): ReLU()\n",
      "            )\n",
      "          )\n",
      "          (2): MLPLayer(\n",
      "            (mlp_layer): Sequential(\n",
      "              (0): Linear(in_features=10, out_features=40, bias=True)\n",
      "              (1): BatchNorm1d(40, eps=1e-05, momentum=0.1, affine=True, track_running_stats=True)\n",
      "              (2): ReLU()\n",
      "            )\n",
      "          )\n",
      "          (3): MLPLayer(\n",
      "            (mlp_layer): Sequential(\n",
      "              (0): Linear(in_features=40, out_features=80, bias=True)\n",
      "              (1): BatchNorm1d(80, eps=1e-05, momentum=0.1, affine=True, track_running_stats=True)\n",
      "              (2): ReLU()\n",
      "            )\n",
      "          )\n",
      "        )\n",
      "      )\n",
      "    )\n",
      "    (output): Linear(in_features=80, out_features=2, bias=True)\n",
      "  )\n",
      ")\n"
     ]
    }
   ],
   "source": [
    "import torch\n",
    "from wtracker.neural.mlp import WormPredictor\n",
    "\n",
    "################################ User Input ################################\n",
    "\n",
    "# path to the MLP model file.\n",
    "# if None, the user will be prompted to select the file\n",
    "# model_path = 'D:/Guy_Gilad/Bio-Proj/runs/Jun05_19-46-08_bi-slevylab9/ResMLP.pt'\n",
    "# model_path = \"data\\Jun05_21-23-49_bi-slevylab9\\ResMLP(1)_config1.pt\"\n",
    "model_path = \"runs\\\\Jun07_23-51-49_bi-slevylab9\\\\ResMLP(1)_config1.pt\"\n",
    "\n",
    "############################################################################\n",
    "\n",
    "if model_path is None:\n",
    "    model_path = UserPrompt.open_file(\"Select the model file\", [(\"pytorch files\", \"*.pt\")])\n",
    "\n",
    "# load the model and create the controller\n",
    "model: WormPredictor = torch.load(model_path)\n",
    "controller = MLPController(time_config, input_log_path, model, max_speed=0.9)\n",
    "\n",
    "print(model)"
   ]
  },
  {
   "cell_type": "markdown",
   "metadata": {},
   "source": [
    "**Polyfit Controller** - Weighted polynomial fitting location predictor.\n",
    "The motion of the worm is fitted with a polynomial, which is afterwards used to predict the future location of the worm."
   ]
  },
  {
   "cell_type": "code",
   "execution_count": 7,
   "metadata": {},
   "outputs": [
    {
     "data": {
      "text/plain": [
       "'## load configuration file and create the controller\\n# to learn more about the polyfit configuration file, see polyfit_optimizer.ipynb notebook.\\npoly_config = PolyfitConfig.load_json(\"D:\\\\Guy_Gilad\\\\models and config\\\\polyFitConfig_Exp1_config2.json\")\\n\\ncontroller = PolyfitController(time_config, poly_config, input_log_path)'"
      ]
     },
     "execution_count": 7,
     "metadata": {},
     "output_type": "execute_result"
    }
   ],
   "source": [
    "\"\"\"## load configuration file and create the controller\n",
    "# to learn more about the polyfit configuration file, see polyfit_optimizer.ipynb notebook.\n",
    "poly_config = PolyfitConfig.load_json(\"D:\\\\Guy_Gilad\\\\models and config\\\\polyFitConfig_Exp1_config2.json\")\n",
    "\n",
    "controller = PolyfitController(time_config, poly_config, input_log_path)\"\"\""
   ]
  },
  {
   "cell_type": "markdown",
   "metadata": {},
   "source": [
    "**Optimal Controller** - Approximation of the absolute best controller possible."
   ]
  },
  {
   "cell_type": "code",
   "execution_count": 8,
   "metadata": {},
   "outputs": [],
   "source": [
    "#controller = OptimalController(time_config, input_log_path)"
   ]
  },
  {
   "cell_type": "markdown",
   "metadata": {},
   "source": [
    "**CSV Controller** - Baseline controller without any future predictions."
   ]
  },
  {
   "cell_type": "code",
   "execution_count": 9,
   "metadata": {},
   "outputs": [],
   "source": [
    "#controller = CsvController(time_config, input_log_path)"
   ]
  },
  {
   "cell_type": "markdown",
   "metadata": {},
   "source": [
    "**If you want to log the simulation run the cell below as well**  \n",
    "It is recommended to run this cell, in order to be able to analyze the log and the results of the selected controller."
   ]
  },
  {
   "cell_type": "code",
   "execution_count": 10,
   "metadata": {},
   "outputs": [],
   "source": [
    "controller = LoggingController(controller, log_config)"
   ]
  },
  {
   "cell_type": "markdown",
   "metadata": {},
   "source": [
    "### Run The Simulation"
   ]
  },
  {
   "cell_type": "code",
   "execution_count": 11,
   "metadata": {},
   "outputs": [],
   "source": [
    "# create motor controller which controls the motion of the platform \n",
    "motor_controller = SineMotorController(time_config)\n",
    "# create the simulator\n",
    "sim = Simulator(\n",
    "    time_config,\n",
    "    experiment_config,\n",
    "    controller,\n",
    "    reader=None,\n",
    "    motor_controller=motor_controller,\n",
    ")"
   ]
  },
  {
   "cell_type": "code",
   "execution_count": 12,
   "metadata": {},
   "outputs": [
    {
     "data": {
      "application/vnd.jupyter.widget-view+json": {
       "model_id": "2d4cb6fb4a324259b01d0e1663970d7b",
       "version_major": 2,
       "version_minor": 0
      },
      "text/plain": [
       "Simulation Progress:   0%|          | 0/4333 [00:00<?, ?cycle/s]"
      ]
     },
     "metadata": {},
     "output_type": "display_data"
    },
    {
     "data": {
      "application/vnd.jupyter.widget-view+json": {
       "model_id": "e590149ffcdf443fb3cfa015f0fd0abb",
       "version_major": 2,
       "version_minor": 0
      },
      "text/plain": [
       "  0%|          | 0/1 [00:00<?, ?it/s]"
      ]
     },
     "metadata": {},
     "output_type": "display_data"
    },
    {
     "data": {
      "application/vnd.jupyter.widget-view+json": {
       "model_id": "a4d087466dc84b648595dc843318378b",
       "version_major": 2,
       "version_minor": 0
      },
      "text/plain": [
       "  0%|          | 0/1 [00:00<?, ?it/s]"
      ]
     },
     "metadata": {},
     "output_type": "display_data"
    }
   ],
   "source": [
    "# run simulation\n",
    "sim.run(visualize=False, wait_key=False)"
   ]
  },
  {
   "cell_type": "code",
   "execution_count": 13,
   "metadata": {},
   "outputs": [],
   "source": [
    "# save config files\n",
    "experiment_config.save_json(join_paths(output_folder, \"exp_config.json\"))\n",
    "log_config.save_json(join_paths(output_folder, \"log_config.json\"))\n",
    "time_config.save_json(join_paths(output_folder, \"time_config.json\"))"
   ]
  },
  {
   "cell_type": "markdown",
   "metadata": {},
   "source": [
    "### Display some simulation-log results\n",
    "\n",
    "In case that logging was not enabled for the simulation, the below cells are not relevant.  \n",
    "For more in-depth analysis of the log results, run the plot.ipynb notebook"
   ]
  },
  {
   "cell_type": "code",
   "execution_count": 14,
   "metadata": {},
   "outputs": [],
   "source": [
    "from wtracker.eval.data_analyzer import DataAnalyzer\n",
    "from wtracker.eval.plotter import Plotter\n",
    "import matplotlib.pyplot as plt\n",
    "\n",
    "# create the log data analyzer\n",
    "analyzer = DataAnalyzer.load(time_config=time_config, csv_path=log_config.bbox_file_path)\n",
    "analyzer.initialize(period=10)\n",
    "analyzer.clean(trim_cycles=True)\n",
    "\n",
    "# create plotter object with analyzed data\n",
    "pltr = Plotter([analyzer.data], plot_height=7, palette=\"viridis\")"
   ]
  },
  {
   "cell_type": "code",
   "execution_count": 15,
   "metadata": {},
   "outputs": [
    {
     "name": "stdout",
     "output_type": "stream",
     "text": [
      "Total Count Removed Frames: 30 (0.046%)\n",
      "Total Count of No Pred Frames: 571 (0.879%)\n",
      "Total Num of Cycles: 4331\n",
      "Non Perfect Predictions: 48.369%\n"
     ]
    }
   ],
   "source": [
    "analyzer.print_stats()"
   ]
  },
  {
   "cell_type": "code",
   "execution_count": 16,
   "metadata": {},
   "outputs": [
    {
     "data": {
      "text/html": [
       "<div>\n",
       "<style scoped>\n",
       "    .dataframe tbody tr th:only-of-type {\n",
       "        vertical-align: middle;\n",
       "    }\n",
       "\n",
       "    .dataframe tbody tr th {\n",
       "        vertical-align: top;\n",
       "    }\n",
       "\n",
       "    .dataframe thead th {\n",
       "        text-align: right;\n",
       "    }\n",
       "</style>\n",
       "<table border=\"1\" class=\"dataframe\">\n",
       "  <thead>\n",
       "    <tr style=\"text-align: right;\">\n",
       "      <th></th>\n",
       "      <th>wrm_speed</th>\n",
       "      <th>bbox_error</th>\n",
       "      <th>worm_deviation</th>\n",
       "    </tr>\n",
       "  </thead>\n",
       "  <tbody>\n",
       "    <tr>\n",
       "      <th>count</th>\n",
       "      <td>64276.000000</td>\n",
       "      <td>64394.000000</td>\n",
       "      <td>64394.000000</td>\n",
       "    </tr>\n",
       "    <tr>\n",
       "      <th>mean</th>\n",
       "      <td>0.543959</td>\n",
       "      <td>0.057103</td>\n",
       "      <td>2.860244</td>\n",
       "    </tr>\n",
       "    <tr>\n",
       "      <th>std</th>\n",
       "      <td>0.282302</td>\n",
       "      <td>0.116468</td>\n",
       "      <td>3.907638</td>\n",
       "    </tr>\n",
       "    <tr>\n",
       "      <th>min</th>\n",
       "      <td>0.000310</td>\n",
       "      <td>0.000000</td>\n",
       "      <td>0.018030</td>\n",
       "    </tr>\n",
       "    <tr>\n",
       "      <th>25%</th>\n",
       "      <td>0.381597</td>\n",
       "      <td>0.000000</td>\n",
       "      <td>1.350575</td>\n",
       "    </tr>\n",
       "    <tr>\n",
       "      <th>50%</th>\n",
       "      <td>0.551895</td>\n",
       "      <td>0.000000</td>\n",
       "      <td>2.297290</td>\n",
       "    </tr>\n",
       "    <tr>\n",
       "      <th>75%</th>\n",
       "      <td>0.693250</td>\n",
       "      <td>0.073890</td>\n",
       "      <td>3.519620</td>\n",
       "    </tr>\n",
       "    <tr>\n",
       "      <th>90%</th>\n",
       "      <td>0.828430</td>\n",
       "      <td>0.162874</td>\n",
       "      <td>5.049915</td>\n",
       "    </tr>\n",
       "    <tr>\n",
       "      <th>95%</th>\n",
       "      <td>0.940260</td>\n",
       "      <td>0.242774</td>\n",
       "      <td>6.459436</td>\n",
       "    </tr>\n",
       "    <tr>\n",
       "      <th>99%</th>\n",
       "      <td>1.379435</td>\n",
       "      <td>0.600173</td>\n",
       "      <td>11.649604</td>\n",
       "    </tr>\n",
       "    <tr>\n",
       "      <th>max</th>\n",
       "      <td>4.080180</td>\n",
       "      <td>1.000000</td>\n",
       "      <td>130.406440</td>\n",
       "    </tr>\n",
       "  </tbody>\n",
       "</table>\n",
       "</div>"
      ],
      "text/plain": [
       "          wrm_speed    bbox_error  worm_deviation\n",
       "count  64276.000000  64394.000000    64394.000000\n",
       "mean       0.543959      0.057103        2.860244\n",
       "std        0.282302      0.116468        3.907638\n",
       "min        0.000310      0.000000        0.018030\n",
       "25%        0.381597      0.000000        1.350575\n",
       "50%        0.551895      0.000000        2.297290\n",
       "75%        0.693250      0.073890        3.519620\n",
       "90%        0.828430      0.162874        5.049915\n",
       "95%        0.940260      0.242774        6.459436\n",
       "99%        1.379435      0.600173       11.649604\n",
       "max        4.080180      1.000000      130.406440"
      ]
     },
     "execution_count": 16,
     "metadata": {},
     "output_type": "execute_result"
    }
   ],
   "source": [
    "analyzer.describe([\"wrm_speed\", \"bbox_error\", \"worm_deviation\"], percentiles=[0.25, 0.5, 0.75, 0.9, 0.95, 0.99])"
   ]
  },
  {
   "cell_type": "code",
   "execution_count": 17,
   "metadata": {},
   "outputs": [
    {
     "ename": "SyntaxError",
     "evalue": "'break' outside loop (668683560.py, line 1)",
     "output_type": "error",
     "traceback": [
      "\u001b[1;36m  Cell \u001b[1;32mIn[17], line 1\u001b[1;36m\u001b[0m\n\u001b[1;33m    break\u001b[0m\n\u001b[1;37m    ^\u001b[0m\n\u001b[1;31mSyntaxError\u001b[0m\u001b[1;31m:\u001b[0m 'break' outside loop\n"
     ]
    }
   ],
   "source": [
    "break"
   ]
  },
  {
   "cell_type": "code",
   "execution_count": null,
   "metadata": {},
   "outputs": [],
   "source": [
    "pltr.plot_speed_vs_error()\n",
    "plt.show()"
   ]
  },
  {
   "cell_type": "code",
   "execution_count": null,
   "metadata": {},
   "outputs": [],
   "source": [
    "pltr.plot_deviation()\n",
    "plt.show()"
   ]
  },
  {
   "cell_type": "code",
   "execution_count": null,
   "metadata": {},
   "outputs": [],
   "source": [
    "pltr.create_distplot(\n",
    "    x_col=\"cycle_step\",\n",
    "    y_col=\"worm_deviation\",\n",
    "    x_label=\"cycle step\",\n",
    "    y_label=\"distance\",\n",
    "    kind=\"hist\",\n",
    "    title=\"Distance between worm and microscope centers as function of cycle step\",\n",
    ")\n",
    "plt.show()"
   ]
  }
 ],
 "metadata": {
  "kernelspec": {
   "display_name": "bio-projML",
   "language": "python",
   "name": "python3"
  },
  "language_info": {
   "codemirror_mode": {
    "name": "ipython",
    "version": 3
   },
   "file_extension": ".py",
   "mimetype": "text/x-python",
   "name": "python",
   "nbconvert_exporter": "python",
   "pygments_lexer": "ipython3",
   "version": "3.12.3"
  }
 },
 "nbformat": 4,
 "nbformat_minor": 2
}
