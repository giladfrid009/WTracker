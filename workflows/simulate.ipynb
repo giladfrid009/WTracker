{
 "cells": [
  {
   "cell_type": "markdown",
   "metadata": {},
   "source": [
    "# Simulate the System on Initialized Experiment"
   ]
  },
  {
   "cell_type": "markdown",
   "metadata": {},
   "source": [
    "In this notebook, we run a system simulation on some experiment which was *previously initialized* by the initialize_experiment notebook.\n",
    "The simulation does not require any frame files, nor it requires to detect worm's head position at each frame. Instead, the algorithms below gather the relevant information (i.e. worm's head bbox at each frame) from a log file which was created when the experiment was initialized. As result, running a simulation of a whole experiments with tens of thousands of frames becomes a process of mere seconds.\n",
    "\n"
   ]
  },
  {
   "cell_type": "code",
   "execution_count": null,
   "metadata": {},
   "outputs": [],
   "source": [
    "# fix imports\n",
    "import os\n",
    "import sys\n",
    "module_path = os.path.abspath(os.path.join('..'))\n",
    "if module_path not in sys.path:\n",
    "    sys.path.append(module_path)"
   ]
  },
  {
   "cell_type": "code",
   "execution_count": null,
   "metadata": {},
   "outputs": [],
   "source": [
    "from wtracker.sim import *\n",
    "from wtracker.sim.sim_controllers import *\n",
    "from wtracker.sim.config import ExperimentConfig\n",
    "from wtracker.utils.path_utils import join_paths\n",
    "from wtracker.utils.gui_utils import UserPrompt\n",
    "from wtracker.utils.frame_reader import FrameReader"
   ]
  },
  {
   "cell_type": "markdown",
   "metadata": {},
   "source": [
    "### Configure the Simulation Parameters"
   ]
  },
  {
   "cell_type": "code",
   "execution_count": null,
   "metadata": {},
   "outputs": [],
   "source": [
    "################################ User Input ################################\n",
    "exp_num = 1\n",
    "config = 4\n",
    "# The input folder containing the logs produced durning the initialization of the experiment (init_bboxes.csv) and the exp_config.json file\n",
    "# if None, the user will be prompted to select the directory\n",
    "input_folder = None\n",
    "\n",
    "# the path to save the output logs of the selected controller\n",
    "# if None, the user will be prompted to select the directory\n",
    "output_folder = None\n",
    "\n",
    "############################################################################\n",
    "\n",
    "if input_folder is None:\n",
    "    input_folder = UserPrompt.open_directory(\"Select input directory containing the original logs of the experiment\")\n",
    "\n",
    "if output_folder is None:\n",
    "    output_folder = UserPrompt.open_directory(\"Select output directory to save the logs of the selected controller\")\n",
    "\n",
    "# The path pointing to the original log file (init_bboxes.csv)\n",
    "input_log_path = join_paths(input_folder, \"init_bboxes.csv\")\n",
    "\n",
    "print(f\"input folder: {input_folder}\")\n",
    "print(f\"output folder: {output_folder}\")"
   ]
  },
  {
   "cell_type": "code",
   "execution_count": null,
   "metadata": {},
   "outputs": [],
   "source": [
    "# Load the experiment config\n",
    "experiment_config = ExperimentConfig.load_json(f\"{input_folder}/exp_config.json\")\n",
    "\n",
    "################################ User Input ################################\n",
    "\n",
    "# initialize the timing configuration\n",
    "# changing this config changes the simulation settings, should remain the same\n",
    "# between different experiments\n",
    "time_config = TimingConfig(\n",
    "    imaging_time_ms=200,\n",
    "    pred_time_ms=40,\n",
    "    moving_time_ms=50,\n",
    "    camera_size_mm=(4, 4),\n",
    "    micro_size_mm=(0.32, 0.32),\n",
    "    experiment_config=experiment_config,\n",
    ")\n",
    "\n",
    "############################################################################\n",
    "\n",
    "log_config = LogConfig(\n",
    "    root_folder=output_folder,\n",
    "    save_mic_view=False,\n",
    "    save_cam_view=False,\n",
    "    save_err_view=False,\n",
    "    save_wrm_view=False,\n",
    ")"
   ]
  },
  {
   "cell_type": "markdown",
   "metadata": {},
   "source": [
    "### Choose a Controller\n",
    "Run the cell of the controller you need"
   ]
  },
  {
   "cell_type": "markdown",
   "metadata": {},
   "source": [
    "**MLP Controller** - Neural Network based location predictor."
   ]
  },
  {
   "cell_type": "code",
   "execution_count": null,
   "metadata": {},
   "outputs": [],
   "source": [
    "import torch\n",
    "from wtracker.neural.mlp import WormPredictor\n",
    "\n",
    "################################ User Input ################################\n",
    "\n",
    "# path to the MLP model file.\n",
    "# if None, the user will be prompted to select the file\n",
    "model_path = None\n",
    "\n",
    "############################################################################\n",
    "\n",
    "if model_path is None:\n",
    "    model_path = UserPrompt.open_file(\"Select the model file\", [(\"pytorch files\", \"*.pt\")])\n",
    "\n",
    "# load the model and create the controller\n",
    "model: WormPredictor = torch.load(model_path)\n",
    "controller = MLPController(time_config, input_log_path, model, max_speed=0.9)\n",
    "\n",
    "print(model)"
   ]
  },
  {
   "cell_type": "markdown",
   "metadata": {},
   "source": [
    "**Polyfit Controller** - Weighted polynomial fitting location predictor.\n",
    "The motion of the worm is fitted with a polynomial, which is afterwards used to predict the future location of the worm."
   ]
  },
  {
   "cell_type": "code",
   "execution_count": null,
   "metadata": {},
   "outputs": [],
   "source": [
    "## load configuration file and create the controller\n",
    "# to learn more about the polyfit configuration file, see polyfit_optimizer.ipynb notebook.\n",
    "poly_config = PolyfitConfig.load_json(\"D:\\\\Guy_Gilad\\\\models and config\\\\polyFitConfig_Exp1_config2.json\")\n",
    "\n",
    "controller = PolyfitController(time_config, poly_config, input_log_path)"
   ]
  },
  {
   "cell_type": "markdown",
   "metadata": {},
   "source": [
    "**Optimal Controller** - Approximation of the absolute best controller possible."
   ]
  },
  {
   "cell_type": "code",
   "execution_count": null,
   "metadata": {},
   "outputs": [],
   "source": [
    "controller = OptimalController(time_config, input_log_path)"
   ]
  },
  {
   "cell_type": "markdown",
   "metadata": {},
   "source": [
    "**CSV Controller** - Baseline controller without any future predictions."
   ]
  },
  {
   "cell_type": "code",
   "execution_count": null,
   "metadata": {},
   "outputs": [],
   "source": [
    "controller = CsvController(time_config, input_log_path)"
   ]
  },
  {
   "cell_type": "markdown",
   "metadata": {},
   "source": [
    "### Run The Simulation"
   ]
  },
  {
   "cell_type": "code",
   "execution_count": null,
   "metadata": {},
   "outputs": [],
   "source": [
    "# we wrap the chosen controller with a logging controller to log the simulation run\n",
    "controller = LoggingController(controller, log_config)\n",
    "\n",
    "# create motor controller which controls the motion of the platform \n",
    "motor_controller = SineMotorController(time_config)\n",
    "\n",
    "# create the simulator\n",
    "sim = Simulator(\n",
    "    time_config,\n",
    "    experiment_config,\n",
    "    controller,\n",
    "    reader=None,\n",
    "    motor_controller=motor_controller,\n",
    ")"
   ]
  },
  {
   "cell_type": "code",
   "execution_count": null,
   "metadata": {},
   "outputs": [],
   "source": [
    "# run simulation\n",
    "sim.run(visualize=False, wait_key=False)"
   ]
  },
  {
   "cell_type": "code",
   "execution_count": null,
   "metadata": {},
   "outputs": [],
   "source": [
    "# save config files\n",
    "experiment_config.save_json(join_paths(output_folder, \"exp_config.json\"))\n",
    "log_config.save_json(join_paths(output_folder, \"log_config.json\"))\n",
    "time_config.save_json(join_paths(output_folder, \"time_config.json\"))"
   ]
  },
  {
   "cell_type": "markdown",
   "metadata": {},
   "source": [
    "### Display some simulation-log results\n",
    "For more in-depth analysis of the log results, run the analysis.ipynb notebook"
   ]
  },
  {
   "cell_type": "code",
   "execution_count": null,
   "metadata": {},
   "outputs": [],
   "source": [
    "from wtracker.eval.data_analyzer import DataAnalyzer\n",
    "from wtracker.eval.plotter import Plotter\n",
    "import matplotlib.pyplot as plt\n",
    "\n",
    "# create the log data analyzer\n",
    "analyzer = DataAnalyzer.load(time_config=time_config, csv_path=log_config.bbox_file_path)\n",
    "analyzer.initialize(period=10)\n",
    "analyzer.clean(trim_cycles=True, imaging_only=True)\n",
    "analyzer.change_unit(\"sec\")\n",
    "\n",
    "# create plotter object with analyzed data\n",
    "pltr = Plotter([analyzer.data], plot_height=7, palette=\"viridis\")"
   ]
  },
  {
   "cell_type": "code",
   "execution_count": null,
   "metadata": {},
   "outputs": [],
   "source": [
    "analyzer.print_stats()"
   ]
  },
  {
   "cell_type": "code",
   "execution_count": null,
   "metadata": {},
   "outputs": [],
   "source": [
    "analyzer.describe(\n",
    "    columns=[\"wrm_speed\", \"bbox_error\", \"worm_deviation\"],\n",
    "    percentiles=[0.25, 0.5, 0.75, 0.8, 0.9, 0.95, 0.97, 0.98, 0.99],\n",
    ")"
   ]
  },
  {
   "cell_type": "code",
   "execution_count": null,
   "metadata": {},
   "outputs": [],
   "source": [
    "pltr.plot_speed_vs_error(\n",
    "    error_kind=\"bbox\",\n",
    "    cycle_wise=True,\n",
    "    condition=lambda df: (df[\"wrm_speed\"] < 1000) & (df[\"bbox_error\"] > 1e-5),\n",
    ")\n",
    "plt.show()"
   ]
  },
  {
   "cell_type": "code",
   "execution_count": null,
   "metadata": {},
   "outputs": [],
   "source": [
    "pltr.plot_cycle_error(\n",
    "    error_kind=\"dist\",\n",
    "    k_depth=\"proportion\",\n",
    "    outlier_prop=0.02,\n",
    ")\n",
    "plt.show()"
   ]
  }
 ],
 "metadata": {
  "kernelspec": {
   "display_name": "bio-projML",
   "language": "python",
   "name": "python3"
  },
  "language_info": {
   "codemirror_mode": {
    "name": "ipython",
    "version": 3
   },
   "file_extension": ".py",
   "mimetype": "text/x-python",
   "name": "python",
   "nbconvert_exporter": "python",
   "pygments_lexer": "ipython3",
   "version": "3.10.13"
  }
 },
 "nbformat": 4,
 "nbformat_minor": 2
}
