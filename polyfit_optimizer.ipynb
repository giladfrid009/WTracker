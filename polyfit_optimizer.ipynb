{
 "cells": [
  {
   "cell_type": "code",
   "execution_count": null,
   "metadata": {},
   "outputs": [],
   "source": [
    "import mealpy\n",
    "import numpy as np\n",
    "\n",
    "from sim.sim_controllers.polyfit_controller import *\n",
    "from sim.config import *"
   ]
  },
  {
   "cell_type": "code",
   "execution_count": null,
   "metadata": {},
   "outputs": [],
   "source": [
    "from pprint import pprint\n",
    "\n",
    "################################ User Input ################################\n",
    "\n",
    "time_config_file = None\n",
    "exp_config_file = None\n",
    "\n",
    "############################################################################\n",
    "\n",
    "time_config = TimingConfig.load_json(time_config_file)\n",
    "exp_config = ExperimentConfig.load_json(exp_config_file)\n",
    "\n",
    "pprint(time_config)"
   ]
  },
  {
   "cell_type": "code",
   "execution_count": null,
   "metadata": {},
   "outputs": [],
   "source": [
    "poly_degree = 1\n",
    "\n",
    "input_offsets = np.asanyarray(\n",
    "    [\n",
    "        -2 * time_config.cycle_frame_num + 0,\n",
    "        -2 * time_config.cycle_frame_num + 5,\n",
    "        -2 * time_config.cycle_frame_num + 9,\n",
    "        -time_config.cycle_frame_num + 0,\n",
    "        -time_config.cycle_frame_num + 5,\n",
    "        -time_config.cycle_frame_num + 9,\n",
    "        0,\n",
    "        5,\n",
    "        9,\n",
    "    ]\n",
    ")"
   ]
  },
  {
   "cell_type": "code",
   "execution_count": null,
   "metadata": {},
   "outputs": [],
   "source": [
    "start_times = np.arange(exp_config.num_frames // time_config.cycle_frame_num) * time_config.cycle_frame_num\n",
    "\n",
    "evaluator = WeightEvaluator(\n",
    "    \"bboxes.csv\",\n",
    "    time_config,\n",
    "    input_offsets=input_offsets,\n",
    "    start_times=start_times,\n",
    "    eval_offset=time_config.cycle_frame_num + time_config.imaging_frame_num // 2,\n",
    ")\n",
    "\n",
    "\n",
    "def eval_func(weights: np.ndarray) -> float:\n",
    "    return evaluator.eval(weights, deg=poly_degree)"
   ]
  },
  {
   "cell_type": "code",
   "execution_count": null,
   "metadata": {},
   "outputs": [],
   "source": [
    "from mealpy.swarm_based.PSO import OriginalPSO\n",
    "from mealpy.utils.problem import Problem\n",
    "from mealpy.utils.termination import Termination\n",
    "from mealpy.utils.agent import Agent\n",
    "import mealpy\n",
    "\n",
    "# optim = mealpy.ICA.OriginalICA()\n",
    "optim = mealpy.PSO.OriginalPSO()\n",
    "\n",
    "termination = Termination(\n",
    "    max_epoch=300,\n",
    "    max_fe=None,\n",
    "    max_time=None,\n",
    "    max_early_stop=100,\n",
    ")\n",
    "\n",
    "bounds = mealpy.FloatVar(lb=np.zeros(len(input_offsets)), ub=np.ones(len(input_offsets)))\n",
    "\n",
    "problem = Problem(obj_func=eval_func, bounds=bounds, minimax=\"min\")"
   ]
  },
  {
   "cell_type": "code",
   "execution_count": null,
   "metadata": {},
   "outputs": [],
   "source": [
    "best: Agent = optim.solve(problem, termination=termination)"
   ]
  },
  {
   "cell_type": "code",
   "execution_count": null,
   "metadata": {},
   "outputs": [],
   "source": [
    "np.set_printoptions(precision=4, suppress=True)\n",
    "print(optim.g_best.target.fitness)\n",
    "print(optim.g_best.solution / np.linalg.norm(best.solution))"
   ]
  },
  {
   "cell_type": "code",
   "execution_count": null,
   "metadata": {},
   "outputs": [],
   "source": [
    "poly_config = PolyfitConfig(\n",
    "    degree=poly_degree,\n",
    "    sample_times=evaluator.input_offsets.tolist(),\n",
    "    weights=optim.g_best.solution.tolist(),\n",
    ")\n",
    "\n",
    "poly_config.save_json(\"polyfit_config.json\")"
   ]
  }
 ],
 "metadata": {
  "kernelspec": {
   "display_name": "bio-proj",
   "language": "python",
   "name": "python3"
  },
  "language_info": {
   "name": "python",
   "version": "3.10.13"
  }
 },
 "nbformat": 4,
 "nbformat_minor": 2
}
