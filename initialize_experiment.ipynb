{
 "cells": [
  {
   "cell_type": "markdown",
   "metadata": {},
   "source": [
    "# Experiment Initialization"
   ]
  },
  {
   "cell_type": "markdown",
   "metadata": {},
   "source": [
    "After capturing an experiment video (or series of frames), in order to run the system simulation on it, one must first initialize this experiment.\n",
    "The experiment initialization process is the process in which the YOLO model predicts the worm head position in every frame of the experiment video.\n",
    "These worm head positions are afterwards logged into a file. \n",
    "\n",
    "This initialization step is designed to address two important issues:\n",
    "1.  Running a simulation on a sequence of frames (images) that are read from the disk is slow, since the process loading large amount of images from the disk is relatively slow.\n",
    "2.  Given an image, running the YOLO model on that image and detecting worm's head position is also relatively slow.\n",
    "\n",
    "Therefore, instead of performing the above two steps every time we want to run a simulation on some experiment, we instead perform these steps only *ONCE*. On each frame, we run the YOLO predictor and detect the worm's head position. Afterwards, we log the detected head coordinates into a log file (bboxes.csv). As result, consequent simulations of this experiment can simply read the log file to obtain worm head positions, instead of running YOLO again. Also, loading the images fro the disk is no longer required, since all the relevant information is in the log.\n"
   ]
  },
  {
   "cell_type": "code",
   "execution_count": null,
   "metadata": {},
   "outputs": [],
   "source": [
    "from sim.simulator import *\n",
    "from sim.sim_controllers import *\n",
    "from sim.config import ExperimentConfig\n",
    "from sim.motor_controllers import *\n",
    "from utils.path_utils import Files, join_paths\n",
    "from utils.gui_utils import UserPrompt"
   ]
  },
  {
   "cell_type": "markdown",
   "metadata": {},
   "source": [
    "### Input and output directories"
   ]
  },
  {
   "cell_type": "code",
   "execution_count": null,
   "metadata": {},
   "outputs": [],
   "source": [
    "################################ User Input ################################\n",
    "\n",
    "# define the path to the folder containing the frame images of the experiment\n",
    "# if none, the user will be prompted to select the folder\n",
    "images_folder = None\n",
    "\n",
    "# define the path into which the analysis of the experiment will be saved,\n",
    "# including bounding box detections at each frame (bboxes.csv)\n",
    "# if none, the user will be prompted to select the folder\n",
    "output_folder = None\n",
    "\n",
    "############################################################################\n",
    "\n",
    "if images_folder is None:\n",
    "    images_folder = UserPrompt.open_directory(\"Select the folder containing the frame images\")\n",
    "\n",
    "if output_folder is None:\n",
    "    output_folder = UserPrompt.open_directory(\"Select the folder to save the output analysis to\")\n",
    "\n",
    "print(f\"input images folder: {images_folder}\")\n",
    "print(f\"output folder: {output_folder}\")"
   ]
  },
  {
   "cell_type": "code",
   "execution_count": null,
   "metadata": {},
   "outputs": [],
   "source": [
    "from typing import Callable, Union\n",
    "\n",
    "################################ User Input ################################\n",
    "\n",
    "# select file extension of the frame images\n",
    "file_extension = \"bmp\"\n",
    "\n",
    "# define the function by which the image files are ordered. \n",
    "# The function should take a string as input and return a string or an integer.\n",
    "filename_sorting_func: Callable[[str], Union[str, int]] = lambda name: int(name.split(\"-\")[-1].split(\".\")[0])\n",
    "\n",
    "############################################################################\n",
    "\n",
    "# read the frame images from the provided directory\n",
    "files = Files(\n",
    "    extension=file_extension,\n",
    "    directory=images_folder,\n",
    "    sorting_key=filename_sorting_func,\n",
    "    scan_dirs=False,\n",
    "    return_full_path=False,\n",
    ")\n",
    "\n",
    "frame_files = list(files)\n",
    "reader = FrameReader(images_folder, frame_files, read_format=cv.IMREAD_GRAYSCALE)"
   ]
  },
  {
   "cell_type": "markdown",
   "metadata": {},
   "source": [
    "### Experiment, timing settings and YOLO configuration"
   ]
  },
  {
   "cell_type": "code",
   "execution_count": null,
   "metadata": {},
   "outputs": [],
   "source": [
    "################################ User Input ################################\n",
    "\n",
    "# create the experiment config\n",
    "# this configuration differs between different experiments\n",
    "experiment_config = ExperimentConfig.from_frame_reader(\n",
    "    reader,\n",
    "    name=\"experiment1\",\n",
    "    frames_per_sec=60,\n",
    "    px_per_mm=90,\n",
    "    init_position=(1300, 1200),\n",
    ")\n",
    "\n",
    "\n",
    "# initialize logging settings\n",
    "log_config = LogConfig(\n",
    "    root_folder=output_folder,\n",
    "    save_mic_view=False, # whether to save images of the microscope view\n",
    "    save_cam_view=False, # whether to save images of the camera view\n",
    "    save_err_view=True, # whether to save camera view of frames when no object is detected\n",
    ")\n",
    "\n",
    "# initialize the timing configuration\n",
    "# changing this config changes the simulation settings, should remain the same \n",
    "# between different experiments\n",
    "time_config = TimingConfig(\n",
    "    imaging_time_ms=200,\n",
    "    pred_time_ms=40,\n",
    "    moving_time_ms=50,\n",
    "    camera_size_mm=(4, 4),\n",
    "    micro_size_mm=(0.32, 0.32),\n",
    "    experiment_config=experiment_config,\n",
    ")\n",
    "\n",
    "############################################################################"
   ]
  },
  {
   "cell_type": "code",
   "execution_count": null,
   "metadata": {},
   "outputs": [],
   "source": [
    "################################ User Input ################################\n",
    "\n",
    "# specify inference device for the YOLO model. If GPU is available, it is recommended to select `cuda` option\n",
    "device = \"cpu\"  # cpu or cuda\n",
    "\n",
    "# specify the path to the YOLO model weights.\n",
    "# If no path is specified, the user will be prompted to select a file.\n",
    "yolo_model_path = None\n",
    "\n",
    "############################################################################\n",
    "\n",
    "if yolo_model_path is None:\n",
    "    yolo_model_path = UserPrompt.open_file(\"Select YOLO model\", (\"pytorch file\", \"*.pt\"))\n",
    "\n",
    "# create the YOLO configuration\n",
    "yolo_config = YoloConfig(\n",
    "    model_path=yolo_model_path,\n",
    "    device=device,\n",
    "    verbose=False,  # controls the verbosity of the YOLO predictor. No need to be set to True since there is a progress bar anyways.\n",
    "    pred_kwargs={\n",
    "        \"imgsz\": 384,  # imgsz should be the same size on which the model was trained.\n",
    "        \"conf\": 0.1,  # minimum confidence threshold for detection of worm head.\n",
    "    },\n",
    ")"
   ]
  },
  {
   "cell_type": "code",
   "execution_count": null,
   "metadata": {},
   "outputs": [],
   "source": [
    "# save config files\n",
    "experiment_config.save_json(join_paths(output_folder, \"experiment_config.json\"))\n",
    "log_config.save_json(join_paths(output_folder, \"log_config.json\"))\n",
    "time_config.save_json(join_paths(output_folder, \"time_config.json\"))\n",
    "yolo_config.save_json(join_paths(output_folder, \"yolo_config.json\"))"
   ]
  },
  {
   "cell_type": "markdown",
   "metadata": {},
   "source": [
    "### Run YoloController and save log file\n",
    "\n",
    "The YoloController expects the simulator to receive experiment images as input.   \n",
    "This controller runs the YOLO predictor on the input images and predicts the bounding box around worm's head in each such image.\n",
    "\n",
    "Note, that executing the cells below might take very long time, up to few hours."
   ]
  },
  {
   "cell_type": "code",
   "execution_count": null,
   "metadata": {},
   "outputs": [],
   "source": [
    "# create YoloController of the simulation that runs in real time and detects worms heap positions from the input frames\n",
    "yolo_controller = YoloController(time_config, yolo_config)\n",
    "\n",
    "# wrap the YoloController with a LoggingController to log the simulation data\n",
    "# this controller logs the detected head positions into bboxes.csv file, which could be used afterwards\n",
    "# by different controllers, without the need to run the YOLO model again\n",
    "controller = LoggingController(yolo_controller, log_config)"
   ]
  },
  {
   "cell_type": "code",
   "execution_count": null,
   "metadata": {},
   "outputs": [],
   "source": [
    "# create motor controller which controls the motion of the platform \n",
    "motor_controller = SineMotorController(time_config)\n",
    "\n",
    "# create the simulator\n",
    "sim = Simulator(\n",
    "    time_config,\n",
    "    experiment_config,\n",
    "    controller,\n",
    "    reader=reader,\n",
    "    motor_controller=motor_controller,\n",
    ")"
   ]
  },
  {
   "cell_type": "code",
   "execution_count": null,
   "metadata": {},
   "outputs": [],
   "source": [
    "# run simulation and save log results\n",
    "sim.run(visualize=False, wait_key=False)"
   ]
  }
 ],
 "metadata": {
  "kernelspec": {
   "display_name": "bio-proj",
   "language": "python",
   "name": "python3"
  },
  "language_info": {
   "name": "python",
   "version": "3.10.13"
  }
 },
 "nbformat": 4,
 "nbformat_minor": 2
}
