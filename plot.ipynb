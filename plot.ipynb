{
    "cells": [
        {
            "cell_type": "code",
            "execution_count": null,
            "metadata": {},
            "outputs": [],
            "source": [
                "import matplotlib.pyplot as plt\n",
                "from sim.config import TimingConfig\n",
                "from eval.analysis2 import Plotter2\n",
                "from utils.gui_utils import UserPrompt "
            ]
        },
        {
            "cell_type": "code",
            "execution_count": null,
            "metadata": {},
            "outputs": [],
            "source": [
                "################################ User Input ################################\n",
                "\n",
                "timing_config_path = \"logs/timing_config.json\"\n",
                "\n",
                "############################################################################\n",
                "\n",
                "timing_config = TimingConfig.load_json(timing_config_path)"
            ]
        },
        {
            "cell_type": "code",
            "execution_count": null,
            "metadata": {},
            "outputs": [],
            "source": [
                "from pprint import pprint\n",
                "pprint(timing_config)"
            ]
        },
        {
            "cell_type": "code",
            "execution_count": null,
            "metadata": {},
            "outputs": [],
            "source": [
                "################################ User Input ################################\n",
                "\n",
                "log_files = [\n",
                "    \"/home/yashlat/source/Bio-Proj/data/Exp0_GuyGilad_logs_yolo/bboxes2.csv\",\n",
                "    \"/home/yashlat/source/Bio-Proj/data/Exp1_GuyGilad_logs_yolo/bboxes2.csv\",\n",
                "    \"/home/yashlat/source/Bio-Proj/data/Exp2_GuyGilad_logs_yolo/bboxes2.csv\",\n",
                "    \"logs/bboxes.csv\",\n",
                "]\n",
                "\n",
                "############################################################################\n",
                "\n",
                "if len(log_files) == 0:\n",
                "    log_files = UserPrompt.open_file(title=\"Select log files\", filetypes=[(\"Log files\", \"*.csv\")], multiple=True)"
            ]
        },
        {
            "cell_type": "code",
            "execution_count": null,
            "metadata": {},
            "outputs": [],
            "source": [
                "pltr = Plotter2(\n",
                "    timing_config,\n",
                "    log_paths=log_files,\n",
                "    plot_height=10,\n",
                ")\n",
                "\n",
                "################################ User Input ################################\n",
                "\n",
                "pltr.initialize(\n",
                "    n=10,\n",
                "    imaging_only=True,\n",
                "    unit=\"sec\",\n",
                "    legal_bounds=(250, 250, 1400, 1300),\n",
                ")\n",
                "\n",
                "############################################################################"
            ]
        },
        {
            "cell_type": "code",
            "execution_count": null,
            "metadata": {},
            "outputs": [],
            "source": [
                "pltr.plot_trajectory(hue_col=\"log_num\", condition=lambda x: x[\"wrm_y\"] >= 0)"
            ]
        },
        {
            "cell_type": "code",
            "execution_count": null,
            "metadata": {},
            "outputs": [],
            "source": [
                "pltr.plot_speed(log_wise=True, condition=lambda x: x[\"wrm_speed\"] <= 800)"
            ]
        },
        {
            "cell_type": "code",
            "execution_count": null,
            "metadata": {},
            "outputs": [],
            "source": [
                "pltr.plot_error(log_wise=False, error_kind=\"bbox\", condition=lambda x: x[\"bbox_error\"] > 1e-5)"
            ]
        },
        {
            "cell_type": "code",
            "execution_count": null,
            "metadata": {},
            "outputs": [],
            "source": [
                "pltr.plot_speed_vs_error(error_kind=\"dist\", condition=lambda x: x[\"wrm_speed\"] < 2000)"
            ]
        },
        {
            "cell_type": "code",
            "execution_count": null,
            "metadata": {},
            "outputs": [],
            "source": [
                "pltr.plot_deviation(percentile=0.999, log_wise=False)"
            ]
        },
        {
            "cell_type": "code",
            "execution_count": null,
            "metadata": {},
            "outputs": [],
            "source": [
                "pltr.plot_head_size()"
            ]
        },
        {
            "cell_type": "code",
            "execution_count": null,
            "metadata": {},
            "outputs": [],
            "source": [
                "pltr.describe(columns=[\"bbox_error\", \"worm_deviation\"], num=9)"
            ]
        }
    ],
    "metadata": {
        "kernelspec": {
            "display_name": "bio-proj",
            "language": "python",
            "name": "python3"
        },
        "language_info": {
            "codemirror_mode": {
                "name": "ipython",
                "version": 3
            },
            "file_extension": ".py",
            "mimetype": "text/x-python",
            "name": "python",
            "nbconvert_exporter": "python",
            "pygments_lexer": "ipython3",
            "version": "3.10.13"
        }
    },
    "nbformat": 4,
    "nbformat_minor": 2
}
