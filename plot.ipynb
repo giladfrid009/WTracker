{
    "cells": [
        {
            "cell_type": "markdown",
            "metadata": {},
            "source": [
                "# Plotting and Analysis"
            ]
        },
        {
            "cell_type": "markdown",
            "metadata": {},
            "source": [
                "The role of this notebook is to plot and analyze logs results of a run (or runs) of a simulator, given some fixed timing configuration.\n",
                "These logs (bboxes.csv) are obtained by running a simulator on some experiments. The goal of these plots is to analyze worm's behavior,\n",
                "and to analyze the systems error and how it's affected by different behaviors the worm exhibits.\n",
                "\n",
                "It's important to note that for proper analysis, all the experiments that are analyzed by this notebook *at once* must have the same timing configuration (TimingConfig) parameters."
            ]
        },
        {
            "cell_type": "code",
            "execution_count": null,
            "metadata": {},
            "outputs": [],
            "source": [
                "import matplotlib.pyplot as plt\n",
                "from sim.config import TimingConfig\n",
                "from eval.analysis2 import Plotter2\n",
                "from utils.gui_utils import UserPrompt "
            ]
        },
        {
            "cell_type": "markdown",
            "metadata": {},
            "source": [
                "## Timing configuration and log files selection"
            ]
        },
        {
            "cell_type": "code",
            "execution_count": null,
            "metadata": {},
            "outputs": [],
            "source": [
                "from pprint import pprint\n",
                "\n",
                "################################ User Input ################################\n",
                "\n",
                "# path to the timing config file. If None, a file dialog will open to select a file\n",
                "timing_config_path = \"logs/time_config.json\"\n",
                "\n",
                "############################################################################\n",
                "\n",
                "timing_config = TimingConfig.load_json(timing_config_path)\n",
                "\n",
                "pprint(timing_config)"
            ]
        },
        {
            "cell_type": "code",
            "execution_count": null,
            "metadata": {},
            "outputs": [],
            "source": [
                "################################ User Input ################################\n",
                "\n",
                "# list containing paths to simulation log files.\n",
                "# All of these simulations must have been run with the above timing config.\n",
                "# If empty, a file dialog will open to select files.\n",
                "log_files = [\n",
                "    \"/home/yashlat/source/Bio-Proj/data/Exp0_GuyGilad_logs_yolo/bboxes2.csv\",\n",
                "    \"/home/yashlat/source/Bio-Proj/data/Exp1_GuyGilad_logs_yolo/bboxes2.csv\",\n",
                "    \"/home/yashlat/source/Bio-Proj/data/Exp2_GuyGilad_logs_yolo/bboxes2.csv\",\n",
                "    \"logs/bboxes.csv\",\n",
                "]\n",
                "\n",
                "############################################################################\n",
                "\n",
                "if len(log_files) == 0:\n",
                "    log_files = UserPrompt.open_file(title=\"Select log files\", filetypes=[(\"Log files\", \"*.csv\")], multiple=True)"
            ]
        },
        {
            "cell_type": "markdown",
            "metadata": {},
            "source": [
                "## Plotting configuration\n",
                "\n",
                "Notice that all of below plots accept `condition` as a parameter.\n",
                "`condition` is a function of the following signature:\n",
                "\n",
                "```python\n",
                "def cond_func1(input_df: pd.DataFrame) -> pd.DataFrame:\n",
                "    return (input_df[\"wrm_speed\"] > 5) &  (input_df[\"wrm_speed\"] <= 30)\n",
                "```\n",
                "\n",
                "In python, such functions can be also declared without an explicit name and declaration, using the following syntax:\n",
                "(for more information read about lambda functions in python)\n",
                "\n",
                "```python\n",
                "cond_func1 = lambda input_df: (input_df[\"wrm_speed\"] > 5) & (input_df[\"wrm_speed\"] <= 30)\n",
                "cond_func2 = lambda input_df: input_df[\"phase\"] == \"imaging\"\n",
                "```"
            ]
        },
        {
            "cell_type": "code",
            "execution_count": null,
            "metadata": {},
            "outputs": [],
            "source": [
                "pltr = Plotter2(\n",
                "    timing_config,\n",
                "    log_paths=log_files,\n",
                "    plot_height=10,  # the size of the plot figures\n",
                ")\n",
                "\n",
                "################################ User Input ################################\n",
                "\n",
                "# initialize the data for the plotting, by performing all relevant calculations\n",
                "pltr.initialize(\n",
                "    n=10,\n",
                "    imaging_only=True,  # if True, only the imaging-phase data will be plotted. If False, all phases are included in the plots.\n",
                "    unit=\"sec\",  # the unit of the plots. If \"frame\" i used, the time is in frames, and the distance is in pixels. If \"sec\" is used, the time is in seconds, and the distance is in micro-meter.\n",
                "    legal_bounds=(\n",
                "        250,\n",
                "        250,\n",
                "        1400,\n",
                "        1300,\n",
                "    ),  # the legal bounds of the image, in format (x_min, y_min, x_max, y_max). All worm positions outside these bounds will be ignored.\n",
                ")\n",
                "\n",
                "############################################################################"
            ]
        },
        {
            "cell_type": "code",
            "execution_count": null,
            "metadata": {},
            "outputs": [],
            "source": [
                "# print column names of the data\n",
                "pprint([f\"{i}: {col}\" for i, col in enumerate(pltr.column_names())])"
            ]
        },
        {
            "cell_type": "markdown",
            "metadata": {},
            "source": [
                "## Plotting and analysis"
            ]
        },
        {
            "cell_type": "code",
            "execution_count": null,
            "metadata": {},
            "outputs": [],
            "source": [
                "pltr.print_stats()"
            ]
        },
        {
            "cell_type": "code",
            "execution_count": null,
            "metadata": {},
            "outputs": [],
            "source": [
                "pltr.plot_trajectory(hue_col=\"log_num\", condition=lambda x: x[\"wrm_y\"] >= 0)"
            ]
        },
        {
            "cell_type": "code",
            "execution_count": null,
            "metadata": {},
            "outputs": [],
            "source": [
                "pltr.plot_speed(log_wise=True, condition=lambda x: x[\"wrm_speed\"] <= 800)"
            ]
        },
        {
            "cell_type": "code",
            "execution_count": null,
            "metadata": {},
            "outputs": [],
            "source": [
                "pltr.plot_error(log_wise=False, error_kind=\"bbox\", condition=lambda x: x[\"bbox_error\"] > 1e-5)"
            ]
        },
        {
            "cell_type": "code",
            "execution_count": null,
            "metadata": {},
            "outputs": [],
            "source": [
                "pltr.plot_speed_vs_error(error_kind=\"dist\", condition=lambda x: x[\"wrm_speed\"] < 2000)"
            ]
        },
        {
            "cell_type": "code",
            "execution_count": null,
            "metadata": {},
            "outputs": [],
            "source": [
                "pltr.plot_deviation(percentile=0.999, log_wise=False)"
            ]
        },
        {
            "cell_type": "code",
            "execution_count": null,
            "metadata": {},
            "outputs": [],
            "source": [
                "pltr.plot_head_size()"
            ]
        },
        {
            "cell_type": "code",
            "execution_count": null,
            "metadata": {},
            "outputs": [],
            "source": [
                "pltr.describe(columns=[\"wrm_speed\", \"bbox_error\", \"worm_deviation\"], num=9)"
            ]
        }
    ],
    "metadata": {
        "kernelspec": {
            "display_name": "bio-proj",
            "language": "python",
            "name": "python3"
        },
        "language_info": {
            "codemirror_mode": {
                "name": "ipython",
                "version": 3
            },
            "file_extension": ".py",
            "mimetype": "text/x-python",
            "name": "python",
            "nbconvert_exporter": "python",
            "pygments_lexer": "ipython3",
            "version": "3.10.13"
        }
    },
    "nbformat": 4,
    "nbformat_minor": 2
}
