{
 "cells": [
  {
   "cell_type": "markdown",
   "metadata": {},
   "source": [
    "### Python functions"
   ]
  },
  {
   "cell_type": "markdown",
   "metadata": {},
   "source": [
    "#### split function"
   ]
  },
  {
   "cell_type": "markdown",
   "metadata": {},
   "source": [
    "#### Files class Sorting function"
   ]
  },
  {
   "cell_type": "markdown",
   "metadata": {},
   "source": [
    "A sorting function for the Files class should take the filename (string) and output a string or an int (more advanced options are also possible)\n",
    "- if it outputs a string - it will sort the files alphabetically based on the string from this function    \n",
    "- if it outputs an intager - it will sort them by their numbers (remember to convert the value to int as it is a string of numbers by default)    "
   ]
  },
  {
   "cell_type": "code",
   "execution_count": 1,
   "metadata": {},
   "outputs": [],
   "source": [
    "# suppose we have some file with the following name, where the last number is the frame number, \n",
    "# we want to sort the files based on the frame number.\n",
    "filename = \"abc-cde-efg-123-456.jpg\"\n",
    "\n",
    "\n",
    "sorting = lambda f: int(f.split(\"-\")[-1].split(\".\")[0])"
   ]
  },
  {
   "cell_type": "code",
   "execution_count": 3,
   "metadata": {},
   "outputs": [
    {
     "name": "stdout",
     "output_type": "stream",
     "text": [
      "['abc', 'cde', 'efg', '123', '456.jpg']\n"
     ]
    }
   ],
   "source": [
    "tmp = filename.split(\"-\")\n",
    "print(tmp)"
   ]
  },
  {
   "cell_type": "code",
   "execution_count": 5,
   "metadata": {},
   "outputs": [
    {
     "name": "stdout",
     "output_type": "stream",
     "text": [
      "['456', 'jpg']\n"
     ]
    }
   ],
   "source": [
    "tmp2 = tmp[-1].split(\".\")\n",
    "print(tmp2)"
   ]
  },
  {
   "cell_type": "code",
   "execution_count": 6,
   "metadata": {},
   "outputs": [
    {
     "name": "stdout",
     "output_type": "stream",
     "text": [
      "456\n"
     ]
    }
   ],
   "source": [
    "# now we can convert the string to an integer\n",
    "print(int(tmp2[0]))"
   ]
  },
  {
   "cell_type": "code",
   "execution_count": 8,
   "metadata": {},
   "outputs": [
    {
     "name": "stdout",
     "output_type": "stream",
     "text": [
      "456\n"
     ]
    }
   ],
   "source": [
    "# all together we get the sorting function\n",
    "print(sorting(filename))"
   ]
  }
 ],
 "metadata": {
  "kernelspec": {
   "display_name": "bio-projML",
   "language": "python",
   "name": "python3"
  },
  "language_info": {
   "codemirror_mode": {
    "name": "ipython",
    "version": 3
   },
   "file_extension": ".py",
   "mimetype": "text/x-python",
   "name": "python",
   "nbconvert_exporter": "python",
   "pygments_lexer": "ipython3",
   "version": "3.1.-1"
  }
 },
 "nbformat": 4,
 "nbformat_minor": 2
}
