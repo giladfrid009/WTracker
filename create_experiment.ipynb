{
 "cells": [
  {
   "cell_type": "code",
   "execution_count": null,
   "metadata": {},
   "outputs": [],
   "source": [
    "from sim.simulator import *\n",
    "from sim.sim_controllers import *\n",
    "from sim.config import ExperimentConfig\n",
    "from sim.motor_controllers import *\n",
    "from utils.path_utils import join_paths\n",
    "from utils.gui_utils import UserPrompt"
   ]
  },
  {
   "cell_type": "code",
   "execution_count": null,
   "metadata": {},
   "outputs": [],
   "source": [
    "################################ User Input ################################\n",
    "\n",
    "frames_folder = \"data/frames\"\n",
    "output_path = \"data/Exp2/\"\n",
    "\n",
    "############################################################################"
   ]
  },
  {
   "cell_type": "code",
   "execution_count": null,
   "metadata": {},
   "outputs": [],
   "source": [
    "reader = FrameReader.create_from_directory(frames_folder, read_format=cv.IMREAD_GRAYSCALE)"
   ]
  },
  {
   "cell_type": "code",
   "execution_count": null,
   "metadata": {},
   "outputs": [],
   "source": [
    "################################ User Input ################################\n",
    "\n",
    "# create experiment config\n",
    "experiment_config = ExperimentConfig(\n",
    "    name=\"experiment1\",\n",
    "    num_frames=60000,\n",
    "    frames_per_sec=60,\n",
    "    orig_resolution=(1600, 1400),\n",
    "    px_per_mm=90,\n",
    "    init_position=(1300, 1200),\n",
    "    comments=\"\",\n",
    ")\n",
    "\n",
    "# initialize logging settings\n",
    "log_config = LogConfig(\n",
    "    root_folder=output_path,\n",
    "    save_mic_view=False,\n",
    "    save_cam_view=False,\n",
    "    save_err_view=True,\n",
    ")\n",
    "\n",
    "# initialize the timing configuration\n",
    "time_config = TimingConfig(\n",
    "    imaging_time_ms=200,\n",
    "    pred_time_ms=40,\n",
    "    moving_time_ms=50,\n",
    "    camera_size_mm=(4, 4),\n",
    "    micro_size_mm=(0.32, 0.32),\n",
    "    experiment_config=experiment_config,\n",
    ")\n",
    "\n",
    "############################################################################"
   ]
  },
  {
   "cell_type": "code",
   "execution_count": null,
   "metadata": {},
   "outputs": [],
   "source": [
    "################################ User Input ################################\n",
    "\n",
    "model_path = None\n",
    "\n",
    "if model_path is None:\n",
    "    model_path = UserPrompt.open_file(\"Select YOLO model\", (\"pytorch file\", \"*.pt\"))\n",
    "\n",
    "\n",
    "yolo_config = YoloConfig(\n",
    "    model_path=model_path,\n",
    "    device=\"cpu\",\n",
    "    pred_kwargs={\"imgsz\": 384, \"conf\": 0.1},\n",
    ")\n",
    "\n",
    "############################################################################"
   ]
  },
  {
   "cell_type": "code",
   "execution_count": null,
   "metadata": {},
   "outputs": [],
   "source": [
    "# save config files\n",
    "experiment_config.save_json(join_paths(output_path, \"experiment_config.json\"))\n",
    "log_config.save_json(join_paths(output_path, \"log_config.json\"))\n",
    "time_config.save_json(join_paths(output_path, \"time_config.json\"))\n",
    "yolo_config.save_json(join_paths(output_path, \"yolo_config.json\"))"
   ]
  },
  {
   "cell_type": "code",
   "execution_count": null,
   "metadata": {},
   "outputs": [],
   "source": [
    "# create YoloController of the simulation that runs in real time and detects worms heap positions from the input frames\n",
    "yolo_controller = YoloController(time_config, yolo_config)\n",
    "\n",
    "# wrap the YoloController with a LoggingController to log the simulation data\n",
    "controller = LoggingController(yolo_controller, log_config)"
   ]
  },
  {
   "cell_type": "code",
   "execution_count": null,
   "metadata": {},
   "outputs": [],
   "source": [
    "# create simulator\n",
    "\n",
    "motor_controller = SineMotorController(time_config)\n",
    "\n",
    "sim = Simulator(\n",
    "    time_config,\n",
    "    experiment_config,\n",
    "    controller,\n",
    "    reader=reader,\n",
    "    motor_controller=motor_controller,\n",
    ")"
   ]
  },
  {
   "cell_type": "code",
   "execution_count": null,
   "metadata": {},
   "outputs": [],
   "source": [
    "# run simulation and save log results\n",
    "\n",
    "sim.run(visualize=False, wait_key=False)"
   ]
  }
 ],
 "metadata": {
  "kernelspec": {
   "display_name": "bio-proj",
   "language": "python",
   "name": "python3"
  },
  "language_info": {
   "name": "python",
   "version": "3.10.13"
  }
 },
 "nbformat": 4,
 "nbformat_minor": 2
}
