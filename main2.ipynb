{
    "cells": [
        {
            "cell_type": "code",
            "execution_count": null,
            "metadata": {},
            "outputs": [],
            "source": [
                "import cv2 as cv\n",
                "import numpy as np\n",
                "import pandas as pd\n",
                "import PIL\n",
                "import matplotlib\n",
                "import matplotlib.pyplot as plt\n",
                "import seaborn as sns\n",
                "\n",
                "from evaluation.vlc import VLC\n",
                "from utils.path_utils import Files\n",
                "from evaluation.simulator import TimingConfig\n",
                "\n",
                "%matplotlib qt\n",
                "pd.options.display.max_columns = 30"
            ]
        },
        {
            "cell_type": "markdown",
            "metadata": {},
            "source": [
                "# Analysis"
            ]
        },
        {
            "cell_type": "markdown",
            "metadata": {},
            "source": [
                "## VLC"
            ]
        },
        {
            "cell_type": "code",
            "execution_count": null,
            "metadata": {},
            "outputs": [],
            "source": [
                "\n",
                "# directory = \"/Users/guycohen/Desktop/Bio-Project/eval/micro\"\n",
                "# files = Files(directory, extension='png', sorting_key=lambda f: int(f.split('_')[-1].split('.')[0]))\n",
                "# timing_config = TimingConfig.load_json(\"/Users/guycohen/Desktop/Bio-Project/time_config.json\")\n",
                "# log_path = \"/Users/guycohen/Desktop/Bio-Project/eval_corrected_movement/bboxes.csv\"\n"
            ]
        },
        {
            "cell_type": "code",
            "execution_count": null,
            "metadata": {},
            "outputs": [],
            "source": [
                "# vlc = VLC(files, timing_config, log_path, 'mic')\n",
                "# vlc.mainloop()"
            ]
        },
        {
            "cell_type": "markdown",
            "metadata": {},
            "source": [
                "## Plots"
            ]
        },
        {
            "cell_type": "code",
            "execution_count": null,
            "metadata": {},
            "outputs": [],
            "source": [
                "from evaluation.analysis import Plotter\n",
                "original_log_path = \"/Users/guycohen/Desktop/Bio-Project/eval/bboxes.csv\"\n",
                "log_path = \"/Users/guycohen/Desktop/Bio-Project/eval_corrected_movement/bboxes.csv\"\n",
                "timing_config = TimingConfig.load_json(\"/Users/guycohen/Desktop/Bio-Project/time_config.json\")\n",
                "\n",
                "pltr = Plotter(log_path, timing_config)\n",
                "pltr_orig = Plotter(original_log_path, timing_config)"
            ]
        },
        {
            "cell_type": "code",
            "execution_count": null,
            "metadata": {},
            "outputs": [],
            "source": [
                "data = pltr.print_statistics()\n",
                "data_orig = pltr_orig.print_statistics()"
            ]
        },
        {
            "cell_type": "code",
            "execution_count": null,
            "metadata": {},
            "outputs": [],
            "source": [
                "mask = data_orig['frame'] % timing_config.cycle_length == 13\n",
                "data_orig[mask]"
            ]
        },
        {
            "cell_type": "code",
            "execution_count": null,
            "metadata": {},
            "outputs": [],
            "source": [
                "data2 = pltr.remove_phase(data.copy(), 'moving')\n",
                "data_orig2 = pltr_orig.remove_phase(data_orig.copy(), 'moving')"
            ]
        },
        {
            "cell_type": "code",
            "execution_count": null,
            "metadata": {},
            "outputs": [],
            "source": [
                "display(data2.describe())\n",
                "display(data_orig2.describe())"
            ]
        },
        {
            "cell_type": "code",
            "execution_count": null,
            "metadata": {},
            "outputs": [],
            "source": [
                "cols = ['frame', 'cycle', 'plt_x', 'plt_y', 'cam_x', 'cam_y', 'cam_w',\n",
                "       'cam_h', 'mic_x', 'mic_y', 'mic_w', 'mic_h', 'wrm_x', 'wrm_y', 'wrm_w',\n",
                "       'wrm_h', 'wrm_center_x', 'wrm_center_y', 'mic_center_x', 'mic_center_y',\n",
                "       'wrm_speed', 'bbox_area_diff', 'bbox_edge_diff']\n",
                "\n",
                "\n",
                "(data2[cols] - data_orig2[cols]).describe()"
            ]
        },
        {
            "cell_type": "code",
            "execution_count": null,
            "metadata": {},
            "outputs": [],
            "source": [
                "data.columns"
            ]
        },
        {
            "cell_type": "code",
            "execution_count": null,
            "metadata": {},
            "outputs": [],
            "source": [
                "def cond(df: pd.DataFrame, threshold: float=1.5) -> pd.DataFrame:\n",
                "    mask1 = (df['cycle_step'] == 14) & (df['worm_center_dist'] > threshold)\n",
                "    cycles = df[mask1]['cycle'].unique()\n",
                "    return df['cycle'].isin(cycles)\n",
                "\n",
                "pltr.plot_2d_deviation(hue='cycle_step')"
            ]
        },
        {
            "cell_type": "code",
            "execution_count": null,
            "metadata": {},
            "outputs": [],
            "source": [
                "pltr.plot_deviation()"
            ]
        },
        {
            "cell_type": "code",
            "execution_count": null,
            "metadata": {},
            "outputs": [],
            "source": [
                "pltr.plot_area_vs_speed_guy(n=3, window_size=10, hue='phase')"
            ]
        },
        {
            "cell_type": "code",
            "execution_count": null,
            "metadata": {},
            "outputs": [],
            "source": [
                "\n",
                "fig, ax = plt.subplots()\n",
                "sns.scatterplot(data=data, x='wrm_center_x', y='wrm_center_y', hue='frame', size='marker_size', ax=ax, alpha=0.3, linewidth=0.2)\n",
                "ax.set_xlim(0)\n",
                "ax.set_ylim(0)\n",
                "ax.invert_yaxis()\n",
                "fig.tight_layout()\n",
                "plt.show()\n"
            ]
        },
        {
            "cell_type": "code",
            "execution_count": null,
            "metadata": {},
            "outputs": [],
            "source": [
                "data['wrm_speed_avg'] = pltr.rolling_average(data, window_size=15, column='wrm_speed')"
            ]
        },
        {
            "cell_type": "code",
            "execution_count": null,
            "metadata": {},
            "outputs": [],
            "source": [
                "data['marker_size'] = 0.1 + (data['bbox_area_diff'])*2"
            ]
        },
        {
            "cell_type": "code",
            "execution_count": null,
            "metadata": {},
            "outputs": [],
            "source": [
                "data['marker_size'].describe()"
            ]
        },
        {
            "cell_type": "code",
            "execution_count": null,
            "metadata": {},
            "outputs": [],
            "source": [
                "mask = pltr._data['wrm_w'] < 0\n",
                "pltr._data.loc[mask, 'wrm_w'] = 0\n",
                "\n",
                "mask = pltr._data['wrm_h'] < 0\n",
                "pltr._data.loc[mask, 'wrm_h'] = 0\n",
                "\n",
                "pltr._data['wrm_area'] = pltr._data['wrm_w'] * pltr._data['wrm_h']"
            ]
        },
        {
            "cell_type": "code",
            "execution_count": null,
            "metadata": {},
            "outputs": [],
            "source": [
                "pltr._data['wrm_area'].describe()"
            ]
        },
        {
            "cell_type": "code",
            "execution_count": null,
            "metadata": {},
            "outputs": [],
            "source": [
                "pltr._data[[\"wrm_w\", \"wrm_h\", 'bbox_area_diff']].describe()"
            ]
        },
        {
            "cell_type": "code",
            "execution_count": null,
            "metadata": {},
            "outputs": [],
            "source": [
                "(data['wrm_speed_avg'] > 2).sum()"
            ]
        },
        {
            "cell_type": "code",
            "execution_count": null,
            "metadata": {},
            "outputs": [],
            "source": [
                "(data['bbox_area_diff'] > 0.2).sum()/len(data.index)"
            ]
        },
        {
            "cell_type": "code",
            "execution_count": null,
            "metadata": {},
            "outputs": [],
            "source": [
                "pltr.remove_invalid_cycles(data)[[\"wrm_x\", \"wrm_y\", \"wrm_w\", \"wrm_h\"]].describe()"
            ]
        },
        {
            "cell_type": "code",
            "execution_count": null,
            "metadata": {},
            "outputs": [],
            "source": [
                "fig, ax = plt.subplots()\n",
                "sns.scatterplot(data=pltr._data, x='frame', y='wrm_speed_avg', hue='bbox_area_diff', ax=ax, s=8, linewidth=0.1)\n",
                "ax.set_ylim(0, 2)"
            ]
        },
        {
            "cell_type": "code",
            "execution_count": null,
            "metadata": {},
            "outputs": [],
            "source": [
                "fig, ax = plt.subplots()\n",
                "sns.scatterplot(data=pltr._data, x='wrm_speed_avg', y='bbox_area_diff', hue='wrm_area', ax=ax, s=8, linewidth=0.1)\n",
                "ax.set_xlim(0, 2)"
            ]
        },
        {
            "cell_type": "code",
            "execution_count": null,
            "metadata": {},
            "outputs": [],
            "source": [
                "data['residual'] = np.sqrt((data['wrm_center_x'] - data['mic_center_x'])**2 + (data['wrm_center_y'] - data['mic_center_y'])**2)"
            ]
        },
        {
            "cell_type": "code",
            "execution_count": null,
            "metadata": {},
            "outputs": [],
            "source": [
                "data['residual'].describe()"
            ]
        },
        {
            "cell_type": "code",
            "execution_count": null,
            "metadata": {},
            "outputs": [],
            "source": [
                "# data['diff_x'] = data['mic_x'].diff()\n",
                "# data['diff_y'] = data['mic_y'].diff()\n",
                "# sns.histplot(data=data, x='diff_y')"
            ]
        },
        {
            "cell_type": "code",
            "execution_count": null,
            "metadata": {},
            "outputs": [],
            "source": [
                "data['cycle_step'] = data['frame']%15"
            ]
        },
        {
            "cell_type": "code",
            "execution_count": null,
            "metadata": {},
            "outputs": [],
            "source": [
                "# fig, ax = plt.subplots()\n",
                "# sns.jointplot(data=data, x='cycle_step', y='residual', ax=ax, s=8, linewidth=0.1)\n",
                "sns.jointplot(data=data, x='cycle_step', y='wrm_speed', ax=ax, kind='hist')\n",
                "# sns.histplot(data=data, x='cycle_step', y='residual')"
            ]
        },
        {
            "cell_type": "code",
            "execution_count": null,
            "metadata": {},
            "outputs": [],
            "source": [
                "sns.catplot(data=data, x='cycle_step', y='wrm_speed', kind='violin')"
            ]
        },
        {
            "cell_type": "code",
            "execution_count": null,
            "metadata": {},
            "outputs": [],
            "source": [
                "%matplotlib inline\n",
                "for i in [1,2,4,8,15]:\n",
                "    data = pltr.data_prep_frames(i)\n",
                "    data['wrm_speed_avg'] = pltr.rolling_average(data, window_size=round(15/i), column='wrm_speed')\n",
                "    # fig, ax = plt.subplots()\n",
                "    mask = data['bbox_area_diff'] > 1e-3\n",
                "    g = sns.jointplot(data=data[mask], x='wrm_speed_avg', y='bbox_area_diff', kind='scatter', xlim=(0, 3), dropna=True)\n",
                "    g.fig.suptitle(f\"i = {i}, rolling window = {round(15/i)}\")\n"
            ]
        },
        {
            "cell_type": "code",
            "execution_count": null,
            "metadata": {},
            "outputs": [],
            "source": [
                "plt._data.dtypes"
            ]
        },
        {
            "cell_type": "markdown",
            "metadata": {},
            "source": [
                "# Run Simulation"
            ]
        },
        {
            "cell_type": "code",
            "execution_count": 1,
            "metadata": {},
            "outputs": [],
            "source": [
                "from evaluation.simulator import *\n",
                "from evaluation.sim_controllers import *\n",
                "from dataset.raw_dataset import ExperimentConfig\n",
                "from dummy_reader import DummyReader\n",
                "from evaluation.motor_controller import *\n",
                "\n",
                "base_path = \"/Users/guycohen/Desktop/Bio-Project/\""
            ]
        },
        {
            "cell_type": "markdown",
            "metadata": {},
            "source": [
                "## Run CSV Simulation"
            ]
        },
        {
            "cell_type": "code",
            "execution_count": 2,
            "metadata": {},
            "outputs": [],
            "source": [
                "exp_base_path = base_path + \"Test1\"\n",
                "\n",
                "time_config = TimingConfig.load_json(base_path + \"time_config.json\")\n",
                "exp_config = ExperimentConfig.load_json(base_path + \"exp_config.json\")\n",
                "log_config = LogConfig(\n",
                "    root_folder=exp_base_path,\n",
                "    save_mic_view=False,\n",
                "    save_cam_view=False,\n",
                ")"
            ]
        },
        {
            "cell_type": "code",
            "execution_count": 3,
            "metadata": {},
            "outputs": [],
            "source": [
                "from evaluation.sim_controllers.test_controller1 import TestController1\n",
                "from evaluation.sim_controllers.csv_controller import CsvController\n",
                "\n",
                "# controller = TestController1(time_config, \"/Users/guycohen/Desktop/Bio-Project/eval/bboxes.csv\")\n",
                "controller = CsvController(time_config, \"/Users/guycohen/Desktop/Bio-Project/eval/bboxes.csv\")"
            ]
        },
        {
            "cell_type": "code",
            "execution_count": 4,
            "metadata": {},
            "outputs": [],
            "source": [
                "reader = DummyReader(exp_config)\n",
                "\n",
                "logging_controller = LoggingController(controller, log_config)\n",
                "motor_controller = SineMovementController(time_config)\n",
                "\n",
                "sim = Simulator(time_config, exp_config, reader, logging_controller, motor_controller)"
            ]
        },
        {
            "cell_type": "code",
            "execution_count": 6,
            "metadata": {},
            "outputs": [
                {
                    "data": {
                        "text/plain": [
                            "True"
                        ]
                    },
                    "execution_count": 6,
                    "metadata": {},
                    "output_type": "execute_result"
                }
            ],
            "source": [
                "stream = reader.make_stream()\n",
                "stream.seek(1)"
            ]
        },
        {
            "cell_type": "code",
            "execution_count": 10,
            "metadata": {},
            "outputs": [
                {
                    "data": {
                        "text/plain": [
                            "array([[0, 0, 0, ..., 0, 0, 0],\n",
                            "       [0, 0, 0, ..., 0, 0, 0],\n",
                            "       [0, 0, 0, ..., 0, 0, 0],\n",
                            "       ...,\n",
                            "       [0, 0, 0, ..., 0, 0, 0],\n",
                            "       [0, 0, 0, ..., 0, 0, 0],\n",
                            "       [0, 0, 0, ..., 0, 0, 0]], dtype=uint8)"
                        ]
                    },
                    "execution_count": 10,
                    "metadata": {},
                    "output_type": "execute_result"
                }
            ],
            "source": [
                "stream.read()"
            ]
        },
        {
            "cell_type": "code",
            "execution_count": 5,
            "metadata": {},
            "outputs": [
                {
                    "data": {
                        "application/vnd.jupyter.widget-view+json": {
                            "model_id": "3cccf84264554d76b1ed4ad6d251fe8e",
                            "version_major": 2,
                            "version_minor": 0
                        },
                        "text/plain": [
                            "Simulation Progress:   0%|          | 0/4080 [00:00<?, ?cycle/s]"
                        ]
                    },
                    "metadata": {},
                    "output_type": "display_data"
                },
                {
                    "ename": "TypeError",
                    "evalue": "slice indices must be integers or None or have an __index__ method",
                    "output_type": "error",
                    "traceback": [
                        "\u001b[0;31m---------------------------------------------------------------------------\u001b[0m",
                        "\u001b[0;31mTypeError\u001b[0m                                 Traceback (most recent call last)",
                        "Cell \u001b[0;32mIn[5], line 1\u001b[0m\n\u001b[0;32m----> 1\u001b[0m \u001b[43msim\u001b[49m\u001b[38;5;241;43m.\u001b[39;49m\u001b[43mrun\u001b[49m\u001b[43m(\u001b[49m\u001b[43m)\u001b[49m\n\u001b[1;32m      2\u001b[0m time_config\u001b[38;5;241m.\u001b[39msave_json(exp_base_path \u001b[38;5;241m+\u001b[39m \u001b[38;5;124m\"\u001b[39m\u001b[38;5;124m/time_config.json\u001b[39m\u001b[38;5;124m\"\u001b[39m)\n\u001b[1;32m      3\u001b[0m exp_config\u001b[38;5;241m.\u001b[39msave_json(exp_base_path \u001b[38;5;241m+\u001b[39m \u001b[38;5;124m\"\u001b[39m\u001b[38;5;124m/exp_config.json\u001b[39m\u001b[38;5;124m\"\u001b[39m)\n",
                        "File \u001b[0;32m~/Desktop/Bio-Project/Bio-Proj/evaluation/simulator.py:133\u001b[0m, in \u001b[0;36mSimulator.run\u001b[0;34m(self, visualize, wait_key)\u001b[0m\n\u001b[1;32m    130\u001b[0m         \u001b[38;5;28mself\u001b[39m\u001b[38;5;241m.\u001b[39m_controller\u001b[38;5;241m.\u001b[39mon_cycle_end(\u001b[38;5;28mself\u001b[39m)\n\u001b[1;32m    131\u001b[0m     \u001b[38;5;28mself\u001b[39m\u001b[38;5;241m.\u001b[39m_controller\u001b[38;5;241m.\u001b[39mon_cycle_start(\u001b[38;5;28mself\u001b[39m)\n\u001b[0;32m--> 133\u001b[0m \u001b[38;5;28;43mself\u001b[39;49m\u001b[38;5;241;43m.\u001b[39;49m\u001b[43m_controller\u001b[49m\u001b[38;5;241;43m.\u001b[39;49m\u001b[43mon_camera_frame\u001b[49m\u001b[43m(\u001b[49m\u001b[38;5;28;43mself\u001b[39;49m\u001b[43m)\u001b[49m\n\u001b[1;32m    135\u001b[0m \u001b[38;5;28;01mif\u001b[39;00m \u001b[38;5;28mself\u001b[39m\u001b[38;5;241m.\u001b[39mcycle_step \u001b[38;5;241m==\u001b[39m \u001b[38;5;241m0\u001b[39m:\n\u001b[1;32m    136\u001b[0m     \u001b[38;5;28mself\u001b[39m\u001b[38;5;241m.\u001b[39m_controller\u001b[38;5;241m.\u001b[39mon_imaging_start(\u001b[38;5;28mself\u001b[39m)\n",
                        "File \u001b[0;32m~/Desktop/Bio-Project/Bio-Proj/evaluation/sim_controllers/logging_controller.py:107\u001b[0m, in \u001b[0;36mLoggingController.on_camera_frame\u001b[0;34m(self, sim)\u001b[0m\n\u001b[1;32m    104\u001b[0m \u001b[38;5;28mself\u001b[39m\u001b[38;5;241m.\u001b[39m_camera_bboxes\u001b[38;5;241m.\u001b[39mappend(sim\u001b[38;5;241m.\u001b[39mcamera\u001b[38;5;241m.\u001b[39m_calc_view_bbox(\u001b[38;5;241m*\u001b[39msim\u001b[38;5;241m.\u001b[39mcamera\u001b[38;5;241m.\u001b[39mcamera_size))\n\u001b[1;32m    105\u001b[0m \u001b[38;5;28mself\u001b[39m\u001b[38;5;241m.\u001b[39m_micro_bboxes\u001b[38;5;241m.\u001b[39mappend(sim\u001b[38;5;241m.\u001b[39mcamera\u001b[38;5;241m.\u001b[39m_calc_view_bbox(\u001b[38;5;241m*\u001b[39msim\u001b[38;5;241m.\u001b[39mcamera\u001b[38;5;241m.\u001b[39mmicro_size))\n\u001b[0;32m--> 107\u001b[0m cam_view \u001b[38;5;241m=\u001b[39m \u001b[43msim\u001b[49m\u001b[38;5;241;43m.\u001b[39;49m\u001b[43mcamera_view\u001b[49m\u001b[43m(\u001b[49m\u001b[43m)\u001b[49m \u001b[38;5;28;01mif\u001b[39;00m \u001b[38;5;28mself\u001b[39m\u001b[38;5;241m.\u001b[39mlog_config\u001b[38;5;241m.\u001b[39msave_err_view \u001b[38;5;129;01mor\u001b[39;00m \u001b[38;5;28mself\u001b[39m\u001b[38;5;241m.\u001b[39mlog_config\u001b[38;5;241m.\u001b[39msave_cam_view \u001b[38;5;28;01melse\u001b[39;00m \u001b[38;5;28;01mNone\u001b[39;00m\n\u001b[1;32m    109\u001b[0m \u001b[38;5;28;01mif\u001b[39;00m \u001b[38;5;28mself\u001b[39m\u001b[38;5;241m.\u001b[39mlog_config\u001b[38;5;241m.\u001b[39msave_err_view:\n\u001b[1;32m    110\u001b[0m     \u001b[38;5;28mself\u001b[39m\u001b[38;5;241m.\u001b[39m_camera_frames\u001b[38;5;241m.\u001b[39mappend(cam_view)\n",
                        "File \u001b[0;32m~/Desktop/Bio-Project/Bio-Proj/evaluation/simulator.py:108\u001b[0m, in \u001b[0;36mSimulator.camera_view\u001b[0;34m(self)\u001b[0m\n\u001b[1;32m    107\u001b[0m \u001b[38;5;28;01mdef\u001b[39;00m \u001b[38;5;21mcamera_view\u001b[39m(\u001b[38;5;28mself\u001b[39m) \u001b[38;5;241m-\u001b[39m\u001b[38;5;241m>\u001b[39m np\u001b[38;5;241m.\u001b[39mndarray:\n\u001b[0;32m--> 108\u001b[0m     \u001b[38;5;28;01mreturn\u001b[39;00m \u001b[38;5;28;43mself\u001b[39;49m\u001b[38;5;241;43m.\u001b[39;49m\u001b[43m_camera\u001b[49m\u001b[38;5;241;43m.\u001b[39;49m\u001b[43mcamera_view\u001b[49m\u001b[43m(\u001b[49m\u001b[43m)\u001b[49m\n",
                        "File \u001b[0;32m~/Desktop/Bio-Project/Bio-Proj/evaluation/view_controller.py:166\u001b[0m, in \u001b[0;36mViewController.camera_view\u001b[0;34m(self)\u001b[0m\n\u001b[1;32m    159\u001b[0m \u001b[38;5;28;01mdef\u001b[39;00m \u001b[38;5;21mcamera_view\u001b[39m(\u001b[38;5;28mself\u001b[39m) \u001b[38;5;241m-\u001b[39m\u001b[38;5;241m>\u001b[39m np\u001b[38;5;241m.\u001b[39mndarray:\n\u001b[1;32m    160\u001b[0m \u001b[38;5;250m    \u001b[39m\u001b[38;5;124;03m\"\"\"\u001b[39;00m\n\u001b[1;32m    161\u001b[0m \u001b[38;5;124;03m    Get the camera view.\u001b[39;00m\n\u001b[1;32m    162\u001b[0m \n\u001b[1;32m    163\u001b[0m \u001b[38;5;124;03m    Returns:\u001b[39;00m\n\u001b[1;32m    164\u001b[0m \u001b[38;5;124;03m        np.ndarray: The camera view.\u001b[39;00m\n\u001b[1;32m    165\u001b[0m \u001b[38;5;124;03m    \"\"\"\u001b[39;00m\n\u001b[0;32m--> 166\u001b[0m     \u001b[38;5;28;01mreturn\u001b[39;00m \u001b[38;5;28;43mself\u001b[39;49m\u001b[38;5;241;43m.\u001b[39;49m\u001b[43m_custom_view\u001b[49m\u001b[43m(\u001b[49m\u001b[38;5;241;43m*\u001b[39;49m\u001b[38;5;28;43mself\u001b[39;49m\u001b[38;5;241;43m.\u001b[39;49m\u001b[43mcamera_size\u001b[49m\u001b[43m)\u001b[49m\n",
                        "File \u001b[0;32m~/Desktop/Bio-Project/Bio-Proj/evaluation/view_controller.py:156\u001b[0m, in \u001b[0;36mViewController._custom_view\u001b[0;34m(self, w, h)\u001b[0m\n\u001b[1;32m    154\u001b[0m x, y, w, h \u001b[38;5;241m=\u001b[39m \u001b[38;5;28mself\u001b[39m\u001b[38;5;241m.\u001b[39m_calc_view_bbox(w, h)\n\u001b[1;32m    155\u001b[0m frame \u001b[38;5;241m=\u001b[39m \u001b[38;5;28mself\u001b[39m\u001b[38;5;241m.\u001b[39mread()\n\u001b[0;32m--> 156\u001b[0m \u001b[38;5;28mslice\u001b[39m \u001b[38;5;241m=\u001b[39m \u001b[43mframe\u001b[49m\u001b[43m[\u001b[49m\u001b[43my\u001b[49m\u001b[43m \u001b[49m\u001b[43m:\u001b[49m\u001b[43m \u001b[49m\u001b[43my\u001b[49m\u001b[43m \u001b[49m\u001b[38;5;241;43m+\u001b[39;49m\u001b[43m \u001b[49m\u001b[43mw\u001b[49m\u001b[43m,\u001b[49m\u001b[43m \u001b[49m\u001b[43mx\u001b[49m\u001b[43m \u001b[49m\u001b[43m:\u001b[49m\u001b[43m \u001b[49m\u001b[43mx\u001b[49m\u001b[43m \u001b[49m\u001b[38;5;241;43m+\u001b[39;49m\u001b[43m \u001b[49m\u001b[43mh\u001b[49m\u001b[43m]\u001b[49m\n\u001b[1;32m    157\u001b[0m \u001b[38;5;28;01mreturn\u001b[39;00m \u001b[38;5;28mslice\u001b[39m\n",
                        "\u001b[0;31mTypeError\u001b[0m: slice indices must be integers or None or have an __index__ method"
                    ]
                }
            ],
            "source": [
                "sim.run()\n",
                "time_config.save_json(exp_base_path + \"/time_config.json\")\n",
                "exp_config.save_json(exp_base_path + \"/exp_config.json\")"
            ]
        },
        {
            "cell_type": "markdown",
            "metadata": {},
            "source": [
                "## Real Simulation"
            ]
        },
        {
            "cell_type": "code",
            "execution_count": null,
            "metadata": {},
            "outputs": [],
            "source": [
                "\"\"\"experiment_config = ExperimentConfig(\n",
                "    name=\"exp1\",\n",
                "    num_frames=61200,\n",
                "    frames_per_sec=60,\n",
                "    orig_resolution=(1920, 1080),\n",
                "    px_per_mm=90,\n",
                "    init_position=(1300, 1200),\n",
                ")\"\"\"\n",
                "# experiment_config.save_json(\"/Users/guycohen/Desktop/Bio-Project/exp_config.json\")"
            ]
        },
        {
            "cell_type": "code",
            "execution_count": null,
            "metadata": {},
            "outputs": [],
            "source": [
                "\"\"\"time_config = TimingConfig(\n",
                "    frames_per_sec=60,\n",
                "    imaging_time_ms=200,\n",
                "    pred_time_ms=40,\n",
                "    moving_time_ms=50,\n",
                "    px_per_mm=90,\n",
                "    camera_size_mm=(4, 4),\n",
                "    micro_size_mm=(0.327, 0.327),\n",
                "    frame_padding_value=(255, 255, 255),\n",
                ")\n",
                "time_config.save_json(base_path+\"time_config_medium_micro.json\")\"\"\""
            ]
        },
        {
            "cell_type": "code",
            "execution_count": null,
            "metadata": {},
            "outputs": [],
            "source": [
                "\n",
                "\"\"\"time_config = TimingConfig(\n",
                "    frames_per_sec=60,\n",
                "    imaging_time_ms=200,\n",
                "    pred_time_ms=40,\n",
                "    moving_time_ms=50,\n",
                "    px_per_mm=90,\n",
                "    camera_size_mm=(4, 4),\n",
                "    micro_size_mm=(0.225, 0.225),\n",
                "    frame_padding_value=(255, 255, 255),\n",
                ")\n",
                "\n",
                "log_config = LogConfig(\n",
                "    root_folder=base_path,\n",
                "    save_mic_view=False,\n",
                "    save_cam_view=False,\n",
                ")\"\"\"\n",
                "\n",
                "# yolo_config = YoloConfig(model_path=\"yolov8m-trained.pt\") \n",
                "\n",
                "# time_config.save_json(base_path+\"time_config.json\")\n",
                "# log_config.save_json(base_path+\"csv_log_config.json\")\n",
                "# yolo_config.save_json(base_path++\"yolo_config.json\")\n",
                "\n",
                "\n",
                "# frames_path = \"Archive/\"\n",
                "# reader = FrameReader.create_from_directory(frames_path)\n",
                "\n",
                "# time_config = TimingConfig.load_json(\"logs/time_config.json\")\n",
                "# log_config = LogConfig.load_json(\"logs/log_config.json\")\n",
                "# yolo_config = YoloConfig.load_json(\"logs/yolo_config.json\")\n"
            ]
        },
        {
            "cell_type": "code",
            "execution_count": null,
            "metadata": {},
            "outputs": [],
            "source": [
                "print(time_config.imaging_frame_num + time_config.moving_frame_num)"
            ]
        },
        {
            "cell_type": "code",
            "execution_count": null,
            "metadata": {},
            "outputs": [],
            "source": [
                "\n",
                "controller = LoggingController(time_config, yolo_config, log_config)\n",
                "#controller = YoloController(time_config, yolo_config)\n",
                "sim = Simulator(time_config, reader, controller)"
            ]
        },
        {
            "cell_type": "code",
            "execution_count": null,
            "metadata": {},
            "outputs": [],
            "source": [
                "sim.run()"
            ]
        },
        {
            "cell_type": "code",
            "execution_count": null,
            "metadata": {},
            "outputs": [],
            "source": [
                "cv.destroyAllWindows()\n",
                "raise Exception(\"Finished\")"
            ]
        },
        {
            "cell_type": "code",
            "execution_count": null,
            "metadata": {},
            "outputs": [],
            "source": [
                "from frame_reader import FrameReader\n",
                "\n",
                "reader = FrameReader.create_from_directory(\"Archive/\")"
            ]
        },
        {
            "cell_type": "code",
            "execution_count": null,
            "metadata": {},
            "outputs": [],
            "source": [
                "from dataset.create.box_calculator import BoxCalculator\n",
                "from dataset.create.sample_extractor import SampleExtractor\n",
                "\n",
                "bbox_calc = BoxCalculator(reader)\n",
                "extractor = SampleExtractor(bbox_calc)\n",
                "extractor.create_all_samples(target_size=(400, 400), save_folder=\"samples\")"
            ]
        },
        {
            "cell_type": "code",
            "execution_count": null,
            "metadata": {},
            "outputs": [],
            "source": [
                "# TODO: IMPROVE\n",
                "def find_boxes(image: np.ndarray) -> np.ndarray:\n",
                "    # increase contrast of original image\n",
                "    image = cv.cvtColor(image, cv.COLOR_BGR2GRAY)\n",
                "\n",
                "    # remove gaussian noise\n",
                "    smoothed = cv.GaussianBlur(image, (3, 3), 0)\n",
                "\n",
                "    # apply threshold to image to convert it into black & white\n",
                "    _, mask = cv.threshold(smoothed, 160, 255, cv.THRESH_BINARY_INV)\n",
                "\n",
                "    # do some morphological magic to clean up noise from the mask\n",
                "    kernel = np.ones((5, 5), np.uint8)\n",
                "    mask = cv.morphologyEx(mask, cv.MORPH_OPEN, kernel)\n",
                "\n",
                "    # dilate to increase all object sizes in the mask\n",
                "    kernel = np.ones((3, 3), np.uint8)\n",
                "    mask = cv.dilate(mask, kernel, iterations=5)\n",
                "\n",
                "    image[mask == 0] = 255\n",
                "    cv.imshow(\"masked\", image)\n",
                "\n",
                "    # find contours\n",
                "    contours, _ = cv.findContours(mask, cv.RETR_EXTERNAL, cv.CHAIN_APPROX_SIMPLE)\n",
                "\n",
                "    # Populate bounding boxes\n",
                "    bbox_list = []\n",
                "    for c in contours:\n",
                "        area = cv.contourArea(c)\n",
                "\n",
                "        if area < 500 or area > 4000:\n",
                "            continue\n",
                "\n",
                "        box = cv.boundingRect(c)\n",
                "        bbox_list.append(box)\n",
                "\n",
                "    # Turn our bboxes into 2d ndarray\n",
                "    bboxes = np.asanyarray(bbox_list)\n",
                "    return bboxes"
            ]
        }
    ],
    "metadata": {
        "kernelspec": {
            "display_name": "bio-proj",
            "language": "python",
            "name": "python3"
        },
        "language_info": {
            "codemirror_mode": {
                "name": "ipython",
                "version": 3
            },
            "file_extension": ".py",
            "mimetype": "text/x-python",
            "name": "python",
            "nbconvert_exporter": "python",
            "pygments_lexer": "ipython3",
            "version": "3.12.3"
        }
    },
    "nbformat": 4,
    "nbformat_minor": 2
}
