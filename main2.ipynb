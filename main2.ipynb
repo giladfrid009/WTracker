{
    "cells": [
        {
            "cell_type": "code",
            "execution_count": 1,
            "metadata": {},
            "outputs": [
                {
                    "name": "stderr",
                    "output_type": "stream",
                    "text": [
                        "c:\\Users\\slevylab\\AppData\\Local\\miniforge3\\envs\\bio_proj\\Lib\\site-packages\\onnxruntime\\capi\\onnxruntime_validation.py:26: UserWarning: Unsupported Windows version (11). ONNX Runtime supports Windows 10 and above, only.\n",
                        "  warnings.warn(\n"
                    ]
                }
            ],
            "source": [
                "import cv2 as cv\n",
                "import numpy as np\n",
                "import pandas as pd\n",
                "import PIL\n",
                "import matplotlib\n",
                "import matplotlib.pyplot as plt\n",
                "import seaborn as sns\n",
                "\n",
                "from evaluation.vlc import VLC\n",
                "from utils.path_utils import Files\n",
                "from evaluation.simulator import TimingConfig\n",
                "from evaluation.analysis import Plotter\n",
                "from tkinter import filedialog\n",
                "\n",
                "%matplotlib qt\n",
                "pd.options.display.max_columns = 30"
            ]
        },
        {
            "cell_type": "markdown",
            "metadata": {},
            "source": [
                "# Analysis"
            ]
        },
        {
            "cell_type": "markdown",
            "metadata": {},
            "source": [
                "## VLC"
            ]
        },
        {
            "cell_type": "code",
            "execution_count": 2,
            "metadata": {},
            "outputs": [],
            "source": [
                "directory = \"D:\\\\Guy_Gilad\\\\Exp1_GuyGilad\\\\raw\"\n",
                "files = Files(directory, extension='Bmp', sorting_key=lambda f: int(f.split('-')[-1].split('.')[0]))\n",
                "timing_config = TimingConfig.load_json(\"D:\\\\Guy_Gilad\\\\Bio-Proj\\\\logs\\\\time_config.json\")\n",
                "# log_path = \"/Users/guycohen/Desktop/Bio-Project/eval/bboxes2.csv\"\n",
                "# log_path = \"/Users/guycohen/Desktop/Bio-Project/Optimal/bboxes.csv\"\n",
                "# log_path = \"D:\\\\Guy_Gilad\\\\Exp2_GuyGilad\\\\logs_yolo\\\\bboxes.csv\"\n",
                "log_path = \"D:\\\\Guy_Gilad\\\\Bio-Proj\\\\logs\\\\bboxes.csv\"\n"
            ]
        },
        {
            "cell_type": "code",
            "execution_count": 3,
            "metadata": {},
            "outputs": [
                {
                    "name": "stdout",
                    "output_type": "stream",
                    "text": [
                        "Hotkeys:\n",
                        " - q : close the window\n",
                        " - q : close VLC\n",
                        " - d : next frame\n",
                        " - a : previous frame\n",
                        " - p : play/pause\n",
                        " - h : toggle prediction box\n",
                        " - m : toggle microscope box\n",
                        " - c : toggle camera box\n"
                    ]
                },
                {
                    "ename": "ValueError",
                    "evalue": "cannot convert float NaN to integer",
                    "output_type": "error",
                    "traceback": [
                        "\u001b[1;31m---------------------------------------------------------------------------\u001b[0m",
                        "\u001b[1;31mValueError\u001b[0m                                Traceback (most recent call last)",
                        "File \u001b[1;32md:\\Guy_Gilad\\Bio-Proj\\evaluation\\vlc.py:205\u001b[0m, in \u001b[0;36mVLC.seek\u001b[1;34m(self, pos)\u001b[0m\n\u001b[0;32m    203\u001b[0m \u001b[38;5;28mself\u001b[39m\u001b[38;5;241m.\u001b[39mindex \u001b[38;5;241m=\u001b[39m (pos) \u001b[38;5;241m%\u001b[39m \u001b[38;5;28mlen\u001b[39m(\u001b[38;5;28mself\u001b[39m\u001b[38;5;241m.\u001b[39mreader)\n\u001b[0;32m    204\u001b[0m \u001b[38;5;28mself\u001b[39m\u001b[38;5;241m.\u001b[39mupdate_curr_row()\n\u001b[1;32m--> 205\u001b[0m \u001b[38;5;28mself\u001b[39m\u001b[38;5;241m.\u001b[39mstreamer\u001b[38;5;241m.\u001b[39mupdate(\u001b[38;5;28;43mself\u001b[39;49m\u001b[38;5;241;43m.\u001b[39;49m\u001b[43mget_photo\u001b[49m\u001b[43m(\u001b[49m\u001b[43m)\u001b[49m)\n\u001b[0;32m    206\u001b[0m \u001b[38;5;28mself\u001b[39m\u001b[38;5;241m.\u001b[39mstreamer\u001b[38;5;241m.\u001b[39mset_title(\u001b[38;5;28mself\u001b[39m\u001b[38;5;241m.\u001b[39m_get_title())\n",
                        "File \u001b[1;32md:\\Guy_Gilad\\Bio-Proj\\evaluation\\vlc.py:193\u001b[0m, in \u001b[0;36mVLC.get_photo\u001b[1;34m(self)\u001b[0m\n\u001b[0;32m    191\u001b[0m photo \u001b[38;5;241m=\u001b[39m \u001b[38;5;28mself\u001b[39m\u001b[38;5;241m.\u001b[39mreader[\u001b[38;5;28mself\u001b[39m\u001b[38;5;241m.\u001b[39mindex]\n\u001b[0;32m    192\u001b[0m \u001b[38;5;28;01mif\u001b[39;00m \u001b[38;5;28mself\u001b[39m\u001b[38;5;241m.\u001b[39mshow_pred:\n\u001b[1;32m--> 193\u001b[0m     \u001b[38;5;28;43mself\u001b[39;49m\u001b[38;5;241;43m.\u001b[39;49m\u001b[43madd_pred\u001b[49m\u001b[43m(\u001b[49m\u001b[43mphoto\u001b[49m\u001b[43m)\u001b[49m\n\u001b[0;32m    194\u001b[0m \u001b[38;5;28;01mif\u001b[39;00m \u001b[38;5;28mself\u001b[39m\u001b[38;5;241m.\u001b[39mshow_micro:\n\u001b[0;32m    195\u001b[0m     \u001b[38;5;28mself\u001b[39m\u001b[38;5;241m.\u001b[39madd_micro_box(photo)\n",
                        "File \u001b[1;32md:\\Guy_Gilad\\Bio-Proj\\evaluation\\vlc.py:295\u001b[0m, in \u001b[0;36mVLC.add_pred\u001b[1;34m(self, photo)\u001b[0m\n\u001b[0;32m    291\u001b[0m \u001b[38;5;28;01mdef\u001b[39;00m \u001b[38;5;21madd_pred\u001b[39m(\u001b[38;5;28mself\u001b[39m, photo: np\u001b[38;5;241m.\u001b[39mndarray) \u001b[38;5;241m-\u001b[39m\u001b[38;5;241m>\u001b[39m \u001b[38;5;28;01mNone\u001b[39;00m:\n\u001b[0;32m    292\u001b[0m     \u001b[38;5;66;03m# x, y, w, h = self.get_bbox(self.cam_type)\u001b[39;00m\n\u001b[0;32m    293\u001b[0m     \u001b[38;5;66;03m# pred_x, pred_y, pred_w, pred_h = self.get_bbox(\"wrm\")\u001b[39;00m\n\u001b[0;32m    294\u001b[0m     worm_bbox \u001b[38;5;241m=\u001b[39m \u001b[38;5;28mself\u001b[39m\u001b[38;5;241m.\u001b[39mget_bbox(\u001b[38;5;124m\"\u001b[39m\u001b[38;5;124mwrm\u001b[39m\u001b[38;5;124m\"\u001b[39m)\n\u001b[1;32m--> 295\u001b[0m     \u001b[38;5;28;43mself\u001b[39;49m\u001b[38;5;241;43m.\u001b[39;49m\u001b[43mdraw_box\u001b[49m\u001b[43m(\u001b[49m\u001b[43mphoto\u001b[49m\u001b[43m,\u001b[49m\u001b[43m \u001b[49m\u001b[43mworm_bbox\u001b[49m\u001b[43m,\u001b[49m\u001b[43m \u001b[49m\u001b[43m(\u001b[49m\u001b[38;5;241;43m0\u001b[39;49m\u001b[43m,\u001b[49m\u001b[43m \u001b[49m\u001b[38;5;241;43m0\u001b[39;49m\u001b[43m,\u001b[49m\u001b[43m \u001b[49m\u001b[38;5;241;43m0\u001b[39;49m\u001b[43m)\u001b[49m\u001b[43m,\u001b[49m\u001b[43m \u001b[49m\u001b[38;5;241;43m1\u001b[39;49m\u001b[43m)\u001b[49m\n",
                        "File \u001b[1;32md:\\Guy_Gilad\\Bio-Proj\\evaluation\\vlc.py:259\u001b[0m, in \u001b[0;36mVLC.draw_box\u001b[1;34m(self, photo, bbox, color, width)\u001b[0m\n\u001b[0;32m    256\u001b[0m x, y, w, h \u001b[38;5;241m=\u001b[39m \u001b[38;5;28mself\u001b[39m\u001b[38;5;241m.\u001b[39mget_bbox(\u001b[38;5;28mself\u001b[39m\u001b[38;5;241m.\u001b[39mcam_type)\n\u001b[0;32m    257\u001b[0m pred_x, pred_y, pred_w, pred_h \u001b[38;5;241m=\u001b[39m bbox\n\u001b[1;32m--> 259\u001b[0m pred_x \u001b[38;5;241m=\u001b[39m \u001b[43mfloor\u001b[49m\u001b[43m(\u001b[49m\u001b[43mpred_x\u001b[49m\u001b[43m \u001b[49m\u001b[38;5;241;43m-\u001b[39;49m\u001b[43m \u001b[49m\u001b[43mx\u001b[49m\u001b[43m)\u001b[49m\n\u001b[0;32m    260\u001b[0m pred_y \u001b[38;5;241m=\u001b[39m floor(pred_y \u001b[38;5;241m-\u001b[39m y)\n\u001b[0;32m    261\u001b[0m pred_w \u001b[38;5;241m=\u001b[39m ceil(pred_w)\n",
                        "\u001b[1;31mValueError\u001b[0m: cannot convert float NaN to integer"
                    ]
                },
                {
                    "ename": "ValueError",
                    "evalue": "cannot convert float NaN to integer",
                    "output_type": "error",
                    "traceback": [
                        "\u001b[1;31m---------------------------------------------------------------------------\u001b[0m",
                        "\u001b[1;31mValueError\u001b[0m                                Traceback (most recent call last)",
                        "File \u001b[1;32md:\\Guy_Gilad\\Bio-Proj\\evaluation\\vlc.py:205\u001b[0m, in \u001b[0;36mVLC.seek\u001b[1;34m(self, pos)\u001b[0m\n\u001b[0;32m    203\u001b[0m \u001b[38;5;28mself\u001b[39m\u001b[38;5;241m.\u001b[39mindex \u001b[38;5;241m=\u001b[39m (pos) \u001b[38;5;241m%\u001b[39m \u001b[38;5;28mlen\u001b[39m(\u001b[38;5;28mself\u001b[39m\u001b[38;5;241m.\u001b[39mreader)\n\u001b[0;32m    204\u001b[0m \u001b[38;5;28mself\u001b[39m\u001b[38;5;241m.\u001b[39mupdate_curr_row()\n\u001b[1;32m--> 205\u001b[0m \u001b[38;5;28mself\u001b[39m\u001b[38;5;241m.\u001b[39mstreamer\u001b[38;5;241m.\u001b[39mupdate(\u001b[38;5;28;43mself\u001b[39;49m\u001b[38;5;241;43m.\u001b[39;49m\u001b[43mget_photo\u001b[49m\u001b[43m(\u001b[49m\u001b[43m)\u001b[49m)\n\u001b[0;32m    206\u001b[0m \u001b[38;5;28mself\u001b[39m\u001b[38;5;241m.\u001b[39mstreamer\u001b[38;5;241m.\u001b[39mset_title(\u001b[38;5;28mself\u001b[39m\u001b[38;5;241m.\u001b[39m_get_title())\n",
                        "File \u001b[1;32md:\\Guy_Gilad\\Bio-Proj\\evaluation\\vlc.py:193\u001b[0m, in \u001b[0;36mVLC.get_photo\u001b[1;34m(self)\u001b[0m\n\u001b[0;32m    191\u001b[0m photo \u001b[38;5;241m=\u001b[39m \u001b[38;5;28mself\u001b[39m\u001b[38;5;241m.\u001b[39mreader[\u001b[38;5;28mself\u001b[39m\u001b[38;5;241m.\u001b[39mindex]\n\u001b[0;32m    192\u001b[0m \u001b[38;5;28;01mif\u001b[39;00m \u001b[38;5;28mself\u001b[39m\u001b[38;5;241m.\u001b[39mshow_pred:\n\u001b[1;32m--> 193\u001b[0m     \u001b[38;5;28;43mself\u001b[39;49m\u001b[38;5;241;43m.\u001b[39;49m\u001b[43madd_pred\u001b[49m\u001b[43m(\u001b[49m\u001b[43mphoto\u001b[49m\u001b[43m)\u001b[49m\n\u001b[0;32m    194\u001b[0m \u001b[38;5;28;01mif\u001b[39;00m \u001b[38;5;28mself\u001b[39m\u001b[38;5;241m.\u001b[39mshow_micro:\n\u001b[0;32m    195\u001b[0m     \u001b[38;5;28mself\u001b[39m\u001b[38;5;241m.\u001b[39madd_micro_box(photo)\n",
                        "File \u001b[1;32md:\\Guy_Gilad\\Bio-Proj\\evaluation\\vlc.py:295\u001b[0m, in \u001b[0;36mVLC.add_pred\u001b[1;34m(self, photo)\u001b[0m\n\u001b[0;32m    291\u001b[0m \u001b[38;5;28;01mdef\u001b[39;00m \u001b[38;5;21madd_pred\u001b[39m(\u001b[38;5;28mself\u001b[39m, photo: np\u001b[38;5;241m.\u001b[39mndarray) \u001b[38;5;241m-\u001b[39m\u001b[38;5;241m>\u001b[39m \u001b[38;5;28;01mNone\u001b[39;00m:\n\u001b[0;32m    292\u001b[0m     \u001b[38;5;66;03m# x, y, w, h = self.get_bbox(self.cam_type)\u001b[39;00m\n\u001b[0;32m    293\u001b[0m     \u001b[38;5;66;03m# pred_x, pred_y, pred_w, pred_h = self.get_bbox(\"wrm\")\u001b[39;00m\n\u001b[0;32m    294\u001b[0m     worm_bbox \u001b[38;5;241m=\u001b[39m \u001b[38;5;28mself\u001b[39m\u001b[38;5;241m.\u001b[39mget_bbox(\u001b[38;5;124m\"\u001b[39m\u001b[38;5;124mwrm\u001b[39m\u001b[38;5;124m\"\u001b[39m)\n\u001b[1;32m--> 295\u001b[0m     \u001b[38;5;28;43mself\u001b[39;49m\u001b[38;5;241;43m.\u001b[39;49m\u001b[43mdraw_box\u001b[49m\u001b[43m(\u001b[49m\u001b[43mphoto\u001b[49m\u001b[43m,\u001b[49m\u001b[43m \u001b[49m\u001b[43mworm_bbox\u001b[49m\u001b[43m,\u001b[49m\u001b[43m \u001b[49m\u001b[43m(\u001b[49m\u001b[38;5;241;43m0\u001b[39;49m\u001b[43m,\u001b[49m\u001b[43m \u001b[49m\u001b[38;5;241;43m0\u001b[39;49m\u001b[43m,\u001b[49m\u001b[43m \u001b[49m\u001b[38;5;241;43m0\u001b[39;49m\u001b[43m)\u001b[49m\u001b[43m,\u001b[49m\u001b[43m \u001b[49m\u001b[38;5;241;43m1\u001b[39;49m\u001b[43m)\u001b[49m\n",
                        "File \u001b[1;32md:\\Guy_Gilad\\Bio-Proj\\evaluation\\vlc.py:259\u001b[0m, in \u001b[0;36mVLC.draw_box\u001b[1;34m(self, photo, bbox, color, width)\u001b[0m\n\u001b[0;32m    256\u001b[0m x, y, w, h \u001b[38;5;241m=\u001b[39m \u001b[38;5;28mself\u001b[39m\u001b[38;5;241m.\u001b[39mget_bbox(\u001b[38;5;28mself\u001b[39m\u001b[38;5;241m.\u001b[39mcam_type)\n\u001b[0;32m    257\u001b[0m pred_x, pred_y, pred_w, pred_h \u001b[38;5;241m=\u001b[39m bbox\n\u001b[1;32m--> 259\u001b[0m pred_x \u001b[38;5;241m=\u001b[39m \u001b[43mfloor\u001b[49m\u001b[43m(\u001b[49m\u001b[43mpred_x\u001b[49m\u001b[43m \u001b[49m\u001b[38;5;241;43m-\u001b[39;49m\u001b[43m \u001b[49m\u001b[43mx\u001b[49m\u001b[43m)\u001b[49m\n\u001b[0;32m    260\u001b[0m pred_y \u001b[38;5;241m=\u001b[39m floor(pred_y \u001b[38;5;241m-\u001b[39m y)\n\u001b[0;32m    261\u001b[0m pred_w \u001b[38;5;241m=\u001b[39m ceil(pred_w)\n",
                        "\u001b[1;31mValueError\u001b[0m: cannot convert float NaN to integer"
                    ]
                }
            ],
            "source": [
                "import cProfile\n",
                "vlc = VLC(files, timing_config, log_path, 'plt')\n",
                "vlc.print_hotkeys()\n",
                "vlc.streamer.update_trakbar(\"delay\", 1)\n",
                "vlc.show_cam = True\n",
                "vlc.show_micro = True\n",
                "vlc.show_pred = True\n",
                "vlc.play = True\n",
                "vlc.mainloop()\n",
                "# cProfile.run('vlc.mainloop()')\n"
            ]
        },
        {
            "cell_type": "code",
            "execution_count": null,
            "metadata": {},
            "outputs": [],
            "source": [
                "vlc = VLC(files, timing_config, log_path, 'mic')\n",
                "vlc.print_hotkeys()\n",
                "vlc.mainloop()"
            ]
        },
        {
            "cell_type": "markdown",
            "metadata": {},
            "source": [
                "## Plots"
            ]
        },
        {
            "cell_type": "code",
            "execution_count": null,
            "metadata": {},
            "outputs": [],
            "source": [
                "def cond(df: pd.DataFrame, threshold: float=1.5) -> pd.DataFrame:\n",
                "    mask1 = (df['cycle_step'] == 14) & (df['worm_center_dist'] > threshold)\n",
                "    cycles = df[mask1]['cycle'].unique()\n",
                "    return df['cycle'].isin(cycles)\n",
                "\n",
                "def cond_imaging(df:pd.DataFrame) -> pd.DataFrame:\n",
                "    return df['phase'] == 'imaging'\n",
                "\n",
                "def rolling_avg(data, col, window_size=5):\n",
                "    data[col+'_avg'] = Plotter.rolling_average(data, window_size=window_size, column=col)\n",
                "    return data"
            ]
        },
        {
            "cell_type": "code",
            "execution_count": null,
            "metadata": {},
            "outputs": [],
            "source": [
                "\n",
                "# original_log_path = \"/Users/guycohen/Desktop/Bio-Project/eval/bboxes2.csv\"\n",
                "# log_path = \"/Users/guycohen/Desktop/Bio-Project/eval_corrected_movement/bboxes.csv\"\n",
                "# log_path = \"/Users/guycohen/Desktop/Bio-Project/Optimal/bboxes.csv\"\n",
                "# log_path = \"/Users/guycohen/Desktop/Bio-Project/Controller2/bboxes.csv\"\n",
                "log_path = \"/Users/guycohen/Desktop/Bio-Project/PolyfitControllerV2/bboxes.csv\"\n",
                "# log_path = \"/Users/guycohen/Desktop/Bio-Project/test1/bboxes.csv\"\n",
                "timing_config = TimingConfig.load_json(\"/Users/guycohen/Desktop/Bio-Project/time_config.json\")\n",
                "\n",
                "pltr = Plotter(log_path, timing_config)\n",
                "# pltr_orig = Plotter(original_log_path, timing_config)"
            ]
        },
        {
            "cell_type": "code",
            "execution_count": null,
            "metadata": {},
            "outputs": [],
            "source": [
                "data = pltr.print_statistics(n=10)\n",
                "# data_orig = pltr_orig.print_statistics()"
            ]
        },
        {
            "cell_type": "code",
            "execution_count": null,
            "metadata": {},
            "outputs": [],
            "source": [
                "(data['mic_center_x'] - data['wrm_center_x']).hist(bins=15)"
            ]
        },
        {
            "cell_type": "code",
            "execution_count": null,
            "metadata": {},
            "outputs": [],
            "source": [
                "sns.scatterplot(data=data, x='frame', y='worm_deviation', hue='wrm_speed')"
            ]
        },
        {
            "cell_type": "code",
            "execution_count": null,
            "metadata": {},
            "outputs": [],
            "source": [
                "def plot_histogram(pltr, x_col:str, n:int=1, hue=None, condition=None, **kwargs):\n",
                "    data = pltr.data_prep_frames(n=n)\n",
                "    \n",
                "    if condition is not None:\n",
                "            data = data[condition(data)]\n",
                "    fig, ax = plt.subplots()\n",
                "    sns.histplot(data=data, x=x_col, hue=hue,stat='density', **kwargs)\n",
                "\n",
                "def plot_jointplot(pltr, x_col:str, y_col:str, n:int=1, kind:str='scatter', hue=None, condition=None, transform=None, **kwargs):\n",
                "    data = pltr.data_prep_frames(n=n)\n",
                "    \n",
                "    if transform is not None:\n",
                "        data = transform(data)\n",
                "        \n",
                "    if condition is not None:\n",
                "            data = data[condition(data)]\n",
                "    \n",
                "    sns.jointplot(data=data, x=x_col, y=y_col, hue=hue, kind=kind, **kwargs)\n",
                "\n",
                "# plot_histogram(pltr, 'worm_deviation', n=15, hue='worm_deviation')"
            ]
        },
        {
            "cell_type": "code",
            "execution_count": null,
            "metadata": {},
            "outputs": [],
            "source": [
                "plot_jointplot(pltr, 'wrm_speed', 'worm_deviation', n=5, kind='scatter')"
            ]
        },
        {
            "cell_type": "code",
            "execution_count": null,
            "metadata": {},
            "outputs": [],
            "source": [
                "plot_jointplot(pltr, x_col='wrm_speed_x', y_col='wrm_speed_y', n=5, kind='scatter', hue='worm_angle_avg', transform=lambda data: rolling_avg(data, 'worm_angle', window_size=5))"
            ]
        },
        {
            "cell_type": "code",
            "execution_count": null,
            "metadata": {},
            "outputs": [],
            "source": [
                "plot_histogram(pltr, x_col='bbox_area_diff', condition=lambda df: df['bbox_area_diff'] > 1e-3)"
            ]
        },
        {
            "cell_type": "code",
            "execution_count": null,
            "metadata": {},
            "outputs": [],
            "source": [
                "def avg_speed(data:pd.DataFrame, n_list:list[int]=[10]) -> np.ndarray:\n",
                "    data = data.copy()\n",
                "    \n",
                "    wrm_speed_x = np.zeros(len(data['frame']))\n",
                "    wrm_speed_y = np.zeros(len(data['frame']))\n",
                "    for n in n_list:\n",
                "        wrm_speed_x += data[\"wrm_center_x\"].diff(n) / len(n_list)\n",
                "        wrm_speed_y += data[\"wrm_center_y\"].diff(n) / len(n_list)\n",
                "        # avgs.append(Plotter.worm_angle(data, n=n))\n",
                "    # mean of all averages\n",
                "    data['wrm_speed_x_avg'] = wrm_speed_x\n",
                "    data['wrm_speed_y_avg'] = wrm_speed_y\n",
                "    return data\n",
                "\n",
                "def worm_angle(data:pd.DataFrame, n:int=15) -> np.ndarray:\n",
                "    data = data.copy()\n",
                "\n",
                "    wrm_speed_x = data[\"wrm_center_x\"].diff(n) / n\n",
                "    wrm_speed_y = data[\"wrm_center_y\"].diff(n) / n\n",
                "    angle_speed = np.arctan2(wrm_speed_y, wrm_speed_x)\n",
                "\n",
                "    min_h, min_w = np.min(data[\"wrm_h\"]), np.min(data[\"wrm_w\"])\n",
                "    x_sign = np.sign(data[\"wrm_center_x\"].diff(3))\n",
                "    y_sign = np.sign(data[\"wrm_center_y\"].diff(3))\n",
                "    # data['wrm_speed_x_avg'] = (data['wrm_w']-min_w)*x_sign\n",
                "    # data['wrm_speed_y_avg'] = (data['wrm_h']-min_h)*y_sign\n",
                "    angle = np.arctan2((data['wrm_h']-min_h)*y_sign, (data['wrm_w']-min_w)*x_sign)\n",
                "\n",
                "    angle_diff = np.abs(angle - angle_speed) / (2*np.pi)\n",
                "    data['wrm_speed_x_avg'] = wrm_speed_x * (1-angle_diff)\n",
                "    data['wrm_speed_y_avg'] = wrm_speed_y * (1-angle_diff)\n",
                "    return data"
            ]
        },
        {
            "cell_type": "code",
            "execution_count": null,
            "metadata": {},
            "outputs": [],
            "source": [
                "def plot_flow(pltr, x_col:str, y_col:str, n:int=1, kind:str='scatter', hue=None, condition=None, transform=None, **kwargs):\n",
                "    data = pltr.data_prep_frames(n=n)\n",
                "    \n",
                "    if transform is not None:\n",
                "        data = transform(data)\n",
                "        \n",
                "    if condition is not None:\n",
                "            data = data[condition(data)]\n",
                "    \n",
                "    # cmap = sns.color_palette(\"husl\", as_cmap=True, n_colors=len(data['frame']))\n",
                "    fig, ax = plt.subplots()\n",
                "    plt.quiver(data[x_col], data[y_col], data['wrm_speed_x_avg'], data['wrm_speed_y_avg'], np.linspace(0,1,len(data['frame'])), **kwargs)\n",
                "    ax.invert_yaxis()\n",
                "    ax.grid()\n",
                "\n",
                "\n",
                "# plot_flow(pltr, x_col='wrm_center_x', y_col='wrm_center_y', n=15, angles='xy', transform=lambda data: rolling_avg(data, 'worm_angle', window_size=1))\n",
                "plot_flow(pltr, x_col='wrm_center_x', y_col='wrm_center_y', n=5, angles='xy', scale_units='xy', scale=1,\n",
                "          transform=lambda df: worm_angle(df, 15), \n",
                "        #   condition=lambda df: df['cycle_step'] == 9,\n",
                "          )"
            ]
        },
        {
            "cell_type": "code",
            "execution_count": null,
            "metadata": {},
            "outputs": [],
            "source": [
                "# cols = ['frame', 'cycle', 'plt_x', 'plt_y', 'cam_x', 'cam_y', 'cam_w',\n",
                "#        'cam_h', 'mic_x', 'mic_y', 'mic_w', 'mic_h', 'wrm_x', 'wrm_y', 'wrm_w',\n",
                "#        'wrm_h', 'wrm_center_x', 'wrm_center_y', 'mic_center_x', 'mic_center_y',\n",
                "#        'wrm_speed', 'bbox_area_diff', 'bbox_edge_diff']\n",
                "\n",
                "\n",
                "# (data[cols] - data_orig[cols]).describe()"
            ]
        },
        {
            "cell_type": "code",
            "execution_count": null,
            "metadata": {},
            "outputs": [],
            "source": [
                "pltr.plot_area_vs_speed()"
            ]
        },
        {
            "cell_type": "code",
            "execution_count": null,
            "metadata": {},
            "outputs": [],
            "source": [
                "data.columns"
            ]
        },
        {
            "cell_type": "code",
            "execution_count": null,
            "metadata": {},
            "outputs": [],
            "source": [
                "\n",
                "pltr.plot_2d_deviation(n=2, hue='cycle_step')"
            ]
        },
        {
            "cell_type": "code",
            "execution_count": null,
            "metadata": {},
            "outputs": [],
            "source": [
                "pltr.plot_deviation()"
            ]
        },
        {
            "cell_type": "code",
            "execution_count": null,
            "metadata": {},
            "outputs": [],
            "source": [
                "pltr.plot_area_vs_speed_guy(n=1, window_size=1, hue='phase')"
            ]
        },
        {
            "cell_type": "code",
            "execution_count": null,
            "metadata": {},
            "outputs": [],
            "source": [
                "pltr.plot_cycle_step_vs_speed()"
            ]
        },
        {
            "cell_type": "code",
            "execution_count": null,
            "metadata": {},
            "outputs": [],
            "source": [
                "pltr.plot_trajectory(n=15, hue='wrm_speed')"
            ]
        },
        {
            "cell_type": "code",
            "execution_count": null,
            "metadata": {},
            "outputs": [],
            "source": [
                "def plot_speed_vs_time(pltr, n: int = 1, window_size: int = 15, hue=None, condition=None) -> plt.Figure:\n",
                "        data = pltr.data_prep_frames(n=n)\n",
                "        data[\"wrm_speed_avg\"] = Plotter.rolling_average(data, window_size=window_size, column=\"wrm_speed\")\n",
                "        fig, ax = plt.subplots()\n",
                "        if condition is not None:\n",
                "            mask = condition(data) & mask\n",
                "        g = sns.histplot(data=data, x=\"wrm_speed\", ax=ax, hue=hue)\n",
                "        g.figure.suptitle(f\"n = {n}, rolling window = {window_size}\")\n",
                "        return g.figure"
            ]
        },
        {
            "cell_type": "code",
            "execution_count": null,
            "metadata": {},
            "outputs": [],
            "source": [
                "plot_speed_vs_time(pltr, n=15, window_size=1, hue='phase')"
            ]
        },
        {
            "cell_type": "code",
            "execution_count": null,
            "metadata": {},
            "outputs": [],
            "source": [
                "timing_config.mm_per_px / timing_config.ms_per_frame"
            ]
        },
        {
            "cell_type": "code",
            "execution_count": null,
            "metadata": {},
            "outputs": [],
            "source": [
                "def plot_2d_deviation_with_angle(pltr, n:int=1, hue=\"cycle_step\", condition=None) -> plt.Figure:\n",
                "        data = pltr.data_prep_frames(n=n)\n",
                "        data[\"worm_center_dist_x\"] = data[\"wrm_center_x\"] - data[\"mic_center_x\"]\n",
                "        data[\"worm_center_dist_y\"] = data[\"wrm_center_y\"] - data[\"mic_center_y\"]\n",
                "\n",
                "        data[\"cycle_step\"] = data[\"frame\"] % pltr.timing_config.cycle_length\n",
                "        min_h, min_w = np.min(data[\"wrm_h\"]), np.min(data[\"wrm_w\"])\n",
                "        x_sign = np.sign(data[\"wrm_center_x\"].diff(n))\n",
                "        y_sign = np.sign(data[\"wrm_center_y\"].diff(n))\n",
                "        data['angle'] = np.arctan2((data['wrm_h']-min_h)*y_sign, (data['wrm_w']-min_w)*x_sign)\n",
                "        if condition is not None:\n",
                "            data = data[condition(data)]\n",
                "        \n",
                "        # display(data.head(50))\n",
                "        # g = sns.histplot(data=data, x=\"angle\")\n",
                "        g = sns.jointplot(data=data, x=\"wrm_speed\", y=\"angle\", kind=\"scatter\", hue=hue, alpha=0.6)\n",
                "        # g = sns.jointplot(data=data, x=\"worm_center_dist_x\", y=\"worm_center_dist_y\", kind=\"scatter\", hue=hue, alpha=0.6)\n",
                "        # g.set_axis_labels(\"distance x\", \"distance y\")\n",
                "        # g.figure.suptitle(f\"distance between worm and microscope centers in each axis\")\n",
                "\n",
                "        return g.figure"
            ]
        },
        {
            "cell_type": "code",
            "execution_count": null,
            "metadata": {},
            "outputs": [],
            "source": [
                "plot_2d_deviation_with_angle(pltr, 5, hue=None, condition=lambda df: df['wrm_speed'] > -0.3)"
            ]
        },
        {
            "cell_type": "code",
            "execution_count": null,
            "metadata": {},
            "outputs": [],
            "source": [
                "def plot_area_vs_time(pltr:Plotter, n: int = 1, window_size: int = 15, hue=None, condition=None) -> plt.Figure:\n",
                "        data = pltr.data_prep_frames(n=n)\n",
                "        data[\"wrm_speed_avg\"] = Plotter.rolling_average(data, window_size=window_size, column=\"wrm_speed\")\n",
                "        data[\"worm_center_dist\"] = np.sqrt(\n",
                "            (data[\"wrm_center_x\"] - data[\"mic_center_x\"]) ** 2 + (data[\"wrm_center_y\"] - data[\"mic_center_y\"]) ** 2\n",
                "        )\n",
                "        data[\"cycle_step\"] = data[\"frame\"] % pltr.timing_config.cycle_length\n",
                "        data['angle'] = np.arctan2(data['wrm_w'], data['wrm_h'])\n",
                "        # fig, ax = plt.subplots()\n",
                "        mask = data[\"bbox_area_diff\"] > 1e-3\n",
                "        if condition is not None:\n",
                "            mask = condition(data) & mask\n",
                "        g = sns.jointplot(\n",
                "            data=data[mask], x=\"wrm_speed_avg\", y=\"worm_center_dist\", hue=hue, kind=\"scatter\", dropna=True)\n",
                "        g.figure.suptitle(f\"n = {n}, rolling window = {window_size}\")\n",
                "        return g.figure"
            ]
        },
        {
            "cell_type": "code",
            "execution_count": null,
            "metadata": {},
            "outputs": [],
            "source": [
                "plot_area_vs_time(pltr, n=18, window_size=1, hue='angle')"
            ]
        },
        {
            "cell_type": "markdown",
            "metadata": {},
            "source": [
                "# Run Simulation"
            ]
        },
        {
            "cell_type": "code",
            "execution_count": null,
            "metadata": {},
            "outputs": [],
            "source": [
                "from evaluation.simulator import *\n",
                "from evaluation.sim_controllers import *\n",
                "from dataset.raw_dataset import ExperimentConfig\n",
                "from dummy_reader import DummyReader\n",
                "from evaluation.motor_controllers import *\n",
                "\n",
                "base_path = \"/Users/guycohen/Desktop/Bio-Project/\""
            ]
        },
        {
            "cell_type": "code",
            "execution_count": null,
            "metadata": {},
            "outputs": [],
            "source": [
                "log_config = LogConfig.load_json()\n",
                "log_config.save_json()"
            ]
        },
        {
            "cell_type": "markdown",
            "metadata": {},
            "source": [
                "## Run CSV Simulation"
            ]
        },
        {
            "cell_type": "code",
            "execution_count": null,
            "metadata": {},
            "outputs": [],
            "source": [
                "exp_base_path = base_path + \"PolyfitControllerV2\"\n",
                "\n",
                "time_config = TimingConfig.load_json(base_path + \"time_config.json\")\n",
                "# time_config = TimingConfig.load_json(base_path + \"time_config_medium_micro.json\")\n",
                "exp_config = ExperimentConfig.load_json(base_path + \"exp_config.json\")\n",
                "log_config = LogConfig(\n",
                "    root_folder=exp_base_path,\n",
                "    save_mic_view=False,\n",
                "    save_cam_view=False,\n",
                "    save_err_view=False,\n",
                ")"
            ]
        },
        {
            "cell_type": "code",
            "execution_count": null,
            "metadata": {},
            "outputs": [],
            "source": [
                "from evaluation.sim_controllers.speed_controller import SpeedController\n",
                "from evaluation.sim_controllers.guys_controllers import *\n",
                "from evaluation.sim_controllers.csv_controller import CsvController\n",
                "from evaluation.sim_controllers.optimal_controller import  OptimalController\n",
                "from evaluation.sim_controllers.polyfit_controller import PolyfitController\n",
                "\n",
                "log_path = \"/Users/guycohen/Desktop/Bio-Project/eval/bboxes.csv\"\n",
                "\n",
                "# controller = CsvController(time_config, \"/Users/guycohen/Desktop/Bio-Project/eval_corrected_movement/bboxes.csv\")\n",
                "\n",
                "# controller = TestController1(time_config, \"/Users/guycohen/Desktop/Bio-Project/eval/bboxes.csv\")\n",
                "# controller = Controller2(time_config, \"/Users/guycohen/Desktop/Bio-Project/eval_corrected_movement/bboxes.csv\")\n",
                "# controller = OptimalController(time_config, \"/Users/guycohen/Desktop/Bio-Project/eval_corrected_movement/bboxes.csv\")\n",
                "\n",
                "\n",
                "weights = np.ones(11)\n",
                "# weights = np.asanyarray([0.0477, 0.0002, 0. ,    0.0007, 0.0057, 0.042 , 0.1558, 0.6245 ,0.7627])\n",
                "sample_frames = np.asanyarray(\n",
                "    [\n",
                "        0,\n",
                "        5,\n",
                "        9,\n",
                "        -time_config.cycle_length + 0,\n",
                "        -time_config.cycle_length + 5,\n",
                "        -time_config.cycle_length + 9,\n",
                "        -2 * time_config.cycle_length + 0,\n",
                "        -2 * time_config.cycle_length + 5,\n",
                "        -2 * time_config.cycle_length + 9,\n",
                "        -3 * time_config.cycle_length + 9,\n",
                "        -4 * time_config.cycle_length + 9,\n",
                "    ]\n",
                ")\n",
                "controller = PolyfitController(time_config, log_path, degree=2, weights=weights, sample_times=sample_frames)\n"
            ]
        },
        {
            "cell_type": "code",
            "execution_count": null,
            "metadata": {},
            "outputs": [],
            "source": [
                "\n",
                "logging_controller = LoggingController(controller, log_config)\n",
                "motor_controller = SineMotorController(time_config)\n",
                "# motor_controller = SimpleMovementController(time_config, 0)\n",
                "\n",
                "sim = Simulator(time_config, exp_config, logging_controller, reader=None, motor_controller=motor_controller)"
            ]
        },
        {
            "cell_type": "code",
            "execution_count": null,
            "metadata": {},
            "outputs": [],
            "source": [
                "sim.run()\n",
                "time_config.save_json(exp_base_path + \"/time_config.json\")\n",
                "exp_config.save_json(exp_base_path + \"/exp_config.json\")"
            ]
        },
        {
            "cell_type": "code",
            "execution_count": null,
            "metadata": {},
            "outputs": [],
            "source": []
        },
        {
            "cell_type": "markdown",
            "metadata": {},
            "source": [
                "## Real Simulation"
            ]
        },
        {
            "cell_type": "code",
            "execution_count": null,
            "metadata": {},
            "outputs": [],
            "source": [
                "# experiment_config = ExperimentConfig(\n",
                "#     name=\"exp1\",\n",
                "#     num_frames=61200,\n",
                "#     frames_per_sec=60,\n",
                "#     orig_resolution=(5300, 4600),\n",
                "#     px_per_mm=90,\n",
                "#     init_position=(1300, 1200),\n",
                "# )\n",
                "# experiment_config.save_json(\"/Users/guycohen/Desktop/Bio-Project/exp_config.json\")"
            ]
        },
        {
            "cell_type": "code",
            "execution_count": null,
            "metadata": {},
            "outputs": [],
            "source": [
                "\"\"\"time_config = TimingConfig(\n",
                "    frames_per_sec=60,\n",
                "    imaging_time_ms=200,\n",
                "    pred_time_ms=40,\n",
                "    moving_time_ms=50,\n",
                "    px_per_mm=90,\n",
                "    camera_size_mm=(4, 4),\n",
                "    micro_size_mm=(0.327, 0.327),\n",
                "    frame_padding_value=(255, 255, 255),\n",
                ")\n",
                "time_config.save_json(base_path+\"time_config_medium_micro.json\")\"\"\""
            ]
        },
        {
            "cell_type": "code",
            "execution_count": null,
            "metadata": {},
            "outputs": [],
            "source": [
                "\n",
                "\"\"\"time_config = TimingConfig(\n",
                "    frames_per_sec=60,\n",
                "    imaging_time_ms=200,\n",
                "    pred_time_ms=40,\n",
                "    moving_time_ms=50,\n",
                "    px_per_mm=90,\n",
                "    camera_size_mm=(4, 4),\n",
                "    micro_size_mm=(0.225, 0.225),\n",
                ")\n",
                "\n",
                "log_config = LogConfig(\n",
                "    root_folder=base_path,\n",
                "    save_mic_view=False,\n",
                "    save_cam_view=False,\n",
                ")\"\"\"\n",
                "\n",
                "# yolo_config = YoloConfig(model_path=\"yolov8m-trained.pt\") \n",
                "\n",
                "# time_config.save_json(base_path+\"time_config.json\")\n",
                "# log_config.save_json(base_path+\"csv_log_config.json\")\n",
                "# yolo_config.save_json(base_path++\"yolo_config.json\")\n",
                "\n",
                "\n",
                "# frames_path = \"Archive/\"\n",
                "# reader = FrameReader.create_from_directory(frames_path)\n",
                "\n",
                "# time_config = TimingConfig.load_json(\"logs/time_config.json\")\n",
                "# log_config = LogConfig.load_json(\"logs/log_config.json\")\n",
                "# yolo_config = YoloConfig.load_json(\"logs/yolo_config.json\")\n"
            ]
        },
        {
            "cell_type": "code",
            "execution_count": null,
            "metadata": {},
            "outputs": [],
            "source": [
                "print(time_config.imaging_frame_num + time_config.moving_frame_num)"
            ]
        },
        {
            "cell_type": "code",
            "execution_count": null,
            "metadata": {},
            "outputs": [],
            "source": [
                "\n",
                "controller = LoggingController(time_config, yolo_config, log_config)\n",
                "#controller = YoloController(time_config, yolo_config)\n",
                "sim = Simulator(time_config, reader, controller)"
            ]
        },
        {
            "cell_type": "code",
            "execution_count": null,
            "metadata": {},
            "outputs": [],
            "source": [
                "sim.run()"
            ]
        },
        {
            "cell_type": "code",
            "execution_count": null,
            "metadata": {},
            "outputs": [],
            "source": [
                "cv.destroyAllWindows()\n",
                "raise Exception(\"Finished\")"
            ]
        },
        {
            "cell_type": "code",
            "execution_count": null,
            "metadata": {},
            "outputs": [],
            "source": [
                "from frame_reader import FrameReader\n",
                "\n",
                "reader = FrameReader.create_from_directory(\"Archive/\")"
            ]
        },
        {
            "cell_type": "code",
            "execution_count": null,
            "metadata": {},
            "outputs": [],
            "source": [
                "from dataset.box_calculator import BoxCalculator\n",
                "from dataset.sample_extractor import SampleExtractor\n",
                "\n",
                "bbox_calc = BoxCalculator(reader)\n",
                "extractor = SampleExtractor(bbox_calc)\n",
                "extractor.create_all_samples(target_size=(400, 400), save_folder=\"samples\")"
            ]
        },
        {
            "cell_type": "code",
            "execution_count": null,
            "metadata": {},
            "outputs": [],
            "source": [
                "# TODO: IMPROVE\n",
                "def find_boxes(image: np.ndarray) -> np.ndarray:\n",
                "    # increase contrast of original image\n",
                "    image = cv.cvtColor(image, cv.COLOR_BGR2GRAY)\n",
                "\n",
                "    # remove gaussian noise\n",
                "    smoothed = cv.GaussianBlur(image, (3, 3), 0)\n",
                "\n",
                "    # apply threshold to image to convert it into black & white\n",
                "    _, mask = cv.threshold(smoothed, 160, 255, cv.THRESH_BINARY_INV)\n",
                "\n",
                "    # do some morphological magic to clean up noise from the mask\n",
                "    kernel = np.ones((5, 5), np.uint8)\n",
                "    mask = cv.morphologyEx(mask, cv.MORPH_OPEN, kernel)\n",
                "\n",
                "    # dilate to increase all object sizes in the mask\n",
                "    kernel = np.ones((3, 3), np.uint8)\n",
                "    mask = cv.dilate(mask, kernel, iterations=5)\n",
                "\n",
                "    image[mask == 0] = 255\n",
                "    cv.imshow(\"masked\", image)\n",
                "\n",
                "    # find contours\n",
                "    contours, _ = cv.findContours(mask, cv.RETR_EXTERNAL, cv.CHAIN_APPROX_SIMPLE)\n",
                "\n",
                "    # Populate bounding boxes\n",
                "    bbox_list = []\n",
                "    for c in contours:\n",
                "        area = cv.contourArea(c)\n",
                "\n",
                "        if area < 500 or area > 4000:\n",
                "            continue\n",
                "\n",
                "        box = cv.boundingRect(c)\n",
                "        bbox_list.append(box)\n",
                "\n",
                "    # Turn our bboxes into 2d ndarray\n",
                "    bboxes = np.asanyarray(bbox_list)\n",
                "    return bboxes"
            ]
        }
    ],
    "metadata": {
        "kernelspec": {
            "display_name": "bio-proj",
            "language": "python",
            "name": "python3"
        },
        "language_info": {
            "codemirror_mode": {
                "name": "ipython",
                "version": 3
            },
            "file_extension": ".py",
            "mimetype": "text/x-python",
            "name": "python",
            "nbconvert_exporter": "python",
            "pygments_lexer": "ipython3",
            "version": "3.12.2"
        }
    },
    "nbformat": 4,
    "nbformat_minor": 2
}
