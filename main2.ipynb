{
    "cells": [
        {
            "cell_type": "code",
            "execution_count": 6,
            "metadata": {},
            "outputs": [],
            "source": [
                "import cv2 as cv\n",
                "import numpy as np\n",
                "import pandas as pd\n",
                "import PIL\n",
                "import matplotlib\n",
                "import matplotlib.pyplot as plt\n",
                "%matplotlib qt\n",
                "import seaborn as sns\n",
                "\n",
                "from evaluation.vlc import VLC\n",
                "from utils.path_utils import Files\n",
                "from evaluation.simulator import TimingConfig"
            ]
        },
        {
            "cell_type": "markdown",
            "metadata": {},
            "source": [
                "# Analysis"
            ]
        },
        {
            "cell_type": "markdown",
            "metadata": {},
            "source": [
                "## VLC"
            ]
        },
        {
            "cell_type": "code",
            "execution_count": null,
            "metadata": {},
            "outputs": [],
            "source": [
                "\n",
                "directory = \"/Users/guycohen/Downloads/eval/micro\"\n",
                "files = Files(directory, extension='png', sorting_key=lambda f: int(f.split('_')[-1].split('.')[0]))\n",
                "timing_config = TimingConfig.load_json(\"/Users/guycohen/Downloads/eval/time_config.json\")\n",
                "log_path = \"/Users/guycohen/Desktop/Bio-Project/Exp2/bboxes.csv\"\n",
                "\n"
            ]
        },
        {
            "cell_type": "code",
            "execution_count": null,
            "metadata": {},
            "outputs": [],
            "source": [
                "# vlc = VLC(files, timing_config, log_path, 'mic')\n",
                "# vlc.mainloop()"
            ]
        },
        {
            "cell_type": "markdown",
            "metadata": {},
            "source": [
                "## Plots"
            ]
        },
        {
            "cell_type": "code",
            "execution_count": 9,
            "metadata": {},
            "outputs": [],
            "source": [
                "from evaluation.analysis import Plotter\n",
                "original_log_path = \"/Users/guycohen/Desktop/Bio-Project/eval/bboxes.csv\"\n",
                "log_path = \"/Users/guycohen/Desktop/Bio-Project/TestController1/bboxes.csv\"\n",
                "timing_config = TimingConfig.load_json(\"/Users/guycohen/Desktop/Bio-Project/time_config.json\")\n",
                "\n",
                "pltr = Plotter(log_path, timing_config)"
            ]
        },
        {
            "cell_type": "code",
            "execution_count": 10,
            "metadata": {},
            "outputs": [
                {
                    "name": "stdout",
                    "output_type": "stream",
                    "text": [
                        "##################### No Preds #####################\n",
                        "Num of No Preds: 3\n",
                        "No prediction in frames: [21997, 22004, 61199]\n",
                        "corresponding cycle steps: [7, 14, 14]\n",
                        "##################### Cycles #####################\n",
                        "Num of cycles: 4080\n",
                        "##################### Area Diff #####################\n",
                        "Non Perfect Predictions: 23.771%\n",
                        "##################### General #####################\n"
                    ]
                },
                {
                    "data": {
                        "text/html": [
                            "<div>\n",
                            "<style scoped>\n",
                            "    .dataframe tbody tr th:only-of-type {\n",
                            "        vertical-align: middle;\n",
                            "    }\n",
                            "\n",
                            "    .dataframe tbody tr th {\n",
                            "        vertical-align: top;\n",
                            "    }\n",
                            "\n",
                            "    .dataframe thead th {\n",
                            "        text-align: right;\n",
                            "    }\n",
                            "</style>\n",
                            "<table border=\"1\" class=\"dataframe\">\n",
                            "  <thead>\n",
                            "    <tr style=\"text-align: right;\">\n",
                            "      <th></th>\n",
                            "      <th>frame</th>\n",
                            "      <th>cycle</th>\n",
                            "      <th>plt_x</th>\n",
                            "      <th>plt_y</th>\n",
                            "      <th>cam_x</th>\n",
                            "      <th>cam_y</th>\n",
                            "      <th>cam_w</th>\n",
                            "      <th>cam_h</th>\n",
                            "      <th>mic_x</th>\n",
                            "      <th>mic_y</th>\n",
                            "      <th>...</th>\n",
                            "      <th>wrm_y</th>\n",
                            "      <th>wrm_w</th>\n",
                            "      <th>wrm_h</th>\n",
                            "      <th>wrm_center_x</th>\n",
                            "      <th>wrm_center_y</th>\n",
                            "      <th>mic_center_x</th>\n",
                            "      <th>mic_center_y</th>\n",
                            "      <th>wrm_speed</th>\n",
                            "      <th>bbox_area_diff</th>\n",
                            "      <th>bbox_edge_diff</th>\n",
                            "    </tr>\n",
                            "  </thead>\n",
                            "  <tbody>\n",
                            "    <tr>\n",
                            "      <th>count</th>\n",
                            "      <td>61185.000000</td>\n",
                            "      <td>61185.000000</td>\n",
                            "      <td>61185.000000</td>\n",
                            "      <td>61185.000000</td>\n",
                            "      <td>61185.000000</td>\n",
                            "      <td>61185.000000</td>\n",
                            "      <td>61185.0</td>\n",
                            "      <td>61185.0</td>\n",
                            "      <td>61185.000000</td>\n",
                            "      <td>61185.000000</td>\n",
                            "      <td>...</td>\n",
                            "      <td>61185.000000</td>\n",
                            "      <td>61185.000000</td>\n",
                            "      <td>61185.000000</td>\n",
                            "      <td>61185.000000</td>\n",
                            "      <td>61185.000000</td>\n",
                            "      <td>61185.000000</td>\n",
                            "      <td>61185.000000</td>\n",
                            "      <td>61185.000000</td>\n",
                            "      <td>6.118500e+04</td>\n",
                            "      <td>61185.000000</td>\n",
                            "    </tr>\n",
                            "    <tr>\n",
                            "      <th>mean</th>\n",
                            "      <td>30607.000000</td>\n",
                            "      <td>2040.000000</td>\n",
                            "      <td>1266.066928</td>\n",
                            "      <td>1121.144398</td>\n",
                            "      <td>1266.066928</td>\n",
                            "      <td>1121.144398</td>\n",
                            "      <td>360.0</td>\n",
                            "      <td>360.0</td>\n",
                            "      <td>1436.066928</td>\n",
                            "      <td>1291.144398</td>\n",
                            "      <td>...</td>\n",
                            "      <td>1294.445628</td>\n",
                            "      <td>12.050242</td>\n",
                            "      <td>13.215658</td>\n",
                            "      <td>1446.019271</td>\n",
                            "      <td>1301.053457</td>\n",
                            "      <td>1446.066928</td>\n",
                            "      <td>1301.144398</td>\n",
                            "      <td>0.449628</td>\n",
                            "      <td>2.864485e-02</td>\n",
                            "      <td>0.485368</td>\n",
                            "    </tr>\n",
                            "    <tr>\n",
                            "      <th>std</th>\n",
                            "      <td>17662.732447</td>\n",
                            "      <td>1177.515461</td>\n",
                            "      <td>192.822860</td>\n",
                            "      <td>215.186481</td>\n",
                            "      <td>192.822860</td>\n",
                            "      <td>215.186481</td>\n",
                            "      <td>0.0</td>\n",
                            "      <td>0.0</td>\n",
                            "      <td>192.822860</td>\n",
                            "      <td>215.186481</td>\n",
                            "      <td>...</td>\n",
                            "      <td>215.504895</td>\n",
                            "      <td>3.073197</td>\n",
                            "      <td>3.214409</td>\n",
                            "      <td>193.070393</td>\n",
                            "      <td>215.341397</td>\n",
                            "      <td>192.822860</td>\n",
                            "      <td>215.186481</td>\n",
                            "      <td>17.426624</td>\n",
                            "      <td>8.849963e-02</td>\n",
                            "      <td>10.809388</td>\n",
                            "    </tr>\n",
                            "    <tr>\n",
                            "      <th>min</th>\n",
                            "      <td>15.000000</td>\n",
                            "      <td>1.000000</td>\n",
                            "      <td>881.000000</td>\n",
                            "      <td>539.000000</td>\n",
                            "      <td>881.000000</td>\n",
                            "      <td>539.000000</td>\n",
                            "      <td>360.0</td>\n",
                            "      <td>360.0</td>\n",
                            "      <td>1051.000000</td>\n",
                            "      <td>709.000000</td>\n",
                            "      <td>...</td>\n",
                            "      <td>-1.000000</td>\n",
                            "      <td>-1.000000</td>\n",
                            "      <td>-1.000000</td>\n",
                            "      <td>-1.500000</td>\n",
                            "      <td>-1.500000</td>\n",
                            "      <td>1061.000000</td>\n",
                            "      <td>719.000000</td>\n",
                            "      <td>0.000903</td>\n",
                            "      <td>-2.349879e-14</td>\n",
                            "      <td>0.000000</td>\n",
                            "    </tr>\n",
                            "    <tr>\n",
                            "      <th>25%</th>\n",
                            "      <td>15311.000000</td>\n",
                            "      <td>1020.000000</td>\n",
                            "      <td>1149.000000</td>\n",
                            "      <td>1027.000000</td>\n",
                            "      <td>1149.000000</td>\n",
                            "      <td>1027.000000</td>\n",
                            "      <td>360.0</td>\n",
                            "      <td>360.0</td>\n",
                            "      <td>1319.000000</td>\n",
                            "      <td>1197.000000</td>\n",
                            "      <td>...</td>\n",
                            "      <td>1200.006134</td>\n",
                            "      <td>9.541626</td>\n",
                            "      <td>10.765381</td>\n",
                            "      <td>1329.222527</td>\n",
                            "      <td>1207.874611</td>\n",
                            "      <td>1329.000000</td>\n",
                            "      <td>1207.000000</td>\n",
                            "      <td>0.135178</td>\n",
                            "      <td>-3.912062e-15</td>\n",
                            "      <td>0.000000</td>\n",
                            "    </tr>\n",
                            "    <tr>\n",
                            "      <th>50%</th>\n",
                            "      <td>30607.000000</td>\n",
                            "      <td>2040.000000</td>\n",
                            "      <td>1169.000000</td>\n",
                            "      <td>1179.000000</td>\n",
                            "      <td>1169.000000</td>\n",
                            "      <td>1179.000000</td>\n",
                            "      <td>360.0</td>\n",
                            "      <td>360.0</td>\n",
                            "      <td>1339.000000</td>\n",
                            "      <td>1349.000000</td>\n",
                            "      <td>...</td>\n",
                            "      <td>1351.878448</td>\n",
                            "      <td>11.856415</td>\n",
                            "      <td>14.264297</td>\n",
                            "      <td>1348.422417</td>\n",
                            "      <td>1359.518929</td>\n",
                            "      <td>1349.000000</td>\n",
                            "      <td>1359.000000</td>\n",
                            "      <td>0.233951</td>\n",
                            "      <td>3.623678e-15</td>\n",
                            "      <td>0.000000</td>\n",
                            "    </tr>\n",
                            "    <tr>\n",
                            "      <th>75%</th>\n",
                            "      <td>45903.000000</td>\n",
                            "      <td>3060.000000</td>\n",
                            "      <td>1490.000000</td>\n",
                            "      <td>1261.000000</td>\n",
                            "      <td>1490.000000</td>\n",
                            "      <td>1261.000000</td>\n",
                            "      <td>360.0</td>\n",
                            "      <td>360.0</td>\n",
                            "      <td>1660.000000</td>\n",
                            "      <td>1431.000000</td>\n",
                            "      <td>...</td>\n",
                            "      <td>1434.784958</td>\n",
                            "      <td>14.520340</td>\n",
                            "      <td>15.803482</td>\n",
                            "      <td>1669.565788</td>\n",
                            "      <td>1440.429672</td>\n",
                            "      <td>1670.000000</td>\n",
                            "      <td>1441.000000</td>\n",
                            "      <td>0.385014</td>\n",
                            "      <td>1.615858e-14</td>\n",
                            "      <td>0.000000</td>\n",
                            "    </tr>\n",
                            "    <tr>\n",
                            "      <th>max</th>\n",
                            "      <td>61199.000000</td>\n",
                            "      <td>4079.000000</td>\n",
                            "      <td>1555.000000</td>\n",
                            "      <td>1390.000000</td>\n",
                            "      <td>1555.000000</td>\n",
                            "      <td>1390.000000</td>\n",
                            "      <td>360.0</td>\n",
                            "      <td>360.0</td>\n",
                            "      <td>1725.000000</td>\n",
                            "      <td>1560.000000</td>\n",
                            "      <td>...</td>\n",
                            "      <td>1560.643234</td>\n",
                            "      <td>19.665741</td>\n",
                            "      <td>19.883560</td>\n",
                            "      <td>1729.797531</td>\n",
                            "      <td>1569.973503</td>\n",
                            "      <td>1735.000000</td>\n",
                            "      <td>1570.000000</td>\n",
                            "      <td>1999.702875</td>\n",
                            "      <td>1.000000e+00</td>\n",
                            "      <td>1722.000000</td>\n",
                            "    </tr>\n",
                            "  </tbody>\n",
                            "</table>\n",
                            "<p>8 rows × 23 columns</p>\n",
                            "</div>"
                        ],
                        "text/plain": [
                            "              frame         cycle         plt_x         plt_y         cam_x  \\\n",
                            "count  61185.000000  61185.000000  61185.000000  61185.000000  61185.000000   \n",
                            "mean   30607.000000   2040.000000   1266.066928   1121.144398   1266.066928   \n",
                            "std    17662.732447   1177.515461    192.822860    215.186481    192.822860   \n",
                            "min       15.000000      1.000000    881.000000    539.000000    881.000000   \n",
                            "25%    15311.000000   1020.000000   1149.000000   1027.000000   1149.000000   \n",
                            "50%    30607.000000   2040.000000   1169.000000   1179.000000   1169.000000   \n",
                            "75%    45903.000000   3060.000000   1490.000000   1261.000000   1490.000000   \n",
                            "max    61199.000000   4079.000000   1555.000000   1390.000000   1555.000000   \n",
                            "\n",
                            "              cam_y    cam_w    cam_h         mic_x         mic_y  ...  \\\n",
                            "count  61185.000000  61185.0  61185.0  61185.000000  61185.000000  ...   \n",
                            "mean    1121.144398    360.0    360.0   1436.066928   1291.144398  ...   \n",
                            "std      215.186481      0.0      0.0    192.822860    215.186481  ...   \n",
                            "min      539.000000    360.0    360.0   1051.000000    709.000000  ...   \n",
                            "25%     1027.000000    360.0    360.0   1319.000000   1197.000000  ...   \n",
                            "50%     1179.000000    360.0    360.0   1339.000000   1349.000000  ...   \n",
                            "75%     1261.000000    360.0    360.0   1660.000000   1431.000000  ...   \n",
                            "max     1390.000000    360.0    360.0   1725.000000   1560.000000  ...   \n",
                            "\n",
                            "              wrm_y         wrm_w         wrm_h  wrm_center_x  wrm_center_y  \\\n",
                            "count  61185.000000  61185.000000  61185.000000  61185.000000  61185.000000   \n",
                            "mean    1294.445628     12.050242     13.215658   1446.019271   1301.053457   \n",
                            "std      215.504895      3.073197      3.214409    193.070393    215.341397   \n",
                            "min       -1.000000     -1.000000     -1.000000     -1.500000     -1.500000   \n",
                            "25%     1200.006134      9.541626     10.765381   1329.222527   1207.874611   \n",
                            "50%     1351.878448     11.856415     14.264297   1348.422417   1359.518929   \n",
                            "75%     1434.784958     14.520340     15.803482   1669.565788   1440.429672   \n",
                            "max     1560.643234     19.665741     19.883560   1729.797531   1569.973503   \n",
                            "\n",
                            "       mic_center_x  mic_center_y     wrm_speed  bbox_area_diff  \\\n",
                            "count  61185.000000  61185.000000  61185.000000    6.118500e+04   \n",
                            "mean    1446.066928   1301.144398      0.449628    2.864485e-02   \n",
                            "std      192.822860    215.186481     17.426624    8.849963e-02   \n",
                            "min     1061.000000    719.000000      0.000903   -2.349879e-14   \n",
                            "25%     1329.000000   1207.000000      0.135178   -3.912062e-15   \n",
                            "50%     1349.000000   1359.000000      0.233951    3.623678e-15   \n",
                            "75%     1670.000000   1441.000000      0.385014    1.615858e-14   \n",
                            "max     1735.000000   1570.000000   1999.702875    1.000000e+00   \n",
                            "\n",
                            "       bbox_edge_diff  \n",
                            "count    61185.000000  \n",
                            "mean         0.485368  \n",
                            "std         10.809388  \n",
                            "min          0.000000  \n",
                            "25%          0.000000  \n",
                            "50%          0.000000  \n",
                            "75%          0.000000  \n",
                            "max       1722.000000  \n",
                            "\n",
                            "[8 rows x 23 columns]"
                        ]
                    },
                    "metadata": {},
                    "output_type": "display_data"
                }
            ],
            "source": [
                "data = pltr.print_statistics()"
            ]
        },
        {
            "cell_type": "code",
            "execution_count": null,
            "metadata": {},
            "outputs": [],
            "source": [
                "data.columns"
            ]
        },
        {
            "cell_type": "code",
            "execution_count": null,
            "metadata": {},
            "outputs": [],
            "source": [
                "def cond(df: pd.DataFrame, threshold: float=1.5) -> pd.DataFrame:\n",
                "    mask1 = (df['cycle_step'] == 14) & (df['worm_center_dist'] > threshold)\n",
                "    cycles = df[mask1]['cycle'].unique()\n",
                "    return df['cycle'].isin(cycles)\n",
                "\n",
                "pltr.plot_2d_deviation(hue='cycle_step')"
            ]
        },
        {
            "cell_type": "code",
            "execution_count": null,
            "metadata": {},
            "outputs": [],
            "source": [
                "pltr.plot_deviation()"
            ]
        },
        {
            "cell_type": "code",
            "execution_count": null,
            "metadata": {},
            "outputs": [],
            "source": [
                "pltr.plot_area_vs_speed_guy(n=3, window_size=10, hue='phase')"
            ]
        },
        {
            "cell_type": "code",
            "execution_count": null,
            "metadata": {},
            "outputs": [],
            "source": [
                "\n",
                "fig, ax = plt.subplots()\n",
                "sns.scatterplot(data=data, x='wrm_center_x', y='wrm_center_y', hue='frame', size='marker_size', ax=ax, alpha=0.3, linewidth=0.2)\n",
                "ax.set_xlim(0)\n",
                "ax.set_ylim(0)\n",
                "ax.invert_yaxis()\n",
                "fig.tight_layout()\n",
                "plt.show()\n"
            ]
        },
        {
            "cell_type": "code",
            "execution_count": null,
            "metadata": {},
            "outputs": [],
            "source": [
                "data['wrm_speed_avg'] = pltr.rolling_average(data, window_size=15, column='wrm_speed')"
            ]
        },
        {
            "cell_type": "code",
            "execution_count": null,
            "metadata": {},
            "outputs": [],
            "source": [
                "data['marker_size'] = 0.1 + (data['bbox_area_diff'])*2"
            ]
        },
        {
            "cell_type": "code",
            "execution_count": null,
            "metadata": {},
            "outputs": [],
            "source": [
                "data['marker_size'].describe()"
            ]
        },
        {
            "cell_type": "code",
            "execution_count": null,
            "metadata": {},
            "outputs": [],
            "source": [
                "mask = pltr._data['wrm_w'] < 0\n",
                "pltr._data.loc[mask, 'wrm_w'] = 0\n",
                "\n",
                "mask = pltr._data['wrm_h'] < 0\n",
                "pltr._data.loc[mask, 'wrm_h'] = 0\n",
                "\n",
                "pltr._data['wrm_area'] = pltr._data['wrm_w'] * pltr._data['wrm_h']"
            ]
        },
        {
            "cell_type": "code",
            "execution_count": null,
            "metadata": {},
            "outputs": [],
            "source": [
                "pltr._data['wrm_area'].describe()"
            ]
        },
        {
            "cell_type": "code",
            "execution_count": null,
            "metadata": {},
            "outputs": [],
            "source": [
                "pltr._data[[\"wrm_w\", \"wrm_h\", 'bbox_area_diff']].describe()"
            ]
        },
        {
            "cell_type": "code",
            "execution_count": null,
            "metadata": {},
            "outputs": [],
            "source": [
                "(data['wrm_speed_avg'] > 2).sum()"
            ]
        },
        {
            "cell_type": "code",
            "execution_count": null,
            "metadata": {},
            "outputs": [],
            "source": [
                "(data['bbox_area_diff'] > 0.2).sum()/len(data.index)"
            ]
        },
        {
            "cell_type": "code",
            "execution_count": null,
            "metadata": {},
            "outputs": [],
            "source": [
                "pltr.remove_invalid_cycles(data)[[\"wrm_x\", \"wrm_y\", \"wrm_w\", \"wrm_h\"]].describe()"
            ]
        },
        {
            "cell_type": "code",
            "execution_count": null,
            "metadata": {},
            "outputs": [],
            "source": [
                "fig, ax = plt.subplots()\n",
                "sns.scatterplot(data=pltr._data, x='frame', y='wrm_speed_avg', hue='bbox_area_diff', ax=ax, s=8, linewidth=0.1)\n",
                "ax.set_ylim(0, 2)"
            ]
        },
        {
            "cell_type": "code",
            "execution_count": null,
            "metadata": {},
            "outputs": [],
            "source": [
                "fig, ax = plt.subplots()\n",
                "sns.scatterplot(data=pltr._data, x='wrm_speed_avg', y='bbox_area_diff', hue='wrm_area', ax=ax, s=8, linewidth=0.1)\n",
                "ax.set_xlim(0, 2)"
            ]
        },
        {
            "cell_type": "code",
            "execution_count": null,
            "metadata": {},
            "outputs": [],
            "source": [
                "data['residual'] = np.sqrt((data['wrm_center_x'] - data['mic_center_x'])**2 + (data['wrm_center_y'] - data['mic_center_y'])**2)"
            ]
        },
        {
            "cell_type": "code",
            "execution_count": null,
            "metadata": {},
            "outputs": [],
            "source": [
                "data['residual'].describe()"
            ]
        },
        {
            "cell_type": "code",
            "execution_count": null,
            "metadata": {},
            "outputs": [],
            "source": [
                "# data['diff_x'] = data['mic_x'].diff()\n",
                "# data['diff_y'] = data['mic_y'].diff()\n",
                "# sns.histplot(data=data, x='diff_y')"
            ]
        },
        {
            "cell_type": "code",
            "execution_count": null,
            "metadata": {},
            "outputs": [],
            "source": [
                "data['cycle_step'] = data['frame']%15"
            ]
        },
        {
            "cell_type": "code",
            "execution_count": null,
            "metadata": {},
            "outputs": [],
            "source": [
                "# fig, ax = plt.subplots()\n",
                "# sns.jointplot(data=data, x='cycle_step', y='residual', ax=ax, s=8, linewidth=0.1)\n",
                "sns.jointplot(data=data, x='cycle_step', y='wrm_speed', ax=ax, kind='hist')\n",
                "# sns.histplot(data=data, x='cycle_step', y='residual')"
            ]
        },
        {
            "cell_type": "code",
            "execution_count": null,
            "metadata": {},
            "outputs": [],
            "source": [
                "sns.catplot(data=data, x='cycle_step', y='wrm_speed', kind='violin')"
            ]
        },
        {
            "cell_type": "code",
            "execution_count": null,
            "metadata": {},
            "outputs": [],
            "source": [
                "%matplotlib inline\n",
                "for i in [1,2,4,8,15]:\n",
                "    data = pltr.data_prep_frames(i)\n",
                "    data['wrm_speed_avg'] = pltr.rolling_average(data, window_size=round(15/i), column='wrm_speed')\n",
                "    # fig, ax = plt.subplots()\n",
                "    mask = data['bbox_area_diff'] > 1e-3\n",
                "    g = sns.jointplot(data=data[mask], x='wrm_speed_avg', y='bbox_area_diff', kind='scatter', xlim=(0, 3), dropna=True)\n",
                "    g.fig.suptitle(f\"i = {i}, rolling window = {round(15/i)}\")\n"
            ]
        },
        {
            "cell_type": "code",
            "execution_count": null,
            "metadata": {},
            "outputs": [],
            "source": [
                "plt._data.dtypes"
            ]
        },
        {
            "cell_type": "markdown",
            "metadata": {},
            "source": [
                "# Run Simulation"
            ]
        },
        {
            "cell_type": "code",
            "execution_count": 1,
            "metadata": {},
            "outputs": [],
            "source": [
                "from evaluation.simulator import *\n",
                "from evaluation.sim_controllers import *\n",
                "from dataset.raw_dataset import ExperimentConfig\n",
                "from dummy_reader import DummyReader\n",
                "from evaluation.motor_controller import *\n",
                "\n",
                "base_path = \"/Users/guycohen/Desktop/Bio-Project/\""
            ]
        },
        {
            "cell_type": "markdown",
            "metadata": {},
            "source": [
                "## Run CSV Simulation"
            ]
        },
        {
            "cell_type": "code",
            "execution_count": 2,
            "metadata": {},
            "outputs": [],
            "source": [
                "exp_base_path = base_path + \"TestController1\"\n",
                "\n",
                "time_config = TimingConfig.load_json(base_path + \"time_config.json\")\n",
                "exp_config = ExperimentConfig.load_json(base_path + \"exp_config.json\")\n",
                "log_config = LogConfig(\n",
                "    root_folder=exp_base_path,\n",
                "    save_mic_view=False,\n",
                "    save_cam_view=False,\n",
                ")"
            ]
        },
        {
            "cell_type": "code",
            "execution_count": 3,
            "metadata": {},
            "outputs": [],
            "source": [
                "from evaluation.sim_controllers.test_controller1 import TestController1\n",
                "controller = TestController1(time_config, \"/Users/guycohen/Desktop/Bio-Project/eval/bboxes.csv\")"
            ]
        },
        {
            "cell_type": "code",
            "execution_count": 4,
            "metadata": {},
            "outputs": [],
            "source": [
                "reader = DummyReader(exp_config)\n",
                "\n",
                "logging_controller = LoggingController(controller, log_config)\n",
                "motor_controller = SimpleMovementController(time_config)\n",
                "\n",
                "sim = Simulator(time_config, exp_config, reader, logging_controller, motor_controller)"
            ]
        },
        {
            "cell_type": "code",
            "execution_count": 5,
            "metadata": {},
            "outputs": [
                {
                    "data": {
                        "application/vnd.jupyter.widget-view+json": {
                            "model_id": "993693e65234449b94f5fe02c679c74f",
                            "version_major": 2,
                            "version_minor": 0
                        },
                        "text/plain": [
                            "Simulation Progress:   0%|          | 0/4080 [00:00<?, ?cycle/s]"
                        ]
                    },
                    "metadata": {},
                    "output_type": "display_data"
                }
            ],
            "source": [
                "sim.run()"
            ]
        },
        {
            "cell_type": "markdown",
            "metadata": {},
            "source": [
                "## Real Simulation"
            ]
        },
        {
            "cell_type": "code",
            "execution_count": null,
            "metadata": {},
            "outputs": [],
            "source": [
                "\"\"\"experiment_config = ExperimentConfig(\n",
                "    name=\"exp1\",\n",
                "    num_frames=61200,\n",
                "    frames_per_sec=60,\n",
                "    orig_resolution=(1920, 1080),\n",
                "    px_per_mm=90,\n",
                "    init_position=(1300, 1200),\n",
                ")\"\"\"\n",
                "# experiment_config.save_json(\"/Users/guycohen/Desktop/Bio-Project/exp_config.json\")"
            ]
        },
        {
            "cell_type": "code",
            "execution_count": null,
            "metadata": {},
            "outputs": [],
            "source": [
                "\n",
                "\"\"\"time_config = TimingConfig(\n",
                "    frames_per_sec=60,\n",
                "    imaging_time_ms=200,\n",
                "    pred_time_ms=40,\n",
                "    moving_time_ms=50,\n",
                "    px_per_mm=90,\n",
                "    camera_size_mm=(4, 4),\n",
                "    micro_size_mm=(0.225, 0.225),\n",
                "    frame_padding_value=(255, 255, 255),\n",
                ")\n",
                "\n",
                "log_config = LogConfig(\n",
                "    root_folder=base_path,\n",
                "    save_mic_view=False,\n",
                "    save_cam_view=False,\n",
                ")\"\"\"\n",
                "\n",
                "# yolo_config = YoloConfig(model_path=\"yolov8m-trained.pt\") \n",
                "\n",
                "# time_config.save_json(base_path+\"time_config.json\")\n",
                "# log_config.save_json(base_path+\"csv_log_config.json\")\n",
                "# yolo_config.save_json(base_path++\"yolo_config.json\")\n",
                "\n",
                "\n",
                "# frames_path = \"Archive/\"\n",
                "# reader = FrameReader.create_from_directory(frames_path)\n",
                "\n",
                "# time_config = TimingConfig.load_json(\"logs/time_config.json\")\n",
                "# log_config = LogConfig.load_json(\"logs/log_config.json\")\n",
                "# yolo_config = YoloConfig.load_json(\"logs/yolo_config.json\")\n"
            ]
        },
        {
            "cell_type": "code",
            "execution_count": null,
            "metadata": {},
            "outputs": [],
            "source": [
                "print(time_config.imaging_frame_num + time_config.moving_frame_num)"
            ]
        },
        {
            "cell_type": "code",
            "execution_count": null,
            "metadata": {},
            "outputs": [],
            "source": [
                "\n",
                "controller = LoggingController(time_config, yolo_config, log_config)\n",
                "#controller = YoloController(time_config, yolo_config)\n",
                "sim = Simulator(time_config, reader, controller)"
            ]
        },
        {
            "cell_type": "code",
            "execution_count": null,
            "metadata": {},
            "outputs": [],
            "source": [
                "sim.run()"
            ]
        },
        {
            "cell_type": "code",
            "execution_count": null,
            "metadata": {},
            "outputs": [],
            "source": [
                "cv.destroyAllWindows()\n",
                "raise Exception(\"Finished\")"
            ]
        },
        {
            "cell_type": "code",
            "execution_count": null,
            "metadata": {},
            "outputs": [],
            "source": [
                "from frame_reader import FrameReader\n",
                "\n",
                "reader = FrameReader.create_from_directory(\"Archive/\")"
            ]
        },
        {
            "cell_type": "code",
            "execution_count": null,
            "metadata": {},
            "outputs": [],
            "source": [
                "from dataset.create.box_calculator import BoxCalculator\n",
                "from dataset.create.sample_extractor import SampleExtractor\n",
                "\n",
                "bbox_calc = BoxCalculator(reader)\n",
                "extractor = SampleExtractor(bbox_calc)\n",
                "extractor.create_all_samples(target_size=(400, 400), save_folder=\"samples\")"
            ]
        },
        {
            "cell_type": "code",
            "execution_count": null,
            "metadata": {},
            "outputs": [],
            "source": [
                "# TODO: IMPROVE\n",
                "def find_boxes(image: np.ndarray) -> np.ndarray:\n",
                "    # increase contrast of original image\n",
                "    image = cv.cvtColor(image, cv.COLOR_BGR2GRAY)\n",
                "\n",
                "    # remove gaussian noise\n",
                "    smoothed = cv.GaussianBlur(image, (3, 3), 0)\n",
                "\n",
                "    # apply threshold to image to convert it into black & white\n",
                "    _, mask = cv.threshold(smoothed, 160, 255, cv.THRESH_BINARY_INV)\n",
                "\n",
                "    # do some morphological magic to clean up noise from the mask\n",
                "    kernel = np.ones((5, 5), np.uint8)\n",
                "    mask = cv.morphologyEx(mask, cv.MORPH_OPEN, kernel)\n",
                "\n",
                "    # dilate to increase all object sizes in the mask\n",
                "    kernel = np.ones((3, 3), np.uint8)\n",
                "    mask = cv.dilate(mask, kernel, iterations=5)\n",
                "\n",
                "    image[mask == 0] = 255\n",
                "    cv.imshow(\"masked\", image)\n",
                "\n",
                "    # find contours\n",
                "    contours, _ = cv.findContours(mask, cv.RETR_EXTERNAL, cv.CHAIN_APPROX_SIMPLE)\n",
                "\n",
                "    # Populate bounding boxes\n",
                "    bbox_list = []\n",
                "    for c in contours:\n",
                "        area = cv.contourArea(c)\n",
                "\n",
                "        if area < 500 or area > 4000:\n",
                "            continue\n",
                "\n",
                "        box = cv.boundingRect(c)\n",
                "        bbox_list.append(box)\n",
                "\n",
                "    # Turn our bboxes into 2d ndarray\n",
                "    bboxes = np.asanyarray(bbox_list)\n",
                "    return bboxes"
            ]
        }
    ],
    "metadata": {
        "kernelspec": {
            "display_name": "bio-proj",
            "language": "python",
            "name": "python3"
        },
        "language_info": {
            "codemirror_mode": {
                "name": "ipython",
                "version": 3
            },
            "file_extension": ".py",
            "mimetype": "text/x-python",
            "name": "python",
            "nbconvert_exporter": "python",
            "pygments_lexer": "ipython3",
            "version": "3.12.3"
        }
    },
    "nbformat": 4,
    "nbformat_minor": 2
}
