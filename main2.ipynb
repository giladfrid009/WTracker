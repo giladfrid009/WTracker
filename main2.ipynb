{
    "cells": [
        {
            "cell_type": "code",
            "execution_count": 1,
            "metadata": {},
            "outputs": [
                {
                    "ename": "KeyboardInterrupt",
                    "evalue": "",
                    "output_type": "error",
                    "traceback": [
                        "\u001b[0;31m---------------------------------------------------------------------------\u001b[0m",
                        "\u001b[0;31mKeyboardInterrupt\u001b[0m                         Traceback (most recent call last)",
                        "File \u001b[0;32m~/mambaforge/envs/bio-projML/lib/python3.12/site-packages/numpy/__init__.py:127\u001b[0m\n\u001b[1;32m    124\u001b[0m     sys\u001b[38;5;241m.\u001b[39mstderr\u001b[38;5;241m.\u001b[39mwrite(\u001b[38;5;124m'\u001b[39m\u001b[38;5;124mRunning from numpy source directory.\u001b[39m\u001b[38;5;130;01m\\n\u001b[39;00m\u001b[38;5;124m'\u001b[39m)\n\u001b[1;32m    125\u001b[0m \u001b[38;5;28;01melse\u001b[39;00m:\n\u001b[1;32m    126\u001b[0m     \u001b[38;5;66;03m# Allow distributors to run custom init code before importing numpy.core\u001b[39;00m\n\u001b[0;32m--> 127\u001b[0m     \u001b[38;5;28;01mfrom\u001b[39;00m \u001b[38;5;21;01m.\u001b[39;00m \u001b[38;5;28;01mimport\u001b[39;00m _distributor_init\n\u001b[1;32m    129\u001b[0m     \u001b[38;5;28;01mtry\u001b[39;00m:\n\u001b[1;32m    130\u001b[0m         \u001b[38;5;28;01mfrom\u001b[39;00m \u001b[38;5;21;01mnumpy\u001b[39;00m\u001b[38;5;21;01m.\u001b[39;00m\u001b[38;5;21;01m__config__\u001b[39;00m \u001b[38;5;28;01mimport\u001b[39;00m show \u001b[38;5;28;01mas\u001b[39;00m show_config\n",
                        "File \u001b[0;32m~/mambaforge/envs/bio-projML/lib/python3.12/site-packages/numpy/_distributor_init.py:14\u001b[0m\n\u001b[1;32m     12\u001b[0m \u001b[38;5;28;01mtry\u001b[39;00m:\n\u001b[1;32m     13\u001b[0m     \u001b[38;5;28;01mimport\u001b[39;00m \u001b[38;5;21;01mmkl\u001b[39;00m\n\u001b[0;32m---> 14\u001b[0m     __mkl_version__ \u001b[38;5;241m=\u001b[39m \u001b[38;5;124m\"\u001b[39m\u001b[38;5;132;01m{MajorVersion}\u001b[39;00m\u001b[38;5;124m.\u001b[39m\u001b[38;5;132;01m{MinorVersion}\u001b[39;00m\u001b[38;5;124m.\u001b[39m\u001b[38;5;132;01m{UpdateVersion}\u001b[39;00m\u001b[38;5;124m\"\u001b[39m\u001b[38;5;241m.\u001b[39mformat(\u001b[38;5;241m*\u001b[39m\u001b[38;5;241m*\u001b[39m\u001b[43mmkl\u001b[49m\u001b[38;5;241;43m.\u001b[39;49m\u001b[43mget_version\u001b[49m\u001b[43m(\u001b[49m\u001b[43m)\u001b[49m)\n\u001b[1;32m     15\u001b[0m \u001b[38;5;28;01mexcept\u001b[39;00m \u001b[38;5;167;01mImportError\u001b[39;00m:\n\u001b[1;32m     16\u001b[0m     \u001b[38;5;28;01mimport\u001b[39;00m \u001b[38;5;21;01mwarnings\u001b[39;00m\n",
                        "\u001b[0;31mKeyboardInterrupt\u001b[0m: "
                    ]
                },
                {
                    "ename": "ImportError",
                    "evalue": "numpy.core.multiarray failed to import",
                    "output_type": "error",
                    "traceback": [
                        "\u001b[0;31m---------------------------------------------------------------------------\u001b[0m",
                        "\u001b[0;31mImportError\u001b[0m                               Traceback (most recent call last)",
                        "Cell \u001b[0;32mIn[1], line 1\u001b[0m\n\u001b[0;32m----> 1\u001b[0m \u001b[38;5;28;01mimport\u001b[39;00m \u001b[38;5;21;01mcv2\u001b[39;00m \u001b[38;5;28;01mas\u001b[39;00m \u001b[38;5;21;01mcv\u001b[39;00m\n\u001b[1;32m      2\u001b[0m \u001b[38;5;28;01mimport\u001b[39;00m \u001b[38;5;21;01mnumpy\u001b[39;00m \u001b[38;5;28;01mas\u001b[39;00m \u001b[38;5;21;01mnp\u001b[39;00m\n\u001b[1;32m      3\u001b[0m \u001b[38;5;28;01mimport\u001b[39;00m \u001b[38;5;21;01mpandas\u001b[39;00m \u001b[38;5;28;01mas\u001b[39;00m \u001b[38;5;21;01mpd\u001b[39;00m\n",
                        "\u001b[0;31mImportError\u001b[0m: numpy.core.multiarray failed to import"
                    ]
                }
            ],
            "source": [
                "import cv2 as cv\n",
                "import numpy as np\n",
                "import pandas as pd\n",
                "import PIL\n",
                "import matplotlib\n",
                "import matplotlib.pyplot as plt\n",
                "import seaborn as sns\n",
                "\n",
                "from evaluation.vlc import VLC\n",
                "from utils.path_utils import Files\n",
                "from evaluation.config import *\n",
                "from evaluation.analysis import Plotter\n",
                "from tkinter import filedialog\n",
                "\n",
                "%matplotlib qt\n",
                "pd.options.display.max_columns = 30"
            ]
        },
        {
            "cell_type": "markdown",
            "metadata": {},
            "source": [
                "# Analysis"
            ]
        },
        {
            "cell_type": "markdown",
            "metadata": {},
            "source": [
                "## VLC"
            ]
        },
        {
            "cell_type": "code",
            "execution_count": null,
            "metadata": {},
            "outputs": [],
            "source": [
                "directory = \"D:\\\\Guy_Gilad\\\\Exp1_GuyGilad\\\\raw\"\n",
                "files = Files(directory, extension='Bmp', sorting_key=lambda f: int(f.split('-')[-1].split('.')[0]))\n",
                "timing_config = TimingConfig.load_json(\"D:\\\\Guy_Gilad\\\\Bio-Proj\\\\logs\\\\time_config.json\")\n",
                "# log_path = \"/Users/guycohen/Desktop/Bio-Project/eval/bboxes2.csv\"\n",
                "# log_path = \"/Users/guycohen/Desktop/Bio-Project/Optimal/bboxes.csv\"\n",
                "# log_path = \"D:\\\\Guy_Gilad\\\\Exp2_GuyGilad\\\\logs_yolo\\\\bboxes.csv\"\n",
                "log_path = \"data/Data/Exp1_GuyGilad_logs_yolo/bboxes.csv\"\n"
            ]
        },
        {
            "cell_type": "code",
            "execution_count": null,
            "metadata": {},
            "outputs": [],
            "source": [
                "log_path = \"data/Data/Exp1_GuyGilad_logs_yolo/bboxes.csv\"\n",
                "experiment_config = ExperimentConfig.load_json(\"data/Data/Exp1_GuyGilad_logs_yolo/experiment_config.json\")\n",
                "\n",
                "time_config = TimingConfig(\n",
                "    imaging_time_ms=100,\n",
                "    pred_time_ms=15,\n",
                "    moving_time_ms=50,\n",
                "    camera_size_mm=(4, 4),\n",
                "    micro_size_mm=(0.22, 0.22),\n",
                "    experiment_config=experiment_config,\n",
                ")\n",
                "vlc = VLC(None, time_config, log_path, 'mic')"
            ]
        },
        {
            "cell_type": "code",
            "execution_count": null,
            "metadata": {},
            "outputs": [],
            "source": [
                "import cProfile\n",
                "vlc = VLC(files, timing_config, log_path, 'plt')\n",
                "vlc.print_hotkeys()\n",
                "vlc.streamer.update_trakbar(\"delay\", 1)\n",
                "vlc.show_cam = True\n",
                "vlc.show_micro = True\n",
                "vlc.show_pred = True\n",
                "vlc.play = True\n",
                "vlc.mainloop()\n",
                "# cProfile.run('vlc.mainloop()')\n"
            ]
        },
        {
            "cell_type": "code",
            "execution_count": null,
            "metadata": {},
            "outputs": [],
            "source": [
                "vlc = VLC(files, timing_config, log_path, 'mic')\n",
                "vlc.print_hotkeys()\n",
                "vlc.mainloop()"
            ]
        },
        {
            "cell_type": "markdown",
            "metadata": {},
            "source": [
                "## Plots"
            ]
        },
        {
            "cell_type": "code",
            "execution_count": null,
            "metadata": {},
            "outputs": [],
            "source": [
                "def cond(df: pd.DataFrame, threshold: float=1.5) -> pd.DataFrame:\n",
                "    mask1 = (df['cycle_step'] == 14) & (df['worm_center_dist'] > threshold)\n",
                "    cycles = df[mask1]['cycle'].unique()\n",
                "    return df['cycle'].isin(cycles)\n",
                "\n",
                "def cond_imaging(df:pd.DataFrame) -> pd.DataFrame:\n",
                "    return df['phase'] == 'imaging'\n",
                "\n",
                "def rolling_avg(data, col, window_size=5):\n",
                "    data[col+'_avg'] = Plotter.rolling_average(data, window_size=window_size, column=col)\n",
                "    return data"
            ]
        },
        {
            "cell_type": "code",
            "execution_count": null,
            "metadata": {},
            "outputs": [],
            "source": [
                "\n",
                "# original_log_path = \"/Users/guycohen/Desktop/Bio-Project/eval/bboxes2.csv\"\n",
                "# log_path = \"/Users/guycohen/Desktop/Bio-Project/eval_corrected_movement/bboxes.csv\"\n",
                "# log_path = \"/Users/guycohen/Desktop/Bio-Project/Optimal/bboxes.csv\"\n",
                "# log_path = \"/Users/guycohen/Desktop/Bio-Project/Controller2/bboxes.csv\"\n",
                "log_path = \"/Users/guycohen/Desktop/Bio-Project/PolyfitControllerV2/bboxes.csv\"\n",
                "# log_path = \"/Users/guycohen/Desktop/Bio-Project/test1/bboxes.csv\"\n",
                "timing_config = TimingConfig.load_json(\"/Users/guycohen/Desktop/Bio-Project/time_config.json\")\n",
                "\n",
                "pltr = Plotter(log_path, timing_config)\n",
                "# pltr_orig = Plotter(original_log_path, timing_config)"
            ]
        },
        {
            "cell_type": "code",
            "execution_count": null,
            "metadata": {},
            "outputs": [],
            "source": [
                "data = pltr.print_statistics(n=10)\n",
                "# data_orig = pltr_orig.print_statistics()"
            ]
        },
        {
            "cell_type": "code",
            "execution_count": null,
            "metadata": {},
            "outputs": [],
            "source": [
                "(data['mic_center_x'] - data['wrm_center_x']).hist(bins=15)"
            ]
        },
        {
            "cell_type": "code",
            "execution_count": null,
            "metadata": {},
            "outputs": [],
            "source": [
                "sns.scatterplot(data=data, x='frame', y='worm_deviation', hue='wrm_speed')"
            ]
        },
        {
            "cell_type": "code",
            "execution_count": null,
            "metadata": {},
            "outputs": [],
            "source": [
                "def plot_histogram(pltr, x_col:str, n:int=1, hue=None, condition=None, **kwargs):\n",
                "    data = pltr.data_prep_frames(n=n)\n",
                "    \n",
                "    if condition is not None:\n",
                "            data = data[condition(data)]\n",
                "    fig, ax = plt.subplots()\n",
                "    sns.histplot(data=data, x=x_col, hue=hue,stat='density', **kwargs)\n",
                "\n",
                "def plot_jointplot(pltr, x_col:str, y_col:str, n:int=1, kind:str='scatter', hue=None, condition=None, transform=None, **kwargs):\n",
                "    data = pltr.data_prep_frames(n=n)\n",
                "    \n",
                "    if transform is not None:\n",
                "        data = transform(data)\n",
                "        \n",
                "    if condition is not None:\n",
                "            data = data[condition(data)]\n",
                "    \n",
                "    sns.jointplot(data=data, x=x_col, y=y_col, hue=hue, kind=kind, **kwargs)\n",
                "\n",
                "# plot_histogram(pltr, 'worm_deviation', n=15, hue='worm_deviation')"
            ]
        },
        {
            "cell_type": "code",
            "execution_count": null,
            "metadata": {},
            "outputs": [],
            "source": [
                "plot_jointplot(pltr, 'wrm_speed', 'worm_deviation', n=5, kind='scatter')"
            ]
        },
        {
            "cell_type": "code",
            "execution_count": null,
            "metadata": {},
            "outputs": [],
            "source": [
                "plot_jointplot(pltr, x_col='wrm_speed_x', y_col='wrm_speed_y', n=5, kind='scatter', hue='worm_angle_avg', transform=lambda data: rolling_avg(data, 'worm_angle', window_size=5))"
            ]
        },
        {
            "cell_type": "code",
            "execution_count": null,
            "metadata": {},
            "outputs": [],
            "source": [
                "plot_histogram(pltr, x_col='bbox_area_diff', condition=lambda df: df['bbox_area_diff'] > 1e-3)"
            ]
        },
        {
            "cell_type": "code",
            "execution_count": null,
            "metadata": {},
            "outputs": [],
            "source": [
                "def avg_speed(data:pd.DataFrame, n_list:list[int]=[10]) -> np.ndarray:\n",
                "    data = data.copy()\n",
                "    \n",
                "    wrm_speed_x = np.zeros(len(data['frame']))\n",
                "    wrm_speed_y = np.zeros(len(data['frame']))\n",
                "    for n in n_list:\n",
                "        wrm_speed_x += data[\"wrm_center_x\"].diff(n) / len(n_list)\n",
                "        wrm_speed_y += data[\"wrm_center_y\"].diff(n) / len(n_list)\n",
                "        # avgs.append(Plotter.worm_angle(data, n=n))\n",
                "    # mean of all averages\n",
                "    data['wrm_speed_x_avg'] = wrm_speed_x\n",
                "    data['wrm_speed_y_avg'] = wrm_speed_y\n",
                "    return data\n",
                "\n",
                "def worm_angle(data:pd.DataFrame, n:int=15) -> np.ndarray:\n",
                "    data = data.copy()\n",
                "\n",
                "    wrm_speed_x = data[\"wrm_center_x\"].diff(n) / n\n",
                "    wrm_speed_y = data[\"wrm_center_y\"].diff(n) / n\n",
                "    angle_speed = np.arctan2(wrm_speed_y, wrm_speed_x)\n",
                "\n",
                "    min_h, min_w = np.min(data[\"wrm_h\"]), np.min(data[\"wrm_w\"])\n",
                "    x_sign = np.sign(data[\"wrm_center_x\"].diff(3))\n",
                "    y_sign = np.sign(data[\"wrm_center_y\"].diff(3))\n",
                "    # data['wrm_speed_x_avg'] = (data['wrm_w']-min_w)*x_sign\n",
                "    # data['wrm_speed_y_avg'] = (data['wrm_h']-min_h)*y_sign\n",
                "    angle = np.arctan2((data['wrm_h']-min_h)*y_sign, (data['wrm_w']-min_w)*x_sign)\n",
                "\n",
                "    angle_diff = np.abs(angle - angle_speed) / (2*np.pi)\n",
                "    data['wrm_speed_x_avg'] = wrm_speed_x * (1-angle_diff)\n",
                "    data['wrm_speed_y_avg'] = wrm_speed_y * (1-angle_diff)\n",
                "    return data"
            ]
        },
        {
            "cell_type": "code",
            "execution_count": null,
            "metadata": {},
            "outputs": [],
            "source": [
                "def plot_flow(pltr, x_col:str, y_col:str, n:int=1, kind:str='scatter', hue=None, condition=None, transform=None, **kwargs):\n",
                "    data = pltr.data_prep_frames(n=n)\n",
                "    \n",
                "    if transform is not None:\n",
                "        data = transform(data)\n",
                "        \n",
                "    if condition is not None:\n",
                "            data = data[condition(data)]\n",
                "    \n",
                "    # cmap = sns.color_palette(\"husl\", as_cmap=True, n_colors=len(data['frame']))\n",
                "    fig, ax = plt.subplots()\n",
                "    plt.quiver(data[x_col], data[y_col], data['wrm_speed_x_avg'], data['wrm_speed_y_avg'], np.linspace(0,1,len(data['frame'])), **kwargs)\n",
                "    ax.invert_yaxis()\n",
                "    ax.grid()\n",
                "\n",
                "\n",
                "# plot_flow(pltr, x_col='wrm_center_x', y_col='wrm_center_y', n=15, angles='xy', transform=lambda data: rolling_avg(data, 'worm_angle', window_size=1))\n",
                "plot_flow(pltr, x_col='wrm_center_x', y_col='wrm_center_y', n=5, angles='xy', scale_units='xy', scale=1,\n",
                "          transform=lambda df: worm_angle(df, 15), \n",
                "        #   condition=lambda df: df['cycle_step'] == 9,\n",
                "          )"
            ]
        },
        {
            "cell_type": "code",
            "execution_count": null,
            "metadata": {},
            "outputs": [],
            "source": [
                "# cols = ['frame', 'cycle', 'plt_x', 'plt_y', 'cam_x', 'cam_y', 'cam_w',\n",
                "#        'cam_h', 'mic_x', 'mic_y', 'mic_w', 'mic_h', 'wrm_x', 'wrm_y', 'wrm_w',\n",
                "#        'wrm_h', 'wrm_center_x', 'wrm_center_y', 'mic_center_x', 'mic_center_y',\n",
                "#        'wrm_speed', 'bbox_area_diff', 'bbox_edge_diff']\n",
                "\n",
                "\n",
                "# (data[cols] - data_orig[cols]).describe()"
            ]
        },
        {
            "cell_type": "code",
            "execution_count": null,
            "metadata": {},
            "outputs": [],
            "source": [
                "pltr.plot_area_vs_speed()"
            ]
        },
        {
            "cell_type": "code",
            "execution_count": null,
            "metadata": {},
            "outputs": [],
            "source": [
                "data.columns"
            ]
        },
        {
            "cell_type": "code",
            "execution_count": null,
            "metadata": {},
            "outputs": [],
            "source": [
                "\n",
                "pltr.plot_2d_deviation(n=2, hue='cycle_step')"
            ]
        },
        {
            "cell_type": "code",
            "execution_count": null,
            "metadata": {},
            "outputs": [],
            "source": [
                "pltr.plot_deviation()"
            ]
        },
        {
            "cell_type": "code",
            "execution_count": null,
            "metadata": {},
            "outputs": [],
            "source": [
                "pltr.plot_area_vs_speed_guy(n=1, window_size=1, hue='phase')"
            ]
        },
        {
            "cell_type": "code",
            "execution_count": null,
            "metadata": {},
            "outputs": [],
            "source": [
                "pltr.plot_cycle_step_vs_speed()"
            ]
        },
        {
            "cell_type": "code",
            "execution_count": null,
            "metadata": {},
            "outputs": [],
            "source": [
                "pltr.plot_trajectory(n=15, hue='wrm_speed')"
            ]
        },
        {
            "cell_type": "code",
            "execution_count": null,
            "metadata": {},
            "outputs": [],
            "source": [
                "def plot_speed_vs_time(pltr, n: int = 1, window_size: int = 15, hue=None, condition=None) -> plt.Figure:\n",
                "        data = pltr.data_prep_frames(n=n)\n",
                "        data[\"wrm_speed_avg\"] = Plotter.rolling_average(data, window_size=window_size, column=\"wrm_speed\")\n",
                "        fig, ax = plt.subplots()\n",
                "        if condition is not None:\n",
                "            mask = condition(data) & mask\n",
                "        g = sns.histplot(data=data, x=\"wrm_speed\", ax=ax, hue=hue)\n",
                "        g.figure.suptitle(f\"n = {n}, rolling window = {window_size}\")\n",
                "        return g.figure"
            ]
        },
        {
            "cell_type": "code",
            "execution_count": null,
            "metadata": {},
            "outputs": [],
            "source": [
                "plot_speed_vs_time(pltr, n=15, window_size=1, hue='phase')"
            ]
        },
        {
            "cell_type": "code",
            "execution_count": null,
            "metadata": {},
            "outputs": [],
            "source": [
                "timing_config.mm_per_px / timing_config.ms_per_frame"
            ]
        },
        {
            "cell_type": "code",
            "execution_count": null,
            "metadata": {},
            "outputs": [],
            "source": [
                "def plot_2d_deviation_with_angle(pltr, n:int=1, hue=\"cycle_step\", condition=None) -> plt.Figure:\n",
                "        data = pltr.data_prep_frames(n=n)\n",
                "        data[\"worm_center_dist_x\"] = data[\"wrm_center_x\"] - data[\"mic_center_x\"]\n",
                "        data[\"worm_center_dist_y\"] = data[\"wrm_center_y\"] - data[\"mic_center_y\"]\n",
                "\n",
                "        data[\"cycle_step\"] = data[\"frame\"] % pltr.timing_config.cycle_length\n",
                "        min_h, min_w = np.min(data[\"wrm_h\"]), np.min(data[\"wrm_w\"])\n",
                "        x_sign = np.sign(data[\"wrm_center_x\"].diff(n))\n",
                "        y_sign = np.sign(data[\"wrm_center_y\"].diff(n))\n",
                "        data['angle'] = np.arctan2((data['wrm_h']-min_h)*y_sign, (data['wrm_w']-min_w)*x_sign)\n",
                "        if condition is not None:\n",
                "            data = data[condition(data)]\n",
                "        \n",
                "        # display(data.head(50))\n",
                "        # g = sns.histplot(data=data, x=\"angle\")\n",
                "        g = sns.jointplot(data=data, x=\"wrm_speed\", y=\"angle\", kind=\"scatter\", hue=hue, alpha=0.6)\n",
                "        # g = sns.jointplot(data=data, x=\"worm_center_dist_x\", y=\"worm_center_dist_y\", kind=\"scatter\", hue=hue, alpha=0.6)\n",
                "        # g.set_axis_labels(\"distance x\", \"distance y\")\n",
                "        # g.figure.suptitle(f\"distance between worm and microscope centers in each axis\")\n",
                "\n",
                "        return g.figure"
            ]
        },
        {
            "cell_type": "code",
            "execution_count": null,
            "metadata": {},
            "outputs": [],
            "source": [
                "plot_2d_deviation_with_angle(pltr, 5, hue=None, condition=lambda df: df['wrm_speed'] > -0.3)"
            ]
        },
        {
            "cell_type": "code",
            "execution_count": null,
            "metadata": {},
            "outputs": [],
            "source": [
                "def plot_area_vs_time(pltr:Plotter, n: int = 1, window_size: int = 15, hue=None, condition=None) -> plt.Figure:\n",
                "        data = pltr.data_prep_frames(n=n)\n",
                "        data[\"wrm_speed_avg\"] = Plotter.rolling_average(data, window_size=window_size, column=\"wrm_speed\")\n",
                "        data[\"worm_center_dist\"] = np.sqrt(\n",
                "            (data[\"wrm_center_x\"] - data[\"mic_center_x\"]) ** 2 + (data[\"wrm_center_y\"] - data[\"mic_center_y\"]) ** 2\n",
                "        )\n",
                "        data[\"cycle_step\"] = data[\"frame\"] % pltr.timing_config.cycle_length\n",
                "        data['angle'] = np.arctan2(data['wrm_w'], data['wrm_h'])\n",
                "        # fig, ax = plt.subplots()\n",
                "        mask = data[\"bbox_area_diff\"] > 1e-3\n",
                "        if condition is not None:\n",
                "            mask = condition(data) & mask\n",
                "        g = sns.jointplot(\n",
                "            data=data[mask], x=\"wrm_speed_avg\", y=\"worm_center_dist\", hue=hue, kind=\"scatter\", dropna=True)\n",
                "        g.figure.suptitle(f\"n = {n}, rolling window = {window_size}\")\n",
                "        return g.figure"
            ]
        },
        {
            "cell_type": "code",
            "execution_count": null,
            "metadata": {},
            "outputs": [],
            "source": [
                "plot_area_vs_time(pltr, n=18, window_size=1, hue='angle')"
            ]
        },
        {
            "cell_type": "code",
            "execution_count": null,
            "metadata": {},
            "outputs": [],
            "source": [
                "raise Exception(\"Finished\")"
            ]
        },
        {
            "cell_type": "markdown",
            "metadata": {},
            "source": [
                "# Run Simulation"
            ]
        },
        {
            "cell_type": "code",
            "execution_count": 1,
            "metadata": {},
            "outputs": [],
            "source": [
                "from evaluation.simulator import *\n",
                "from evaluation.sim_controllers import *\n",
                "from evaluation.config import ExperimentConfig\n",
                "from frame_reader import DummyReader\n",
                "from evaluation.motor_controllers import *\n",
                "\n",
                "# base_path = \"/Users/guycohen/Desktop/Bio-Project/\"\n",
                "base_path = f\"data/Data/Exp1_GuyGilad_logs_yolo/\"\n"
            ]
        },
        {
            "cell_type": "markdown",
            "metadata": {},
            "source": [
                "## Run CSV Simulation"
            ]
        },
        {
            "cell_type": "code",
            "execution_count": 2,
            "metadata": {},
            "outputs": [],
            "source": [
                "exp_base_path = \"logs\"\n",
                "\n",
                "# time_config = TimingConfig.load_json(base_path + \"time_config.json\")\n",
                "# time_config = TimingConfig.load_json(base_path + \"time_config_medium_micro.json\")\n",
                "experiment_config = ExperimentConfig.load_json(f\"{base_path}/experiment_config.json\")\n",
                "log_config = LogConfig(\n",
                "    root_folder=exp_base_path,\n",
                "    save_mic_view=False,\n",
                "    save_cam_view=False,\n",
                "    save_err_view=False,\n",
                ")"
            ]
        },
        {
            "cell_type": "code",
            "execution_count": 3,
            "metadata": {},
            "outputs": [],
            "source": [
                "time_config = TimingConfig(\n",
                "    imaging_time_ms=200,\n",
                "    pred_time_ms=40,\n",
                "    moving_time_ms=50,\n",
                "    camera_size_mm=(4, 4),\n",
                "    micro_size_mm=(0.32, 0.32),\n",
                "    experiment_config=experiment_config,\n",
                ")"
            ]
        },
        {
            "cell_type": "code",
            "execution_count": 4,
            "metadata": {},
            "outputs": [
                {
                    "name": "stdout",
                    "output_type": "stream",
                    "text": [
                        "RMLP(\n",
                        "  (input): Sequential(\n",
                        "    (0): Linear(in_features=20, out_features=40, bias=True)\n",
                        "    (1): BatchNorm1d(40, eps=1e-05, momentum=0.1, affine=True, track_running_stats=True)\n",
                        "    (2): ReLU()\n",
                        "  )\n",
                        "  (blocks): ModuleList(\n",
                        "    (0-1): 2 x MlpBlock(\n",
                        "      (sequence): Sequential(\n",
                        "        (0): Linear(in_features=40, out_features=10, bias=True)\n",
                        "        (1): BatchNorm1d(10, eps=1e-05, momentum=0.1, affine=True, track_running_stats=True)\n",
                        "        (2): ReLU()\n",
                        "        (3): Linear(in_features=10, out_features=4, bias=True)\n",
                        "        (4): BatchNorm1d(4, eps=1e-05, momentum=0.1, affine=True, track_running_stats=True)\n",
                        "        (5): ReLU()\n",
                        "        (6): Linear(in_features=4, out_features=10, bias=True)\n",
                        "        (7): BatchNorm1d(10, eps=1e-05, momentum=0.1, affine=True, track_running_stats=True)\n",
                        "        (8): ReLU()\n",
                        "        (9): Linear(in_features=10, out_features=40, bias=True)\n",
                        "        (10): BatchNorm1d(40, eps=1e-05, momentum=0.1, affine=True, track_running_stats=True)\n",
                        "        (11): ReLU()\n",
                        "      )\n",
                        "    )\n",
                        "  )\n",
                        "  (output): Linear(in_features=40, out_features=2, bias=True)\n",
                        ")\n",
                        "(64995, 4)\n"
                    ]
                }
            ],
            "source": [
                "from evaluation.sim_controllers.guys_controllers import *\n",
                "from evaluation.sim_controllers.csv_controller import CsvController\n",
                "from evaluation.sim_controllers.optimal_controller import  OptimalController\n",
                "from evaluation.sim_controllers.polyfit_controller import PolyfitController\n",
                "import torch\n",
                "\n",
                "log_path = base_path + \"bboxes.csv\"\n",
                "\n",
                "# controller = CsvController(time_config, \"/Users/guycohen/Desktop/Bio-Project/eval_corrected_movement/bboxes.csv\")\n",
                "\n",
                "# controller = TestController1(time_config, \"/Users/guycohen/Desktop/Bio-Project/eval/bboxes.csv\")\n",
                "# controller = Controller2(time_config, \"/Users/guycohen/Desktop/Bio-Project/eval_corrected_movement/bboxes.csv\")\n",
                "# controller = OptimalController(time_config, \"/Users/guycohen/Desktop/Bio-Project/eval_corrected_movement/bboxes.csv\")\n",
                "\n",
                "model = torch.load(\"data/RecurrentMLP4.pt\")\n",
                "print(model)\n",
                "controller = MLPController(time_config, log_path, model)\n",
                "\n",
                "weights = np.ones(11)\n",
                "# weights = np.asanyarray([0.0477, 0.0002, 0. ,    0.0007, 0.0057, 0.042 , 0.1558, 0.6245 ,0.7627])\n",
                "sample_frames = np.asanyarray(\n",
                "    [\n",
                "        0,\n",
                "        5,\n",
                "        9,\n",
                "        -time_config.cycle_length + 0,\n",
                "        -time_config.cycle_length + 5,\n",
                "        -time_config.cycle_length + 9,\n",
                "        -2 * time_config.cycle_length + 0,\n",
                "        -2 * time_config.cycle_length + 5,\n",
                "        -2 * time_config.cycle_length + 9,\n",
                "        -3 * time_config.cycle_length + 9,\n",
                "        -4 * time_config.cycle_length + 9,\n",
                "    ]\n",
                ")\n",
                "# controller = PolyfitController(time_config, log_path, degree=2, weights=weights, sample_times=sample_frames)\n",
                "\n",
                "\n",
                "\n",
                "\n",
                "\n"
            ]
        },
        {
            "cell_type": "code",
            "execution_count": 5,
            "metadata": {},
            "outputs": [],
            "source": [
                "\n",
                "logging_controller = LoggingController(controller, log_config)\n",
                "motor_controller = SineMotorController(time_config)\n",
                "# motor_controller = SimpleMovementController(time_config, 0)\n",
                "\n",
                "sim = Simulator(time_config, experiment_config, logging_controller, reader=None, motor_controller=motor_controller)"
            ]
        },
        {
            "cell_type": "code",
            "execution_count": 6,
            "metadata": {},
            "outputs": [
                {
                    "data": {
                        "application/vnd.jupyter.widget-view+json": {
                            "model_id": "a97c5eb7ae384d60afbd41380582c090",
                            "version_major": 2,
                            "version_minor": 0
                        },
                        "text/plain": [
                            "Simulation Progress:   0%|          | 0/4333 [00:00<?, ?cycle/s]"
                        ]
                    },
                    "metadata": {},
                    "output_type": "display_data"
                },
                {
                    "name": "stdout",
                    "output_type": "stream",
                    "text": [
                        "<class 'evaluation.config.TimingConfig'>\n",
                        "<class 'evaluation.config.ExperimentConfig'>\n"
                    ]
                }
            ],
            "source": [
                "sim.run()\n",
                "time_config.save_json(exp_base_path + \"/time_config.json\")\n",
                "experiment_config.save_json(exp_base_path + \"/exp_config.json\")"
            ]
        },
        {
            "cell_type": "code",
            "execution_count": 7,
            "metadata": {},
            "outputs": [
                {
                    "name": "stdout",
                    "output_type": "stream",
                    "text": [
                        "##################### No Preds #####################\n",
                        "Num of No Preds: 571\n",
                        "No prediction in frames: [6152, 6154, 6155, 6162, 6211, 6220, 16219, 18420, 18421, 18422, 18424, 18425, 18427, 18428, 18429, 18430, 18431, 18432, 18433, 18434, 18435, 18436, 18437, 18438, 18439, 18440, 18447, 18478, 18479, 18480, 18481, 18482, 18483, 18484, 18485, 18486, 18487, 18488, 18489, 18490, 18491, 18492, 18493, 18494, 18495, 18496, 18497, 18498, 18499, 18500, 18501, 18502, 18503, 18504, 18505, 18506, 18507, 18508, 18509, 18510, 18511, 18512, 18513, 18514, 18515, 18516, 18517, 18518, 18519, 18520, 18521, 18522, 18523, 18524, 18525, 18526, 18527, 18528, 18529, 18530, 18531, 18532, 18533, 18534, 18535, 18536, 18537, 18538, 18539, 18540, 18541, 18542, 18543, 18544, 18545, 18546, 18547, 18548, 18549, 18550, 18551, 18552, 18553, 18554, 18555, 18556, 18557, 18558, 18559, 18560, 18561, 18562, 18563, 18564, 18565, 18566, 18567, 18568, 18569, 18570, 18571, 18572, 18573, 18574, 18575, 18576, 18577, 18578, 18579, 18580, 18581, 18582, 18583, 18584, 18585, 18586, 18587, 18588, 18589, 18590, 18591, 18592, 18593, 18594, 18595, 18596, 18597, 18598, 18599, 18600, 18601, 18602, 18603, 18604, 18605, 18606, 18607, 18610, 18611, 18613, 18614, 18615, 18616, 18618, 18619, 18620, 18621, 18622, 18623, 18624, 18625, 18626, 18627, 18628, 18629, 18630, 18631, 18632, 18633, 18634, 18635, 18636, 18637, 18638, 18639, 18640, 18641, 18642, 18643, 18644, 18645, 18646, 18647, 18648, 18649, 18650, 18651, 18652, 18653, 18654, 18655, 18656, 18657, 18658, 18659, 18660, 18661, 18662, 18663, 18664, 18665, 18666, 18667, 18668, 18669, 18670, 18671, 18672, 18673, 18674, 18675, 18676, 18677, 18678, 18679, 18680, 18681, 18682, 18683, 18684, 18685, 18686, 18687, 18688, 18689, 18690, 18691, 18692, 18693, 18694, 18695, 18696, 18697, 18698, 18699, 18700, 18701, 18702, 18703, 18704, 18705, 18706, 18707, 18708, 18709, 18710, 18711, 18712, 18713, 18714, 18715, 18716, 18717, 18718, 18719, 18720, 18721, 18722, 18723, 18724, 18725, 18726, 18727, 18728, 18729, 18730, 18731, 18732, 18733, 18734, 18735, 18736, 18737, 18738, 18739, 18740, 18744, 18764, 18765, 19168, 19169, 19171, 19172, 19173, 19177, 19178, 19182, 19198, 19199, 19200, 19201, 19202, 19203, 19204, 19205, 19206, 19207, 19208, 19209, 19210, 19211, 19212, 19213, 19214, 19215, 19216, 19217, 19218, 19219, 19220, 19221, 19222, 19223, 19243, 19244, 19245, 19246, 19247, 19248, 19249, 19250, 19251, 19252, 19253, 19254, 19255, 19256, 19257, 19258, 19259, 19260, 19261, 19262, 19263, 19264, 19265, 19266, 19267, 19268, 19288, 19289, 19290, 19291, 19292, 19293, 19294, 19295, 19296, 19297, 19298, 19299, 19300, 19301, 19302, 19303, 19304, 19305, 19306, 19307, 19308, 19309, 19310, 19311, 19312, 19313, 19314, 19315, 19316, 21740, 21745, 21746, 21750, 21899, 21900, 21905, 21909, 21988, 21989, 21990, 21991, 21992, 21993, 21994, 29494, 29495, 29496, 53633, 53713, 53714, 53715, 53716, 53717, 53718, 53719, 53720, 53721, 53722, 53723, 53727, 53743, 53744, 53745, 53746, 53747, 53748, 53750, 53751, 53752, 53753, 53754, 53755, 53756, 53757, 53758, 53759, 53760, 53761, 53762, 53763, 53764, 53765, 53766, 53767, 53768, 53769, 53770, 53771, 53772, 53773, 53774, 53775, 53776, 53777, 53778, 53779, 53780, 53781, 53782, 53783, 53784, 53785, 53786, 53787, 53788, 53789, 53790, 53791, 53792, 53793, 53794, 53795, 53796, 53797, 53798, 53799, 53800, 53801, 53802, 53803, 53804, 53805, 53806, 53807, 53808, 53809, 53810, 53811, 53812, 53813, 53814, 53815, 53816, 53817, 53818, 53819, 53820, 53821, 53822, 53823, 53824, 53825, 53826, 53827, 53828, 53829, 53830, 53831, 53832, 53833, 53834, 53835, 53836, 53837, 53838, 53839, 53840, 53841, 53842, 53843, 53844, 53845, 53846, 53847, 53848, 53849, 53850, 53851, 53852, 53853, 53854, 53855, 53856, 53857, 53858, 53859, 53860, 53861, 53862, 53863, 53864, 53865, 53866, 53867, 53868, 53869, 53870, 59753, 59754, 59982, 60073, 60074, 60075, 60076, 60077, 60078, 60080, 60081, 60082, 60083, 60084, 60085, 60086, 60087, 60088, 60089, 60090, 60091, 60092, 60093, 60094, 60095, 60096, 60097, 60098, 60099, 60100, 60101, 60102, 60103, 60104, 60105]\n",
                        "corresponding cycle steps: [2, 4, 5, 12, 1, 10, 4, 0, 1, 2, 4, 5, 7, 8, 9, 10, 11, 12, 13, 14, 0, 1, 2, 3, 4, 5, 12, 13, 14, 0, 1, 2, 3, 4, 5, 6, 7, 8, 9, 10, 11, 12, 13, 14, 0, 1, 2, 3, 4, 5, 6, 7, 8, 9, 10, 11, 12, 13, 14, 0, 1, 2, 3, 4, 5, 6, 7, 8, 9, 10, 11, 12, 13, 14, 0, 1, 2, 3, 4, 5, 6, 7, 8, 9, 10, 11, 12, 13, 14, 0, 1, 2, 3, 4, 5, 6, 7, 8, 9, 10, 11, 12, 13, 14, 0, 1, 2, 3, 4, 5, 6, 7, 8, 9, 10, 11, 12, 13, 14, 0, 1, 2, 3, 4, 5, 6, 7, 8, 9, 10, 11, 12, 13, 14, 0, 1, 2, 3, 4, 5, 6, 7, 8, 9, 10, 11, 12, 13, 14, 0, 1, 2, 3, 4, 5, 6, 7, 10, 11, 13, 14, 0, 1, 3, 4, 5, 6, 7, 8, 9, 10, 11, 12, 13, 14, 0, 1, 2, 3, 4, 5, 6, 7, 8, 9, 10, 11, 12, 13, 14, 0, 1, 2, 3, 4, 5, 6, 7, 8, 9, 10, 11, 12, 13, 14, 0, 1, 2, 3, 4, 5, 6, 7, 8, 9, 10, 11, 12, 13, 14, 0, 1, 2, 3, 4, 5, 6, 7, 8, 9, 10, 11, 12, 13, 14, 0, 1, 2, 3, 4, 5, 6, 7, 8, 9, 10, 11, 12, 13, 14, 0, 1, 2, 3, 4, 5, 6, 7, 8, 9, 10, 11, 12, 13, 14, 0, 1, 2, 3, 4, 5, 6, 7, 8, 9, 10, 11, 12, 13, 14, 0, 1, 2, 3, 4, 5, 9, 14, 0, 13, 14, 1, 2, 3, 7, 8, 12, 13, 14, 0, 1, 2, 3, 4, 5, 6, 7, 8, 9, 10, 11, 12, 13, 14, 0, 1, 2, 3, 4, 5, 6, 7, 8, 13, 14, 0, 1, 2, 3, 4, 5, 6, 7, 8, 9, 10, 11, 12, 13, 14, 0, 1, 2, 3, 4, 5, 6, 7, 8, 13, 14, 0, 1, 2, 3, 4, 5, 6, 7, 8, 9, 10, 11, 12, 13, 14, 0, 1, 2, 3, 4, 5, 6, 7, 8, 9, 10, 11, 5, 10, 11, 0, 14, 0, 5, 9, 13, 14, 0, 1, 2, 3, 4, 4, 5, 6, 8, 13, 14, 0, 1, 2, 3, 4, 5, 6, 7, 8, 12, 13, 14, 0, 1, 2, 3, 5, 6, 7, 8, 9, 10, 11, 12, 13, 14, 0, 1, 2, 3, 4, 5, 6, 7, 8, 9, 10, 11, 12, 13, 14, 0, 1, 2, 3, 4, 5, 6, 7, 8, 9, 10, 11, 12, 13, 14, 0, 1, 2, 3, 4, 5, 6, 7, 8, 9, 10, 11, 12, 13, 14, 0, 1, 2, 3, 4, 5, 6, 7, 8, 9, 10, 11, 12, 13, 14, 0, 1, 2, 3, 4, 5, 6, 7, 8, 9, 10, 11, 12, 13, 14, 0, 1, 2, 3, 4, 5, 6, 7, 8, 9, 10, 11, 12, 13, 14, 0, 1, 2, 3, 4, 5, 6, 7, 8, 9, 10, 11, 12, 13, 14, 0, 1, 2, 3, 4, 5, 8, 9, 12, 13, 14, 0, 1, 2, 3, 5, 6, 7, 8, 9, 10, 11, 12, 13, 14, 0, 1, 2, 3, 4, 5, 6, 7, 8, 9, 10, 11, 12, 13, 14, 0]\n",
                        "##################### Cycles #####################\n",
                        "Num of cycles: 4333\n",
                        "##################### Area Diff #####################\n",
                        "Non Perfect Predictions: 5.094%\n",
                        "##################### General #####################\n"
                    ]
                },
                {
                    "data": {
                        "text/html": [
                            "<div>\n",
                            "<style scoped>\n",
                            "    .dataframe tbody tr th:only-of-type {\n",
                            "        vertical-align: middle;\n",
                            "    }\n",
                            "\n",
                            "    .dataframe tbody tr th {\n",
                            "        vertical-align: top;\n",
                            "    }\n",
                            "\n",
                            "    .dataframe thead th {\n",
                            "        text-align: right;\n",
                            "    }\n",
                            "</style>\n",
                            "<table border=\"1\" class=\"dataframe\">\n",
                            "  <thead>\n",
                            "    <tr style=\"text-align: right;\">\n",
                            "      <th></th>\n",
                            "      <th>frame</th>\n",
                            "      <th>cycle</th>\n",
                            "      <th>plt_x</th>\n",
                            "      <th>plt_y</th>\n",
                            "      <th>cam_x</th>\n",
                            "      <th>cam_y</th>\n",
                            "      <th>cam_w</th>\n",
                            "      <th>cam_h</th>\n",
                            "      <th>mic_x</th>\n",
                            "      <th>mic_y</th>\n",
                            "      <th>...</th>\n",
                            "      <th>mic_center_y</th>\n",
                            "      <th>wrm_speed</th>\n",
                            "      <th>wrm_speed_x</th>\n",
                            "      <th>wrm_speed_y</th>\n",
                            "      <th>bbox_area_diff</th>\n",
                            "      <th>bbox_edge_diff</th>\n",
                            "      <th>worm_angle</th>\n",
                            "      <th>worm_deviation_x</th>\n",
                            "      <th>worm_deviation_y</th>\n",
                            "      <th>worm_deviation</th>\n",
                            "    </tr>\n",
                            "  </thead>\n",
                            "  <tbody>\n",
                            "    <tr>\n",
                            "      <th>count</th>\n",
                            "      <td>64409.000000</td>\n",
                            "      <td>64409.00000</td>\n",
                            "      <td>64409.000000</td>\n",
                            "      <td>64409.000000</td>\n",
                            "      <td>64409.000000</td>\n",
                            "      <td>64409.000000</td>\n",
                            "      <td>64409.0</td>\n",
                            "      <td>64409.0</td>\n",
                            "      <td>64409.000000</td>\n",
                            "      <td>64409.000000</td>\n",
                            "      <td>...</td>\n",
                            "      <td>64409.000000</td>\n",
                            "      <td>64409.000000</td>\n",
                            "      <td>64409.000000</td>\n",
                            "      <td>64409.000000</td>\n",
                            "      <td>6.440900e+04</td>\n",
                            "      <td>64409.000000</td>\n",
                            "      <td>64409.000000</td>\n",
                            "      <td>64409.000000</td>\n",
                            "      <td>64409.000000</td>\n",
                            "      <td>64409.000000</td>\n",
                            "    </tr>\n",
                            "    <tr>\n",
                            "      <th>mean</th>\n",
                            "      <td>32527.754615</td>\n",
                            "      <td>2168.05021</td>\n",
                            "      <td>988.895884</td>\n",
                            "      <td>853.749818</td>\n",
                            "      <td>808.895884</td>\n",
                            "      <td>673.749818</td>\n",
                            "      <td>360.0</td>\n",
                            "      <td>360.0</td>\n",
                            "      <td>974.895884</td>\n",
                            "      <td>839.749818</td>\n",
                            "      <td>...</td>\n",
                            "      <td>854.249818</td>\n",
                            "      <td>0.543053</td>\n",
                            "      <td>0.007065</td>\n",
                            "      <td>-0.000235</td>\n",
                            "      <td>8.134865e-03</td>\n",
                            "      <td>0.131526</td>\n",
                            "      <td>-0.101054</td>\n",
                            "      <td>-0.635450</td>\n",
                            "      <td>-0.507721</td>\n",
                            "      <td>3.181013</td>\n",
                            "    </tr>\n",
                            "    <tr>\n",
                            "      <th>std</th>\n",
                            "      <td>18772.528211</td>\n",
                            "      <td>1251.50192</td>\n",
                            "      <td>438.542798</td>\n",
                            "      <td>444.027941</td>\n",
                            "      <td>438.542798</td>\n",
                            "      <td>444.027941</td>\n",
                            "      <td>0.0</td>\n",
                            "      <td>0.0</td>\n",
                            "      <td>438.542798</td>\n",
                            "      <td>444.027941</td>\n",
                            "      <td>...</td>\n",
                            "      <td>444.027941</td>\n",
                            "      <td>0.282492</td>\n",
                            "      <td>0.410645</td>\n",
                            "      <td>0.453910</td>\n",
                            "      <td>5.626022e-02</td>\n",
                            "      <td>0.981962</td>\n",
                            "      <td>1.797777</td>\n",
                            "      <td>2.605953</td>\n",
                            "      <td>2.891535</td>\n",
                            "      <td>2.386325</td>\n",
                            "    </tr>\n",
                            "    <tr>\n",
                            "      <th>min</th>\n",
                            "      <td>15.000000</td>\n",
                            "      <td>1.00000</td>\n",
                            "      <td>213.000000</td>\n",
                            "      <td>183.000000</td>\n",
                            "      <td>33.000000</td>\n",
                            "      <td>3.000000</td>\n",
                            "      <td>360.0</td>\n",
                            "      <td>360.0</td>\n",
                            "      <td>199.000000</td>\n",
                            "      <td>169.000000</td>\n",
                            "      <td>...</td>\n",
                            "      <td>183.500000</td>\n",
                            "      <td>0.000309</td>\n",
                            "      <td>-3.703702</td>\n",
                            "      <td>-4.066475</td>\n",
                            "      <td>-2.464808e-14</td>\n",
                            "      <td>0.000000</td>\n",
                            "      <td>-3.123347</td>\n",
                            "      <td>-26.466484</td>\n",
                            "      <td>-40.858170</td>\n",
                            "      <td>0.002450</td>\n",
                            "    </tr>\n",
                            "    <tr>\n",
                            "      <th>25%</th>\n",
                            "      <td>16123.000000</td>\n",
                            "      <td>1074.00000</td>\n",
                            "      <td>642.000000</td>\n",
                            "      <td>456.000000</td>\n",
                            "      <td>462.000000</td>\n",
                            "      <td>276.000000</td>\n",
                            "      <td>360.0</td>\n",
                            "      <td>360.0</td>\n",
                            "      <td>628.000000</td>\n",
                            "      <td>442.000000</td>\n",
                            "      <td>...</td>\n",
                            "      <td>456.500000</td>\n",
                            "      <td>0.380227</td>\n",
                            "      <td>-0.289573</td>\n",
                            "      <td>-0.345325</td>\n",
                            "      <td>-3.525838e-15</td>\n",
                            "      <td>0.000000</td>\n",
                            "      <td>-1.738769</td>\n",
                            "      <td>-2.075958</td>\n",
                            "      <td>-2.064644</td>\n",
                            "      <td>1.640109</td>\n",
                            "    </tr>\n",
                            "    <tr>\n",
                            "      <th>50%</th>\n",
                            "      <td>32615.000000</td>\n",
                            "      <td>2174.00000</td>\n",
                            "      <td>1078.000000</td>\n",
                            "      <td>829.000000</td>\n",
                            "      <td>898.000000</td>\n",
                            "      <td>649.000000</td>\n",
                            "      <td>360.0</td>\n",
                            "      <td>360.0</td>\n",
                            "      <td>1064.000000</td>\n",
                            "      <td>815.000000</td>\n",
                            "      <td>...</td>\n",
                            "      <td>829.500000</td>\n",
                            "      <td>0.551446</td>\n",
                            "      <td>-0.006676</td>\n",
                            "      <td>-0.025987</td>\n",
                            "      <td>3.738506e-16</td>\n",
                            "      <td>0.000000</td>\n",
                            "      <td>-0.168264</td>\n",
                            "      <td>-0.619835</td>\n",
                            "      <td>-0.484535</td>\n",
                            "      <td>2.695756</td>\n",
                            "    </tr>\n",
                            "    <tr>\n",
                            "      <th>75%</th>\n",
                            "      <td>48717.000000</td>\n",
                            "      <td>3247.00000</td>\n",
                            "      <td>1323.000000</td>\n",
                            "      <td>1312.000000</td>\n",
                            "      <td>1143.000000</td>\n",
                            "      <td>1132.000000</td>\n",
                            "      <td>360.0</td>\n",
                            "      <td>360.0</td>\n",
                            "      <td>1309.000000</td>\n",
                            "      <td>1298.000000</td>\n",
                            "      <td>...</td>\n",
                            "      <td>1312.500000</td>\n",
                            "      <td>0.692869</td>\n",
                            "      <td>0.312562</td>\n",
                            "      <td>0.336564</td>\n",
                            "      <td>4.745208e-15</td>\n",
                            "      <td>0.000000</td>\n",
                            "      <td>1.437386</td>\n",
                            "      <td>0.791512</td>\n",
                            "      <td>1.030998</td>\n",
                            "      <td>4.071142</td>\n",
                            "    </tr>\n",
                            "    <tr>\n",
                            "      <th>max</th>\n",
                            "      <td>64994.000000</td>\n",
                            "      <td>4332.00000</td>\n",
                            "      <td>1673.000000</td>\n",
                            "      <td>1530.000000</td>\n",
                            "      <td>1493.000000</td>\n",
                            "      <td>1350.000000</td>\n",
                            "      <td>360.0</td>\n",
                            "      <td>360.0</td>\n",
                            "      <td>1659.000000</td>\n",
                            "      <td>1516.000000</td>\n",
                            "      <td>...</td>\n",
                            "      <td>1530.500000</td>\n",
                            "      <td>4.080179</td>\n",
                            "      <td>2.106039</td>\n",
                            "      <td>4.038630</td>\n",
                            "      <td>1.000000e+00</td>\n",
                            "      <td>33.753311</td>\n",
                            "      <td>3.141593</td>\n",
                            "      <td>23.503151</td>\n",
                            "      <td>21.018387</td>\n",
                            "      <td>40.899145</td>\n",
                            "    </tr>\n",
                            "  </tbody>\n",
                            "</table>\n",
                            "<p>8 rows × 30 columns</p>\n",
                            "</div>"
                        ],
                        "text/plain": [
                            "              frame        cycle         plt_x         plt_y         cam_x  \\\n",
                            "count  64409.000000  64409.00000  64409.000000  64409.000000  64409.000000   \n",
                            "mean   32527.754615   2168.05021    988.895884    853.749818    808.895884   \n",
                            "std    18772.528211   1251.50192    438.542798    444.027941    438.542798   \n",
                            "min       15.000000      1.00000    213.000000    183.000000     33.000000   \n",
                            "25%    16123.000000   1074.00000    642.000000    456.000000    462.000000   \n",
                            "50%    32615.000000   2174.00000   1078.000000    829.000000    898.000000   \n",
                            "75%    48717.000000   3247.00000   1323.000000   1312.000000   1143.000000   \n",
                            "max    64994.000000   4332.00000   1673.000000   1530.000000   1493.000000   \n",
                            "\n",
                            "              cam_y    cam_w    cam_h         mic_x         mic_y  ...  \\\n",
                            "count  64409.000000  64409.0  64409.0  64409.000000  64409.000000  ...   \n",
                            "mean     673.749818    360.0    360.0    974.895884    839.749818  ...   \n",
                            "std      444.027941      0.0      0.0    438.542798    444.027941  ...   \n",
                            "min        3.000000    360.0    360.0    199.000000    169.000000  ...   \n",
                            "25%      276.000000    360.0    360.0    628.000000    442.000000  ...   \n",
                            "50%      649.000000    360.0    360.0   1064.000000    815.000000  ...   \n",
                            "75%     1132.000000    360.0    360.0   1309.000000   1298.000000  ...   \n",
                            "max     1350.000000    360.0    360.0   1659.000000   1516.000000  ...   \n",
                            "\n",
                            "       mic_center_y     wrm_speed   wrm_speed_x   wrm_speed_y  bbox_area_diff  \\\n",
                            "count  64409.000000  64409.000000  64409.000000  64409.000000    6.440900e+04   \n",
                            "mean     854.249818      0.543053      0.007065     -0.000235    8.134865e-03   \n",
                            "std      444.027941      0.282492      0.410645      0.453910    5.626022e-02   \n",
                            "min      183.500000      0.000309     -3.703702     -4.066475   -2.464808e-14   \n",
                            "25%      456.500000      0.380227     -0.289573     -0.345325   -3.525838e-15   \n",
                            "50%      829.500000      0.551446     -0.006676     -0.025987    3.738506e-16   \n",
                            "75%     1312.500000      0.692869      0.312562      0.336564    4.745208e-15   \n",
                            "max     1530.500000      4.080179      2.106039      4.038630    1.000000e+00   \n",
                            "\n",
                            "       bbox_edge_diff    worm_angle  worm_deviation_x  worm_deviation_y  \\\n",
                            "count    64409.000000  64409.000000      64409.000000      64409.000000   \n",
                            "mean         0.131526     -0.101054         -0.635450         -0.507721   \n",
                            "std          0.981962      1.797777          2.605953          2.891535   \n",
                            "min          0.000000     -3.123347        -26.466484        -40.858170   \n",
                            "25%          0.000000     -1.738769         -2.075958         -2.064644   \n",
                            "50%          0.000000     -0.168264         -0.619835         -0.484535   \n",
                            "75%          0.000000      1.437386          0.791512          1.030998   \n",
                            "max         33.753311      3.141593         23.503151         21.018387   \n",
                            "\n",
                            "       worm_deviation  \n",
                            "count    64409.000000  \n",
                            "mean         3.181013  \n",
                            "std          2.386325  \n",
                            "min          0.002450  \n",
                            "25%          1.640109  \n",
                            "50%          2.695756  \n",
                            "75%          4.071142  \n",
                            "max         40.899145  \n",
                            "\n",
                            "[8 rows x 30 columns]"
                        ]
                    },
                    "metadata": {},
                    "output_type": "display_data"
                }
            ],
            "source": [
                "from evaluation.analysis import Plotter\n",
                "\n",
                "pltr = Plotter(log_config.bbox_file_path, time_config)\n",
                "data = pltr.print_statistics(n=10)"
            ]
        },
        {
            "cell_type": "code",
            "execution_count": 8,
            "metadata": {},
            "outputs": [],
            "source": [
                "def bbox_eval(pltr:Plotter, df:pd.DataFrame) -> pd.DataFrame:\n",
                "    data = pltr.data_prep_frames(n=10)\n",
                "    grouped_data = data.groupby(\"cycle\")\n",
                "    avg_speed = grouped_data[\"wrm_speed\"].mean()\n",
                "\n",
                "    data = Plotter.remove_phase(data, \"moving\")\n",
                "\n",
                "    max_area_diff = data.groupby(\"cycle\")[\"bbox_area_diff\"].max()\n",
                "\n",
                "    data = pd.DataFrame({\"wrm_speed\": avg_speed, \"bbox_area_diff\": max_area_diff})\n",
                "    return data"
            ]
        },
        {
            "cell_type": "code",
            "execution_count": 9,
            "metadata": {},
            "outputs": [
                {
                    "data": {
                        "image/png": "[encoded data removed]",
                        "text/plain": [
                            "<Figure size 640x480 with 1 Axes>"
                        ]
                    },
                    "metadata": {},
                    "output_type": "display_data"
                }
            ],
            "source": [
                "pltr.plot_histogram('bbox_area_diff', n=10, stat='density', transform=lambda df: bbox_eval(pltr, df), condition=lambda df: df['bbox_area_diff'] > 1e-2)"
            ]
        },
        {
            "cell_type": "code",
            "execution_count": 10,
            "metadata": {},
            "outputs": [
                {
                    "name": "stdout",
                    "output_type": "stream",
                    "text": [
                        "Correlation Coefficient: nan** On entry to DGELSD, parameter number  6 had an illegal value\n",
                        "\n",
                        "Correlation Slope: 0.00\n"
                    ]
                },
                {
                    "data": {
                        "text/html": [
                            "<div>\n",
                            "<style scoped>\n",
                            "    .dataframe tbody tr th:only-of-type {\n",
                            "        vertical-align: middle;\n",
                            "    }\n",
                            "\n",
                            "    .dataframe tbody tr th {\n",
                            "        vertical-align: top;\n",
                            "    }\n",
                            "\n",
                            "    .dataframe thead th {\n",
                            "        text-align: right;\n",
                            "    }\n",
                            "</style>\n",
                            "<table border=\"1\" class=\"dataframe\">\n",
                            "  <thead>\n",
                            "    <tr style=\"text-align: right;\">\n",
                            "      <th></th>\n",
                            "      <th>wrm_speed</th>\n",
                            "      <th>bbox_area_diff</th>\n",
                            "    </tr>\n",
                            "  </thead>\n",
                            "  <tbody>\n",
                            "    <tr>\n",
                            "      <th>count</th>\n",
                            "      <td>4306.000000</td>\n",
                            "      <td>4305.000000</td>\n",
                            "    </tr>\n",
                            "    <tr>\n",
                            "      <th>mean</th>\n",
                            "      <td>0.630694</td>\n",
                            "      <td>0.022235</td>\n",
                            "    </tr>\n",
                            "    <tr>\n",
                            "      <th>std</th>\n",
                            "      <td>0.291931</td>\n",
                            "      <td>0.090468</td>\n",
                            "    </tr>\n",
                            "    <tr>\n",
                            "      <th>min</th>\n",
                            "      <td>0.013940</td>\n",
                            "      <td>0.000000</td>\n",
                            "    </tr>\n",
                            "    <tr>\n",
                            "      <th>5%</th>\n",
                            "      <td>0.267260</td>\n",
                            "      <td>0.000000</td>\n",
                            "    </tr>\n",
                            "    <tr>\n",
                            "      <th>10%</th>\n",
                            "      <td>0.342590</td>\n",
                            "      <td>0.000000</td>\n",
                            "    </tr>\n",
                            "    <tr>\n",
                            "      <th>15%</th>\n",
                            "      <td>0.397035</td>\n",
                            "      <td>0.000000</td>\n",
                            "    </tr>\n",
                            "    <tr>\n",
                            "      <th>20%</th>\n",
                            "      <td>0.446950</td>\n",
                            "      <td>0.000000</td>\n",
                            "    </tr>\n",
                            "    <tr>\n",
                            "      <th>25%</th>\n",
                            "      <td>0.481262</td>\n",
                            "      <td>0.000000</td>\n",
                            "    </tr>\n",
                            "    <tr>\n",
                            "      <th>30%</th>\n",
                            "      <td>0.515865</td>\n",
                            "      <td>0.000000</td>\n",
                            "    </tr>\n",
                            "    <tr>\n",
                            "      <th>35%</th>\n",
                            "      <td>0.544170</td>\n",
                            "      <td>0.000000</td>\n",
                            "    </tr>\n",
                            "    <tr>\n",
                            "      <th>40%</th>\n",
                            "      <td>0.569840</td>\n",
                            "      <td>0.000000</td>\n",
                            "    </tr>\n",
                            "    <tr>\n",
                            "      <th>44.99999999999999%</th>\n",
                            "      <td>0.596342</td>\n",
                            "      <td>0.000000</td>\n",
                            "    </tr>\n",
                            "    <tr>\n",
                            "      <th>49.99999999999999%</th>\n",
                            "      <td>0.621650</td>\n",
                            "      <td>0.000000</td>\n",
                            "    </tr>\n",
                            "    <tr>\n",
                            "      <th>50%</th>\n",
                            "      <td>0.621650</td>\n",
                            "      <td>0.000000</td>\n",
                            "    </tr>\n",
                            "    <tr>\n",
                            "      <th>54.99999999999999%</th>\n",
                            "      <td>0.646252</td>\n",
                            "      <td>0.000000</td>\n",
                            "    </tr>\n",
                            "    <tr>\n",
                            "      <th>60%</th>\n",
                            "      <td>0.670410</td>\n",
                            "      <td>0.000000</td>\n",
                            "    </tr>\n",
                            "    <tr>\n",
                            "      <th>65%</th>\n",
                            "      <td>0.693893</td>\n",
                            "      <td>0.000000</td>\n",
                            "    </tr>\n",
                            "    <tr>\n",
                            "      <th>70%</th>\n",
                            "      <td>0.718900</td>\n",
                            "      <td>0.000000</td>\n",
                            "    </tr>\n",
                            "    <tr>\n",
                            "      <th>75%</th>\n",
                            "      <td>0.745765</td>\n",
                            "      <td>0.000000</td>\n",
                            "    </tr>\n",
                            "    <tr>\n",
                            "      <th>80%</th>\n",
                            "      <td>0.775200</td>\n",
                            "      <td>0.000000</td>\n",
                            "    </tr>\n",
                            "    <tr>\n",
                            "      <th>85%</th>\n",
                            "      <td>0.814157</td>\n",
                            "      <td>0.000044</td>\n",
                            "    </tr>\n",
                            "    <tr>\n",
                            "      <th>90%</th>\n",
                            "      <td>0.878855</td>\n",
                            "      <td>0.041888</td>\n",
                            "    </tr>\n",
                            "    <tr>\n",
                            "      <th>95%</th>\n",
                            "      <td>0.981325</td>\n",
                            "      <td>0.139578</td>\n",
                            "    </tr>\n",
                            "    <tr>\n",
                            "      <th>max</th>\n",
                            "      <td>10.794530</td>\n",
                            "      <td>1.000000</td>\n",
                            "    </tr>\n",
                            "  </tbody>\n",
                            "</table>\n",
                            "</div>"
                        ],
                        "text/plain": [
                            "                      wrm_speed  bbox_area_diff\n",
                            "count               4306.000000     4305.000000\n",
                            "mean                   0.630694        0.022235\n",
                            "std                    0.291931        0.090468\n",
                            "min                    0.013940        0.000000\n",
                            "5%                     0.267260        0.000000\n",
                            "10%                    0.342590        0.000000\n",
                            "15%                    0.397035        0.000000\n",
                            "20%                    0.446950        0.000000\n",
                            "25%                    0.481262        0.000000\n",
                            "30%                    0.515865        0.000000\n",
                            "35%                    0.544170        0.000000\n",
                            "40%                    0.569840        0.000000\n",
                            "44.99999999999999%     0.596342        0.000000\n",
                            "49.99999999999999%     0.621650        0.000000\n",
                            "50%                    0.621650        0.000000\n",
                            "54.99999999999999%     0.646252        0.000000\n",
                            "60%                    0.670410        0.000000\n",
                            "65%                    0.693893        0.000000\n",
                            "70%                    0.718900        0.000000\n",
                            "75%                    0.745765        0.000000\n",
                            "80%                    0.775200        0.000000\n",
                            "85%                    0.814157        0.000044\n",
                            "90%                    0.878855        0.041888\n",
                            "95%                    0.981325        0.139578\n",
                            "max                   10.794530        1.000000"
                        ]
                    },
                    "metadata": {},
                    "output_type": "display_data"
                },
                {
                    "data": {
                        "image/png": "[encoded data removed]",
                        "text/plain": [
                            "<Figure size 800x600 with 1 Axes>"
                        ]
                    },
                    "metadata": {},
                    "output_type": "display_data"
                }
            ],
            "source": [
                "pltr.plot_area_vs_speed()"
            ]
        },
        {
            "cell_type": "code",
            "execution_count": 11,
            "metadata": {},
            "outputs": [
                {
                    "data": {
                        "image/png": "[encoded data removed]",
                        "text/plain": [
                            "<Figure size 600x600 with 3 Axes>"
                        ]
                    },
                    "metadata": {},
                    "output_type": "display_data"
                }
            ],
            "source": [
                "_ = pltr.plot_deviation()"
            ]
        },
        {
            "cell_type": "code",
            "execution_count": null,
            "metadata": {},
            "outputs": [],
            "source": [
                "raise Exception(\"Finished\")"
            ]
        },
        {
            "cell_type": "markdown",
            "metadata": {},
            "source": [
                "## Real Simulation"
            ]
        },
        {
            "cell_type": "code",
            "execution_count": null,
            "metadata": {},
            "outputs": [],
            "source": [
                "print(time_config.imaging_frame_num + time_config.moving_frame_num)"
            ]
        },
        {
            "cell_type": "code",
            "execution_count": null,
            "metadata": {},
            "outputs": [],
            "source": [
                "\n",
                "controller = LoggingController(time_config, yolo_config, log_config)\n",
                "#controller = YoloController(time_config, yolo_config)\n",
                "sim = Simulator(time_config, reader, controller)"
            ]
        },
        {
            "cell_type": "code",
            "execution_count": null,
            "metadata": {},
            "outputs": [],
            "source": [
                "sim.run()"
            ]
        },
        {
            "cell_type": "code",
            "execution_count": null,
            "metadata": {},
            "outputs": [],
            "source": [
                "cv.destroyAllWindows()\n",
                "raise Exception(\"Finished\")"
            ]
        }
    ],
    "metadata": {
        "kernelspec": {
            "display_name": "bio-proj",
            "language": "python",
            "name": "python3"
        },
        "language_info": {
            "codemirror_mode": {
                "name": "ipython",
                "version": 3
            },
            "file_extension": ".py",
            "mimetype": "text/x-python",
            "name": "python",
            "nbconvert_exporter": "python",
            "pygments_lexer": "ipython3",
            "version": "3.12.2"
        }
    },
    "nbformat": 4,
    "nbformat_minor": 2
}
