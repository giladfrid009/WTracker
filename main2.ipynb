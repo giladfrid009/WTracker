{
    "cells": [
        {
            "cell_type": "code",
            "execution_count": null,
            "metadata": {},
            "outputs": [],
            "source": [
                "import cv2 as cv\n",
                "import numpy as np\n",
                "import pandas as pd\n",
                "import PIL\n",
                "import matplotlib\n",
                "import matplotlib.pyplot as plt\n",
                "import seaborn as sns\n",
                "\n",
                "from eval.vlc import VLC\n",
                "from utils.path_utils import Files\n",
                "from sim.config import TimingConfig, ExperimentConfig\n",
                "from eval.analysis import Plotter\n",
                "\n",
                "%matplotlib qt\n",
                "pd.options.display.max_columns = 30"
            ]
        },
        {
            "cell_type": "markdown",
            "metadata": {},
            "source": [
                "# Evaluator Testing"
            ]
        },
        {
            "cell_type": "code",
            "execution_count": null,
            "metadata": {},
            "outputs": [],
            "source": [
                "from eval.error_calculator import *\n",
                "from dataset.bg_extractor import BGExtractor\n",
                "from eval.vlc import StreamViewer\n",
                "\n",
                "directory = \"D:\\\\Guy_Gilad\\\\Exp2_GuyGilad\\\\raw\"\n",
                "files = Files(directory, extension=\"Bmp\", sorting_key=lambda f: int(f.split(\"-\")[-1].split(\".\")[0]))\n",
                "file_list = [f for f in files]\n",
                "\n",
                "reader = FrameReader(directory, file_list, cv.IMREAD_COLOR)\n",
                "extractor = BGExtractor(reader)\n",
                "background = extractor.calc_background(2000, \"uniform\")\n",
                "\n",
                "reader = reader.make_stream()"
            ]
        },
        {
            "cell_type": "code",
            "execution_count": null,
            "metadata": {},
            "outputs": [],
            "source": [
                "from utils.io_utils import pickle_load_object, pickle_save_object\n",
                "\n",
                "pickle_save_object(background, \"Exp2_background.np\")\n",
                "# background = pickle_load_object(\"Exp2_background.np\")"
            ]
        },
        {
            "cell_type": "code",
            "execution_count": null,
            "metadata": {},
            "outputs": [],
            "source": [
                "from math import floor, ceil\n",
                "\n",
                "# use ErrorCalculator.calculate_precise instead\n",
                "\n",
                "eval = Evaluator(background=background, diff_thresh=20)\n",
                "progeress = 200\n",
                "\n",
                "\n",
                "class VL:\n",
                "    def __init__(self, eval: Evaluator) -> None:\n",
                "        self.evaluator = eval\n",
                "        self.progeress = 1\n",
                "\n",
                "    def update_thresh(self, val: int):\n",
                "        self.evaluator._diff_thresh = val\n",
                "\n",
                "    def update_progress(self, val: int):\n",
                "        self.progeress = val\n",
                "\n",
                "\n",
                "# vl = VL(eval)\n",
                "log = pd.read_csv(\"data/Exp2_GuyGilad_logs_yolo/bboxes2.csv\")\n",
                "\n",
                "viewer = StreamViewer(\"Viewer\")\n",
                "viewer.open()\n",
                "# viewer.create_trakbar(\"threshold\", 30, 50, vl.update_thresh)\n",
                "# viewer.create_trakbar(\"progress\", 0, 100, vl.update_progress)\n",
                "\n",
                "# viewer.imshow(np.zeros((360, 360)))\n",
                "i = 0\n",
                "reader.seek(i)\n",
                "total_frames = len(reader)\n",
                "\n",
                "while reader.can_read():\n",
                "    frame = reader.read()\n",
                "    wrm_x, wrm_y, wrm_w, wrm_h = log.loc[i, [\"wrm_x\", \"wrm_y\", \"wrm_w\", \"wrm_h\"]]\n",
                "    # cam_x, cam_y, cam_w, cam_h = log.loc[i, [\"cam_x\",\"cam_y\",\"cam_w\",\"cam_h\"]]\n",
                "    wrm_box = (wrm_x, wrm_y, wrm_w, wrm_h)\n",
                "    if any([np.isnan(x) for x in wrm_box]):\n",
                "        reader.progress(progeress)\n",
                "        i = reader._idx\n",
                "        continue\n",
                "    wrm_x = max(0, floor(wrm_x))\n",
                "    wrm_y = max(0, floor(wrm_y))\n",
                "    wrm_w = min(ceil(wrm_w), frame.shape[1] - wrm_x)\n",
                "    wrm_h = min(ceil(wrm_h), frame.shape[0] - wrm_y)\n",
                "\n",
                "    wrm_box = (wrm_x, wrm_y, wrm_w, wrm_h)\n",
                "    print(wrm_box)\n",
                "    wrm_view = frame[wrm_y : wrm_y + wrm_h, wrm_x : wrm_x + wrm_w]\n",
                "    masked = wrm_view.copy().astype(np.float32)\n",
                "\n",
                "    mask = eval.find_contour(wrm_view, wrm_box)\n",
                "    mask = np.where(mask == 0)\n",
                "    masked[mask] = 0.0\n",
                "    # masked[mask] = 0\n",
                "    viewer.imshow(\n",
                "        masked.astype(np.uint8),\n",
                "        title=f\"frame {i}/{total_frames}  |  thresh={eval._diff_thresh}  |  progress={progeress}\",\n",
                "    )\n",
                "    # if progress_n_frames > 0:\n",
                "    reader.progress(progeress)\n",
                "    i = reader._idx"
            ]
        },
        {
            "cell_type": "markdown",
            "metadata": {},
            "source": [
                "# Analysis"
            ]
        },
        {
            "cell_type": "markdown",
            "metadata": {},
            "source": [
                "## VLC"
            ]
        },
        {
            "cell_type": "code",
            "execution_count": null,
            "metadata": {},
            "outputs": [],
            "source": [
                "directory = \"D:\\\\Guy_Gilad\\\\Exp0_GuyGilad\\\\raw\"\n",
                "files = Files(directory, extension=\"Bmp\", sorting_key=lambda f: int(f.split(\"-\")[-1].split(\".\")[0]))\n",
                "timing_config = TimingConfig.load_json(\"D:\\\\Guy_Gilad\\\\Bio-Proj\\\\logs\\\\time_config.json\")\n",
                "# log_path = \"/Users/guycohen/Desktop/Bio-Project/eval/bboxes2.csv\"\n",
                "# log_path = \"/Users/guycohen/Desktop/Bio-Project/Optimal/bboxes.csv\"\n",
                "# log_path = \"D:\\\\Guy_Gilad\\\\Exp2_GuyGilad\\\\logs_yolo\\\\bboxes.csv\"\n",
                "# log_path = \"data/Exp2_GuyGilad_logs_yolo/bboxes.csv\""
            ]
        },
        {
            "cell_type": "code",
            "execution_count": null,
            "metadata": {},
            "outputs": [],
            "source": [
                "log_path = \"data/Exp0_GuyGilad_logs_yolo/bboxes2.csv\"\n",
                "experiment_config = ExperimentConfig.load_json(\"data/Exp0_GuyGilad_logs_yolo/experiment_config.json\")\n",
                "\n",
                "time_config = TimingConfig(\n",
                "    imaging_time_ms=100,\n",
                "    pred_time_ms=15,\n",
                "    moving_time_ms=50,\n",
                "    camera_size_mm=(4, 4),\n",
                "    micro_size_mm=(0.22, 0.22),\n",
                "    experiment_config=experiment_config,\n",
                ")\n",
                "vlc = VLC(files, time_config, log_path, \"plt\")\n",
                "vlc.mainloop()"
            ]
        },
        {
            "cell_type": "code",
            "execution_count": null,
            "metadata": {},
            "outputs": [],
            "source": [
                "import cProfile\n",
                "\n",
                "vlc = VLC(files, timing_config, log_path, \"plt\")\n",
                "vlc.print_hotkeys()\n",
                "vlc.streamer.update_trakbar(\"delay\", 1)\n",
                "vlc.show_cam = True\n",
                "vlc.show_micro = True\n",
                "vlc.show_pred = True\n",
                "vlc.play = True\n",
                "vlc.mainloop()\n",
                "# cProfile.run('vlc.mainloop()')"
            ]
        },
        {
            "cell_type": "code",
            "execution_count": null,
            "metadata": {},
            "outputs": [],
            "source": [
                "vlc = VLC(files, timing_config, log_path, \"mic\")\n",
                "vlc.print_hotkeys()\n",
                "vlc.mainloop()"
            ]
        },
        {
            "cell_type": "markdown",
            "metadata": {},
            "source": [
                "## Plots"
            ]
        },
        {
            "cell_type": "code",
            "execution_count": null,
            "metadata": {},
            "outputs": [],
            "source": [
                "def cond(df: pd.DataFrame, threshold: float = 1.5) -> pd.DataFrame:\n",
                "    mask1 = (df[\"cycle_step\"] == 14) & (df[\"worm_center_dist\"] > threshold)\n",
                "    cycles = df[mask1][\"cycle\"].unique()\n",
                "    return df[\"cycle\"].isin(cycles)\n",
                "\n",
                "\n",
                "def cond_imaging(df: pd.DataFrame) -> pd.DataFrame:\n",
                "    return df[\"phase\"] == \"imaging\"\n",
                "\n",
                "\n",
                "def rolling_avg(data, col, window_size=5):\n",
                "    data[col + \"_avg\"] = Plotter.rolling_average(data, window_size=window_size, column=col)\n",
                "    return data"
            ]
        },
        {
            "cell_type": "code",
            "execution_count": null,
            "metadata": {},
            "outputs": [],
            "source": [
                "path = \"data\\\\Exp2_GuyGilad_logs_yolo\\\\bboxes.csv\"\n",
                "experiment_config = ExperimentConfig.load_json(\"data\\\\Exp2_GuyGilad_logs_yolo\\\\experiment_config.json\")\n",
                "time_config = TimingConfig(\n",
                "    imaging_time_ms=200,\n",
                "    pred_time_ms=40,\n",
                "    moving_time_ms=50,\n",
                "    camera_size_mm=(4, 4),\n",
                "    micro_size_mm=(0.22, 0.22),\n",
                "    experiment_config=experiment_config,\n",
                ")\n",
                "pltr = Plotter(path, time_config)"
            ]
        },
        {
            "cell_type": "code",
            "execution_count": null,
            "metadata": {},
            "outputs": [],
            "source": [
                "log = pd.read_csv(path)"
            ]
        },
        {
            "cell_type": "code",
            "execution_count": null,
            "metadata": {},
            "outputs": [],
            "source": [
                "log.describe()"
            ]
        },
        {
            "cell_type": "code",
            "execution_count": null,
            "metadata": {},
            "outputs": [],
            "source": [
                "log[[\"cam_w\", \"cam_h\"]] = 368"
            ]
        },
        {
            "cell_type": "code",
            "execution_count": null,
            "metadata": {},
            "outputs": [],
            "source": [
                "pad_x = (log[\"cam_w\"].to_numpy() // 2).reshape(-1, 1)\n",
                "pad_y = (log[\"cam_h\"].to_numpy() // 2).reshape(-1, 1)\n",
                "log.loc[:, [\"cam_x\", \"mic_x\", \"wrm_x\"]] = log[[\"cam_x\", \"mic_x\", \"wrm_x\"]].values - pad_x\n",
                "log.loc[:, [\"cam_y\", \"mic_y\", \"wrm_y\"]] = log[[\"cam_y\", \"mic_y\", \"wrm_y\"]].values - pad_y"
            ]
        },
        {
            "cell_type": "code",
            "execution_count": null,
            "metadata": {},
            "outputs": [],
            "source": [
                "log.to_csv(\"bboxes2.csv\")"
            ]
        },
        {
            "cell_type": "code",
            "execution_count": null,
            "metadata": {},
            "outputs": [],
            "source": [
                "# original_log_path = \"/Users/guycohen/Desktop/Bio-Project/eval/bboxes2.csv\"\n",
                "# log_path = \"/Users/guycohen/Desktop/Bio-Project/eval_corrected_movement/bboxes.csv\"\n",
                "# log_path = \"/Users/guycohen/Desktop/Bio-Project/Optimal/bboxes.csv\"\n",
                "# log_path = \"/Users/guycohen/Desktop/Bio-Project/Controller2/bboxes.csv\"\n",
                "log_path = \"/Users/guycohen/Desktop/Bio-Project/PolyfitControllerV2/bboxes.csv\"\n",
                "# log_path = \"/Users/guycohen/Desktop/Bio-Project/test1/bboxes.csv\"\n",
                "timing_config = TimingConfig.load_json(\"/Users/guycohen/Desktop/Bio-Project/time_config.json\")\n",
                "\n",
                "pltr = Plotter(log_path, timing_config)\n",
                "# pltr_orig = Plotter(original_log_path, timing_config)"
            ]
        },
        {
            "cell_type": "code",
            "execution_count": null,
            "metadata": {},
            "outputs": [],
            "source": [
                "data = pltr.print_statistics(n=10)\n",
                "# data_orig = pltr_orig.print_statistics()"
            ]
        },
        {
            "cell_type": "code",
            "execution_count": null,
            "metadata": {},
            "outputs": [],
            "source": [
                "(data[\"mic_center_x\"] - data[\"wrm_center_x\"]).hist(bins=15)"
            ]
        },
        {
            "cell_type": "code",
            "execution_count": null,
            "metadata": {},
            "outputs": [],
            "source": [
                "sns.scatterplot(data=data, x=\"frame\", y=\"worm_deviation\", hue=\"wrm_speed\")"
            ]
        },
        {
            "cell_type": "code",
            "execution_count": null,
            "metadata": {},
            "outputs": [],
            "source": [
                "def plot_histogram(pltr, x_col: str, n: int = 1, hue=None, condition=None, **kwargs):\n",
                "    data = pltr.data_prep_frames(n=n)\n",
                "\n",
                "    if condition is not None:\n",
                "        data = data[condition(data)]\n",
                "    fig, ax = plt.subplots()\n",
                "    sns.histplot(data=data, x=x_col, hue=hue, stat=\"density\", **kwargs)\n",
                "\n",
                "\n",
                "def plot_jointplot(\n",
                "    pltr, x_col: str, y_col: str, n: int = 1, kind: str = \"scatter\", hue=None, condition=None, transform=None, **kwargs\n",
                "):\n",
                "    data = pltr.data_prep_frames(n=n)\n",
                "\n",
                "    if transform is not None:\n",
                "        data = transform(data)\n",
                "\n",
                "    if condition is not None:\n",
                "        data = data[condition(data)]\n",
                "\n",
                "    sns.jointplot(data=data, x=x_col, y=y_col, hue=hue, kind=kind, **kwargs)\n",
                "\n",
                "\n",
                "# plot_histogram(pltr, 'worm_deviation', n=15, hue='worm_deviation')"
            ]
        },
        {
            "cell_type": "code",
            "execution_count": null,
            "metadata": {},
            "outputs": [],
            "source": [
                "plot_jointplot(pltr, \"wrm_speed\", \"worm_deviation\", n=5, kind=\"scatter\")"
            ]
        },
        {
            "cell_type": "code",
            "execution_count": null,
            "metadata": {},
            "outputs": [],
            "source": [
                "plot_jointplot(\n",
                "    pltr,\n",
                "    x_col=\"wrm_speed_x\",\n",
                "    y_col=\"wrm_speed_y\",\n",
                "    n=5,\n",
                "    kind=\"scatter\",\n",
                "    hue=\"worm_angle_avg\",\n",
                "    transform=lambda data: rolling_avg(data, \"worm_angle\", window_size=5),\n",
                ")"
            ]
        },
        {
            "cell_type": "code",
            "execution_count": null,
            "metadata": {},
            "outputs": [],
            "source": [
                "plot_histogram(pltr, x_col=\"bbox_error\", condition=lambda df: df[\"bbox_error\"] > 1e-3)"
            ]
        },
        {
            "cell_type": "code",
            "execution_count": null,
            "metadata": {},
            "outputs": [],
            "source": [
                "def avg_speed(data: pd.DataFrame, n_list: list[int] = [10]) -> np.ndarray:\n",
                "    data = data.copy()\n",
                "\n",
                "    wrm_speed_x = np.zeros(len(data[\"frame\"]))\n",
                "    wrm_speed_y = np.zeros(len(data[\"frame\"]))\n",
                "    for n in n_list:\n",
                "        wrm_speed_x += data[\"wrm_center_x\"].diff(n) / len(n_list)\n",
                "        wrm_speed_y += data[\"wrm_center_y\"].diff(n) / len(n_list)\n",
                "        # avgs.append(Plotter.worm_angle(data, n=n))\n",
                "    # mean of all averages\n",
                "    data[\"wrm_speed_x_avg\"] = wrm_speed_x\n",
                "    data[\"wrm_speed_y_avg\"] = wrm_speed_y\n",
                "    return data\n",
                "\n",
                "\n",
                "def worm_angle(data: pd.DataFrame, n: int = 15) -> np.ndarray:\n",
                "    data = data.copy()\n",
                "\n",
                "    wrm_speed_x = data[\"wrm_center_x\"].diff(n) / n\n",
                "    wrm_speed_y = data[\"wrm_center_y\"].diff(n) / n\n",
                "    angle_speed = np.arctan2(wrm_speed_y, wrm_speed_x)\n",
                "\n",
                "    min_h, min_w = np.min(data[\"wrm_h\"]), np.min(data[\"wrm_w\"])\n",
                "    x_sign = np.sign(data[\"wrm_center_x\"].diff(3))\n",
                "    y_sign = np.sign(data[\"wrm_center_y\"].diff(3))\n",
                "    # data['wrm_speed_x_avg'] = (data['wrm_w']-min_w)*x_sign\n",
                "    # data['wrm_speed_y_avg'] = (data['wrm_h']-min_h)*y_sign\n",
                "    angle = np.arctan2((data[\"wrm_h\"] - min_h) * y_sign, (data[\"wrm_w\"] - min_w) * x_sign)\n",
                "\n",
                "    angle_diff = np.abs(angle - angle_speed) / (2 * np.pi)\n",
                "    data[\"wrm_speed_x_avg\"] = wrm_speed_x * (1 - angle_diff)\n",
                "    data[\"wrm_speed_y_avg\"] = wrm_speed_y * (1 - angle_diff)\n",
                "    return data"
            ]
        },
        {
            "cell_type": "code",
            "execution_count": null,
            "metadata": {},
            "outputs": [],
            "source": [
                "def plot_flow(\n",
                "    pltr, x_col: str, y_col: str, n: int = 1, kind: str = \"scatter\", hue=None, condition=None, transform=None, **kwargs\n",
                "):\n",
                "    data = pltr.data_prep_frames(n=n)\n",
                "\n",
                "    if transform is not None:\n",
                "        data = transform(data)\n",
                "\n",
                "    if condition is not None:\n",
                "        data = data[condition(data)]\n",
                "\n",
                "    # cmap = sns.color_palette(\"husl\", as_cmap=True, n_colors=len(data['frame']))\n",
                "    fig, ax = plt.subplots()\n",
                "    plt.quiver(\n",
                "        data[x_col],\n",
                "        data[y_col],\n",
                "        data[\"wrm_speed_x_avg\"],\n",
                "        data[\"wrm_speed_y_avg\"],\n",
                "        np.linspace(0, 1, len(data[\"frame\"])),\n",
                "        **kwargs\n",
                "    )\n",
                "    ax.invert_yaxis()\n",
                "    ax.grid()\n",
                "\n",
                "\n",
                "# plot_flow(pltr, x_col='wrm_center_x', y_col='wrm_center_y', n=15, angles='xy', transform=lambda data: rolling_avg(data, 'worm_angle', window_size=1))\n",
                "plot_flow(\n",
                "    pltr,\n",
                "    x_col=\"wrm_center_x\",\n",
                "    y_col=\"wrm_center_y\",\n",
                "    n=5,\n",
                "    angles=\"xy\",\n",
                "    scale_units=\"xy\",\n",
                "    scale=1,\n",
                "    transform=lambda df: worm_angle(df, 15),\n",
                "    #   condition=lambda df: df['cycle_step'] == 9,\n",
                ")"
            ]
        },
        {
            "cell_type": "code",
            "execution_count": null,
            "metadata": {},
            "outputs": [],
            "source": [
                "# cols = ['frame', 'cycle', 'plt_x', 'plt_y', 'cam_x', 'cam_y', 'cam_w',\n",
                "#        'cam_h', 'mic_x', 'mic_y', 'mic_w', 'mic_h', 'wrm_x', 'wrm_y', 'wrm_w',\n",
                "#        'wrm_h', 'wrm_center_x', 'wrm_center_y', 'mic_center_x', 'mic_center_y',\n",
                "#        'wrm_speed', 'bbox_error', 'bbox_edge_diff']\n",
                "\n",
                "\n",
                "# (data[cols] - data_orig[cols]).describe()"
            ]
        },
        {
            "cell_type": "code",
            "execution_count": null,
            "metadata": {},
            "outputs": [],
            "source": [
                "pltr.plot_area_vs_speed()"
            ]
        },
        {
            "cell_type": "code",
            "execution_count": null,
            "metadata": {},
            "outputs": [],
            "source": [
                "data.columns"
            ]
        },
        {
            "cell_type": "code",
            "execution_count": null,
            "metadata": {},
            "outputs": [],
            "source": [
                "pltr.plot_2d_deviation(n=2, hue=\"cycle_step\")"
            ]
        },
        {
            "cell_type": "code",
            "execution_count": null,
            "metadata": {},
            "outputs": [],
            "source": [
                "pltr.plot_deviation()"
            ]
        },
        {
            "cell_type": "code",
            "execution_count": null,
            "metadata": {},
            "outputs": [],
            "source": [
                "pltr.plot_area_vs_speed_guy(n=1, window_size=1, hue=\"phase\")"
            ]
        },
        {
            "cell_type": "code",
            "execution_count": null,
            "metadata": {},
            "outputs": [],
            "source": [
                "pltr.plot_cycle_step_vs_speed()"
            ]
        },
        {
            "cell_type": "code",
            "execution_count": null,
            "metadata": {},
            "outputs": [],
            "source": [
                "pltr.plot_trajectory(n=15, hue=\"wrm_speed\")"
            ]
        },
        {
            "cell_type": "code",
            "execution_count": null,
            "metadata": {},
            "outputs": [],
            "source": [
                "def plot_speed_vs_time(pltr, n: int = 1, window_size: int = 15, hue=None, condition=None) -> plt.Figure:\n",
                "    data = pltr.data_prep_frames(n=n)\n",
                "    data[\"wrm_speed_avg\"] = Plotter.rolling_average(data, window_size=window_size, column=\"wrm_speed\")\n",
                "    fig, ax = plt.subplots()\n",
                "    if condition is not None:\n",
                "        mask = condition(data) & mask\n",
                "    g = sns.histplot(data=data, x=\"wrm_speed\", ax=ax, hue=hue)\n",
                "    g.figure.suptitle(f\"n = {n}, rolling window = {window_size}\")\n",
                "    return g.figure"
            ]
        },
        {
            "cell_type": "code",
            "execution_count": null,
            "metadata": {},
            "outputs": [],
            "source": [
                "plot_speed_vs_time(pltr, n=15, window_size=1, hue=\"phase\")"
            ]
        },
        {
            "cell_type": "code",
            "execution_count": null,
            "metadata": {},
            "outputs": [],
            "source": [
                "timing_config.mm_per_px / timing_config.ms_per_frame"
            ]
        },
        {
            "cell_type": "code",
            "execution_count": null,
            "metadata": {},
            "outputs": [],
            "source": [
                "def plot_2d_deviation_with_angle(pltr, n: int = 1, hue=\"cycle_step\", condition=None) -> plt.Figure:\n",
                "    data = pltr.data_prep_frames(n=n)\n",
                "    data[\"worm_center_dist_x\"] = data[\"wrm_center_x\"] - data[\"mic_center_x\"]\n",
                "    data[\"worm_center_dist_y\"] = data[\"wrm_center_y\"] - data[\"mic_center_y\"]\n",
                "\n",
                "    data[\"cycle_step\"] = data[\"frame\"] % pltr.timing_config.cycle_frame_num\n",
                "    min_h, min_w = np.min(data[\"wrm_h\"]), np.min(data[\"wrm_w\"])\n",
                "    x_sign = np.sign(data[\"wrm_center_x\"].diff(n))\n",
                "    y_sign = np.sign(data[\"wrm_center_y\"].diff(n))\n",
                "    data[\"angle\"] = np.arctan2((data[\"wrm_h\"] - min_h) * y_sign, (data[\"wrm_w\"] - min_w) * x_sign)\n",
                "    if condition is not None:\n",
                "        data = data[condition(data)]\n",
                "\n",
                "    # display(data.head(50))\n",
                "    # g = sns.histplot(data=data, x=\"angle\")\n",
                "    g = sns.jointplot(data=data, x=\"wrm_speed\", y=\"angle\", kind=\"scatter\", hue=hue, alpha=0.6)\n",
                "    # g = sns.jointplot(data=data, x=\"worm_center_dist_x\", y=\"worm_center_dist_y\", kind=\"scatter\", hue=hue, alpha=0.6)\n",
                "    # g.set_axis_labels(\"distance x\", \"distance y\")\n",
                "    # g.figure.suptitle(f\"distance between worm and microscope centers in each axis\")\n",
                "\n",
                "    return g.figure"
            ]
        },
        {
            "cell_type": "code",
            "execution_count": null,
            "metadata": {},
            "outputs": [],
            "source": [
                "plot_2d_deviation_with_angle(pltr, 5, hue=None, condition=lambda df: df[\"wrm_speed\"] > -0.3)"
            ]
        },
        {
            "cell_type": "code",
            "execution_count": null,
            "metadata": {},
            "outputs": [],
            "source": [
                "def plot_area_vs_time(pltr: Plotter, n: int = 1, window_size: int = 15, hue=None, condition=None) -> plt.Figure:\n",
                "    data = pltr.data_prep_frames(n=n)\n",
                "    data[\"wrm_speed_avg\"] = Plotter.rolling_average(data, window_size=window_size, column=\"wrm_speed\")\n",
                "    data[\"worm_center_dist\"] = np.sqrt(\n",
                "        (data[\"wrm_center_x\"] - data[\"mic_center_x\"]) ** 2 + (data[\"wrm_center_y\"] - data[\"mic_center_y\"]) ** 2\n",
                "    )\n",
                "    data[\"cycle_step\"] = data[\"frame\"] % pltr.timing_config.cycle_frame_num\n",
                "    data[\"angle\"] = np.arctan2(data[\"wrm_w\"], data[\"wrm_h\"])\n",
                "    # fig, ax = plt.subplots()\n",
                "    mask = data[\"bbox_error\"] > 1e-3\n",
                "    if condition is not None:\n",
                "        mask = condition(data) & mask\n",
                "    g = sns.jointplot(data=data[mask], x=\"wrm_speed_avg\", y=\"worm_center_dist\", hue=hue, kind=\"scatter\", dropna=True)\n",
                "    g.figure.suptitle(f\"n = {n}, rolling window = {window_size}\")\n",
                "    return g.figure"
            ]
        },
        {
            "cell_type": "code",
            "execution_count": null,
            "metadata": {},
            "outputs": [],
            "source": [
                "plot_area_vs_time(pltr, n=18, window_size=1, hue=\"angle\")"
            ]
        },
        {
            "cell_type": "code",
            "execution_count": null,
            "metadata": {},
            "outputs": [],
            "source": [
                "raise Exception(\"Finished\")"
            ]
        },
        {
            "cell_type": "markdown",
            "metadata": {},
            "source": [
                "# Run Simulation"
            ]
        },
        {
            "cell_type": "code",
            "execution_count": null,
            "metadata": {},
            "outputs": [],
            "source": [
                "from sim import *\n",
                "from sim.sim_controllers import *\n",
                "from sim.config import ExperimentConfig\n",
                "\n",
                "# base_path = \"/Users/guycohen/Desktop/Bio-Project/\"\n",
                "base_path = f\"data/Exp1_GuyGilad_logs_yolo/\""
            ]
        },
        {
            "cell_type": "markdown",
            "metadata": {},
            "source": [
                "## Run CSV Simulation"
            ]
        },
        {
            "cell_type": "code",
            "execution_count": null,
            "metadata": {},
            "outputs": [],
            "source": [
                "exp_base_path = \"logs\"\n",
                "\n",
                "# time_config = TimingConfig.load_json(base_path + \"time_config.json\")\n",
                "# time_config = TimingConfig.load_json(base_path + \"time_config_medium_micro.json\")\n",
                "experiment_config = ExperimentConfig.load_json(f\"{base_path}/experiment_config.json\")\n",
                "log_config = LogConfig(\n",
                "    root_folder=exp_base_path,\n",
                "    save_mic_view=False,\n",
                "    save_cam_view=False,\n",
                "    save_err_view=False,\n",
                ")"
            ]
        },
        {
            "cell_type": "code",
            "execution_count": null,
            "metadata": {},
            "outputs": [],
            "source": [
                "time_config = TimingConfig(\n",
                "    imaging_time_ms=200,\n",
                "    pred_time_ms=40,\n",
                "    moving_time_ms=50,\n",
                "    camera_size_mm=(4, 4),\n",
                "    micro_size_mm=(0.32, 0.32),\n",
                "    experiment_config=experiment_config,\n",
                ")"
            ]
        },
        {
            "cell_type": "code",
            "execution_count": null,
            "metadata": {},
            "outputs": [],
            "source": [
                "from sim.sim_controllers import *\n",
                "import torch\n",
                "from neural.config import TrainConfig\n",
                "\n",
                "log_path = base_path + \"bboxes2.csv\"\n",
                "\n",
                "# controller = CsvController(time_config, \"/Users/guycohen/Desktop/Bio-Project/eval_corrected_movement/bboxes.csv\")\n",
                "\n",
                "# controller = TestController1(time_config, \"/Users/guycohen/Desktop/Bio-Project/eval/bboxes.csv\")\n",
                "# controller = Controller2(time_config, \"/Users/guycohen/Desktop/Bio-Project/eval_corrected_movement/bboxes.csv\")\n",
                "# controller = OptimalController(time_config, \"/Users/guycohen/Desktop/Bio-Project/eval_corrected_movement/bboxes.csv\")\n",
                "\n",
                "train_config = TrainConfig.load_pickle(\"runs/May23_13-10-02_MacbookGuy.local/train_config.pkl\")\n",
                "\n",
                "model = torch.load(\"runs/May23_13-10-02_MacbookGuy.local/RMLP4\")\n",
                "print(model)\n",
                "controller = MLPController(time_config, log_path, model, train_config.dataset)\n",
                "\n",
                "weights = np.ones(11)\n",
                "# weights = np.asanyarray([0.0477, 0.0002, 0. ,    0.0007, 0.0057, 0.042 , 0.1558, 0.6245 ,0.7627])\n",
                "sample_frames = np.asanyarray(\n",
                "    [\n",
                "        0,\n",
                "        5,\n",
                "        9,\n",
                "        -time_config.cycle_frame_num + 0,\n",
                "        -time_config.cycle_frame_num + 5,\n",
                "        -time_config.cycle_frame_num + 9,\n",
                "        -2 * time_config.cycle_frame_num + 0,\n",
                "        -2 * time_config.cycle_frame_num + 5,\n",
                "        -2 * time_config.cycle_frame_num + 9,\n",
                "        -3 * time_config.cycle_frame_num + 9,\n",
                "        -4 * time_config.cycle_frame_num + 9,\n",
                "    ]\n",
                ")\n",
                "# controller = PolyfitController(time_config, log_path, degree=2, weights=weights, sample_times=sample_frames)"
            ]
        },
        {
            "cell_type": "code",
            "execution_count": null,
            "metadata": {},
            "outputs": [],
            "source": [
                "logging_controller = LoggingController(controller, log_config)\n",
                "motor_controller = SineMotorController(time_config)\n",
                "# motor_controller = SimpleMovementController(time_config, 0)\n",
                "\n",
                "sim = Simulator(time_config, experiment_config, logging_controller, reader=None, motor_controller=motor_controller)"
            ]
        },
        {
            "cell_type": "code",
            "execution_count": null,
            "metadata": {},
            "outputs": [],
            "source": [
                "sim.run()\n",
                "time_config.save_json(exp_base_path + \"/time_config.json\")\n",
                "experiment_config.save_json(exp_base_path + \"/exp_config.json\")"
            ]
        },
        {
            "cell_type": "code",
            "execution_count": null,
            "metadata": {},
            "outputs": [],
            "source": [
                "from eval.analysis import Plotter\n",
                "\n",
                "pltr = Plotter(log_config.bbox_file_path, time_config)\n",
                "data = pltr.print_statistics(n=10)"
            ]
        },
        {
            "cell_type": "code",
            "execution_count": null,
            "metadata": {},
            "outputs": [],
            "source": [
                "def bbox_eval(pltr: Plotter, df: pd.DataFrame) -> pd.DataFrame:\n",
                "    data = pltr.data_prep_frames(n=10)\n",
                "    grouped_data = data.groupby(\"cycle\")\n",
                "    avg_speed = grouped_data[\"wrm_speed\"].mean()\n",
                "\n",
                "    data = Plotter.remove_phase(data, \"moving\")\n",
                "\n",
                "    max_area_diff = data.groupby(\"cycle\")[\"bbox_error\"].max()\n",
                "\n",
                "    data = pd.DataFrame({\"wrm_speed\": avg_speed, \"bbox_error\": max_area_diff})\n",
                "    return data"
            ]
        },
        {
            "cell_type": "code",
            "execution_count": null,
            "metadata": {},
            "outputs": [],
            "source": [
                "pltr.plot_histogram(\n",
                "    \"bbox_error\",\n",
                "    n=10,\n",
                "    stat=\"density\",\n",
                "    transform=lambda df: bbox_eval(pltr, df),\n",
                "    condition=lambda df: df[\"bbox_error\"] > 1e-2,\n",
                ")"
            ]
        },
        {
            "cell_type": "code",
            "execution_count": null,
            "metadata": {},
            "outputs": [],
            "source": [
                "pltr.plot_area_vs_speed()"
            ]
        },
        {
            "cell_type": "code",
            "execution_count": null,
            "metadata": {},
            "outputs": [],
            "source": [
                "_ = pltr.plot_deviation()"
            ]
        },
        {
            "cell_type": "code",
            "execution_count": null,
            "metadata": {},
            "outputs": [],
            "source": [
                "raise Exception(\"Finished\")"
            ]
        },
        {
            "cell_type": "markdown",
            "metadata": {},
            "source": [
                "## Real Simulation"
            ]
        },
        {
            "cell_type": "code",
            "execution_count": null,
            "metadata": {},
            "outputs": [],
            "source": [
                "print(time_config.imaging_frame_num + time_config.moving_frame_num)"
            ]
        },
        {
            "cell_type": "code",
            "execution_count": null,
            "metadata": {},
            "outputs": [],
            "source": [
                "controller = LoggingController(time_config, yolo_config, log_config)\n",
                "# controller = YoloController(time_config, yolo_config)\n",
                "sim = Simulator(time_config, reader, controller)"
            ]
        },
        {
            "cell_type": "code",
            "execution_count": null,
            "metadata": {},
            "outputs": [],
            "source": [
                "sim.run()"
            ]
        },
        {
            "cell_type": "code",
            "execution_count": null,
            "metadata": {},
            "outputs": [],
            "source": [
                "cv.destroyAllWindows()\n",
                "raise Exception(\"Finished\")"
            ]
        }
    ],
    "metadata": {
        "kernelspec": {
            "display_name": "bio-proj",
            "language": "python",
            "name": "python3"
        },
        "language_info": {
            "codemirror_mode": {
                "name": "ipython",
                "version": 3
            },
            "file_extension": ".py",
            "mimetype": "text/x-python",
            "name": "python",
            "nbconvert_exporter": "python",
            "pygments_lexer": "ipython3",
            "version": "3.10.13"
        }
    },
    "nbformat": 4,
    "nbformat_minor": 2
}
