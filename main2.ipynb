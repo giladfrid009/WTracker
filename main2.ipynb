{
    "cells": [
        {
            "cell_type": "code",
            "execution_count": 1,
            "metadata": {},
            "outputs": [
                {
                    "name": "stderr",
                    "output_type": "stream",
                    "text": [
                        "c:\\Users\\slevylab\\AppData\\Local\\miniforge3\\envs\\bio_proj\\Lib\\site-packages\\onnxruntime\\capi\\onnxruntime_validation.py:26: UserWarning: Unsupported Windows version (11). ONNX Runtime supports Windows 10 and above, only.\n",
                        "  warnings.warn(\n"
                    ]
                }
            ],
            "source": [
                "import cv2 as cv\n",
                "import numpy as np\n",
                "import pandas as pd\n",
                "import PIL\n",
                "import matplotlib\n",
                "import matplotlib.pyplot as plt\n",
                "import seaborn as sns\n",
                "\n",
                "from evaluation.vlc import VLC\n",
                "from utils.path_utils import Files\n",
                "from evaluation.config import *\n",
                "from evaluation.analysis import Plotter\n",
                "from tkinter import filedialog\n",
                "\n",
                "%matplotlib qt\n",
                "pd.options.display.max_columns = 30"
            ]
        },
        {
            "cell_type": "markdown",
            "metadata": {},
            "source": [
                "# Test evaluator "
            ]
        },
        {
            "cell_type": "code",
            "execution_count": 2,
            "metadata": {},
            "outputs": [
                {
                    "data": {
                        "application/vnd.jupyter.widget-view+json": {
                            "model_id": "c359a7e6fd7f46d8a33f93d389f84ad8",
                            "version_major": 2,
                            "version_minor": 0
                        },
                        "text/plain": [
                            "Extracting background frames:   0%|          | 0/2000 [00:00<?, ?fr/s]"
                        ]
                    },
                    "metadata": {},
                    "output_type": "display_data"
                }
            ],
            "source": [
                "from evaluation.evaluator import *\n",
                "from dataset.bg_extractor import BGExtractor\n",
                "from evaluation.vlc import StreamViewer\n",
                "\n",
                "directory = \"D:\\\\Guy_Gilad\\\\Exp2_GuyGilad\\\\raw\"\n",
                "files = Files(directory, extension='Bmp', sorting_key=lambda f: int(f.split('-')[-1].split('.')[0]))\n",
                "file_list = [f for f in files]\n",
                "\n",
                "reader = FrameReader(directory, file_list, cv.IMREAD_COLOR)\n",
                "extractor = BGExtractor(reader)\n",
                "background = extractor.calc_background(2000, 'uniform')\n",
                "\n",
                "reader = reader.make_stream()\n"
            ]
        },
        {
            "cell_type": "code",
            "execution_count": 6,
            "metadata": {},
            "outputs": [],
            "source": [
                "from utils.io_utils import pickle_load_object, pickle_save_object\n",
                "\n",
                "pickle_save_object(background, \"Exp2_background.np\")\n",
                "# background = pickle_load_object(\"Exp2_background.np\")"
            ]
        },
        {
            "cell_type": "code",
            "execution_count": 5,
            "metadata": {},
            "outputs": [
                {
                    "name": "stdout",
                    "output_type": "stream",
                    "text": [
                        "(345, 680, 18, 9)\n",
                        "(419, 701, 19, 8)\n",
                        "(466, 673, 15, 13)\n",
                        "(530, 632, 19, 7)\n",
                        "(610, 585, 18, 9)\n",
                        "(640, 586, 14, 11)\n",
                        "(699, 539, 11, 17)\n",
                        "(753, 494, 17, 13)\n",
                        "(813, 449, 18, 9)\n",
                        "(872, 423, 17, 10)\n",
                        "(849, 368, 13, 16)\n",
                        "(840, 341, 12, 16)\n",
                        "(846, 395, 11, 17)\n",
                        "(861, 449, 17, 7)\n",
                        "(959, 495, 18, 8)\n",
                        "(1019, 474, 13, 15)\n",
                        "(1092, 473, 20, 7)\n",
                        "(1119, 457, 8, 19)\n",
                        "(1140, 452, 15, 14)\n",
                        "(1158, 429, 7, 19)\n",
                        "(1169, 428, 16, 8)\n",
                        "(1227, 457, 10, 18)\n",
                        "(1295, 486, 11, 18)\n",
                        "(1366, 521, 15, 13)\n",
                        "(1442, 561, 14, 17)\n",
                        "(1448, 572, 8, 19)\n",
                        "(1441, 642, 8, 19)\n",
                        "(1444, 720, 12, 17)\n",
                        "(1443, 816, 12, 18)\n",
                        "(1443, 910, 11, 18)\n",
                        "(1443, 1006, 9, 18)\n",
                        "(1443, 1099, 9, 18)\n",
                        "(1450, 1176, 10, 18)\n",
                        "(1450, 1261, 11, 17)\n",
                        "(1447, 1328, 7, 19)\n",
                        "(1445, 1343, 8, 18)\n",
                        "(1446, 1350, 7, 18)\n",
                        "(1442, 1348, 10, 14)\n",
                        "(1448, 1317, 12, 18)\n",
                        "(1445, 1300, 17, 12)\n",
                        "(1446, 1251, 11, 18)\n",
                        "(1443, 1191, 10, 19)\n",
                        "(1443, 1137, 14, 16)\n",
                        "(1444, 1106, 9, 18)\n",
                        "(1448, 1034, 9, 19)\n",
                        "(1447, 991, 14, 16)\n",
                        "(1443, 903, 13, 17)\n",
                        "(1441, 819, 8, 20)\n",
                        "(1442, 889, 18, 10)\n",
                        "(1367, 844, 12, 17)\n",
                        "(1301, 824, 12, 16)\n",
                        "(1212, 773, 17, 10)\n",
                        "(1173, 741, 13, 15)\n",
                        "(1115, 727, 18, 8)\n",
                        "(1021, 678, 19, 8)\n",
                        "(956, 704, 19, 8)\n",
                        "(952, 708, 8, 19)\n",
                        "(939, 764, 15, 14)\n",
                        "(941, 767, 10, 18)\n",
                        "(966, 725, 17, 8)\n",
                        "(1002, 668, 9, 17)\n",
                        "(1040, 610, 18, 7)\n",
                        "(1107, 665, 11, 18)\n",
                        "(1111, 720, 16, 11)\n",
                        "(1185, 753, 11, 17)\n",
                        "(1271, 814, 17, 11)\n",
                        "(1349, 856, 15, 14)\n",
                        "(1424, 891, 12, 16)\n",
                        "(1435, 908, 17, 8)\n",
                        "(1434, 911, 9, 18)\n",
                        "(1430, 985, 9, 19)\n",
                        "(1446, 1072, 15, 13)\n",
                        "(1451, 1124, 9, 18)\n",
                        "(1432, 1089, 11, 15)\n",
                        "(1403, 1136, 13, 16)\n",
                        "(1402, 1223, 9, 18)\n",
                        "(1407, 1297, 13, 17)\n",
                        "(1401, 1257, 15, 15)\n",
                        "(1396, 1222, 11, 18)\n",
                        "(1336, 1204, 16, 13)\n",
                        "(1280, 1237, 9, 18)\n",
                        "(1310, 1231, 14, 16)\n",
                        "(1347, 1227, 14, 14)\n",
                        "(1392, 1156, 9, 17)\n",
                        "(1402, 1161, 13, 14)\n",
                        "(1397, 1074, 10, 19)\n",
                        "(1369, 1004, 19, 8)\n",
                        "(1340, 928, 11, 17)\n",
                        "(1281, 882, 16, 14)\n",
                        "(1243, 866, 15, 13)\n",
                        "(1199, 820, 7, 18)\n",
                        "(1111, 796, 17, 11)\n",
                        "(1042, 751, 16, 11)\n",
                        "(970, 705, 11, 18)\n",
                        "(894, 668, 13, 16)\n",
                        "(844, 611, 7, 19)\n",
                        "(801, 552, 13, 17)\n",
                        "(737, 518, 7, 20)\n",
                        "(629, 486, 14, 14)\n",
                        "(613, 471, 15, 10)\n",
                        "(555, 513, 13, 16)\n",
                        "(559, 588, 12, 18)\n",
                        "(557, 678, 12, 17)\n",
                        "(569, 772, 10, 17)\n",
                        "(579, 855, 13, 14)\n",
                        "(620, 878, 16, 12)\n",
                        "(667, 911, 18, 8)\n",
                        "(717, 933, 19, 7)\n",
                        "(780, 973, 12, 17)\n",
                        "(853, 1002, 18, 8)\n",
                        "(882, 1047, 18, 7)\n",
                        "(856, 1089, 16, 13)\n",
                        "(792, 1119, 12, 17)\n",
                        "(714, 1162, 19, 8)\n",
                        "(722, 1163, 19, 8)\n",
                        "(727, 1107, 10, 17)\n",
                        "(655, 1069, 18, 9)\n",
                        "(644, 1066, 17, 11)\n",
                        "(637, 1070, 15, 13)\n",
                        "(591, 1097, 11, 16)\n",
                        "(522, 1140, 19, 7)\n",
                        "(457, 1183, 16, 12)\n",
                        "(512, 1137, 15, 13)\n",
                        "(540, 1153, 12, 13)\n",
                        "(517, 1140, 18, 8)\n",
                        "(472, 1164, 13, 15)\n",
                        "(418, 1205, 17, 11)\n",
                        "(382, 1242, 10, 18)\n",
                        "(375, 1229, 17, 9)\n",
                        "(354, 1210, 15, 10)\n",
                        "(291, 1185, 19, 7)\n",
                        "(229, 1172, 12, 15)\n",
                        "(157, 1209, 12, 16)\n",
                        "(100, 1259, 12, 15)\n",
                        "(51, 1309, 8, 20)\n",
                        "(65, 1350, 6, 18)\n",
                        "(65, 1347, 7, 16)\n",
                        "(94, 1337, 15, 14)\n",
                        "(130, 1266, 13, 16)\n",
                        "(139, 1187, 8, 19)\n",
                        "(152, 1119, 8, 19)\n",
                        "(206, 1070, 8, 19)\n",
                        "(206, 981, 8, 20)\n",
                        "(196, 961, 11, 16)\n",
                        "(201, 902, 10, 16)\n",
                        "(197, 861, 11, 16)\n",
                        "(202, 809, 10, 16)\n",
                        "(201, 765, 11, 16)\n",
                        "(181, 726, 17, 12)\n",
                        "(208, 749, 8, 18)\n",
                        "(251, 727, 16, 12)\n",
                        "(325, 701, 18, 8)\n",
                        "(416, 653, 17, 10)\n",
                        "(483, 611, 19, 7)\n",
                        "(486, 610, 15, 13)\n",
                        "(547, 656, 19, 8)\n",
                        "(617, 633, 20, 7)\n",
                        "(690, 604, 16, 11)\n",
                        "(755, 563, 19, 7)\n",
                        "(807, 533, 12, 14)\n",
                        "(843, 512, 16, 12)\n",
                        "(848, 517, 18, 8)\n",
                        "(835, 515, 13, 16)\n",
                        "(801, 545, 8, 17)\n",
                        "(809, 608, 18, 8)\n",
                        "(878, 637, 10, 19)\n",
                        "(905, 645, 12, 15)\n",
                        "(959, 611, 18, 8)\n",
                        "(987, 597, 11, 17)\n",
                        "(916, 654, 14, 13)\n",
                        "(825, 592, 11, 17)\n",
                        "(727, 539, 19, 7)\n",
                        "(629, 479, 10, 18)\n",
                        "(591, 468, 16, 11)\n",
                        "(608, 517, 11, 16)\n",
                        "(607, 613, 10, 18)\n",
                        "(621, 695, 9, 17)\n",
                        "(621, 775, 9, 18)\n",
                        "(636, 838, 13, 17)\n",
                        "(638, 866, 13, 17)\n",
                        "(646, 814, 13, 13)\n",
                        "(649, 718, 12, 17)\n",
                        "(631, 634, 16, 12)\n",
                        "(539, 587, 19, 7)\n",
                        "(496, 564, 20, 8)\n",
                        "(484, 557, 15, 12)\n",
                        "(519, 569, 13, 15)\n",
                        "(516, 605, 10, 16)\n",
                        "(522, 667, 9, 19)\n",
                        "(518, 748, 11, 16)\n",
                        "(530, 814, 17, 11)\n",
                        "(532, 881, 13, 16)\n",
                        "(542, 971, 13, 17)\n",
                        "(606, 1002, 17, 11)\n",
                        "(678, 1073, 14, 14)\n",
                        "(680, 1075, 12, 15)\n",
                        "(734, 1094, 18, 8)\n",
                        "(767, 1117, 19, 9)\n",
                        "(805, 1096, 10, 19)\n",
                        "(877, 1060, 14, 16)\n",
                        "(964, 1005, 11, 17)\n",
                        "(1051, 956, 19, 8)\n",
                        "(1145, 907, 17, 11)\n",
                        "(1213, 849, 12, 16)\n",
                        "(1203, 768, 12, 17)\n",
                        "(1206, 673, 11, 17)\n",
                        "(1204, 635, 17, 12)\n",
                        "(1204, 597, 8, 18)\n",
                        "(1205, 568, 15, 14)\n",
                        "(1205, 512, 13, 17)\n",
                        "(1197, 449, 9, 18)\n",
                        "(1149, 425, 15, 16)\n",
                        "(1085, 400, 17, 11)\n",
                        "(1034, 361, 13, 14)\n",
                        "(971, 334, 19, 7)\n",
                        "(893, 286, 19, 7)\n",
                        "(834, 264, 17, 8)\n",
                        "(800, 229, 12, 16)\n",
                        "(748, 186, 13, 15)\n",
                        "(710, 158, 8, 18)\n",
                        "(687, 131, 15, 13)\n",
                        "(660, 116, 10, 16)\n",
                        "(634, 104, 17, 10)\n",
                        "(627, 103, 16, 9)\n",
                        "(616, 103, 17, 8)\n",
                        "(606, 103, 14, 14)\n",
                        "(589, 89, 11, 15)\n",
                        "(579, 83, 17, 11)\n",
                        "(569, 80, 14, 15)\n",
                        "(601, 103, 20, 7)\n",
                        "(632, 122, 17, 11)\n",
                        "(637, 144, 10, 17)\n",
                        "(617, 149, 15, 7)\n",
                        "(638, 173, 15, 11)\n",
                        "(644, 187, 15, 13)\n",
                        "(645, 239, 14, 15)\n",
                        "(659, 241, 17, 7)\n",
                        "(684, 253, 13, 15)\n",
                        "(697, 276, 14, 14)\n",
                        "(728, 289, 13, 16)\n",
                        "(758, 310, 16, 9)\n",
                        "(781, 332, 18, 8)\n",
                        "(791, 332, 17, 11)\n",
                        "(814, 342, 13, 15)\n",
                        "(828, 354, 18, 10)\n",
                        "(807, 335, 17, 10)\n",
                        "(783, 337, 18, 8)\n",
                        "(772, 320, 10, 15)\n",
                        "(800, 333, 15, 11)\n",
                        "(832, 312, 15, 13)\n",
                        "(837, 310, 18, 8)\n",
                        "(804, 330, 12, 13)\n",
                        "(787, 335, 9, 18)\n",
                        "(762, 355, 13, 10)\n",
                        "(755, 353, 15, 10)\n",
                        "(729, 379, 14, 14)\n",
                        "(708, 385, 7, 18)\n",
                        "(702, 337, 13, 13)\n",
                        "(654, 310, 17, 9)\n",
                        "(633, 287, 11, 15)\n",
                        "(632, 252, 8, 17)\n",
                        "(634, 212, 9, 16)\n",
                        "(633, 194, 11, 16)\n",
                        "(635, 165, 10, 17)\n",
                        "(638, 171, 9, 15)\n",
                        "(652, 200, 13, 15)\n",
                        "(670, 194, 13, 12)\n",
                        "(689, 190, 10, 14)\n",
                        "(709, 166, 11, 12)\n",
                        "(703, 146, 10, 16)\n",
                        "(700, 141, 9, 16)\n",
                        "(694, 148, 15, 7)\n",
                        "(669, 139, 12, 13)\n",
                        "(661, 168, 10, 15)\n",
                        "(627, 171, 15, 9)\n",
                        "(610, 187, 13, 13)\n",
                        "(590, 191, 14, 12)\n",
                        "(576, 203, 11, 15)\n",
                        "(583, 232, 13, 15)\n",
                        "(582, 282, 14, 15)\n",
                        "(582, 334, 9, 17)\n",
                        "(580, 390, 11, 18)\n",
                        "(589, 457, 8, 20)\n",
                        "(586, 554, 11, 17)\n",
                        "(584, 633, 17, 10)\n",
                        "(573, 669, 12, 14)\n",
                        "(575, 670, 9, 17)\n",
                        "(603, 619, 12, 16)\n",
                        "(648, 586, 16, 13)\n",
                        "(711, 587, 17, 12)\n",
                        "(738, 566, 8, 19)\n",
                        "(684, 581, 10, 12)\n",
                        "(731, 563, 17, 7)\n",
                        "(738, 523, 11, 14)\n",
                        "(731, 449, 18, 8)\n",
                        "(738, 433, 8, 17)\n",
                        "(743, 491, 14, 16)\n",
                        "(725, 581, 15, 14)\n",
                        "(660, 611, 15, 14)\n",
                        "(607, 671, 13, 13)\n",
                        "(606, 754, 10, 18)\n",
                        "(687, 808, 7, 18)\n",
                        "(754, 840, 19, 8)\n",
                        "(835, 888, 13, 16)\n",
                        "(829, 887, 19, 7)\n",
                        "(769, 863, 19, 8)\n",
                        "(722, 866, 8, 16)\n",
                        "(683, 890, 9, 13)\n",
                        "(659, 939, 8, 18)\n",
                        "(599, 938, 13, 13)\n",
                        "(560, 887, 18, 8)\n",
                        "(473, 839, 18, 8)\n",
                        "(374, 776, 12, 15)\n",
                        "(259, 703, 8, 18)\n",
                        "(145, 656, 18, 8)\n",
                        "(46, 584, 17, 9)\n",
                        "(27, 606, 14, 12)\n",
                        "(33, 686, 8, 17)\n",
                        "(27, 799, 8, 19)\n",
                        "(28, 863, 15, 14)\n",
                        "(36, 788, 12, 15)\n",
                        "(77, 708, 8, 18)\n",
                        "(164, 655, 19, 8)\n",
                        "(191, 509, 11, 14)\n",
                        "(183, 473, 10, 17)\n"
                    ]
                }
            ],
            "source": [
                "from math import floor, ceil\n",
                "\n",
                "\n",
                "eval = Evaluator(background=background, diff_thresh=20)\n",
                "progeress = 200\n",
                "\n",
                "\n",
                "class VL:\n",
                "    def __init__(self, eval:Evaluator) -> None:\n",
                "        self.evaluator = eval\n",
                "        self.progeress = 1\n",
                "\n",
                "    def update_thresh(self, val:int):\n",
                "        self.evaluator._diff_thresh = val\n",
                "\n",
                "    def update_progress(self, val:int):\n",
                "        self.progeress = val\n",
                "# vl = VL(eval)\n",
                "log = pd.read_csv(\"data/Exp2_GuyGilad_logs_yolo/bboxes2.csv\")\n",
                "\n",
                "viewer = StreamViewer(\"Viewer\")\n",
                "viewer.open()\n",
                "# viewer.create_trakbar(\"threshold\", 30, 50, vl.update_thresh)\n",
                "# viewer.create_trakbar(\"progress\", 0, 100, vl.update_progress)\n",
                "\n",
                "# viewer.imshow(np.zeros((360, 360)))\n",
                "i = 0\n",
                "reader.seek(i)\n",
                "total_frames = len(reader)\n",
                "\n",
                "while reader.can_read():\n",
                "    frame = reader.read()\n",
                "    wrm_x, wrm_y, wrm_w, wrm_h = log.loc[i, [\"wrm_x\",\"wrm_y\",\"wrm_w\",\"wrm_h\"]]\n",
                "    # cam_x, cam_y, cam_w, cam_h = log.loc[i, [\"cam_x\",\"cam_y\",\"cam_w\",\"cam_h\"]]\n",
                "    wrm_box = (wrm_x,wrm_y,wrm_w,wrm_h)\n",
                "    if any([np.isnan(x) for x in wrm_box]):\n",
                "        reader.progress(progeress)\n",
                "        i = reader._idx\n",
                "        continue\n",
                "    wrm_x = max(0, floor(wrm_x))\n",
                "    wrm_y = max(0, floor(wrm_y))\n",
                "    wrm_w = min(ceil(wrm_w),  frame.shape[1] - wrm_x)\n",
                "    wrm_h = min(ceil(wrm_h), frame.shape[0] - wrm_y)\n",
                "\n",
                "    wrm_box = (wrm_x,wrm_y,wrm_w,wrm_h)\n",
                "    print(wrm_box)\n",
                "    wrm_view = frame[wrm_y:wrm_y+wrm_h, wrm_x:wrm_x+wrm_w]\n",
                "    masked = wrm_view.copy().astype(np.float32)\n",
                "    \n",
                "    mask = eval.find_contour(wrm_view, wrm_box)\n",
                "    mask = np.where(mask == 0)\n",
                "    masked[mask] = 0.\n",
                "    # masked[mask] = 0\n",
                "    viewer.imshow(masked.astype(np.uint8), title=f\"frame {i}/{total_frames}  |  thresh={eval._diff_thresh}  |  progress={progeress}\")\n",
                "    # if progress_n_frames > 0:\n",
                "    reader.progress(progeress)\n",
                "    i = reader._idx\n"
            ]
        },
        {
            "cell_type": "markdown",
            "metadata": {},
            "source": [
                "# Analysis"
            ]
        },
        {
            "cell_type": "markdown",
            "metadata": {},
            "source": [
                "## VLC"
            ]
        },
        {
            "cell_type": "code",
            "execution_count": null,
            "metadata": {},
            "outputs": [],
            "source": [
                "directory = \"D:\\\\Guy_Gilad\\\\Exp0_GuyGilad\\\\raw\"\n",
                "files = Files(directory, extension='Bmp', sorting_key=lambda f: int(f.split('-')[-1].split('.')[0]))\n",
                "timing_config = TimingConfig.load_json(\"D:\\\\Guy_Gilad\\\\Bio-Proj\\\\logs\\\\time_config.json\")\n",
                "# log_path = \"/Users/guycohen/Desktop/Bio-Project/eval/bboxes2.csv\"\n",
                "# log_path = \"/Users/guycohen/Desktop/Bio-Project/Optimal/bboxes.csv\"\n",
                "# log_path = \"D:\\\\Guy_Gilad\\\\Exp2_GuyGilad\\\\logs_yolo\\\\bboxes.csv\"\n",
                "# log_path = \"data/Exp2_GuyGilad_logs_yolo/bboxes.csv\"\n"
            ]
        },
        {
            "cell_type": "code",
            "execution_count": null,
            "metadata": {},
            "outputs": [],
            "source": [
                "log_path = \"data/Exp0_GuyGilad_logs_yolo/bboxes2.csv\"\n",
                "experiment_config = ExperimentConfig.load_json(\"data/Exp0_GuyGilad_logs_yolo/experiment_config.json\")\n",
                "\n",
                "time_config = TimingConfig(\n",
                "    imaging_time_ms=100,\n",
                "    pred_time_ms=15,\n",
                "    moving_time_ms=50,\n",
                "    camera_size_mm=(4, 4),\n",
                "    micro_size_mm=(0.22, 0.22),\n",
                "    experiment_config=experiment_config,\n",
                ")\n",
                "vlc = VLC(files, time_config, log_path, 'plt')\n",
                "vlc.mainloop()"
            ]
        },
        {
            "cell_type": "code",
            "execution_count": null,
            "metadata": {},
            "outputs": [],
            "source": [
                "import cProfile\n",
                "vlc = VLC(files, timing_config, log_path, 'plt')\n",
                "vlc.print_hotkeys()\n",
                "vlc.streamer.update_trakbar(\"delay\", 1)\n",
                "vlc.show_cam = True\n",
                "vlc.show_micro = True\n",
                "vlc.show_pred = True\n",
                "vlc.play = True\n",
                "vlc.mainloop()\n",
                "# cProfile.run('vlc.mainloop()')\n"
            ]
        },
        {
            "cell_type": "code",
            "execution_count": null,
            "metadata": {},
            "outputs": [],
            "source": [
                "vlc = VLC(files, timing_config, log_path, 'mic')\n",
                "vlc.print_hotkeys()\n",
                "vlc.mainloop()"
            ]
        },
        {
            "cell_type": "markdown",
            "metadata": {},
            "source": [
                "## Plots"
            ]
        },
        {
            "cell_type": "code",
            "execution_count": null,
            "metadata": {},
            "outputs": [],
            "source": [
                "def cond(df: pd.DataFrame, threshold: float=1.5) -> pd.DataFrame:\n",
                "    mask1 = (df['cycle_step'] == 14) & (df['worm_center_dist'] > threshold)\n",
                "    cycles = df[mask1]['cycle'].unique()\n",
                "    return df['cycle'].isin(cycles)\n",
                "\n",
                "def cond_imaging(df:pd.DataFrame) -> pd.DataFrame:\n",
                "    return df['phase'] == 'imaging'\n",
                "\n",
                "def rolling_avg(data, col, window_size=5):\n",
                "    data[col+'_avg'] = Plotter.rolling_average(data, window_size=window_size, column=col)\n",
                "    return data"
            ]
        },
        {
            "cell_type": "code",
            "execution_count": null,
            "metadata": {},
            "outputs": [],
            "source": [
                "path = \"data\\\\Exp2_GuyGilad_logs_yolo\\\\bboxes.csv\"\n",
                "experiment_config = ExperimentConfig.load_json(\"data\\\\Exp2_GuyGilad_logs_yolo\\\\experiment_config.json\")\n",
                "time_config = TimingConfig(\n",
                "    imaging_time_ms=200,\n",
                "    pred_time_ms=40,\n",
                "    moving_time_ms=50,\n",
                "    camera_size_mm=(4, 4),\n",
                "    micro_size_mm=(0.22, 0.22),\n",
                "    experiment_config=experiment_config,\n",
                ")\n",
                "pltr = Plotter(path, time_config)"
            ]
        },
        {
            "cell_type": "code",
            "execution_count": null,
            "metadata": {},
            "outputs": [],
            "source": [
                "log = pd.read_csv(path)"
            ]
        },
        {
            "cell_type": "code",
            "execution_count": null,
            "metadata": {},
            "outputs": [],
            "source": [
                "log.describe()"
            ]
        },
        {
            "cell_type": "code",
            "execution_count": null,
            "metadata": {},
            "outputs": [],
            "source": [
                "log[['cam_w', 'cam_h']] = 368"
            ]
        },
        {
            "cell_type": "code",
            "execution_count": null,
            "metadata": {},
            "outputs": [],
            "source": [
                "pad_x = (log[\"cam_w\"].to_numpy()//2).reshape(-1,1)\n",
                "pad_y = (log[\"cam_h\"].to_numpy()//2).reshape(-1,1)\n",
                "log.loc[:,[\"cam_x\", \"mic_x\", \"wrm_x\"]] = log[[\"cam_x\", \"mic_x\", \"wrm_x\"]].values - pad_x\n",
                "log.loc[:,[\"cam_y\", \"mic_y\", \"wrm_y\"]] = log[[\"cam_y\", \"mic_y\", \"wrm_y\"]].values - pad_y"
            ]
        },
        {
            "cell_type": "code",
            "execution_count": null,
            "metadata": {},
            "outputs": [],
            "source": [
                "log.to_csv(\"bboxes2.csv\")"
            ]
        },
        {
            "cell_type": "code",
            "execution_count": null,
            "metadata": {},
            "outputs": [],
            "source": [
                "\n",
                "# original_log_path = \"/Users/guycohen/Desktop/Bio-Project/eval/bboxes2.csv\"\n",
                "# log_path = \"/Users/guycohen/Desktop/Bio-Project/eval_corrected_movement/bboxes.csv\"\n",
                "# log_path = \"/Users/guycohen/Desktop/Bio-Project/Optimal/bboxes.csv\"\n",
                "# log_path = \"/Users/guycohen/Desktop/Bio-Project/Controller2/bboxes.csv\"\n",
                "log_path = \"/Users/guycohen/Desktop/Bio-Project/PolyfitControllerV2/bboxes.csv\"\n",
                "# log_path = \"/Users/guycohen/Desktop/Bio-Project/test1/bboxes.csv\"\n",
                "timing_config = TimingConfig.load_json(\"/Users/guycohen/Desktop/Bio-Project/time_config.json\")\n",
                "\n",
                "pltr = Plotter(log_path, timing_config)\n",
                "# pltr_orig = Plotter(original_log_path, timing_config)"
            ]
        },
        {
            "cell_type": "code",
            "execution_count": null,
            "metadata": {},
            "outputs": [],
            "source": [
                "data = pltr.print_statistics(n=10)\n",
                "# data_orig = pltr_orig.print_statistics()"
            ]
        },
        {
            "cell_type": "code",
            "execution_count": null,
            "metadata": {},
            "outputs": [],
            "source": [
                "(data['mic_center_x'] - data['wrm_center_x']).hist(bins=15)"
            ]
        },
        {
            "cell_type": "code",
            "execution_count": null,
            "metadata": {},
            "outputs": [],
            "source": [
                "sns.scatterplot(data=data, x='frame', y='worm_deviation', hue='wrm_speed')"
            ]
        },
        {
            "cell_type": "code",
            "execution_count": null,
            "metadata": {},
            "outputs": [],
            "source": [
                "def plot_histogram(pltr, x_col:str, n:int=1, hue=None, condition=None, **kwargs):\n",
                "    data = pltr.data_prep_frames(n=n)\n",
                "    \n",
                "    if condition is not None:\n",
                "            data = data[condition(data)]\n",
                "    fig, ax = plt.subplots()\n",
                "    sns.histplot(data=data, x=x_col, hue=hue,stat='density', **kwargs)\n",
                "\n",
                "def plot_jointplot(pltr, x_col:str, y_col:str, n:int=1, kind:str='scatter', hue=None, condition=None, transform=None, **kwargs):\n",
                "    data = pltr.data_prep_frames(n=n)\n",
                "    \n",
                "    if transform is not None:\n",
                "        data = transform(data)\n",
                "        \n",
                "    if condition is not None:\n",
                "            data = data[condition(data)]\n",
                "    \n",
                "    sns.jointplot(data=data, x=x_col, y=y_col, hue=hue, kind=kind, **kwargs)\n",
                "\n",
                "# plot_histogram(pltr, 'worm_deviation', n=15, hue='worm_deviation')"
            ]
        },
        {
            "cell_type": "code",
            "execution_count": null,
            "metadata": {},
            "outputs": [],
            "source": [
                "plot_jointplot(pltr, 'wrm_speed', 'worm_deviation', n=5, kind='scatter')"
            ]
        },
        {
            "cell_type": "code",
            "execution_count": null,
            "metadata": {},
            "outputs": [],
            "source": [
                "plot_jointplot(pltr, x_col='wrm_speed_x', y_col='wrm_speed_y', n=5, kind='scatter', hue='worm_angle_avg', transform=lambda data: rolling_avg(data, 'worm_angle', window_size=5))"
            ]
        },
        {
            "cell_type": "code",
            "execution_count": null,
            "metadata": {},
            "outputs": [],
            "source": [
                "plot_histogram(pltr, x_col='bbox_area_diff', condition=lambda df: df['bbox_area_diff'] > 1e-3)"
            ]
        },
        {
            "cell_type": "code",
            "execution_count": null,
            "metadata": {},
            "outputs": [],
            "source": [
                "def avg_speed(data:pd.DataFrame, n_list:list[int]=[10]) -> np.ndarray:\n",
                "    data = data.copy()\n",
                "    \n",
                "    wrm_speed_x = np.zeros(len(data['frame']))\n",
                "    wrm_speed_y = np.zeros(len(data['frame']))\n",
                "    for n in n_list:\n",
                "        wrm_speed_x += data[\"wrm_center_x\"].diff(n) / len(n_list)\n",
                "        wrm_speed_y += data[\"wrm_center_y\"].diff(n) / len(n_list)\n",
                "        # avgs.append(Plotter.worm_angle(data, n=n))\n",
                "    # mean of all averages\n",
                "    data['wrm_speed_x_avg'] = wrm_speed_x\n",
                "    data['wrm_speed_y_avg'] = wrm_speed_y\n",
                "    return data\n",
                "\n",
                "def worm_angle(data:pd.DataFrame, n:int=15) -> np.ndarray:\n",
                "    data = data.copy()\n",
                "\n",
                "    wrm_speed_x = data[\"wrm_center_x\"].diff(n) / n\n",
                "    wrm_speed_y = data[\"wrm_center_y\"].diff(n) / n\n",
                "    angle_speed = np.arctan2(wrm_speed_y, wrm_speed_x)\n",
                "\n",
                "    min_h, min_w = np.min(data[\"wrm_h\"]), np.min(data[\"wrm_w\"])\n",
                "    x_sign = np.sign(data[\"wrm_center_x\"].diff(3))\n",
                "    y_sign = np.sign(data[\"wrm_center_y\"].diff(3))\n",
                "    # data['wrm_speed_x_avg'] = (data['wrm_w']-min_w)*x_sign\n",
                "    # data['wrm_speed_y_avg'] = (data['wrm_h']-min_h)*y_sign\n",
                "    angle = np.arctan2((data['wrm_h']-min_h)*y_sign, (data['wrm_w']-min_w)*x_sign)\n",
                "\n",
                "    angle_diff = np.abs(angle - angle_speed) / (2*np.pi)\n",
                "    data['wrm_speed_x_avg'] = wrm_speed_x * (1-angle_diff)\n",
                "    data['wrm_speed_y_avg'] = wrm_speed_y * (1-angle_diff)\n",
                "    return data"
            ]
        },
        {
            "cell_type": "code",
            "execution_count": null,
            "metadata": {},
            "outputs": [],
            "source": [
                "def plot_flow(pltr, x_col:str, y_col:str, n:int=1, kind:str='scatter', hue=None, condition=None, transform=None, **kwargs):\n",
                "    data = pltr.data_prep_frames(n=n)\n",
                "    \n",
                "    if transform is not None:\n",
                "        data = transform(data)\n",
                "        \n",
                "    if condition is not None:\n",
                "            data = data[condition(data)]\n",
                "    \n",
                "    # cmap = sns.color_palette(\"husl\", as_cmap=True, n_colors=len(data['frame']))\n",
                "    fig, ax = plt.subplots()\n",
                "    plt.quiver(data[x_col], data[y_col], data['wrm_speed_x_avg'], data['wrm_speed_y_avg'], np.linspace(0,1,len(data['frame'])), **kwargs)\n",
                "    ax.invert_yaxis()\n",
                "    ax.grid()\n",
                "\n",
                "\n",
                "# plot_flow(pltr, x_col='wrm_center_x', y_col='wrm_center_y', n=15, angles='xy', transform=lambda data: rolling_avg(data, 'worm_angle', window_size=1))\n",
                "plot_flow(pltr, x_col='wrm_center_x', y_col='wrm_center_y', n=5, angles='xy', scale_units='xy', scale=1,\n",
                "          transform=lambda df: worm_angle(df, 15), \n",
                "        #   condition=lambda df: df['cycle_step'] == 9,\n",
                "          )"
            ]
        },
        {
            "cell_type": "code",
            "execution_count": null,
            "metadata": {},
            "outputs": [],
            "source": [
                "# cols = ['frame', 'cycle', 'plt_x', 'plt_y', 'cam_x', 'cam_y', 'cam_w',\n",
                "#        'cam_h', 'mic_x', 'mic_y', 'mic_w', 'mic_h', 'wrm_x', 'wrm_y', 'wrm_w',\n",
                "#        'wrm_h', 'wrm_center_x', 'wrm_center_y', 'mic_center_x', 'mic_center_y',\n",
                "#        'wrm_speed', 'bbox_area_diff', 'bbox_edge_diff']\n",
                "\n",
                "\n",
                "# (data[cols] - data_orig[cols]).describe()"
            ]
        },
        {
            "cell_type": "code",
            "execution_count": null,
            "metadata": {},
            "outputs": [],
            "source": [
                "pltr.plot_area_vs_speed()"
            ]
        },
        {
            "cell_type": "code",
            "execution_count": null,
            "metadata": {},
            "outputs": [],
            "source": [
                "data.columns"
            ]
        },
        {
            "cell_type": "code",
            "execution_count": null,
            "metadata": {},
            "outputs": [],
            "source": [
                "\n",
                "pltr.plot_2d_deviation(n=2, hue='cycle_step')"
            ]
        },
        {
            "cell_type": "code",
            "execution_count": null,
            "metadata": {},
            "outputs": [],
            "source": [
                "pltr.plot_deviation()"
            ]
        },
        {
            "cell_type": "code",
            "execution_count": null,
            "metadata": {},
            "outputs": [],
            "source": [
                "pltr.plot_area_vs_speed_guy(n=1, window_size=1, hue='phase')"
            ]
        },
        {
            "cell_type": "code",
            "execution_count": null,
            "metadata": {},
            "outputs": [],
            "source": [
                "pltr.plot_cycle_step_vs_speed()"
            ]
        },
        {
            "cell_type": "code",
            "execution_count": null,
            "metadata": {},
            "outputs": [],
            "source": [
                "pltr.plot_trajectory(n=15, hue='wrm_speed')"
            ]
        },
        {
            "cell_type": "code",
            "execution_count": null,
            "metadata": {},
            "outputs": [],
            "source": [
                "def plot_speed_vs_time(pltr, n: int = 1, window_size: int = 15, hue=None, condition=None) -> plt.Figure:\n",
                "        data = pltr.data_prep_frames(n=n)\n",
                "        data[\"wrm_speed_avg\"] = Plotter.rolling_average(data, window_size=window_size, column=\"wrm_speed\")\n",
                "        fig, ax = plt.subplots()\n",
                "        if condition is not None:\n",
                "            mask = condition(data) & mask\n",
                "        g = sns.histplot(data=data, x=\"wrm_speed\", ax=ax, hue=hue)\n",
                "        g.figure.suptitle(f\"n = {n}, rolling window = {window_size}\")\n",
                "        return g.figure"
            ]
        },
        {
            "cell_type": "code",
            "execution_count": null,
            "metadata": {},
            "outputs": [],
            "source": [
                "plot_speed_vs_time(pltr, n=15, window_size=1, hue='phase')"
            ]
        },
        {
            "cell_type": "code",
            "execution_count": null,
            "metadata": {},
            "outputs": [],
            "source": [
                "timing_config.mm_per_px / timing_config.ms_per_frame"
            ]
        },
        {
            "cell_type": "code",
            "execution_count": null,
            "metadata": {},
            "outputs": [],
            "source": [
                "def plot_2d_deviation_with_angle(pltr, n:int=1, hue=\"cycle_step\", condition=None) -> plt.Figure:\n",
                "        data = pltr.data_prep_frames(n=n)\n",
                "        data[\"worm_center_dist_x\"] = data[\"wrm_center_x\"] - data[\"mic_center_x\"]\n",
                "        data[\"worm_center_dist_y\"] = data[\"wrm_center_y\"] - data[\"mic_center_y\"]\n",
                "\n",
                "        data[\"cycle_step\"] = data[\"frame\"] % pltr.timing_config.cycle_length\n",
                "        min_h, min_w = np.min(data[\"wrm_h\"]), np.min(data[\"wrm_w\"])\n",
                "        x_sign = np.sign(data[\"wrm_center_x\"].diff(n))\n",
                "        y_sign = np.sign(data[\"wrm_center_y\"].diff(n))\n",
                "        data['angle'] = np.arctan2((data['wrm_h']-min_h)*y_sign, (data['wrm_w']-min_w)*x_sign)\n",
                "        if condition is not None:\n",
                "            data = data[condition(data)]\n",
                "        \n",
                "        # display(data.head(50))\n",
                "        # g = sns.histplot(data=data, x=\"angle\")\n",
                "        g = sns.jointplot(data=data, x=\"wrm_speed\", y=\"angle\", kind=\"scatter\", hue=hue, alpha=0.6)\n",
                "        # g = sns.jointplot(data=data, x=\"worm_center_dist_x\", y=\"worm_center_dist_y\", kind=\"scatter\", hue=hue, alpha=0.6)\n",
                "        # g.set_axis_labels(\"distance x\", \"distance y\")\n",
                "        # g.figure.suptitle(f\"distance between worm and microscope centers in each axis\")\n",
                "\n",
                "        return g.figure"
            ]
        },
        {
            "cell_type": "code",
            "execution_count": null,
            "metadata": {},
            "outputs": [],
            "source": [
                "plot_2d_deviation_with_angle(pltr, 5, hue=None, condition=lambda df: df['wrm_speed'] > -0.3)"
            ]
        },
        {
            "cell_type": "code",
            "execution_count": null,
            "metadata": {},
            "outputs": [],
            "source": [
                "def plot_area_vs_time(pltr:Plotter, n: int = 1, window_size: int = 15, hue=None, condition=None) -> plt.Figure:\n",
                "        data = pltr.data_prep_frames(n=n)\n",
                "        data[\"wrm_speed_avg\"] = Plotter.rolling_average(data, window_size=window_size, column=\"wrm_speed\")\n",
                "        data[\"worm_center_dist\"] = np.sqrt(\n",
                "            (data[\"wrm_center_x\"] - data[\"mic_center_x\"]) ** 2 + (data[\"wrm_center_y\"] - data[\"mic_center_y\"]) ** 2\n",
                "        )\n",
                "        data[\"cycle_step\"] = data[\"frame\"] % pltr.timing_config.cycle_length\n",
                "        data['angle'] = np.arctan2(data['wrm_w'], data['wrm_h'])\n",
                "        # fig, ax = plt.subplots()\n",
                "        mask = data[\"bbox_area_diff\"] > 1e-3\n",
                "        if condition is not None:\n",
                "            mask = condition(data) & mask\n",
                "        g = sns.jointplot(\n",
                "            data=data[mask], x=\"wrm_speed_avg\", y=\"worm_center_dist\", hue=hue, kind=\"scatter\", dropna=True)\n",
                "        g.figure.suptitle(f\"n = {n}, rolling window = {window_size}\")\n",
                "        return g.figure"
            ]
        },
        {
            "cell_type": "code",
            "execution_count": null,
            "metadata": {},
            "outputs": [],
            "source": [
                "plot_area_vs_time(pltr, n=18, window_size=1, hue='angle')"
            ]
        },
        {
            "cell_type": "code",
            "execution_count": null,
            "metadata": {},
            "outputs": [],
            "source": [
                "raise Exception(\"Finished\")"
            ]
        },
        {
            "cell_type": "markdown",
            "metadata": {},
            "source": [
                "# Run Simulation"
            ]
        },
        {
            "cell_type": "code",
            "execution_count": null,
            "metadata": {},
            "outputs": [],
            "source": [
                "from evaluation.simulator import *\n",
                "from evaluation.sim_controllers import *\n",
                "from evaluation.config import ExperimentConfig\n",
                "from frame_reader import DummyReader\n",
                "from evaluation.motor_controllers import *\n",
                "\n",
                "# base_path = \"/Users/guycohen/Desktop/Bio-Project/\"\n",
                "base_path = f\"data/Data/Exp1_GuyGilad_logs_yolo/\"\n"
            ]
        },
        {
            "cell_type": "markdown",
            "metadata": {},
            "source": [
                "## Run CSV Simulation"
            ]
        },
        {
            "cell_type": "code",
            "execution_count": null,
            "metadata": {},
            "outputs": [],
            "source": [
                "exp_base_path = \"logs\"\n",
                "\n",
                "# time_config = TimingConfig.load_json(base_path + \"time_config.json\")\n",
                "# time_config = TimingConfig.load_json(base_path + \"time_config_medium_micro.json\")\n",
                "experiment_config = ExperimentConfig.load_json(f\"{base_path}/experiment_config.json\")\n",
                "log_config = LogConfig(\n",
                "    root_folder=exp_base_path,\n",
                "    save_mic_view=False,\n",
                "    save_cam_view=False,\n",
                "    save_err_view=False,\n",
                ")"
            ]
        },
        {
            "cell_type": "code",
            "execution_count": null,
            "metadata": {},
            "outputs": [],
            "source": [
                "time_config = TimingConfig(\n",
                "    imaging_time_ms=200,\n",
                "    pred_time_ms=40,\n",
                "    moving_time_ms=50,\n",
                "    camera_size_mm=(4, 4),\n",
                "    micro_size_mm=(0.32, 0.32),\n",
                "    experiment_config=experiment_config,\n",
                ")"
            ]
        },
        {
            "cell_type": "code",
            "execution_count": null,
            "metadata": {},
            "outputs": [],
            "source": [
                "from evaluation.sim_controllers.guys_controllers import *\n",
                "from evaluation.sim_controllers.csv_controller import CsvController\n",
                "from evaluation.sim_controllers.optimal_controller import  OptimalController\n",
                "from evaluation.sim_controllers.polyfit_controller import PolyfitController\n",
                "import torch\n",
                "\n",
                "log_path = base_path + \"bboxes.csv\"\n",
                "\n",
                "# controller = CsvController(time_config, \"/Users/guycohen/Desktop/Bio-Project/eval_corrected_movement/bboxes.csv\")\n",
                "\n",
                "# controller = TestController1(time_config, \"/Users/guycohen/Desktop/Bio-Project/eval/bboxes.csv\")\n",
                "# controller = Controller2(time_config, \"/Users/guycohen/Desktop/Bio-Project/eval_corrected_movement/bboxes.csv\")\n",
                "# controller = OptimalController(time_config, \"/Users/guycohen/Desktop/Bio-Project/eval_corrected_movement/bboxes.csv\")\n",
                "\n",
                "model = torch.load(\"data/RecurrentMLP4.pt\")\n",
                "print(model)\n",
                "controller = MLPController(time_config, log_path, model)\n",
                "\n",
                "weights = np.ones(11)\n",
                "# weights = np.asanyarray([0.0477, 0.0002, 0. ,    0.0007, 0.0057, 0.042 , 0.1558, 0.6245 ,0.7627])\n",
                "sample_frames = np.asanyarray(\n",
                "    [\n",
                "        0,\n",
                "        5,\n",
                "        9,\n",
                "        -time_config.cycle_length + 0,\n",
                "        -time_config.cycle_length + 5,\n",
                "        -time_config.cycle_length + 9,\n",
                "        -2 * time_config.cycle_length + 0,\n",
                "        -2 * time_config.cycle_length + 5,\n",
                "        -2 * time_config.cycle_length + 9,\n",
                "        -3 * time_config.cycle_length + 9,\n",
                "        -4 * time_config.cycle_length + 9,\n",
                "    ]\n",
                ")\n",
                "# controller = PolyfitController(time_config, log_path, degree=2, weights=weights, sample_times=sample_frames)\n",
                "\n",
                "\n",
                "\n",
                "\n",
                "\n"
            ]
        },
        {
            "cell_type": "code",
            "execution_count": null,
            "metadata": {},
            "outputs": [],
            "source": [
                "\n",
                "logging_controller = LoggingController(controller, log_config)\n",
                "motor_controller = SineMotorController(time_config)\n",
                "# motor_controller = SimpleMovementController(time_config, 0)\n",
                "\n",
                "sim = Simulator(time_config, experiment_config, logging_controller, reader=None, motor_controller=motor_controller)"
            ]
        },
        {
            "cell_type": "code",
            "execution_count": null,
            "metadata": {},
            "outputs": [],
            "source": [
                "sim.run()\n",
                "time_config.save_json(exp_base_path + \"/time_config.json\")\n",
                "experiment_config.save_json(exp_base_path + \"/exp_config.json\")"
            ]
        },
        {
            "cell_type": "code",
            "execution_count": null,
            "metadata": {},
            "outputs": [],
            "source": [
                "from evaluation.analysis import Plotter\n",
                "\n",
                "pltr = Plotter(log_config.bbox_file_path, time_config)\n",
                "data = pltr.print_statistics(n=10)"
            ]
        },
        {
            "cell_type": "code",
            "execution_count": null,
            "metadata": {},
            "outputs": [],
            "source": [
                "def bbox_eval(pltr:Plotter, df:pd.DataFrame) -> pd.DataFrame:\n",
                "    data = pltr.data_prep_frames(n=10)\n",
                "    grouped_data = data.groupby(\"cycle\")\n",
                "    avg_speed = grouped_data[\"wrm_speed\"].mean()\n",
                "\n",
                "    data = Plotter.remove_phase(data, \"moving\")\n",
                "\n",
                "    max_area_diff = data.groupby(\"cycle\")[\"bbox_area_diff\"].max()\n",
                "\n",
                "    data = pd.DataFrame({\"wrm_speed\": avg_speed, \"bbox_area_diff\": max_area_diff})\n",
                "    return data"
            ]
        },
        {
            "cell_type": "code",
            "execution_count": null,
            "metadata": {},
            "outputs": [],
            "source": [
                "pltr.plot_histogram('bbox_area_diff', n=10, stat='density', transform=lambda df: bbox_eval(pltr, df), condition=lambda df: df['bbox_area_diff'] > 1e-2)"
            ]
        },
        {
            "cell_type": "code",
            "execution_count": null,
            "metadata": {},
            "outputs": [],
            "source": [
                "pltr.plot_area_vs_speed()"
            ]
        },
        {
            "cell_type": "code",
            "execution_count": null,
            "metadata": {},
            "outputs": [],
            "source": [
                "_ = pltr.plot_deviation()"
            ]
        },
        {
            "cell_type": "code",
            "execution_count": null,
            "metadata": {},
            "outputs": [],
            "source": [
                "raise Exception(\"Finished\")"
            ]
        },
        {
            "cell_type": "markdown",
            "metadata": {},
            "source": [
                "## Real Simulation"
            ]
        },
        {
            "cell_type": "code",
            "execution_count": null,
            "metadata": {},
            "outputs": [],
            "source": [
                "print(time_config.imaging_frame_num + time_config.moving_frame_num)"
            ]
        },
        {
            "cell_type": "code",
            "execution_count": null,
            "metadata": {},
            "outputs": [],
            "source": [
                "\n",
                "controller = LoggingController(time_config, yolo_config, log_config)\n",
                "#controller = YoloController(time_config, yolo_config)\n",
                "sim = Simulator(time_config, reader, controller)"
            ]
        },
        {
            "cell_type": "code",
            "execution_count": null,
            "metadata": {},
            "outputs": [],
            "source": [
                "sim.run()"
            ]
        },
        {
            "cell_type": "code",
            "execution_count": null,
            "metadata": {},
            "outputs": [],
            "source": [
                "cv.destroyAllWindows()\n",
                "raise Exception(\"Finished\")"
            ]
        }
    ],
    "metadata": {
        "kernelspec": {
            "display_name": "bio-proj",
            "language": "python",
            "name": "python3"
        },
        "language_info": {
            "codemirror_mode": {
                "name": "ipython",
                "version": 3
            },
            "file_extension": ".py",
            "mimetype": "text/x-python",
            "name": "python",
            "nbconvert_exporter": "python",
            "pygments_lexer": "ipython3",
            "version": "3.12.2"
        }
    },
    "nbformat": 4,
    "nbformat_minor": 2
}
