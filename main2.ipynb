{
    "cells": [
        {
            "cell_type": "code",
            "execution_count": 1,
            "metadata": {},
            "outputs": [],
            "source": [
                "import cv2 as cv\n",
                "import numpy as np\n",
                "import pandas as pd\n",
                "import PIL\n",
                "import matplotlib\n",
                "import matplotlib.pyplot as plt\n",
                "import seaborn as sns\n",
                "\n",
                "from evaluation.vlc import VLC\n",
                "from utils.path_utils import Files\n",
                "from evaluation.simulator import TimingConfig\n",
                "from evaluation.analysis import Plotter\n",
                "\n",
                "%matplotlib qt\n",
                "pd.options.display.max_columns = 30"
            ]
        },
        {
            "cell_type": "code",
            "execution_count": 2,
            "metadata": {},
            "outputs": [
                {
                    "name": "stdout",
                    "output_type": "stream",
                    "text": [
                        "[[0.5 1.5]\n",
                        " [1.5 2.5]\n",
                        " [2.5 4.5]]\n"
                    ]
                },
                {
                    "data": {
                        "text/plain": [
                            "array([[0.5 , 0.5 ],\n",
                            "       [0.25, 0.5 ]])"
                        ]
                    },
                    "execution_count": 2,
                    "metadata": {},
                    "output_type": "execute_result"
                }
            ],
            "source": [
                "from dataset.bbox_utils import *\n",
                "import numpy as np\n",
                "delta = np.array([[2],[4]])\n",
                "boxes = np.ones((3,4))\n",
                "boxes[:,0] = range(3)\n",
                "boxes[:,1] = [1,2,4]\n",
                "\n",
                "center = BoxUtils.center(boxes)\n",
                "print(center)\n",
                "np.diff(center, n=1, axis=0) / delta\n"
            ]
        },
        {
            "cell_type": "markdown",
            "metadata": {},
            "source": [
                "# Analysis"
            ]
        },
        {
            "cell_type": "markdown",
            "metadata": {},
            "source": [
                "## VLC"
            ]
        },
        {
            "cell_type": "code",
            "execution_count": 3,
            "metadata": {},
            "outputs": [],
            "source": [
                "\n",
                "# directory = \"/Users/guycohen/Desktop/Bio-Project/eval/micro\"\n",
                "# files = Files(directory, extension='png', sorting_key=lambda f: int(f.split('_')[-1].split('.')[0]))\n",
                "# timing_config = TimingConfig.load_json(\"/Users/guycohen/Desktop/Bio-Project/time_config.json\")\n",
                "# log_path = \"/Users/guycohen/Desktop/Bio-Project/eval/bboxes2.csv\"\n"
            ]
        },
        {
            "cell_type": "code",
            "execution_count": 4,
            "metadata": {},
            "outputs": [],
            "source": [
                "# vlc = VLC(files, timing_config, log_path, 'mic')\n",
                "# vlc.mainloop()"
            ]
        },
        {
            "cell_type": "markdown",
            "metadata": {},
            "source": [
                "## Plots"
            ]
        },
        {
            "cell_type": "code",
            "execution_count": 5,
            "metadata": {},
            "outputs": [],
            "source": [
                "def cond(df: pd.DataFrame, threshold: float=1.5) -> pd.DataFrame:\n",
                "    mask1 = (df['cycle_step'] == 14) & (df['worm_center_dist'] > threshold)\n",
                "    cycles = df[mask1]['cycle'].unique()\n",
                "    return df['cycle'].isin(cycles)\n",
                "\n",
                "def cond_imaging(df:pd.DataFrame) -> pd.DataFrame:\n",
                "    return df['phase'] == 'imaging'\n",
                "\n",
                "def rolling_avg(data, col, window_size=5):\n",
                "    data[col+'_avg'] = Plotter.rolling_average(data, window_size=window_size, column=col)\n",
                "    return data"
            ]
        },
        {
            "cell_type": "code",
            "execution_count": 6,
            "metadata": {},
            "outputs": [],
            "source": [
                "\n",
                "# original_log_path = \"/Users/guycohen/Desktop/Bio-Project/eval/bboxes2.csv\"\n",
                "# log_path = \"/Users/guycohen/Desktop/Bio-Project/eval_corrected_movement/bboxes.csv\"\n",
                "# log_path = \"/Users/guycohen/Desktop/Bio-Project/Optimal/bboxes.csv\"\n",
                "log_path = \"/Users/guycohen/Desktop/Bio-Project/Controller2/bboxes.csv\"\n",
                "timing_config = TimingConfig.load_json(\"/Users/guycohen/Desktop/Bio-Project/time_config.json\")\n",
                "\n",
                "pltr = Plotter(log_path, timing_config)\n",
                "# pltr_orig = Plotter(original_log_path, timing_config)"
            ]
        },
        {
            "cell_type": "code",
            "execution_count": 7,
            "metadata": {},
            "outputs": [
                {
                    "name": "stdout",
                    "output_type": "stream",
                    "text": [
                        "##################### No Preds #####################\n",
                        "Num of No Preds: 3\n",
                        "No prediction in frames: [21997, 22004, 61199]\n",
                        "corresponding cycle steps: [7, 14, 14]\n",
                        "##################### Cycles #####################\n",
                        "Num of cycles: 4080\n",
                        "##################### Area Diff #####################\n",
                        "Non Perfect Predictions: 37.254%\n",
                        "##################### General #####################\n"
                    ]
                },
                {
                    "data": {
                        "text/html": [
                            "<div>\n",
                            "<style scoped>\n",
                            "    .dataframe tbody tr th:only-of-type {\n",
                            "        vertical-align: middle;\n",
                            "    }\n",
                            "\n",
                            "    .dataframe tbody tr th {\n",
                            "        vertical-align: top;\n",
                            "    }\n",
                            "\n",
                            "    .dataframe thead th {\n",
                            "        text-align: right;\n",
                            "    }\n",
                            "</style>\n",
                            "<table border=\"1\" class=\"dataframe\">\n",
                            "  <thead>\n",
                            "    <tr style=\"text-align: right;\">\n",
                            "      <th></th>\n",
                            "      <th>frame</th>\n",
                            "      <th>cycle</th>\n",
                            "      <th>plt_x</th>\n",
                            "      <th>plt_y</th>\n",
                            "      <th>cam_x</th>\n",
                            "      <th>cam_y</th>\n",
                            "      <th>cam_w</th>\n",
                            "      <th>cam_h</th>\n",
                            "      <th>mic_x</th>\n",
                            "      <th>mic_y</th>\n",
                            "      <th>mic_w</th>\n",
                            "      <th>mic_h</th>\n",
                            "      <th>wrm_x</th>\n",
                            "      <th>wrm_y</th>\n",
                            "      <th>wrm_w</th>\n",
                            "      <th>wrm_h</th>\n",
                            "      <th>cycle_step</th>\n",
                            "      <th>wrm_center_x</th>\n",
                            "      <th>wrm_center_y</th>\n",
                            "      <th>mic_center_x</th>\n",
                            "      <th>mic_center_y</th>\n",
                            "      <th>wrm_speed</th>\n",
                            "      <th>wrm_speed_x</th>\n",
                            "      <th>wrm_speed_y</th>\n",
                            "      <th>bbox_area_diff</th>\n",
                            "      <th>bbox_edge_diff</th>\n",
                            "      <th>worm_angle</th>\n",
                            "      <th>worm_deviation_x</th>\n",
                            "      <th>worm_deviation_y</th>\n",
                            "      <th>worm_deviation</th>\n",
                            "    </tr>\n",
                            "  </thead>\n",
                            "  <tbody>\n",
                            "    <tr>\n",
                            "      <th>count</th>\n",
                            "      <td>61182.000000</td>\n",
                            "      <td>61182.000000</td>\n",
                            "      <td>61182.000000</td>\n",
                            "      <td>61182.000000</td>\n",
                            "      <td>61182.000000</td>\n",
                            "      <td>61182.000000</td>\n",
                            "      <td>61182.0</td>\n",
                            "      <td>61182.0</td>\n",
                            "      <td>61182.000000</td>\n",
                            "      <td>61182.000000</td>\n",
                            "      <td>61182.0</td>\n",
                            "      <td>61182.0</td>\n",
                            "      <td>61182.000000</td>\n",
                            "      <td>61182.000000</td>\n",
                            "      <td>61182.000000</td>\n",
                            "      <td>61182.000000</td>\n",
                            "      <td>61182.000000</td>\n",
                            "      <td>61182.000000</td>\n",
                            "      <td>61182.000000</td>\n",
                            "      <td>61182.000000</td>\n",
                            "      <td>61182.000000</td>\n",
                            "      <td>61182.000000</td>\n",
                            "      <td>61182.000000</td>\n",
                            "      <td>61182.000000</td>\n",
                            "      <td>6.118200e+04</td>\n",
                            "      <td>61182.000000</td>\n",
                            "      <td>61182.000000</td>\n",
                            "      <td>61182.000000</td>\n",
                            "      <td>61182.000000</td>\n",
                            "      <td>61182.000000</td>\n",
                            "    </tr>\n",
                            "    <tr>\n",
                            "      <th>mean</th>\n",
                            "      <td>30606.781325</td>\n",
                            "      <td>2039.985437</td>\n",
                            "      <td>1266.047743</td>\n",
                            "      <td>1121.192622</td>\n",
                            "      <td>1266.047743</td>\n",
                            "      <td>1121.192622</td>\n",
                            "      <td>360.0</td>\n",
                            "      <td>360.0</td>\n",
                            "      <td>1436.047743</td>\n",
                            "      <td>1291.192622</td>\n",
                            "      <td>20.0</td>\n",
                            "      <td>20.0</td>\n",
                            "      <td>1440.064808</td>\n",
                            "      <td>1294.509149</td>\n",
                            "      <td>12.050882</td>\n",
                            "      <td>13.216355</td>\n",
                            "      <td>6.999771</td>\n",
                            "      <td>1446.090249</td>\n",
                            "      <td>1301.117326</td>\n",
                            "      <td>1446.047743</td>\n",
                            "      <td>1301.192622</td>\n",
                            "      <td>0.207497</td>\n",
                            "      <td>0.003301</td>\n",
                            "      <td>-0.006391</td>\n",
                            "      <td>5.019177e-02</td>\n",
                            "      <td>0.750182</td>\n",
                            "      <td>-0.081822</td>\n",
                            "      <td>0.042506</td>\n",
                            "      <td>-0.075296</td>\n",
                            "      <td>2.596267</td>\n",
                            "    </tr>\n",
                            "    <tr>\n",
                            "      <th>std</th>\n",
                            "      <td>17662.663921</td>\n",
                            "      <td>1177.510902</td>\n",
                            "      <td>192.782035</td>\n",
                            "      <td>215.124933</td>\n",
                            "      <td>192.782035</td>\n",
                            "      <td>215.124933</td>\n",
                            "      <td>0.0</td>\n",
                            "      <td>0.0</td>\n",
                            "      <td>192.782035</td>\n",
                            "      <td>215.124933</td>\n",
                            "      <td>0.0</td>\n",
                            "      <td>0.0</td>\n",
                            "      <td>192.955573</td>\n",
                            "      <td>215.319167</td>\n",
                            "      <td>3.071914</td>\n",
                            "      <td>3.212946</td>\n",
                            "      <td>4.320450</td>\n",
                            "      <td>192.808859</td>\n",
                            "      <td>215.153416</td>\n",
                            "      <td>192.782035</td>\n",
                            "      <td>215.124933</td>\n",
                            "      <td>0.176863</td>\n",
                            "      <td>0.183380</td>\n",
                            "      <td>0.201634</td>\n",
                            "      <td>1.049594e-01</td>\n",
                            "      <td>1.503968</td>\n",
                            "      <td>1.778381</td>\n",
                            "      <td>2.314477</td>\n",
                            "      <td>2.535469</td>\n",
                            "      <td>2.247703</td>\n",
                            "    </tr>\n",
                            "    <tr>\n",
                            "      <th>min</th>\n",
                            "      <td>15.000000</td>\n",
                            "      <td>1.000000</td>\n",
                            "      <td>885.000000</td>\n",
                            "      <td>541.000000</td>\n",
                            "      <td>885.000000</td>\n",
                            "      <td>541.000000</td>\n",
                            "      <td>360.0</td>\n",
                            "      <td>360.0</td>\n",
                            "      <td>1055.000000</td>\n",
                            "      <td>711.000000</td>\n",
                            "      <td>20.0</td>\n",
                            "      <td>20.0</td>\n",
                            "      <td>1055.408157</td>\n",
                            "      <td>712.498398</td>\n",
                            "      <td>5.599228</td>\n",
                            "      <td>5.907318</td>\n",
                            "      <td>0.000000</td>\n",
                            "      <td>1063.626976</td>\n",
                            "      <td>720.871139</td>\n",
                            "      <td>1065.000000</td>\n",
                            "      <td>721.000000</td>\n",
                            "      <td>0.000042</td>\n",
                            "      <td>-1.344165</td>\n",
                            "      <td>-1.366954</td>\n",
                            "      <td>-2.349879e-14</td>\n",
                            "      <td>0.000000</td>\n",
                            "      <td>-3.119770</td>\n",
                            "      <td>-18.903076</td>\n",
                            "      <td>-19.031426</td>\n",
                            "      <td>0.001102</td>\n",
                            "    </tr>\n",
                            "    <tr>\n",
                            "      <th>25%</th>\n",
                            "      <td>15310.250000</td>\n",
                            "      <td>1020.000000</td>\n",
                            "      <td>1149.000000</td>\n",
                            "      <td>1028.000000</td>\n",
                            "      <td>1149.000000</td>\n",
                            "      <td>1028.000000</td>\n",
                            "      <td>360.0</td>\n",
                            "      <td>360.0</td>\n",
                            "      <td>1319.000000</td>\n",
                            "      <td>1198.000000</td>\n",
                            "      <td>20.0</td>\n",
                            "      <td>20.0</td>\n",
                            "      <td>1323.442200</td>\n",
                            "      <td>1200.018482</td>\n",
                            "      <td>9.541931</td>\n",
                            "      <td>10.766243</td>\n",
                            "      <td>3.000000</td>\n",
                            "      <td>1329.225451</td>\n",
                            "      <td>1207.887367</td>\n",
                            "      <td>1329.000000</td>\n",
                            "      <td>1208.000000</td>\n",
                            "      <td>0.067227</td>\n",
                            "      <td>-0.081267</td>\n",
                            "      <td>-0.104939</td>\n",
                            "      <td>-2.278495e-15</td>\n",
                            "      <td>0.000000</td>\n",
                            "      <td>-1.718033</td>\n",
                            "      <td>-0.974853</td>\n",
                            "      <td>-1.238764</td>\n",
                            "      <td>0.842819</td>\n",
                            "    </tr>\n",
                            "    <tr>\n",
                            "      <th>50%</th>\n",
                            "      <td>30607.500000</td>\n",
                            "      <td>2040.000000</td>\n",
                            "      <td>1168.000000</td>\n",
                            "      <td>1180.000000</td>\n",
                            "      <td>1168.000000</td>\n",
                            "      <td>1180.000000</td>\n",
                            "      <td>360.0</td>\n",
                            "      <td>360.0</td>\n",
                            "      <td>1338.000000</td>\n",
                            "      <td>1350.000000</td>\n",
                            "      <td>20.0</td>\n",
                            "      <td>20.0</td>\n",
                            "      <td>1341.224594</td>\n",
                            "      <td>1351.891373</td>\n",
                            "      <td>11.856727</td>\n",
                            "      <td>14.264656</td>\n",
                            "      <td>7.000000</td>\n",
                            "      <td>1348.435383</td>\n",
                            "      <td>1359.523685</td>\n",
                            "      <td>1348.000000</td>\n",
                            "      <td>1360.000000</td>\n",
                            "      <td>0.174804</td>\n",
                            "      <td>0.000382</td>\n",
                            "      <td>-0.003461</td>\n",
                            "      <td>7.166434e-15</td>\n",
                            "      <td>0.000000</td>\n",
                            "      <td>-0.169764</td>\n",
                            "      <td>0.019516</td>\n",
                            "      <td>-0.080544</td>\n",
                            "      <td>2.060195</td>\n",
                            "    </tr>\n",
                            "    <tr>\n",
                            "      <th>75%</th>\n",
                            "      <td>45902.750000</td>\n",
                            "      <td>3060.000000</td>\n",
                            "      <td>1490.000000</td>\n",
                            "      <td>1260.000000</td>\n",
                            "      <td>1490.000000</td>\n",
                            "      <td>1260.000000</td>\n",
                            "      <td>360.0</td>\n",
                            "      <td>360.0</td>\n",
                            "      <td>1660.000000</td>\n",
                            "      <td>1430.000000</td>\n",
                            "      <td>20.0</td>\n",
                            "      <td>20.0</td>\n",
                            "      <td>1663.674500</td>\n",
                            "      <td>1434.789707</td>\n",
                            "      <td>14.520523</td>\n",
                            "      <td>15.803734</td>\n",
                            "      <td>11.000000</td>\n",
                            "      <td>1669.568335</td>\n",
                            "      <td>1440.430336</td>\n",
                            "      <td>1670.000000</td>\n",
                            "      <td>1440.000000</td>\n",
                            "      <td>0.299967</td>\n",
                            "      <td>0.082204</td>\n",
                            "      <td>0.087413</td>\n",
                            "      <td>5.758979e-02</td>\n",
                            "      <td>0.889996</td>\n",
                            "      <td>1.402337</td>\n",
                            "      <td>0.989445</td>\n",
                            "      <td>1.049888</td>\n",
                            "      <td>3.664127</td>\n",
                            "    </tr>\n",
                            "    <tr>\n",
                            "      <th>max</th>\n",
                            "      <td>61198.000000</td>\n",
                            "      <td>4079.000000</td>\n",
                            "      <td>1549.000000</td>\n",
                            "      <td>1389.000000</td>\n",
                            "      <td>1549.000000</td>\n",
                            "      <td>1389.000000</td>\n",
                            "      <td>360.0</td>\n",
                            "      <td>360.0</td>\n",
                            "      <td>1719.000000</td>\n",
                            "      <td>1559.000000</td>\n",
                            "      <td>20.0</td>\n",
                            "      <td>20.0</td>\n",
                            "      <td>1726.091202</td>\n",
                            "      <td>1560.643234</td>\n",
                            "      <td>19.665741</td>\n",
                            "      <td>19.883560</td>\n",
                            "      <td>14.000000</td>\n",
                            "      <td>1729.797531</td>\n",
                            "      <td>1569.973503</td>\n",
                            "      <td>1729.000000</td>\n",
                            "      <td>1569.000000</td>\n",
                            "      <td>1.596883</td>\n",
                            "      <td>1.032538</td>\n",
                            "      <td>1.590397</td>\n",
                            "      <td>1.000000e+00</td>\n",
                            "      <td>17.423416</td>\n",
                            "      <td>3.141593</td>\n",
                            "      <td>15.599251</td>\n",
                            "      <td>18.332169</td>\n",
                            "      <td>21.259516</td>\n",
                            "    </tr>\n",
                            "  </tbody>\n",
                            "</table>\n",
                            "</div>"
                        ],
                        "text/plain": [
                            "              frame         cycle         plt_x         plt_y         cam_x  \\\n",
                            "count  61182.000000  61182.000000  61182.000000  61182.000000  61182.000000   \n",
                            "mean   30606.781325   2039.985437   1266.047743   1121.192622   1266.047743   \n",
                            "std    17662.663921   1177.510902    192.782035    215.124933    192.782035   \n",
                            "min       15.000000      1.000000    885.000000    541.000000    885.000000   \n",
                            "25%    15310.250000   1020.000000   1149.000000   1028.000000   1149.000000   \n",
                            "50%    30607.500000   2040.000000   1168.000000   1180.000000   1168.000000   \n",
                            "75%    45902.750000   3060.000000   1490.000000   1260.000000   1490.000000   \n",
                            "max    61198.000000   4079.000000   1549.000000   1389.000000   1549.000000   \n",
                            "\n",
                            "              cam_y    cam_w    cam_h         mic_x         mic_y    mic_w  \\\n",
                            "count  61182.000000  61182.0  61182.0  61182.000000  61182.000000  61182.0   \n",
                            "mean    1121.192622    360.0    360.0   1436.047743   1291.192622     20.0   \n",
                            "std      215.124933      0.0      0.0    192.782035    215.124933      0.0   \n",
                            "min      541.000000    360.0    360.0   1055.000000    711.000000     20.0   \n",
                            "25%     1028.000000    360.0    360.0   1319.000000   1198.000000     20.0   \n",
                            "50%     1180.000000    360.0    360.0   1338.000000   1350.000000     20.0   \n",
                            "75%     1260.000000    360.0    360.0   1660.000000   1430.000000     20.0   \n",
                            "max     1389.000000    360.0    360.0   1719.000000   1559.000000     20.0   \n",
                            "\n",
                            "         mic_h         wrm_x         wrm_y         wrm_w         wrm_h  \\\n",
                            "count  61182.0  61182.000000  61182.000000  61182.000000  61182.000000   \n",
                            "mean      20.0   1440.064808   1294.509149     12.050882     13.216355   \n",
                            "std        0.0    192.955573    215.319167      3.071914      3.212946   \n",
                            "min       20.0   1055.408157    712.498398      5.599228      5.907318   \n",
                            "25%       20.0   1323.442200   1200.018482      9.541931     10.766243   \n",
                            "50%       20.0   1341.224594   1351.891373     11.856727     14.264656   \n",
                            "75%       20.0   1663.674500   1434.789707     14.520523     15.803734   \n",
                            "max       20.0   1726.091202   1560.643234     19.665741     19.883560   \n",
                            "\n",
                            "         cycle_step  wrm_center_x  wrm_center_y  mic_center_x  mic_center_y  \\\n",
                            "count  61182.000000  61182.000000  61182.000000  61182.000000  61182.000000   \n",
                            "mean       6.999771   1446.090249   1301.117326   1446.047743   1301.192622   \n",
                            "std        4.320450    192.808859    215.153416    192.782035    215.124933   \n",
                            "min        0.000000   1063.626976    720.871139   1065.000000    721.000000   \n",
                            "25%        3.000000   1329.225451   1207.887367   1329.000000   1208.000000   \n",
                            "50%        7.000000   1348.435383   1359.523685   1348.000000   1360.000000   \n",
                            "75%       11.000000   1669.568335   1440.430336   1670.000000   1440.000000   \n",
                            "max       14.000000   1729.797531   1569.973503   1729.000000   1569.000000   \n",
                            "\n",
                            "          wrm_speed   wrm_speed_x   wrm_speed_y  bbox_area_diff  \\\n",
                            "count  61182.000000  61182.000000  61182.000000    6.118200e+04   \n",
                            "mean       0.207497      0.003301     -0.006391    5.019177e-02   \n",
                            "std        0.176863      0.183380      0.201634    1.049594e-01   \n",
                            "min        0.000042     -1.344165     -1.366954   -2.349879e-14   \n",
                            "25%        0.067227     -0.081267     -0.104939   -2.278495e-15   \n",
                            "50%        0.174804      0.000382     -0.003461    7.166434e-15   \n",
                            "75%        0.299967      0.082204      0.087413    5.758979e-02   \n",
                            "max        1.596883      1.032538      1.590397    1.000000e+00   \n",
                            "\n",
                            "       bbox_edge_diff    worm_angle  worm_deviation_x  worm_deviation_y  \\\n",
                            "count    61182.000000  61182.000000      61182.000000      61182.000000   \n",
                            "mean         0.750182     -0.081822          0.042506         -0.075296   \n",
                            "std          1.503968      1.778381          2.314477          2.535469   \n",
                            "min          0.000000     -3.119770        -18.903076        -19.031426   \n",
                            "25%          0.000000     -1.718033         -0.974853         -1.238764   \n",
                            "50%          0.000000     -0.169764          0.019516         -0.080544   \n",
                            "75%          0.889996      1.402337          0.989445          1.049888   \n",
                            "max         17.423416      3.141593         15.599251         18.332169   \n",
                            "\n",
                            "       worm_deviation  \n",
                            "count    61182.000000  \n",
                            "mean         2.596267  \n",
                            "std          2.247703  \n",
                            "min          0.001102  \n",
                            "25%          0.842819  \n",
                            "50%          2.060195  \n",
                            "75%          3.664127  \n",
                            "max         21.259516  "
                        ]
                    },
                    "metadata": {},
                    "output_type": "display_data"
                }
            ],
            "source": [
                "data = pltr.print_statistics(n=10)\n",
                "# data_orig = pltr_orig.print_statistics()"
            ]
        },
        {
            "cell_type": "code",
            "execution_count": null,
            "metadata": {},
            "outputs": [],
            "source": [
                "(data['mic_center_x'] - data['wrm_center_x']).hist(bins=15)"
            ]
        },
        {
            "cell_type": "code",
            "execution_count": null,
            "metadata": {},
            "outputs": [],
            "source": [
                "sns.scatterplot(data=data, x='frame', y='worm_deviation', hue='wrm_speed')"
            ]
        },
        {
            "cell_type": "code",
            "execution_count": 17,
            "metadata": {},
            "outputs": [],
            "source": [
                "def plot_histogram(pltr, x_col:str, n:int=1, hue=None, condition=None, **kwargs):\n",
                "    data = pltr.data_prep_frames(n=n)\n",
                "    \n",
                "    if condition is not None:\n",
                "            data = data[condition(data)]\n",
                "    fig, ax = plt.subplots()\n",
                "    sns.histplot(data=data, x=x_col, hue=hue,stat='density', **kwargs)\n",
                "\n",
                "def plot_jointplot(pltr, x_col:str, y_col:str, n:int=1, kind:str='scatter', hue=None, condition=None, transform=None, **kwargs):\n",
                "    data = pltr.data_prep_frames(n=n)\n",
                "    \n",
                "    if transform is not None:\n",
                "        data = transform(data)\n",
                "        \n",
                "    if condition is not None:\n",
                "            data = data[condition(data)]\n",
                "    \n",
                "    sns.jointplot(data=data, x=x_col, y=y_col, hue=hue, kind=kind, **kwargs)\n",
                "\n",
                "# plot_histogram(pltr, 'worm_deviation', n=15, hue='worm_deviation')"
            ]
        },
        {
            "cell_type": "code",
            "execution_count": null,
            "metadata": {},
            "outputs": [],
            "source": [
                "plot_jointplot(pltr, 'wrm_speed', 'worm_deviation', n=5, kind='scatter')"
            ]
        },
        {
            "cell_type": "code",
            "execution_count": null,
            "metadata": {},
            "outputs": [],
            "source": [
                "plot_jointplot(pltr, x_col='wrm_speed_x', y_col='wrm_speed_y', n=5, kind='scatter', hue='worm_angle_avg', transform=lambda data: rolling_avg(data, 'worm_angle', window_size=5))"
            ]
        },
        {
            "cell_type": "code",
            "execution_count": 18,
            "metadata": {},
            "outputs": [
                {
                    "name": "stderr",
                    "output_type": "stream",
                    "text": [
                        "/Users/guycohen/opt/anaconda3/envs/bio-proj/lib/python3.12/site-packages/seaborn/_oldcore.py:1119: FutureWarning: use_inf_as_na option is deprecated and will be removed in a future version. Convert inf values to NaN before operating instead.\n",
                        "  with pd.option_context('mode.use_inf_as_na', True):\n"
                    ]
                }
            ],
            "source": [
                "plot_histogram(pltr, x_col='bbox_area_diff', condition=lambda df: df['bbox_area_diff'] > 1e-3)"
            ]
        },
        {
            "cell_type": "code",
            "execution_count": null,
            "metadata": {},
            "outputs": [],
            "source": [
                "def avg_speed(data:pd.DataFrame, n_list:list[int]=[10]) -> np.ndarray:\n",
                "    data = data.copy()\n",
                "    \n",
                "    wrm_speed_x = np.zeros(len(data['frame']))\n",
                "    wrm_speed_y = np.zeros(len(data['frame']))\n",
                "    for n in n_list:\n",
                "        wrm_speed_x += data[\"wrm_center_x\"].diff(n) / len(n_list)\n",
                "        wrm_speed_y += data[\"wrm_center_y\"].diff(n) / len(n_list)\n",
                "        # avgs.append(Plotter.worm_angle(data, n=n))\n",
                "    # mean of all averages\n",
                "    data['wrm_speed_x_avg'] = wrm_speed_x\n",
                "    data['wrm_speed_y_avg'] = wrm_speed_y\n",
                "    return data\n",
                "\n",
                "def worm_angle(data:pd.DataFrame, n:int=15) -> np.ndarray:\n",
                "    data = data.copy()\n",
                "\n",
                "    wrm_speed_x = data[\"wrm_center_x\"].diff(n) / n\n",
                "    wrm_speed_y = data[\"wrm_center_y\"].diff(n) / n\n",
                "    angle_speed = np.arctan2(wrm_speed_y, wrm_speed_x)\n",
                "\n",
                "    min_h, min_w = np.min(data[\"wrm_h\"]), np.min(data[\"wrm_w\"])\n",
                "    x_sign = np.sign(data[\"wrm_center_x\"].diff(3))\n",
                "    y_sign = np.sign(data[\"wrm_center_y\"].diff(3))\n",
                "    # data['wrm_speed_x_avg'] = (data['wrm_w']-min_w)*x_sign\n",
                "    # data['wrm_speed_y_avg'] = (data['wrm_h']-min_h)*y_sign\n",
                "    angle = np.arctan2((data['wrm_h']-min_h)*y_sign, (data['wrm_w']-min_w)*x_sign)\n",
                "\n",
                "    angle_diff = np.abs(angle - angle_speed) / (2*np.pi)\n",
                "    data['wrm_speed_x_avg'] = wrm_speed_x * (1-angle_diff)\n",
                "    data['wrm_speed_y_avg'] = wrm_speed_y * (1-angle_diff)\n",
                "    return data"
            ]
        },
        {
            "cell_type": "code",
            "execution_count": null,
            "metadata": {},
            "outputs": [],
            "source": [
                "def plot_flow(pltr, x_col:str, y_col:str, n:int=1, kind:str='scatter', hue=None, condition=None, transform=None, **kwargs):\n",
                "    data = pltr.data_prep_frames(n=n)\n",
                "    \n",
                "    if transform is not None:\n",
                "        data = transform(data)\n",
                "        \n",
                "    if condition is not None:\n",
                "            data = data[condition(data)]\n",
                "    \n",
                "    # cmap = sns.color_palette(\"husl\", as_cmap=True, n_colors=len(data['frame']))\n",
                "    fig, ax = plt.subplots()\n",
                "    plt.quiver(data[x_col], data[y_col], data['wrm_speed_x_avg'], data['wrm_speed_y_avg'], np.linspace(0,1,len(data['frame'])), **kwargs)\n",
                "    ax.invert_yaxis()\n",
                "    ax.grid()\n",
                "\n",
                "\n",
                "# plot_flow(pltr, x_col='wrm_center_x', y_col='wrm_center_y', n=15, angles='xy', transform=lambda data: rolling_avg(data, 'worm_angle', window_size=1))\n",
                "plot_flow(pltr, x_col='wrm_center_x', y_col='wrm_center_y', n=5, angles='xy', scale_units='xy', scale=1,\n",
                "          transform=lambda df: worm_angle(df, 15), \n",
                "        #   condition=lambda df: df['cycle_step'] == 9,\n",
                "          )"
            ]
        },
        {
            "cell_type": "code",
            "execution_count": null,
            "metadata": {},
            "outputs": [],
            "source": [
                "# cols = ['frame', 'cycle', 'plt_x', 'plt_y', 'cam_x', 'cam_y', 'cam_w',\n",
                "#        'cam_h', 'mic_x', 'mic_y', 'mic_w', 'mic_h', 'wrm_x', 'wrm_y', 'wrm_w',\n",
                "#        'wrm_h', 'wrm_center_x', 'wrm_center_y', 'mic_center_x', 'mic_center_y',\n",
                "#        'wrm_speed', 'bbox_area_diff', 'bbox_edge_diff']\n",
                "\n",
                "\n",
                "# (data[cols] - data_orig[cols]).describe()"
            ]
        },
        {
            "cell_type": "code",
            "execution_count": null,
            "metadata": {},
            "outputs": [],
            "source": [
                "data.columns"
            ]
        },
        {
            "cell_type": "code",
            "execution_count": null,
            "metadata": {},
            "outputs": [],
            "source": [
                "\n",
                "pltr.plot_2d_deviation(n=2, hue='cycle_step')"
            ]
        },
        {
            "cell_type": "code",
            "execution_count": null,
            "metadata": {},
            "outputs": [],
            "source": [
                "pltr.plot_deviation()"
            ]
        },
        {
            "cell_type": "code",
            "execution_count": null,
            "metadata": {},
            "outputs": [],
            "source": [
                "pltr.plot_area_vs_speed_guy(n=1, window_size=1, hue='phase')"
            ]
        },
        {
            "cell_type": "code",
            "execution_count": null,
            "metadata": {},
            "outputs": [],
            "source": [
                "pltr.plot_cycle_step_vs_speed()"
            ]
        },
        {
            "cell_type": "code",
            "execution_count": null,
            "metadata": {},
            "outputs": [],
            "source": [
                "pltr.plot_trajectory(n=15, hue='wrm_speed')"
            ]
        },
        {
            "cell_type": "code",
            "execution_count": null,
            "metadata": {},
            "outputs": [],
            "source": [
                "def plot_speed_vs_time(pltr, n: int = 1, window_size: int = 15, hue=None, condition=None) -> plt.Figure:\n",
                "        data = pltr.data_prep_frames(n=n)\n",
                "        data[\"wrm_speed_avg\"] = Plotter.rolling_average(data, window_size=window_size, column=\"wrm_speed\")\n",
                "        fig, ax = plt.subplots()\n",
                "        if condition is not None:\n",
                "            mask = condition(data) & mask\n",
                "        g = sns.histplot(data=data, x=\"wrm_speed\", ax=ax, hue=hue)\n",
                "        g.figure.suptitle(f\"n = {n}, rolling window = {window_size}\")\n",
                "        return g.figure"
            ]
        },
        {
            "cell_type": "code",
            "execution_count": null,
            "metadata": {},
            "outputs": [],
            "source": [
                "plot_speed_vs_time(pltr, n=15, window_size=1, hue='phase')"
            ]
        },
        {
            "cell_type": "code",
            "execution_count": null,
            "metadata": {},
            "outputs": [],
            "source": [
                "timing_config.mm_per_px / timing_config.ms_per_frame"
            ]
        },
        {
            "cell_type": "code",
            "execution_count": null,
            "metadata": {},
            "outputs": [],
            "source": [
                "def plot_2d_deviation_with_angle(pltr, n:int=1, hue=\"cycle_step\", condition=None) -> plt.Figure:\n",
                "        data = pltr.data_prep_frames(n=n)\n",
                "        data[\"worm_center_dist_x\"] = data[\"wrm_center_x\"] - data[\"mic_center_x\"]\n",
                "        data[\"worm_center_dist_y\"] = data[\"wrm_center_y\"] - data[\"mic_center_y\"]\n",
                "\n",
                "        data[\"cycle_step\"] = data[\"frame\"] % pltr.timing_config.cycle_length\n",
                "        min_h, min_w = np.min(data[\"wrm_h\"]), np.min(data[\"wrm_w\"])\n",
                "        x_sign = np.sign(data[\"wrm_center_x\"].diff(n))\n",
                "        y_sign = np.sign(data[\"wrm_center_y\"].diff(n))\n",
                "        data['angle'] = np.arctan2((data['wrm_h']-min_h)*y_sign, (data['wrm_w']-min_w)*x_sign)\n",
                "        if condition is not None:\n",
                "            data = data[condition(data)]\n",
                "        \n",
                "        # display(data.head(50))\n",
                "        # g = sns.histplot(data=data, x=\"angle\")\n",
                "        g = sns.jointplot(data=data, x=\"wrm_speed\", y=\"angle\", kind=\"scatter\", hue=hue, alpha=0.6)\n",
                "        # g = sns.jointplot(data=data, x=\"worm_center_dist_x\", y=\"worm_center_dist_y\", kind=\"scatter\", hue=hue, alpha=0.6)\n",
                "        # g.set_axis_labels(\"distance x\", \"distance y\")\n",
                "        # g.figure.suptitle(f\"distance between worm and microscope centers in each axis\")\n",
                "\n",
                "        return g.figure"
            ]
        },
        {
            "cell_type": "code",
            "execution_count": null,
            "metadata": {},
            "outputs": [],
            "source": [
                "plot_2d_deviation_with_angle(pltr, 5, hue=None, condition=lambda df: df['wrm_speed'] > -0.3)"
            ]
        },
        {
            "cell_type": "code",
            "execution_count": null,
            "metadata": {},
            "outputs": [],
            "source": [
                "def plot_area_vs_time(pltr:Plotter, n: int = 1, window_size: int = 15, hue=None, condition=None) -> plt.Figure:\n",
                "        data = pltr.data_prep_frames(n=n)\n",
                "        data[\"wrm_speed_avg\"] = Plotter.rolling_average(data, window_size=window_size, column=\"wrm_speed\")\n",
                "        data[\"worm_center_dist\"] = np.sqrt(\n",
                "            (data[\"wrm_center_x\"] - data[\"mic_center_x\"]) ** 2 + (data[\"wrm_center_y\"] - data[\"mic_center_y\"]) ** 2\n",
                "        )\n",
                "        data[\"cycle_step\"] = data[\"frame\"] % pltr.timing_config.cycle_length\n",
                "        data['angle'] = np.arctan2(data['wrm_w'], data['wrm_h'])\n",
                "        # fig, ax = plt.subplots()\n",
                "        mask = data[\"bbox_area_diff\"] > 1e-3\n",
                "        if condition is not None:\n",
                "            mask = condition(data) & mask\n",
                "        g = sns.jointplot(\n",
                "            data=data[mask], x=\"wrm_speed_avg\", y=\"worm_center_dist\", hue=hue, kind=\"scatter\", dropna=True)\n",
                "        g.figure.suptitle(f\"n = {n}, rolling window = {window_size}\")\n",
                "        return g.figure"
            ]
        },
        {
            "cell_type": "code",
            "execution_count": null,
            "metadata": {},
            "outputs": [],
            "source": [
                "plot_area_vs_time(pltr, n=18, window_size=1, hue='angle')"
            ]
        },
        {
            "cell_type": "code",
            "execution_count": null,
            "metadata": {},
            "outputs": [],
            "source": [
                "\n",
                "fig, ax = plt.subplots()\n",
                "sns.scatterplot(data=data, x='wrm_center_x', y='wrm_center_y', hue='frame', ax=ax, alpha=0.3, linewidth=0.2)\n",
                "ax.set_xlim(0)\n",
                "ax.set_ylim(0)\n",
                "ax.invert_yaxis()\n",
                "fig.tight_layout()\n",
                "plt.show()\n"
            ]
        },
        {
            "cell_type": "code",
            "execution_count": null,
            "metadata": {},
            "outputs": [],
            "source": [
                "data['wrm_speed_avg'] = pltr.rolling_average(data, window_size=15, column='wrm_speed')"
            ]
        },
        {
            "cell_type": "code",
            "execution_count": null,
            "metadata": {},
            "outputs": [],
            "source": [
                "data['marker_size'] = 0.1 + (data['bbox_area_diff'])*2"
            ]
        },
        {
            "cell_type": "code",
            "execution_count": null,
            "metadata": {},
            "outputs": [],
            "source": [
                "data['marker_size'].describe()"
            ]
        },
        {
            "cell_type": "code",
            "execution_count": null,
            "metadata": {},
            "outputs": [],
            "source": [
                "mask = pltr._data['wrm_w'] < 0\n",
                "pltr._data.loc[mask, 'wrm_w'] = 0\n",
                "\n",
                "mask = pltr._data['wrm_h'] < 0\n",
                "pltr._data.loc[mask, 'wrm_h'] = 0\n",
                "\n",
                "pltr._data['wrm_area'] = pltr._data['wrm_w'] * pltr._data['wrm_h']"
            ]
        },
        {
            "cell_type": "code",
            "execution_count": null,
            "metadata": {},
            "outputs": [],
            "source": [
                "pltr._data['wrm_area'].describe()"
            ]
        },
        {
            "cell_type": "code",
            "execution_count": null,
            "metadata": {},
            "outputs": [],
            "source": [
                "pltr._data[[\"wrm_w\", \"wrm_h\", 'bbox_area_diff']].describe()"
            ]
        },
        {
            "cell_type": "code",
            "execution_count": null,
            "metadata": {},
            "outputs": [],
            "source": [
                "(data['wrm_speed_avg'] > 2).sum()"
            ]
        },
        {
            "cell_type": "code",
            "execution_count": null,
            "metadata": {},
            "outputs": [],
            "source": [
                "(data['bbox_area_diff'] > 0.2).sum()/len(data.index)"
            ]
        },
        {
            "cell_type": "code",
            "execution_count": null,
            "metadata": {},
            "outputs": [],
            "source": [
                "pltr.remove_invalid_cycles(data)[[\"wrm_x\", \"wrm_y\", \"wrm_w\", \"wrm_h\"]].describe()"
            ]
        },
        {
            "cell_type": "code",
            "execution_count": null,
            "metadata": {},
            "outputs": [],
            "source": [
                "fig, ax = plt.subplots()\n",
                "sns.scatterplot(data=pltr._data, x='frame', y='wrm_speed_avg', hue='bbox_area_diff', ax=ax, s=8, linewidth=0.1)\n",
                "ax.set_ylim(0, 2)"
            ]
        },
        {
            "cell_type": "code",
            "execution_count": null,
            "metadata": {},
            "outputs": [],
            "source": [
                "fig, ax = plt.subplots()\n",
                "sns.scatterplot(data=pltr._data, x='wrm_speed_avg', y='bbox_area_diff', hue='wrm_area', ax=ax, s=8, linewidth=0.1)\n",
                "ax.set_xlim(0, 2)"
            ]
        },
        {
            "cell_type": "code",
            "execution_count": null,
            "metadata": {},
            "outputs": [],
            "source": [
                "data['residual'] = np.sqrt((data['wrm_center_x'] - data['mic_center_x'])**2 + (data['wrm_center_y'] - data['mic_center_y'])**2)"
            ]
        },
        {
            "cell_type": "code",
            "execution_count": null,
            "metadata": {},
            "outputs": [],
            "source": [
                "data['residual'].describe()"
            ]
        },
        {
            "cell_type": "code",
            "execution_count": null,
            "metadata": {},
            "outputs": [],
            "source": [
                "# data['diff_x'] = data['mic_x'].diff()\n",
                "# data['diff_y'] = data['mic_y'].diff()\n",
                "# sns.histplot(data=data, x='diff_y')"
            ]
        },
        {
            "cell_type": "code",
            "execution_count": null,
            "metadata": {},
            "outputs": [],
            "source": [
                "data['cycle_step'] = data['frame']%15"
            ]
        },
        {
            "cell_type": "code",
            "execution_count": null,
            "metadata": {},
            "outputs": [],
            "source": [
                "# fig, ax = plt.subplots()\n",
                "# sns.jointplot(data=data, x='cycle_step', y='residual', ax=ax, s=8, linewidth=0.1)\n",
                "sns.jointplot(data=data, x='cycle_step', y='wrm_speed', ax=ax, kind='hist')\n",
                "# sns.histplot(data=data, x='cycle_step', y='residual')"
            ]
        },
        {
            "cell_type": "code",
            "execution_count": null,
            "metadata": {},
            "outputs": [],
            "source": [
                "sns.catplot(data=data, x='cycle_step', y='wrm_speed', kind='violin')"
            ]
        },
        {
            "cell_type": "code",
            "execution_count": null,
            "metadata": {},
            "outputs": [],
            "source": [
                "%matplotlib inline\n",
                "for i in [1,2,4,8,15]:\n",
                "    data = pltr.data_prep_frames(i)\n",
                "    data['wrm_speed_avg'] = pltr.rolling_average(data, window_size=round(15/i), column='wrm_speed')\n",
                "    # fig, ax = plt.subplots()\n",
                "    mask = data['bbox_area_diff'] > 1e-3\n",
                "    g = sns.jointplot(data=data[mask], x='wrm_speed_avg', y='bbox_area_diff', kind='scatter', xlim=(0, 3), dropna=True)\n",
                "    g.fig.suptitle(f\"i = {i}, rolling window = {round(15/i)}\")\n"
            ]
        },
        {
            "cell_type": "code",
            "execution_count": null,
            "metadata": {},
            "outputs": [],
            "source": [
                "plt._data.dtypes"
            ]
        },
        {
            "cell_type": "markdown",
            "metadata": {},
            "source": [
                "# Run Simulation"
            ]
        },
        {
            "cell_type": "code",
            "execution_count": null,
            "metadata": {},
            "outputs": [],
            "source": [
                "from evaluation.simulator import *\n",
                "from evaluation.sim_controllers import *\n",
                "from dataset.raw_dataset import ExperimentConfig\n",
                "from dummy_reader import DummyReader\n",
                "from evaluation.motor_controllers import *\n",
                "\n",
                "base_path = \"/Users/guycohen/Desktop/Bio-Project/\""
            ]
        },
        {
            "cell_type": "markdown",
            "metadata": {},
            "source": [
                "## Run CSV Simulation"
            ]
        },
        {
            "cell_type": "code",
            "execution_count": null,
            "metadata": {},
            "outputs": [],
            "source": [
                "exp_base_path = base_path + \"Controller2\"\n",
                "\n",
                "time_config = TimingConfig.load_json(base_path + \"time_config.json\")\n",
                "# time_config = TimingConfig.load_json(base_path + \"time_config_medium_micro.json\")\n",
                "exp_config = ExperimentConfig.load_json(base_path + \"exp_config.json\")\n",
                "log_config = LogConfig(\n",
                "    root_folder=exp_base_path,\n",
                "    save_mic_view=False,\n",
                "    save_cam_view=False,\n",
                "    save_err_view=False,\n",
                ")"
            ]
        },
        {
            "cell_type": "code",
            "execution_count": null,
            "metadata": {},
            "outputs": [],
            "source": [
                "from evaluation.sim_controllers.test_controller1 import TestController1\n",
                "from evaluation.sim_controllers.guys_controllers import *\n",
                "from evaluation.sim_controllers.csv_controller import CsvController\n",
                "from evaluation.sim_controllers.optimal_controller import  OptimalController\n",
                "\n",
                "# controller = CsvController(time_config, \"/Users/guycohen/Desktop/Bio-Project/eval_corrected_movement/bboxes.csv\")\n",
                "\n",
                "# controller = TestController1(time_config, \"/Users/guycohen/Desktop/Bio-Project/eval/bboxes.csv\")\n",
                "controller = Controller2(time_config, \"/Users/guycohen/Desktop/Bio-Project/eval_corrected_movement/bboxes.csv\")\n",
                "# controller = OptimalController(time_config, \"/Users/guycohen/Desktop/Bio-Project/eval_corrected_movement/bboxes.csv\")\n"
            ]
        },
        {
            "cell_type": "code",
            "execution_count": null,
            "metadata": {},
            "outputs": [],
            "source": [
                "reader = DummyReader(exp_config)\n",
                "\n",
                "logging_controller = LoggingController(controller, log_config)\n",
                "motor_controller = SineMovementController(time_config)\n",
                "# motor_controller = SimpleMovementController(time_config, 0)\n",
                "\n",
                "sim = Simulator(time_config, exp_config, logging_controller, reader=None, motor_controller=motor_controller)"
            ]
        },
        {
            "cell_type": "code",
            "execution_count": null,
            "metadata": {},
            "outputs": [],
            "source": [
                "sim.run()\n",
                "time_config.save_json(exp_base_path + \"/time_config.json\")\n",
                "exp_config.save_json(exp_base_path + \"/exp_config.json\")"
            ]
        },
        {
            "cell_type": "markdown",
            "metadata": {},
            "source": [
                "## Real Simulation"
            ]
        },
        {
            "cell_type": "code",
            "execution_count": null,
            "metadata": {},
            "outputs": [],
            "source": [
                "# experiment_config = ExperimentConfig(\n",
                "#     name=\"exp1\",\n",
                "#     num_frames=61200,\n",
                "#     frames_per_sec=60,\n",
                "#     orig_resolution=(5300, 4600),\n",
                "#     px_per_mm=90,\n",
                "#     init_position=(1300, 1200),\n",
                "# )\n",
                "# experiment_config.save_json(\"/Users/guycohen/Desktop/Bio-Project/exp_config.json\")"
            ]
        },
        {
            "cell_type": "code",
            "execution_count": null,
            "metadata": {},
            "outputs": [],
            "source": [
                "\"\"\"time_config = TimingConfig(\n",
                "    frames_per_sec=60,\n",
                "    imaging_time_ms=200,\n",
                "    pred_time_ms=40,\n",
                "    moving_time_ms=50,\n",
                "    px_per_mm=90,\n",
                "    camera_size_mm=(4, 4),\n",
                "    micro_size_mm=(0.327, 0.327),\n",
                "    frame_padding_value=(255, 255, 255),\n",
                ")\n",
                "time_config.save_json(base_path+\"time_config_medium_micro.json\")\"\"\""
            ]
        },
        {
            "cell_type": "code",
            "execution_count": null,
            "metadata": {},
            "outputs": [],
            "source": [
                "\n",
                "\"\"\"time_config = TimingConfig(\n",
                "    frames_per_sec=60,\n",
                "    imaging_time_ms=200,\n",
                "    pred_time_ms=40,\n",
                "    moving_time_ms=50,\n",
                "    px_per_mm=90,\n",
                "    camera_size_mm=(4, 4),\n",
                "    micro_size_mm=(0.225, 0.225),\n",
                ")\n",
                "\n",
                "log_config = LogConfig(\n",
                "    root_folder=base_path,\n",
                "    save_mic_view=False,\n",
                "    save_cam_view=False,\n",
                ")\"\"\"\n",
                "\n",
                "# yolo_config = YoloConfig(model_path=\"yolov8m-trained.pt\") \n",
                "\n",
                "# time_config.save_json(base_path+\"time_config.json\")\n",
                "# log_config.save_json(base_path+\"csv_log_config.json\")\n",
                "# yolo_config.save_json(base_path++\"yolo_config.json\")\n",
                "\n",
                "\n",
                "# frames_path = \"Archive/\"\n",
                "# reader = FrameReader.create_from_directory(frames_path)\n",
                "\n",
                "# time_config = TimingConfig.load_json(\"logs/time_config.json\")\n",
                "# log_config = LogConfig.load_json(\"logs/log_config.json\")\n",
                "# yolo_config = YoloConfig.load_json(\"logs/yolo_config.json\")\n"
            ]
        },
        {
            "cell_type": "code",
            "execution_count": null,
            "metadata": {},
            "outputs": [],
            "source": [
                "print(time_config.imaging_frame_num + time_config.moving_frame_num)"
            ]
        },
        {
            "cell_type": "code",
            "execution_count": null,
            "metadata": {},
            "outputs": [],
            "source": [
                "\n",
                "controller = LoggingController(time_config, yolo_config, log_config)\n",
                "#controller = YoloController(time_config, yolo_config)\n",
                "sim = Simulator(time_config, reader, controller)"
            ]
        },
        {
            "cell_type": "code",
            "execution_count": null,
            "metadata": {},
            "outputs": [],
            "source": [
                "sim.run()"
            ]
        },
        {
            "cell_type": "code",
            "execution_count": null,
            "metadata": {},
            "outputs": [],
            "source": [
                "cv.destroyAllWindows()\n",
                "raise Exception(\"Finished\")"
            ]
        },
        {
            "cell_type": "code",
            "execution_count": null,
            "metadata": {},
            "outputs": [],
            "source": [
                "from frame_reader import FrameReader\n",
                "\n",
                "reader = FrameReader.create_from_directory(\"Archive/\")"
            ]
        },
        {
            "cell_type": "code",
            "execution_count": null,
            "metadata": {},
            "outputs": [],
            "source": [
                "from dataset.create.box_calculator import BoxCalculator\n",
                "from dataset.create.sample_extractor import SampleExtractor\n",
                "\n",
                "bbox_calc = BoxCalculator(reader)\n",
                "extractor = SampleExtractor(bbox_calc)\n",
                "extractor.create_all_samples(target_size=(400, 400), save_folder=\"samples\")"
            ]
        },
        {
            "cell_type": "code",
            "execution_count": null,
            "metadata": {},
            "outputs": [],
            "source": [
                "# TODO: IMPROVE\n",
                "def find_boxes(image: np.ndarray) -> np.ndarray:\n",
                "    # increase contrast of original image\n",
                "    image = cv.cvtColor(image, cv.COLOR_BGR2GRAY)\n",
                "\n",
                "    # remove gaussian noise\n",
                "    smoothed = cv.GaussianBlur(image, (3, 3), 0)\n",
                "\n",
                "    # apply threshold to image to convert it into black & white\n",
                "    _, mask = cv.threshold(smoothed, 160, 255, cv.THRESH_BINARY_INV)\n",
                "\n",
                "    # do some morphological magic to clean up noise from the mask\n",
                "    kernel = np.ones((5, 5), np.uint8)\n",
                "    mask = cv.morphologyEx(mask, cv.MORPH_OPEN, kernel)\n",
                "\n",
                "    # dilate to increase all object sizes in the mask\n",
                "    kernel = np.ones((3, 3), np.uint8)\n",
                "    mask = cv.dilate(mask, kernel, iterations=5)\n",
                "\n",
                "    image[mask == 0] = 255\n",
                "    cv.imshow(\"masked\", image)\n",
                "\n",
                "    # find contours\n",
                "    contours, _ = cv.findContours(mask, cv.RETR_EXTERNAL, cv.CHAIN_APPROX_SIMPLE)\n",
                "\n",
                "    # Populate bounding boxes\n",
                "    bbox_list = []\n",
                "    for c in contours:\n",
                "        area = cv.contourArea(c)\n",
                "\n",
                "        if area < 500 or area > 4000:\n",
                "            continue\n",
                "\n",
                "        box = cv.boundingRect(c)\n",
                "        bbox_list.append(box)\n",
                "\n",
                "    # Turn our bboxes into 2d ndarray\n",
                "    bboxes = np.asanyarray(bbox_list)\n",
                "    return bboxes"
            ]
        }
    ],
    "metadata": {
        "kernelspec": {
            "display_name": "bio-proj",
            "language": "python",
            "name": "python3"
        },
        "language_info": {
            "codemirror_mode": {
                "name": "ipython",
                "version": 3
            },
            "file_extension": ".py",
            "mimetype": "text/x-python",
            "name": "python",
            "nbconvert_exporter": "python",
            "pygments_lexer": "ipython3",
            "version": "3.12.3"
        }
    },
    "nbformat": 4,
    "nbformat_minor": 2
}
