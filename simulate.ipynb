{
 "cells": [
  {
   "cell_type": "code",
   "execution_count": 9,
   "metadata": {},
   "outputs": [],
   "source": [
    "from sim.simulator import *\n",
    "from sim.sim_controllers import *\n",
    "from sim.config import ExperimentConfig\n",
    "from sim.motor_controllers import *\n",
    "from utils.path_utils import join_paths\n",
    "from utils.gui_utils import UserPrompt"
   ]
  },
  {
   "cell_type": "markdown",
   "metadata": {},
   "source": [
    "# Configure the Simulation Parameters"
   ]
  },
  {
   "cell_type": "code",
   "execution_count": 4,
   "metadata": {},
   "outputs": [],
   "source": [
    "################################ User Input ################################\n",
    "\n",
    "# the input folder containing the logs of the experiment, i.e. the original bboxes.csv file and the experiment_config.json file\n",
    "# if None, the user will be prompted to select the directory\n",
    "input_folder = None\n",
    "\n",
    "# the path to save the output logs of the selected controller\n",
    "# if None, the user will be prompted to select the directory\n",
    "output_folder = \"logs\"\n",
    "\n",
    "############################################################################\n",
    "\n",
    "if input_folder is None:\n",
    "    input_folder = UserPrompt.open_directory(\"Select input directory containing the original logs of the experiment\")\n",
    "\n",
    "if output_folder is None:\n",
    "    output_folder = UserPrompt.open_directory(\"Select output directory to save the logs of the selected controller\")\n",
    "\n",
    "# The oath pointing to the original bboxes.csv log file\n",
    "input_log_path = join_paths(input_folder, \"bboxes2.csv\")\n",
    "\n",
    "print(f\"input folder: {input_folder}\")\n",
    "print(f\"output folder: {output_folder}\")"
   ]
  },
  {
   "cell_type": "code",
   "execution_count": 6,
   "metadata": {},
   "outputs": [],
   "source": [
    "# Load the experiment config\n",
    "experiment_config = ExperimentConfig.load_json(f\"{input_folder}/experiment_config.json\")\n",
    "\n",
    "# initialize the logging configuration\n",
    "# note that we do not save any images, since the simulator does not actually read\n",
    "# any images from the disk, instead it reads the bboxes.csv file row by row. That allows for a major speedup in the simulation process.\n",
    "# ONLY worth changing if you want to visualize the simulation, and if the simulator is provided with the original images.\n",
    "log_config = LogConfig(\n",
    "    root_folder=output_folder,\n",
    "    save_mic_view=False,\n",
    "    save_cam_view=False,\n",
    "    save_err_view=False,\n",
    ")\n",
    "\n",
    "################################ User Input ################################\n",
    "\n",
    "# initialize the timing configuration\n",
    "# changing this config changes the simulation settings, should remain the same \n",
    "# between different experiments\n",
    "time_config = TimingConfig(\n",
    "    imaging_time_ms=200,\n",
    "    pred_time_ms=40,\n",
    "    moving_time_ms=50,\n",
    "    camera_size_mm=(4, 4),\n",
    "    micro_size_mm=(0.32, 0.32),\n",
    "    experiment_config=experiment_config,\n",
    ")\n",
    "\n",
    "############################################################################"
   ]
  },
  {
   "cell_type": "markdown",
   "metadata": {},
   "source": [
    "# Choose a Controller\n",
    "Run the cell of the controller you need"
   ]
  },
  {
   "cell_type": "markdown",
   "metadata": {},
   "source": [
    "**MLP Controller**  \n",
    "Neural Network based location predictor."
   ]
  },
  {
   "cell_type": "code",
   "execution_count": 13,
   "metadata": {},
   "outputs": [],
   "source": [
    "import torch\n",
    "\n",
    "################################ User Input ################################\n",
    "\n",
    "# path to the MLP model file.\n",
    "# if None, the user will be prompted to select the file\n",
    "model_path = None  \n",
    "\n",
    "############################################################################\n",
    "\n",
    "if model_path is None:\n",
    "    model_path = UserPrompt.open_file(\"Select the model file\")\n",
    "\n",
    "# load the model and create the controller\n",
    "model: WormPredictor = torch.load(model_path)\n",
    "controller = MLPController(time_config, input_log_path, model, model.io_config)"
   ]
  },
  {
   "cell_type": "markdown",
   "metadata": {},
   "source": [
    "**Polyfit Controller**  \n",
    "Weighted polynomial fitting location predictor.\n",
    "The motion of the worm is fitted with a polynomial, which is afterwards used to predict the future location of the worm."
   ]
  },
  {
   "cell_type": "code",
   "execution_count": null,
   "metadata": {},
   "outputs": [],
   "source": [
    "## load configuration file and create the controller\n",
    "poly_config = PolyfitConfig.load_json()\n",
    "controller = PolyfitController(time_config, input_log_path)"
   ]
  },
  {
   "cell_type": "markdown",
   "metadata": {},
   "source": [
    "**Optimal Controller**  \n",
    "Approximation of the absolute best controller possible."
   ]
  },
  {
   "cell_type": "code",
   "execution_count": null,
   "metadata": {},
   "outputs": [],
   "source": [
    "controller = OptimalController(time_config, input_log_path)"
   ]
  },
  {
   "cell_type": "markdown",
   "metadata": {},
   "source": [
    "**CSV Controller**  \n",
    "Baseline controller without any future predictions."
   ]
  },
  {
   "cell_type": "code",
   "execution_count": null,
   "metadata": {},
   "outputs": [],
   "source": [
    "controller = CsvController(time_config, input_log_path)"
   ]
  },
  {
   "cell_type": "markdown",
   "metadata": {},
   "source": [
    "**If you want to log the Simulation run the cell below as well**"
   ]
  },
  {
   "cell_type": "code",
   "execution_count": null,
   "metadata": {},
   "outputs": [],
   "source": [
    "controller = LoggingController(controller, log_config)"
   ]
  },
  {
   "cell_type": "markdown",
   "metadata": {},
   "source": [
    "# Run The Simulation"
   ]
  },
  {
   "cell_type": "code",
   "execution_count": null,
   "metadata": {},
   "outputs": [],
   "source": [
    "# create motor controller which controls the motion of the platform \n",
    "motor_controller = SineMotorController(time_config)\n",
    "\n",
    "# create the simulator\n",
    "sim = Simulator(\n",
    "    time_config,\n",
    "    experiment_config,\n",
    "    controller,\n",
    "    reader=None,\n",
    "    motor_controller=motor_controller,\n",
    ")"
   ]
  },
  {
   "cell_type": "code",
   "execution_count": null,
   "metadata": {},
   "outputs": [],
   "source": [
    "# run simulation\n",
    "sim.run(visualize=False, wait_key=False)"
   ]
  },
  {
   "cell_type": "code",
   "execution_count": null,
   "metadata": {},
   "outputs": [],
   "source": [
    "# save config files\n",
    "experiment_config.save_json(join_paths(output_folder, \"experiment_config.json\"))\n",
    "log_config.save_json(join_paths(output_folder, \"log_config.json\"))\n",
    "time_config.save_json(join_paths(output_folder, \"time_config.json\"))"
   ]
  },
  {
   "cell_type": "markdown",
   "metadata": {},
   "source": [
    "# Show the Results"
   ]
  },
  {
   "cell_type": "code",
   "execution_count": null,
   "metadata": {},
   "outputs": [],
   "source": [
    "from eval.analysis import Plotter\n",
    "\n",
    "pltr = Plotter(log_config.bbox_file_path, time_config)\n",
    "data = pltr.print_statistics(n=10)"
   ]
  },
  {
   "cell_type": "code",
   "execution_count": null,
   "metadata": {},
   "outputs": [],
   "source": [
    "pltr.plot_area_vs_speed()"
   ]
  },
  {
   "cell_type": "code",
   "execution_count": null,
   "metadata": {},
   "outputs": [],
   "source": [
    "_ = pltr.plot_deviation()"
   ]
  }
 ],
 "metadata": {
  "kernelspec": {
   "display_name": "bio-projML",
   "language": "python",
   "name": "python3"
  },
  "language_info": {
   "codemirror_mode": {
    "name": "ipython",
    "version": 3
   },
   "file_extension": ".py",
   "mimetype": "text/x-python",
   "name": "python",
   "nbconvert_exporter": "python",
   "pygments_lexer": "ipython3",
   "version": "3.10.13"
  }
 },
 "nbformat": 4,
 "nbformat_minor": 2
}
