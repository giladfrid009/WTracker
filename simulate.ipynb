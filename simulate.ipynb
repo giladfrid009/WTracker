{
 "cells": [
  {
   "cell_type": "markdown",
   "metadata": {},
   "source": [
    "# Simulate the System on Initialized Experiment"
   ]
  },
  {
   "cell_type": "markdown",
   "metadata": {},
   "source": [
    "In this notebook, we run a system simulation on some experiment which was *previously initialized* by the initialize_experiment notebook.\n",
    "The simulation does not require any frame files, nor it requires to detect worm's head position at each frame. Instead, the algorithms below gather the relevant information (i.e. worm's head bbox at each frame) from a log file which was created when the experiment was initialized. As result, running a simulation of a whole experiments with tens of thousands of frames becomes a process of mere seconds.\n",
    "\n"
   ]
  },
  {
   "cell_type": "code",
   "execution_count": null,
   "metadata": {},
   "outputs": [],
   "source": [
    "from wtracker.sim import *\n",
    "from wtracker.sim.sim_controllers import *\n",
    "from wtracker.sim.config import ExperimentConfig\n",
    "from wtracker.utils.path_utils import join_paths\n",
    "from wtracker.utils.gui_utils import UserPrompt\n",
    "from wtracker.utils.frame_reader import FrameReader"
   ]
  },
  {
   "cell_type": "markdown",
   "metadata": {},
   "source": [
    "### Configure the Simulation Parameters"
   ]
  },
  {
   "cell_type": "code",
   "execution_count": null,
   "metadata": {},
   "outputs": [],
   "source": [
    "################################ User Input ################################\n",
    "\n",
    "# The input folder containing the logs produced durning the initialization of the experiment (init_bboxes.csv) and the exp_config.json file\n",
    "# if None, the user will be prompted to select the directory\n",
    "input_folder = None\n",
    "\n",
    "# the path to save the output logs of the selected controller\n",
    "# if None, the user will be prompted to select the directory\n",
    "output_folder = \"logs\"\n",
    "\n",
    "############################################################################\n",
    "\n",
    "if input_folder is None:\n",
    "    input_folder = UserPrompt.open_directory(\"Select input directory containing the original logs of the experiment\")\n",
    "\n",
    "if output_folder is None:\n",
    "    output_folder = UserPrompt.open_directory(\"Select output directory to save the logs of the selected controller\")\n",
    "\n",
    "# The path pointing to the original log file (init_bboxes.csv)\n",
    "input_log_path = join_paths(input_folder, \"init_bboxes.csv\")\n",
    "\n",
    "print(f\"input folder: {input_folder}\")\n",
    "print(f\"output folder: {output_folder}\")"
   ]
  },
  {
   "cell_type": "code",
   "execution_count": null,
   "metadata": {},
   "outputs": [],
   "source": [
    "# Load the experiment config\n",
    "experiment_config = ExperimentConfig.load_json(f\"{input_folder}/exp_config.json\")\n",
    "\n",
    "################################ User Input ################################\n",
    "\n",
    "# initialize the timing configuration\n",
    "# changing this config changes the simulation settings, should remain the same\n",
    "# between different experiments\n",
    "time_config = TimingConfig(\n",
    "    imaging_time_ms=200,\n",
    "    pred_time_ms=40,\n",
    "    moving_time_ms=50,\n",
    "    camera_size_mm=(4, 4),\n",
    "    micro_size_mm=(0.32, 0.32),\n",
    "    experiment_config=experiment_config,\n",
    ")\n",
    "\n",
    "############################################################################\n",
    "\n",
    "log_config = LogConfig(\n",
    "    root_folder=output_folder,\n",
    "    save_mic_view=False,\n",
    "    save_cam_view=False,\n",
    "    save_err_view=False,\n",
    "    save_wrm_view=False,\n",
    ")"
   ]
  },
  {
   "cell_type": "markdown",
   "metadata": {},
   "source": [
    "### Choose a Controller\n",
    "Run the cell of the controller you need"
   ]
  },
  {
   "cell_type": "markdown",
   "metadata": {},
   "source": [
    "**MLP Controller** - Neural Network based location predictor."
   ]
  },
  {
   "cell_type": "code",
   "execution_count": null,
   "metadata": {},
   "outputs": [],
   "source": [
    "import torch\n",
    "from wtracker.neural.mlp import WormPredictor\n",
    "\n",
    "################################ User Input ################################\n",
    "\n",
    "# path to the MLP model file.\n",
    "# if None, the user will be prompted to select the file\n",
    "model_path = None\n",
    "\n",
    "############################################################################\n",
    "\n",
    "if model_path is None:\n",
    "    model_path = UserPrompt.open_file(\"Select the model file\", [(\"pytorch files\", \"*.pt\")])\n",
    "\n",
    "# load the model and create the controller\n",
    "model: WormPredictor = torch.load(model_path)\n",
    "controller = MLPController(time_config, input_log_path, model)"
   ]
  },
  {
   "cell_type": "markdown",
   "metadata": {},
   "source": [
    "**Polyfit Controller** - Weighted polynomial fitting location predictor.\n",
    "The motion of the worm is fitted with a polynomial, which is afterwards used to predict the future location of the worm."
   ]
  },
  {
   "cell_type": "code",
   "execution_count": null,
   "metadata": {},
   "outputs": [],
   "source": [
    "## load configuration file and create the controller\n",
    "# to learn more about the polyfit configuration file, see polyfit_optimizer.ipynb notebook.\n",
    "poly_config = PolyfitConfig.load_json()\n",
    "\n",
    "controller = PolyfitController(time_config, input_log_path)"
   ]
  },
  {
   "cell_type": "markdown",
   "metadata": {},
   "source": [
    "**Optimal Controller** - Approximation of the absolute best controller possible."
   ]
  },
  {
   "cell_type": "code",
   "execution_count": null,
   "metadata": {},
   "outputs": [],
   "source": [
    "controller = OptimalController(time_config, input_log_path)"
   ]
  },
  {
   "cell_type": "markdown",
   "metadata": {},
   "source": [
    "**CSV Controller** - Baseline controller without any future predictions."
   ]
  },
  {
   "cell_type": "code",
   "execution_count": null,
   "metadata": {},
   "outputs": [],
   "source": [
    "controller = CsvController(time_config, input_log_path)"
   ]
  },
  {
   "cell_type": "markdown",
   "metadata": {},
   "source": [
    "**If you want to log the simulation run the cell below as well**  \n",
    "It is recommended to run this cell, in order to be able to analyze the log and the results of the selected controller."
   ]
  },
  {
   "cell_type": "code",
   "execution_count": null,
   "metadata": {},
   "outputs": [],
   "source": [
    "controller = LoggingController(controller, log_config)"
   ]
  },
  {
   "cell_type": "markdown",
   "metadata": {},
   "source": [
    "### Run The Simulation"
   ]
  },
  {
   "cell_type": "code",
   "execution_count": null,
   "metadata": {},
   "outputs": [],
   "source": [
    "# create motor controller which controls the motion of the platform \n",
    "motor_controller = SineMotorController(time_config)\n",
    "\n",
    "# create the simulator\n",
    "sim = Simulator(\n",
    "    time_config,\n",
    "    experiment_config,\n",
    "    controller,\n",
    "    reader=None,\n",
    "    motor_controller=motor_controller,\n",
    ")"
   ]
  },
  {
   "cell_type": "code",
   "execution_count": null,
   "metadata": {},
   "outputs": [],
   "source": [
    "# run simulation\n",
    "sim.run(visualize=False, wait_key=False)"
   ]
  },
  {
   "cell_type": "code",
   "execution_count": null,
   "metadata": {},
   "outputs": [],
   "source": [
    "# save config files\n",
    "experiment_config.save_json(join_paths(output_folder, \"exp_config.json\"))\n",
    "log_config.save_json(join_paths(output_folder, \"log_config.json\"))\n",
    "time_config.save_json(join_paths(output_folder, \"time_config.json\"))"
   ]
  },
  {
   "cell_type": "markdown",
   "metadata": {},
   "source": [
    "### Display some simulation-log results\n",
    "\n",
    "In case that logging was not enabled for the simulation, the below cells are not relevant.  \n",
    "For more in-depth analysis of the log results, run the plot.ipynb notebook"
   ]
  },
  {
   "cell_type": "code",
   "execution_count": null,
   "metadata": {},
   "outputs": [],
   "source": [
    "from wtracker.eval.analysis import Plotter\n",
    "\n",
    "# create and initialize the plotter\n",
    "pltr = Plotter(\n",
    "    time_config=time_config,\n",
    "    log_paths=[log_config.bbox_file_path],\n",
    "    plot_height=7,\n",
    ")\n",
    "\n",
    "################################ User Input ################################\n",
    "\n",
    "pltr.initialize(unit=\"sec\", n=10, imaging_only=True)\n",
    "\n",
    "############################################################################"
   ]
  },
  {
   "cell_type": "code",
   "execution_count": null,
   "metadata": {},
   "outputs": [],
   "source": [
    "pltr.print_stats()"
   ]
  },
  {
   "cell_type": "code",
   "execution_count": null,
   "metadata": {},
   "outputs": [],
   "source": [
    "pltr.plot_speed_vs_error()"
   ]
  },
  {
   "cell_type": "code",
   "execution_count": null,
   "metadata": {},
   "outputs": [],
   "source": [
    "pltr.plot_deviation()"
   ]
  }
 ],
 "metadata": {
  "kernelspec": {
   "display_name": "bio-projML",
   "language": "python",
   "name": "python3"
  },
  "language_info": {
   "codemirror_mode": {
    "name": "ipython",
    "version": 3
   },
   "file_extension": ".py",
   "mimetype": "text/x-python",
   "name": "python",
   "nbconvert_exporter": "python",
   "pygments_lexer": "ipython3",
   "version": "3.10.13"
  }
 },
 "nbformat": 4,
 "nbformat_minor": 2
}
