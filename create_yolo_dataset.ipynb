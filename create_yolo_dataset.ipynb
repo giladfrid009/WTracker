{
 "cells": [
  {
   "cell_type": "code",
   "execution_count": null,
   "metadata": {},
   "outputs": [],
   "source": [
    "import cv2 as cv\n",
    "from utils.frame_reader import *\n",
    "from dataset.box_calculator import *\n",
    "from dataset.sample_extractor import *\n",
    "from utils.gui_utils import UserPrompt"
   ]
  },
  {
   "cell_type": "code",
   "execution_count": null,
   "metadata": {},
   "outputs": [],
   "source": [
    "################################ User Input ################################\n",
    "\n",
    "# select the folder containing the original frame images \n",
    "src_folder = None\n",
    "\n",
    "# select the folder into which the extracted samples will be saved to\n",
    "output_folder = None\n",
    "\n",
    "############################################################################\n",
    "\n",
    "if src_folder is None:\n",
    "    src_folder = UserPrompt.open_directory(\"Select the folder containing the original frame images\")\n",
    "\n",
    "if output_folder is None:\n",
    "    output_folder = UserPrompt.open_directory(\"Select the folder into which the extracted samples will be saved to\")\n",
    "\n",
    "print(f\"original frame images folder: {src_folder}\")\n",
    "print(f\"output folder: {output_folder}\")"
   ]
  },
  {
   "cell_type": "code",
   "execution_count": null,
   "metadata": {},
   "outputs": [],
   "source": [
    "# read all files from the source folder\n",
    "src_frames = FrameReader.create_from_directory(src_folder, read_format=cv.IMREAD_GRAYSCALE)"
   ]
  },
  {
   "cell_type": "code",
   "execution_count": null,
   "metadata": {},
   "outputs": [],
   "source": [
    "################################ User Input ################################\n",
    "\n",
    "# define the parameters by which objects are detected\n",
    "\n",
    "box_calc = BoxCalculator(\n",
    "    bg_probes=1000,  # number of images to use to calculate the background\n",
    "    diff_thresh=10,  # threshold for the difference between the background and the current frame to detect non-background objects\n",
    "    frame_reader=src_frames,\n",
    ")\n",
    "\n",
    "############################################################################\n",
    "\n",
    "# create sample extractor which uses the BoxCalculator to extract samples\n",
    "sample_extractor = SampleExtractor(box_calc)"
   ]
  },
  {
   "cell_type": "code",
   "execution_count": null,
   "metadata": {},
   "outputs": [],
   "source": [
    "################################ User Input ################################\n",
    "\n",
    "# extract samples from the original images\n",
    "\n",
    "sample_extractor.create_samples(\n",
    "    count=300,  # number of samples to extract\n",
    "    target_size=(384, 384),  # size of the extracted samples\n",
    "    name_format=\"img_{:09d}.png\",  # naming format of the extracted samples\n",
    "    num_workers=None,  # multiprocessing related, read doc for more info\n",
    "    chunk_size=50,  # multiprocessing related, read doc for more info\n",
    "    save_folder=output_folder,\n",
    ")\n",
    "\n",
    "############################################################################"
   ]
  }
 ],
 "metadata": {
  "kernelspec": {
   "display_name": "bio_proj",
   "language": "python",
   "name": "python3"
  },
  "language_info": {
   "codemirror_mode": {
    "name": "ipython",
    "version": 3
   },
   "file_extension": ".py",
   "mimetype": "text/x-python",
   "name": "python",
   "nbconvert_exporter": "python",
   "pygments_lexer": "ipython3",
   "version": "3.10.13"
  }
 },
 "nbformat": 4,
 "nbformat_minor": 2
}
