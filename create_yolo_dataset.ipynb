{
 "cells": [
  {
   "cell_type": "code",
   "execution_count": null,
   "metadata": {},
   "outputs": [],
   "source": [
    "from utils.frame_reader import *\n",
    "from dataset.box_calculator import *\n",
    "from dataset.sample_extractor import *"
   ]
  },
  {
   "cell_type": "code",
   "execution_count": null,
   "metadata": {},
   "outputs": [],
   "source": [
    "src_folder = \"D:/Guy_Gilad/Exp2_GuyGilad/extracted\"\n",
    "dst_folder = \"D:/Guy_Gilad/Exp2_GuyGilad/yolo_images\""
   ]
  },
  {
   "cell_type": "code",
   "execution_count": null,
   "metadata": {},
   "outputs": [],
   "source": [
    "src_frames = FrameReader.create_from_directory(src_folder)"
   ]
  },
  {
   "cell_type": "code",
   "execution_count": null,
   "metadata": {},
   "outputs": [],
   "source": [
    "box_calc = BoxCalculator(frame_reader=src_frames, bg_probes=1000, diff_thresh=10)\n",
    "sample_extractor = SampleExtractor(box_calc)"
   ]
  },
  {
   "cell_type": "code",
   "execution_count": null,
   "metadata": {},
   "outputs": [],
   "source": [
    "sample_extractor.create_samples(\n",
    "    count=300,\n",
    "    target_size=(384, 384),\n",
    "    save_folder=dst_folder,\n",
    "    name_format=\"img_{:09d}.png\",\n",
    "    num_workers=None,\n",
    "    chunk_size=50,\n",
    ")"
   ]
  }
 ],
 "metadata": {
  "kernelspec": {
   "display_name": "bio_proj",
   "language": "python",
   "name": "python3"
  },
  "language_info": {
   "codemirror_mode": {
    "name": "ipython",
    "version": 3
   },
   "file_extension": ".py",
   "mimetype": "text/x-python",
   "name": "python",
   "nbconvert_exporter": "python",
   "pygments_lexer": "ipython3",
   "version": "3.12.2"
  }
 },
 "nbformat": 4,
 "nbformat_minor": 2
}
