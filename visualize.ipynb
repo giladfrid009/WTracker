{
 "cells": [
  {
   "cell_type": "code",
   "execution_count": null,
   "metadata": {},
   "outputs": [],
   "source": [
    "# TODO: implement experiment visualization in this notebook.\n",
    "# use VLC to visualize experiment, and with optional FrameReader passed to VLC to actually display the frames."
   ]
  }
 ],
 "metadata": {
  "language_info": {
   "name": "python"
  }
 },
 "nbformat": 4,
 "nbformat_minor": 2
}
