{
 "cells": [
  {
   "cell_type": "markdown",
   "metadata": {},
   "source": [
    "# Visualize a Simulation"
   ]
  },
  {
   "cell_type": "code",
   "execution_count": null,
   "metadata": {},
   "outputs": [],
   "source": [
    "from wtracker.eval.vlc import VLC\n",
    "from wtracker.utils.frame_reader import FrameReader\n",
    "from wtracker.utils.path_utils import Files, join_paths\n",
    "from wtracker.utils.gui_utils import UserPrompt\n",
    "from wtracker.sim.config import TimingConfig\n"
   ]
  },
  {
   "cell_type": "code",
   "execution_count": null,
   "metadata": {},
   "outputs": [],
   "source": [
    "################################ User Input ################################\n",
    "\n",
    "# True if you want to load and visualize the photos from the experiment, of False it will overlay the bounding boxes of the experiment log on a white background\n",
    "load_photos = True\n",
    "\n",
    "# the type of the camerato visualize, this should match the prefix of the respective column name in the bboxes.csv file (e.g. \"wrm\", \"cam\", \"mic\", \"plt\")\n",
    "camera_type = \"plt\"\n",
    "\n",
    "# the input folder containing the photos of the experiment, i.e. the original bboxes.csv file and the experiment_config.json file\n",
    "# if None, the user will be prompted to select the directory\n",
    "photos_path = None\n",
    "\n",
    "# the path to the experiment configuration file (experiment_config.json) to visualize\n",
    "experiment_config_path = \"D:\\\\Guy_Gilad\\\\Bio-Proj\\\\data\\\\Exp1_GuyGilad_logs_yolo\\\\exp_config.json\"\n",
    "\n",
    "# the path to the simulation log file (bboxes.csv) to visualize\n",
    "log_path = \"D:\\\\Guy_Gilad\\\\Bio-Proj\\\\data\\\\Exp1_GuyGilad_logs_yolo\\\\init_bboxes.csv\"\n",
    "\n",
    "# the path to the TimeConfig of the simulation\n",
    "time_config_path = \"logs/time_config.json\"\n",
    "\n",
    "############################################################################\n",
    "\n",
    "if load_photos and photos_path is None:\n",
    "    photos_path = UserPrompt.open_directory(\"Select the photos directory to visualize\")\n",
    "\n",
    "if experiment_config_path is None:\n",
    "    experiment_config_path = UserPrompt.open_file(\"Select the experiment configuration file\")\n",
    "\n",
    "if log_path is None:\n",
    "    log_path = UserPrompt.open_file(\"Select the simulation log file to visualize\")\n",
    "\n",
    "if time_config_path is None:\n",
    "    time_config_path = UserPrompt.open_file(\"Select the time configuration of the simulation\")\n",
    "\n",
    "print(f\"photos folder: {photos_path}\")\n",
    "print(\"experiment configuration path:\", experiment_config_path)\n",
    "print(\"log path:\", log_path)\n",
    "print(\"time config path:\", time_config_path)"
   ]
  },
  {
   "cell_type": "code",
   "execution_count": null,
   "metadata": {},
   "outputs": [],
   "source": [
    "files = None\n",
    "if load_photos:\n",
    "    sorting = lambda f: int(f.split(\"-\")[-1].split(\".\")[0]) # Sorting function for the photos filenames, sometimes the photos are not sorted in the correct order. \n",
    "    files = Files(photos_path, extension=\"\", sorting_key=sorting) # Set the extention to sort for photos with a specific extension only (e.g. \"jpg\", \"BMP\")\n",
    "\n",
    "timing_config = TimingConfig.load_json(time_config_path)"
   ]
  },
  {
   "cell_type": "code",
   "execution_count": null,
   "metadata": {},
   "outputs": [],
   "source": [
    "# initialize the VLC player\n",
    "with VLC(\n",
    "    files=files, \n",
    "    config=timing_config, \n",
    "    log_path=log_path, \n",
    "    cam_type=camera_type,\n",
    "    show_pred=True, \n",
    "    show_micro=True, \n",
    "    show_cam=False\n",
    "    ) as vlc:\n",
    "\n",
    "    vlc.initialize()\n",
    "    vlc.mainloop()"
   ]
  },
  {
   "cell_type": "code",
   "execution_count": null,
   "metadata": {},
   "outputs": [],
   "source": [
    "# vlc.initialize()# initialize the VLC player and open the GUI\n",
    "# vlc.mainloop() # open the VLC player and start the visualization"
   ]
  }
 ],
 "metadata": {
  "kernelspec": {
   "display_name": "bio-projML",
   "language": "python",
   "name": "python3"
  },
  "language_info": {
   "codemirror_mode": {
    "name": "ipython",
    "version": 3
   },
   "file_extension": ".py",
   "mimetype": "text/x-python",
   "name": "python",
   "nbconvert_exporter": "python",
   "pygments_lexer": "ipython3",
   "version": "3.10.13"
  }
 },
 "nbformat": 4,
 "nbformat_minor": 2
}
