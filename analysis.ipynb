{
    "cells": [
        {
            "cell_type": "markdown",
            "metadata": {},
            "source": [
                "# Plotting and Analysis"
            ]
        },
        {
            "cell_type": "markdown",
            "metadata": {},
            "source": [
                "The role of this notebook is to plot and analyze logs results of a run (or runs) of a simulator, given some fixed timing configuration.\n",
                "These logs (bboxes.csv) are obtained by running a simulator on some experiments. The goal of these plots is to analyze worm's behavior,\n",
                "and to analyze the systems error and how it's affected by different behaviors the worm exhibits.\n",
                "\n",
                "It's important to note that for proper analysis, all the experiments that are analyzed by this notebook *at once* must have the same timing configuration (TimingConfig) parameters."
            ]
        },
        {
            "cell_type": "code",
            "execution_count": null,
            "metadata": {},
            "outputs": [],
            "source": [
                "import matplotlib.pyplot as plt\n",
                "from wtracker.sim.config import TimingConfig\n",
                "from wtracker.eval.analysis import Plotter\n",
                "from wtracker.utils.gui_utils import UserPrompt "
            ]
        },
        {
            "cell_type": "markdown",
            "metadata": {},
            "source": [
                "### Timing configuration and log files selection"
            ]
        },
        {
            "cell_type": "code",
            "execution_count": null,
            "metadata": {},
            "outputs": [],
            "source": [
                "from pprint import pprint\n",
                "\n",
                "################################ User Input ################################\n",
                "\n",
                "# path to the timing config file. \n",
                "# If None, a file dialog will open to select a file\n",
                "timing_config_path = \"logs/time_config.json\"\n",
                "\n",
                "############################################################################\n",
                "\n",
                "timing_config = TimingConfig.load_json(timing_config_path)\n",
                "\n",
                "pprint(timing_config)"
            ]
        },
        {
            "cell_type": "code",
            "execution_count": null,
            "metadata": {},
            "outputs": [],
            "source": [
                "################################ User Input ################################\n",
                "\n",
                "# list containing paths to simulation log files.\n",
                "# All of these simulations must have been run with the above timing config.\n",
                "# If empty, a file dialog will open to select files.\n",
                "log_files = [\"logs/bboxes.csv\"]\n",
                "\n",
                "############################################################################\n",
                "\n",
                "if len(log_files) == 0:\n",
                "    log_files = UserPrompt.open_file(title=\"Select log files\", filetypes=[(\"Log files\", \"*.csv\")], multiple=True)\n",
                "\n",
                "pprint(log_files)"
            ]
        },
        {
            "cell_type": "markdown",
            "metadata": {},
            "source": [
                "### Plotting configuration\n",
                "\n",
                "Notice that all of below plots accept `condition` as a parameter.\n",
                "`condition` is expected to be a function of the following signature:\n",
                "\n",
                "```python\n",
                "def cond_func1(input_df: pd.DataFrame) -> pd.DataFrame:\n",
                "    return (input_df[\"wrm_speed\"] > 5) &  (input_df[\"wrm_speed\"] <= 30)\n",
                "```\n",
                "\n",
                "In python, such functions can be also declared without an explicit name and declaration, using the following syntax:\n",
                "(for more information read about lambda functions)\n",
                "\n",
                "```python\n",
                "cond_func1 = lambda input_df: (input_df[\"wrm_speed\"] > 5) & (input_df[\"wrm_speed\"] <= 30)\n",
                "cond_func2 = lambda input_df: input_df[\"phase\"] == \"imaging\"\n",
                "```"
            ]
        },
        {
            "cell_type": "code",
            "execution_count": null,
            "metadata": {},
            "outputs": [],
            "source": [
                "pltr = Plotter(\n",
                "    timing_config,\n",
                "    log_paths=log_files,\n",
                "    plot_height=10,  # the size of the plot figures\n",
                ")\n",
                "\n",
                "################################ User Input ################################\n",
                "\n",
                "# initialize the data for the plotting, by performing all relevant calculations\n",
                "pltr.initialize(\n",
                "    # number of offset frames by which the speed is calculated\n",
                "    n=10,\n",
                "    # if True, only the imaging-phase data will be plotted. If False, all phases are included in the plots.\n",
                "    imaging_only=True,\n",
                "    # the unit of the plots. If \"frame\" i used, the time is in frames, and the distance is in pixels. If \"sec\" is used, the time is in seconds, and the distance is in micro-meter.\n",
                "    unit=\"frame\",\n",
                "    # the legal bounds of the image, in format (x_min, y_min, x_max, y_max). All worm positions outside these bounds will be ignored.\n",
                "    legal_bounds=(250, 250, 1400, 1300),\n",
                ")\n",
                "\n",
                "############################################################################"
            ]
        },
        {
            "cell_type": "markdown",
            "metadata": {},
            "source": [
                "#### Optionally, Calculate precise error\n",
                "\n",
                "To calculate precise error of the system, run the following cell, otherwise skip it.\n",
                "Note, that running this cell might take a while.\n",
                "\n",
                "For each frame, the exact pixels in which worm's head is located are calculated. To this end, there is a need to access worm images which were extracted during the experiment initialization process.\n",
                "Afterwards, the error is calculated as the proportion of worm pixels that are outside of the microscope view. \n",
                "Since to calculate this error there is a need to load images from the disk, the calculation is relatively slow."
            ]
        },
        {
            "cell_type": "code",
            "execution_count": null,
            "metadata": {},
            "outputs": [],
            "source": [
                "import numpy as np\n",
                "\n",
                "# TODO: TEST\n",
                "# TODO: ADD DOCS FOR THIS SECTION\n",
                "\n",
                "################################ User Input ################################\n",
                "\n",
                "background_paths = [\"data\\\\Exp1_GuyGilad_logs_yolo\\\\background.npy\"]\n",
                "\n",
                "worm_folders_paths = [\"D:\\\\Guy_Gilad\\\\Exp1_GuyGilad\\\\logs_yolo\\\\worms\"]\n",
                "\n",
                "diff_thresh = 20\n",
                "\n",
                "############################################################################\n",
                "\n",
                "if len(background_paths) == 0:\n",
                "    background_paths = UserPrompt.open_file(\n",
                "        title=\"Select background images\",\n",
                "        file_types=[(\"Numpy files\", \"*.npy\")],\n",
                "        multiple=True,\n",
                "    )\n",
                "\n",
                "if len(worm_folders_paths) == 0:\n",
                "    worm_folders_paths = UserPrompt.open_directory(\n",
                "        title=\"Select worm image folders\",\n",
                "        multiple=True,\n",
                "    )\n",
                "\n",
                "backgrounds = [np.load(path, allow_pickle=True) for path in background_paths]\n",
                "\n",
                "pprint(\"Background Files: \", background_paths)\n",
                "pprint(\"Worm Image Folders: \", worm_folders_paths)"
            ]
        },
        {
            "cell_type": "markdown",
            "metadata": {},
            "source": [
                "##### Calibrate Threshold [Optional]"
            ]
        },
        {
            "cell_type": "code",
            "execution_count": null,
            "metadata": {},
            "outputs": [],
            "source": [
                "from wtracker.eval.vlc import StreamViewer\n",
                "from wtracker.eval.error_calculator import ErrorCalculator\n",
                "from wtracker.utils.frame_reader import FrameReader\n",
                "import pandas as pd\n",
                "import numpy as np\n",
                "\n",
                "viewer = StreamViewer(window_name=\"Threshold Calibration\")\n"
            ]
        },
        {
            "cell_type": "code",
            "execution_count": null,
            "metadata": {},
            "outputs": [],
            "source": [
                "\n",
                "################################ User Input ################################\n",
                "threshold = 30\n",
                "exp_number = 0 # the number of the experiment in the list\n",
                "delay = 0\n",
                "############################################################################\n",
                "def show_sementation(wrm_view:np.ndarray, wrm_mask:np.ndarray) -> None:\n",
                "    wrm_view[~wrm_mask] = 0\n",
                "    viewer.imshow(wrm_view)\n",
                "    viewer.waitKey(delay)\n",
                "\n",
                "\n",
                "ErrorCalculator.probe_hook = show_sementation\n",
                "\n",
                "\n",
                "reader = FrameReader.create_from_directory(worm_folders_paths[exp_number])\n",
                "log = pd.read_csv(log_files[exp_number])\n",
                "\n",
                "viewer.open()\n",
                "shape = [*reader.frame_shape]\n",
                "shape[:2] = backgrounds[exp_number].shape[:2]\n",
                "backgrounds[exp_number].reshape(shape)\n",
                "\n",
                "ErrorCalculator.calculate_precise(\n",
                "    background=backgrounds[exp_number],\n",
                "    worm_bboxes=log[[\"wrm_x\", \"wrm_y\", \"wrm_w\", \"wrm_h\"]].to_numpy(),\n",
                "    mic_bboxes=log[[\"mic_x\", \"mic_y\", \"mic_w\", \"mic_h\"]].to_numpy(),\n",
                "    frame_nums=log['frame'].astype(int).to_list(),\n",
                "    worm_reader=reader,\n",
                "    diff_thresh=threshold\n",
                ")"
            ]
        },
        {
            "cell_type": "markdown",
            "metadata": {},
            "source": [
                "##### Calculate Precise error"
            ]
        },
        {
            "cell_type": "code",
            "execution_count": null,
            "metadata": {},
            "outputs": [],
            "source": [
                "pltr.calc_precise_error(worm_image_paths=worm_folders_paths, backgrounds=backgrounds, diff_thresh=diff_thresh)"
            ]
        },
        {
            "cell_type": "markdown",
            "metadata": {},
            "source": [
                "### Plotting and analysis"
            ]
        },
        {
            "cell_type": "code",
            "execution_count": null,
            "metadata": {},
            "outputs": [],
            "source": [
                "# print column names of the data\n",
                "pprint([f\"{i}: {col}\" for i, col in enumerate(pltr.column_names())])"
            ]
        },
        {
            "cell_type": "code",
            "execution_count": null,
            "metadata": {},
            "outputs": [],
            "source": [
                "pltr.print_stats()"
            ]
        },
        {
            "cell_type": "code",
            "execution_count": null,
            "metadata": {},
            "outputs": [],
            "source": [
                "pltr.plot_trajectory(hue_col=\"log_num\", condition=lambda x: x[\"wrm_y\"] >= 0)"
            ]
        },
        {
            "cell_type": "code",
            "execution_count": null,
            "metadata": {},
            "outputs": [],
            "source": [
                "pltr.plot_speed(log_wise=True, condition=lambda x: x[\"wrm_speed\"] <= 800)"
            ]
        },
        {
            "cell_type": "code",
            "execution_count": null,
            "metadata": {},
            "outputs": [],
            "source": [
                "pltr.plot_error(log_wise=False, error_kind=\"dist\", condition=lambda x: x[\"bbox_error\"] > 0)"
            ]
        },
        {
            "cell_type": "code",
            "execution_count": null,
            "metadata": {},
            "outputs": [],
            "source": [
                "pltr.plot_speed_vs_error(error_kind=\"bbox\", condition=lambda x: x[\"wrm_speed\"] < 2000)"
            ]
        },
        {
            "cell_type": "code",
            "execution_count": null,
            "metadata": {},
            "outputs": [],
            "source": [
                "pltr.plot_deviation(percentile=0.999, log_wise=False)"
            ]
        },
        {
            "cell_type": "code",
            "execution_count": null,
            "metadata": {},
            "outputs": [],
            "source": [
                "pltr.plot_head_size()"
            ]
        },
        {
            "cell_type": "code",
            "execution_count": null,
            "metadata": {},
            "outputs": [],
            "source": [
                "pltr.describe(columns=[\"wrm_speed\", \"bbox_error\", \"worm_deviation\"], num=9)"
            ]
        },
        {
            "cell_type": "code",
            "execution_count": null,
            "metadata": {},
            "outputs": [],
            "source": [
                "import numpy as np\n",
                "\n",
                "# find anomalies in the data\n",
                "pltr.find_anomalies(\n",
                "    no_preds=True,\n",
                "    min_bbox_error=1.0,\n",
                "    min_dist_error=np.inf,\n",
                "    min_speed=np.inf,\n",
                "    min_size=300,\n",
                ")"
            ]
        }
    ],
    "metadata": {
        "kernelspec": {
            "display_name": "bio-proj",
            "language": "python",
            "name": "python3"
        },
        "language_info": {
            "codemirror_mode": {
                "name": "ipython",
                "version": 3
            },
            "file_extension": ".py",
            "mimetype": "text/x-python",
            "name": "python",
            "nbconvert_exporter": "python",
            "pygments_lexer": "ipython3",
            "version": "3.10.13"
        }
    },
    "nbformat": 4,
    "nbformat_minor": 2
}
