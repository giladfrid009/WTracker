{
 "cells": [
  {
   "cell_type": "code",
   "execution_count": 9,
   "metadata": {},
   "outputs": [],
   "source": [
    "from sim.simulator import *\n",
    "from sim.sim_controllers import *\n",
    "from sim.config import ExperimentConfig\n",
    "from sim.motor_controllers import *\n",
    "from utils.path_utils import join_paths\n",
    "from utils.gui_utils import UserPrompt"
   ]
  },
  {
   "cell_type": "markdown",
   "metadata": {},
   "source": [
    "# Configure the Simulation Parameters"
   ]
  },
  {
   "cell_type": "code",
   "execution_count": 4,
   "metadata": {},
   "outputs": [],
   "source": [
    "################################ User Input ################################\n",
    "base_path = f\"data/Exp1_GuyGilad_logs_yolo/\" # path of the logs (containing exoeriment_config and bbox log files)\n",
    "exp_base_path = \"logs\" # path to save the experiment logs\n",
    "############################################################################\n",
    "\n",
    "log_path = join_paths(base_path, \"bboxes2.csv\")"
   ]
  },
  {
   "cell_type": "code",
   "execution_count": 5,
   "metadata": {},
   "outputs": [],
   "source": [
    "\n",
    "# Load the experiment configuration\n",
    "experiment_config = ExperimentConfig.load_json(f\"{base_path}/experiment_config.json\")"
   ]
  },
  {
   "cell_type": "code",
   "execution_count": 6,
   "metadata": {},
   "outputs": [],
   "source": [
    "################################ User Input ################################\n",
    "# initialize the logging configuration\n",
    "log_config = LogConfig(\n",
    "    root_folder=exp_base_path,\n",
    "    save_mic_view=False,\n",
    "    save_cam_view=False,\n",
    "    save_err_view=False,\n",
    ")\n",
    "\n",
    "# initialize the timing configuration\n",
    "time_config = TimingConfig(\n",
    "    imaging_time_ms=200,\n",
    "    pred_time_ms=40,\n",
    "    moving_time_ms=50,\n",
    "    camera_size_mm=(4, 4),\n",
    "    micro_size_mm=(0.32, 0.32),\n",
    "    experiment_config=experiment_config,\n",
    ")\n",
    "############################################################################"
   ]
  },
  {
   "cell_type": "markdown",
   "metadata": {},
   "source": [
    "# Choose a Controller\n",
    "Run the cell of the controller you need"
   ]
  },
  {
   "cell_type": "markdown",
   "metadata": {},
   "source": [
    "**MLP Controller**"
   ]
  },
  {
   "cell_type": "code",
   "execution_count": 13,
   "metadata": {},
   "outputs": [],
   "source": [
    "################################ User Input ################################\n",
    "model_path = None # path to the model file, if None, the user will be prompted to select the file\n",
    "############################################################################\n",
    "\n",
    "import torch\n",
    "\n",
    "\n",
    "model_path = UserPrompt.open_file(path=model_path)\n",
    "\n",
    "model:WormPredictor = torch.load(model_path)\n",
    "controller = MLPController(time_config, log_path, model, model.io_config)\n"
   ]
  },
  {
   "cell_type": "markdown",
   "metadata": {},
   "source": [
    "**Optimal Controller**"
   ]
  },
  {
   "cell_type": "code",
   "execution_count": null,
   "metadata": {},
   "outputs": [],
   "source": [
    "controller = OptimalController(time_config, log_path)"
   ]
  },
  {
   "cell_type": "markdown",
   "metadata": {},
   "source": [
    "**CSV Controller**"
   ]
  },
  {
   "cell_type": "code",
   "execution_count": null,
   "metadata": {},
   "outputs": [],
   "source": [
    "controller = CsvController(time_config, log_path)"
   ]
  },
  {
   "cell_type": "markdown",
   "metadata": {},
   "source": [
    "**If you want to log the Simulation run the cell below as well**"
   ]
  },
  {
   "cell_type": "code",
   "execution_count": null,
   "metadata": {},
   "outputs": [],
   "source": [
    "controller = LoggingController(controller, log_config)"
   ]
  },
  {
   "cell_type": "markdown",
   "metadata": {},
   "source": [
    "# Run The Simulation"
   ]
  },
  {
   "cell_type": "code",
   "execution_count": null,
   "metadata": {},
   "outputs": [],
   "source": [
    "motor_controller = SineMotorController(time_config)\n",
    "sim = Simulator(time_config, experiment_config, controller, reader=None, motor_controller=motor_controller)"
   ]
  },
  {
   "cell_type": "code",
   "execution_count": null,
   "metadata": {},
   "outputs": [],
   "source": [
    "sim.run()\n",
    "\n",
    "time_config.save_json(exp_base_path + \"/time_config.json\")\n",
    "experiment_config.save_json(exp_base_path + \"/exp_config.json\")"
   ]
  },
  {
   "cell_type": "markdown",
   "metadata": {},
   "source": [
    "# Show the Results"
   ]
  },
  {
   "cell_type": "code",
   "execution_count": null,
   "metadata": {},
   "outputs": [],
   "source": [
    "from eval.analysis import Plotter\n",
    "\n",
    "pltr = Plotter(log_config.bbox_file_path, time_config)\n",
    "data = pltr.print_statistics(n=10)"
   ]
  },
  {
   "cell_type": "code",
   "execution_count": null,
   "metadata": {},
   "outputs": [],
   "source": [
    "pltr.plot_area_vs_speed()"
   ]
  },
  {
   "cell_type": "code",
   "execution_count": null,
   "metadata": {},
   "outputs": [],
   "source": [
    "_ = pltr.plot_deviation()"
   ]
  }
 ],
 "metadata": {
  "kernelspec": {
   "display_name": "bio-projML",
   "language": "python",
   "name": "python3"
  },
  "language_info": {
   "codemirror_mode": {
    "name": "ipython",
    "version": 3
   },
   "file_extension": ".py",
   "mimetype": "text/x-python",
   "name": "python",
   "nbconvert_exporter": "python",
   "pygments_lexer": "ipython3",
   "version": "3.12.2"
  }
 },
 "nbformat": 4,
 "nbformat_minor": 2
}
